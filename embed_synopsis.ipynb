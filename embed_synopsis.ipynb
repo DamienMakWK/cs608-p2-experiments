{
 "cells": [
  {
   "cell_type": "markdown",
   "metadata": {},
   "source": [
    "Created by: Rosamund"
   ]
  },
  {
   "cell_type": "markdown",
   "metadata": {},
   "source": [
    "## Overview"
   ]
  },
  {
   "cell_type": "markdown",
   "metadata": {},
   "source": [
    "NOTE: \n",
    "Additional packages required: \n",
    "- pip install -U sentence-transformers==3.0.0\n",
    "\n",
    "To avoid TqdmWarning: IProgress not found:\n",
    "- pip install --upgrade jupyter ipywidgets\n",
    "\n",
    "\n",
    "A Sentence Transformer is a type of natural language processing model designed specifically to produce meaningful and useful sentence embeddings. Sentence embeddings are fixed-length numerical representations that capture the semantic meaning of a sentence.\n",
    "\n",
    "Reference: https://github.com/VishalS-HK/product-recommendation-system-BERT/blob/main/Product_Recommendation_System_BERT.ipynb"
   ]
  },
  {
   "cell_type": "markdown",
   "metadata": {},
   "source": [
    "## Import Libraries"
   ]
  },
  {
   "cell_type": "code",
   "execution_count": 1,
   "metadata": {},
   "outputs": [
    {
     "name": "stderr",
     "output_type": "stream",
     "text": [
      "c:\\Users\\rosam\\anaconda3\\envs\\cs608_p2\\Lib\\site-packages\\sentence_transformers\\cross_encoder\\CrossEncoder.py:11: TqdmExperimentalWarning: Using `tqdm.autonotebook.tqdm` in notebook mode. Use `tqdm.tqdm` instead to force console mode (e.g. in jupyter console)\n",
      "  from tqdm.autonotebook import tqdm, trange\n"
     ]
    }
   ],
   "source": [
    "import pandas as pd\n",
    "import numpy as np\n",
    "from sentence_transformers import SentenceTransformer\n",
    "import tqdm as tqdm"
   ]
  },
  {
   "cell_type": "markdown",
   "metadata": {},
   "source": [
    "## Extract data"
   ]
  },
  {
   "cell_type": "code",
   "execution_count": 2,
   "metadata": {},
   "outputs": [],
   "source": [
    "anime_final_df = pd.read_csv('../data/anime_final.csv', sep=\"|\")"
   ]
  },
  {
   "cell_type": "code",
   "execution_count": 3,
   "metadata": {},
   "outputs": [
    {
     "name": "stdout",
     "output_type": "stream",
     "text": [
      "No. of rows: 12,226\n",
      "No. of columns: 22\n"
     ]
    }
   ],
   "source": [
    "print(f'No. of rows: {anime_final_df.shape[0]:,}')\n",
    "print(f'No. of columns: {anime_final_df.shape[1]:,}')"
   ]
  },
  {
   "cell_type": "code",
   "execution_count": 4,
   "metadata": {},
   "outputs": [
    {
     "data": {
      "text/html": [
       "<div>\n",
       "<style scoped>\n",
       "    .dataframe tbody tr th:only-of-type {\n",
       "        vertical-align: middle;\n",
       "    }\n",
       "\n",
       "    .dataframe tbody tr th {\n",
       "        vertical-align: top;\n",
       "    }\n",
       "\n",
       "    .dataframe thead th {\n",
       "        text-align: right;\n",
       "    }\n",
       "</style>\n",
       "<table border=\"1\" class=\"dataframe\">\n",
       "  <thead>\n",
       "    <tr style=\"text-align: right;\">\n",
       "      <th></th>\n",
       "      <th>anime_id</th>\n",
       "      <th>name</th>\n",
       "      <th>type</th>\n",
       "      <th>episodes</th>\n",
       "      <th>mal_score</th>\n",
       "      <th>members</th>\n",
       "      <th>studio</th>\n",
       "      <th>release-season</th>\n",
       "      <th>release-year</th>\n",
       "      <th>release-date</th>\n",
       "      <th>...</th>\n",
       "      <th>themes</th>\n",
       "      <th>demographics</th>\n",
       "      <th>synopsis</th>\n",
       "      <th>image_url</th>\n",
       "      <th>rating</th>\n",
       "      <th>va_list</th>\n",
       "      <th>staff_list</th>\n",
       "      <th>recommended_review_count</th>\n",
       "      <th>mixedfeelings_review_count</th>\n",
       "      <th>notrecommended_review_count</th>\n",
       "    </tr>\n",
       "  </thead>\n",
       "  <tbody>\n",
       "    <tr>\n",
       "      <th>0</th>\n",
       "      <td>32281</td>\n",
       "      <td>Kimi no Na wa.</td>\n",
       "      <td>Movie</td>\n",
       "      <td>1</td>\n",
       "      <td>9.37</td>\n",
       "      <td>200630</td>\n",
       "      <td>['CoMix Wave Films']</td>\n",
       "      <td>summer</td>\n",
       "      <td>2016.0</td>\n",
       "      <td>NaN</td>\n",
       "      <td>...</td>\n",
       "      <td>[]</td>\n",
       "      <td>NaN</td>\n",
       "      <td>Mitsuha Miyamizu, a high school girl, yearns t...</td>\n",
       "      <td>https://cdn.myanimelist.net/images/anime/5/870...</td>\n",
       "      <td>PG-13 - Teens 13 or older</td>\n",
       "      <td>['Kamishiraishi, Mone', 'Kamiki, Ryunosuke', '...</td>\n",
       "      <td>['Bezerra, Wendel', 'Kawamura, Genki', 'Itou, ...</td>\n",
       "      <td>808.0</td>\n",
       "      <td>88.0</td>\n",
       "      <td>50.0</td>\n",
       "    </tr>\n",
       "    <tr>\n",
       "      <th>1</th>\n",
       "      <td>5114</td>\n",
       "      <td>Fullmetal Alchemist: Brotherhood</td>\n",
       "      <td>TV</td>\n",
       "      <td>64</td>\n",
       "      <td>9.26</td>\n",
       "      <td>793665</td>\n",
       "      <td>['Bones']</td>\n",
       "      <td>spring</td>\n",
       "      <td>2009.0</td>\n",
       "      <td>NaN</td>\n",
       "      <td>...</td>\n",
       "      <td>['Military']</td>\n",
       "      <td>Shounen</td>\n",
       "      <td>After a horrific alchemy experiment goes wrong...</td>\n",
       "      <td>https://cdn.myanimelist.net/images/anime/1208/...</td>\n",
       "      <td>R - 17+ (violence &amp; profanity)</td>\n",
       "      <td>['Park, Romi', 'Kugimiya, Rie', 'Miki, Shinich...</td>\n",
       "      <td>['Cook, Justin', 'Maruyama, Hiroo', 'Yonai, No...</td>\n",
       "      <td>912.0</td>\n",
       "      <td>59.0</td>\n",
       "      <td>39.0</td>\n",
       "    </tr>\n",
       "    <tr>\n",
       "      <th>2</th>\n",
       "      <td>28977</td>\n",
       "      <td>Gintama°</td>\n",
       "      <td>TV</td>\n",
       "      <td>51</td>\n",
       "      <td>9.25</td>\n",
       "      <td>114262</td>\n",
       "      <td>['Bandai Namco Pictures']</td>\n",
       "      <td>spring</td>\n",
       "      <td>2015.0</td>\n",
       "      <td>NaN</td>\n",
       "      <td>...</td>\n",
       "      <td>['Gag Humor', 'Historical', 'Parody', 'Samurai']</td>\n",
       "      <td>Shounen</td>\n",
       "      <td>Gintoki, Shinpachi, and Kagura return as the f...</td>\n",
       "      <td>https://cdn.myanimelist.net/images/anime/3/720...</td>\n",
       "      <td>PG-13 - Teens 13 or older</td>\n",
       "      <td>['Sugita, Tomokazu', 'Kugimiya, Rie', 'Sakaguc...</td>\n",
       "      <td>['Miyawaki, Chizuru', 'Takamatsu, Shinji', 'Yo...</td>\n",
       "      <td>79.0</td>\n",
       "      <td>3.0</td>\n",
       "      <td>1.0</td>\n",
       "    </tr>\n",
       "  </tbody>\n",
       "</table>\n",
       "<p>3 rows × 22 columns</p>\n",
       "</div>"
      ],
      "text/plain": [
       "   anime_id                              name   type episodes  mal_score  \\\n",
       "0     32281                    Kimi no Na wa.  Movie        1       9.37   \n",
       "1      5114  Fullmetal Alchemist: Brotherhood     TV       64       9.26   \n",
       "2     28977                          Gintama°     TV       51       9.25   \n",
       "\n",
       "   members                     studio release-season  release-year  \\\n",
       "0   200630       ['CoMix Wave Films']         summer        2016.0   \n",
       "1   793665                  ['Bones']         spring        2009.0   \n",
       "2   114262  ['Bandai Namco Pictures']         spring        2015.0   \n",
       "\n",
       "   release-date  ...                                            themes  \\\n",
       "0           NaN  ...                                                []   \n",
       "1           NaN  ...                                      ['Military']   \n",
       "2           NaN  ...  ['Gag Humor', 'Historical', 'Parody', 'Samurai']   \n",
       "\n",
       "  demographics                                           synopsis  \\\n",
       "0          NaN  Mitsuha Miyamizu, a high school girl, yearns t...   \n",
       "1      Shounen  After a horrific alchemy experiment goes wrong...   \n",
       "2      Shounen  Gintoki, Shinpachi, and Kagura return as the f...   \n",
       "\n",
       "                                           image_url  \\\n",
       "0  https://cdn.myanimelist.net/images/anime/5/870...   \n",
       "1  https://cdn.myanimelist.net/images/anime/1208/...   \n",
       "2  https://cdn.myanimelist.net/images/anime/3/720...   \n",
       "\n",
       "                           rating  \\\n",
       "0       PG-13 - Teens 13 or older   \n",
       "1  R - 17+ (violence & profanity)   \n",
       "2       PG-13 - Teens 13 or older   \n",
       "\n",
       "                                             va_list  \\\n",
       "0  ['Kamishiraishi, Mone', 'Kamiki, Ryunosuke', '...   \n",
       "1  ['Park, Romi', 'Kugimiya, Rie', 'Miki, Shinich...   \n",
       "2  ['Sugita, Tomokazu', 'Kugimiya, Rie', 'Sakaguc...   \n",
       "\n",
       "                                          staff_list recommended_review_count  \\\n",
       "0  ['Bezerra, Wendel', 'Kawamura, Genki', 'Itou, ...                    808.0   \n",
       "1  ['Cook, Justin', 'Maruyama, Hiroo', 'Yonai, No...                    912.0   \n",
       "2  ['Miyawaki, Chizuru', 'Takamatsu, Shinji', 'Yo...                     79.0   \n",
       "\n",
       "  mixedfeelings_review_count  notrecommended_review_count  \n",
       "0                       88.0                         50.0  \n",
       "1                       59.0                         39.0  \n",
       "2                        3.0                          1.0  \n",
       "\n",
       "[3 rows x 22 columns]"
      ]
     },
     "execution_count": 4,
     "metadata": {},
     "output_type": "execute_result"
    }
   ],
   "source": [
    "anime_final_df.head(3)"
   ]
  },
  {
   "cell_type": "markdown",
   "metadata": {},
   "source": [
    "Print out the first synopsis"
   ]
  },
  {
   "cell_type": "code",
   "execution_count": 5,
   "metadata": {},
   "outputs": [
    {
     "data": {
      "text/plain": [
       "\"Mitsuha Miyamizu, a high school girl, yearns to live the life of a boy in the bustling city of Tokyo—a dream that stands in stark contrast to her present life in the countryside. Meanwhile in the city, Taki Tachibana lives a busy life as a high school student while juggling his part-time job and hopes for a future in architecture.    One day, Mitsuha awakens in a room that is not her own and suddenly finds herself living the dream life in Tokyo—but in Taki's body! Elsewhere, Taki finds himself living Mitsuha's life in the humble countryside. In pursuit of an answer to this strange phenomenon, they begin to search for one another.      revolves around Mitsuha and Taki's actions, which begin to have a dramatic impact on each other's lives, weaving them into a fabric held together by fate and circumstance.    [Written by MAL Rewrite]\""
      ]
     },
     "execution_count": 5,
     "metadata": {},
     "output_type": "execute_result"
    }
   ],
   "source": [
    "anime_final_df.iloc[0]['synopsis']"
   ]
  },
  {
   "cell_type": "code",
   "execution_count": 6,
   "metadata": {},
   "outputs": [
    {
     "data": {
      "text/plain": [
       "'After the National Tournament, the Seidou High baseball team moves forward with uncertainty as the Fall season quickly approaches. In an attempt to build a stronger team centered around their new captain, fresh faces join the starting roster for the very first time. Previous losses weigh heavily on the minds of the veteran players as they continue their rigorous training, preparing for what will inevitably be their toughest season yet.     Rivals both new and old stand in their path as Seidou once again climbs their way toward the top, one game at a time. Needed now more than ever before, Furuya and Eijun must be determined to pitch with all their skill and strength in order to lead their team to victory. And this time, one of these young pitchers may finally claim that coveted title: \"The Ace of Seidou.\"    [Written by MAL Rewrite]'"
      ]
     },
     "execution_count": 6,
     "metadata": {},
     "output_type": "execute_result"
    }
   ],
   "source": [
    "anime_final_df.iloc[100]['synopsis']"
   ]
  },
  {
   "cell_type": "markdown",
   "metadata": {},
   "source": [
    "Preprocessing:\n",
    "At the end of every synopsis there is '[Written by MAL Rewrite]'. We want to remove this"
   ]
  },
  {
   "cell_type": "code",
   "execution_count": 7,
   "metadata": {},
   "outputs": [],
   "source": [
    "anime_final_df['synopsis'] = anime_final_df['synopsis'].str.replace(r'\\s*\\[Written by MAL Rewrite\\]\\s*','',regex=True)"
   ]
  },
  {
   "cell_type": "markdown",
   "metadata": {},
   "source": [
    "Let's inspect if that phrase is still there "
   ]
  },
  {
   "cell_type": "code",
   "execution_count": 8,
   "metadata": {},
   "outputs": [
    {
     "data": {
      "text/plain": [
       "\"Mitsuha Miyamizu, a high school girl, yearns to live the life of a boy in the bustling city of Tokyo—a dream that stands in stark contrast to her present life in the countryside. Meanwhile in the city, Taki Tachibana lives a busy life as a high school student while juggling his part-time job and hopes for a future in architecture.    One day, Mitsuha awakens in a room that is not her own and suddenly finds herself living the dream life in Tokyo—but in Taki's body! Elsewhere, Taki finds himself living Mitsuha's life in the humble countryside. In pursuit of an answer to this strange phenomenon, they begin to search for one another.      revolves around Mitsuha and Taki's actions, which begin to have a dramatic impact on each other's lives, weaving them into a fabric held together by fate and circumstance.\""
      ]
     },
     "execution_count": 8,
     "metadata": {},
     "output_type": "execute_result"
    }
   ],
   "source": [
    "anime_final_df.iloc[0]['synopsis']"
   ]
  },
  {
   "cell_type": "code",
   "execution_count": 9,
   "metadata": {},
   "outputs": [
    {
     "data": {
      "text/plain": [
       "'After the National Tournament, the Seidou High baseball team moves forward with uncertainty as the Fall season quickly approaches. In an attempt to build a stronger team centered around their new captain, fresh faces join the starting roster for the very first time. Previous losses weigh heavily on the minds of the veteran players as they continue their rigorous training, preparing for what will inevitably be their toughest season yet.     Rivals both new and old stand in their path as Seidou once again climbs their way toward the top, one game at a time. Needed now more than ever before, Furuya and Eijun must be determined to pitch with all their skill and strength in order to lead their team to victory. And this time, one of these young pitchers may finally claim that coveted title: \"The Ace of Seidou.\"'"
      ]
     },
     "execution_count": 9,
     "metadata": {},
     "output_type": "execute_result"
    }
   ],
   "source": [
    "anime_final_df.iloc[100]['synopsis']"
   ]
  },
  {
   "cell_type": "markdown",
   "metadata": {},
   "source": [
    "Type conversion"
   ]
  },
  {
   "cell_type": "code",
   "execution_count": 19,
   "metadata": {},
   "outputs": [
    {
     "data": {
      "text/html": [
       "<div>\n",
       "<style scoped>\n",
       "    .dataframe tbody tr th:only-of-type {\n",
       "        vertical-align: middle;\n",
       "    }\n",
       "\n",
       "    .dataframe tbody tr th {\n",
       "        vertical-align: top;\n",
       "    }\n",
       "\n",
       "    .dataframe thead th {\n",
       "        text-align: right;\n",
       "    }\n",
       "</style>\n",
       "<table border=\"1\" class=\"dataframe\">\n",
       "  <thead>\n",
       "    <tr style=\"text-align: right;\">\n",
       "      <th></th>\n",
       "      <th>anime_id</th>\n",
       "      <th>name</th>\n",
       "      <th>type</th>\n",
       "      <th>episodes</th>\n",
       "      <th>mal_score</th>\n",
       "      <th>members</th>\n",
       "      <th>studio</th>\n",
       "      <th>release-season</th>\n",
       "      <th>release-year</th>\n",
       "      <th>release-date</th>\n",
       "      <th>...</th>\n",
       "      <th>themes</th>\n",
       "      <th>demographics</th>\n",
       "      <th>synopsis</th>\n",
       "      <th>image_url</th>\n",
       "      <th>rating</th>\n",
       "      <th>va_list</th>\n",
       "      <th>staff_list</th>\n",
       "      <th>recommended_review_count</th>\n",
       "      <th>mixedfeelings_review_count</th>\n",
       "      <th>notrecommended_review_count</th>\n",
       "    </tr>\n",
       "  </thead>\n",
       "  <tbody>\n",
       "    <tr>\n",
       "      <th>31</th>\n",
       "      <td>32983</td>\n",
       "      <td>Natsume Yuujinchou Go</td>\n",
       "      <td>TV</td>\n",
       "      <td>13</td>\n",
       "      <td>8.76</td>\n",
       "      <td>38865</td>\n",
       "      <td>['Shuka']</td>\n",
       "      <td>fall</td>\n",
       "      <td>2016.0</td>\n",
       "      <td>NaN</td>\n",
       "      <td>...</td>\n",
       "      <td>['Iyashikei', 'Mythology']</td>\n",
       "      <td>Shoujo</td>\n",
       "      <td>NaN</td>\n",
       "      <td>NaN</td>\n",
       "      <td>NaN</td>\n",
       "      <td>NaN</td>\n",
       "      <td>NaN</td>\n",
       "      <td>NaN</td>\n",
       "      <td>NaN</td>\n",
       "      <td>NaN</td>\n",
       "    </tr>\n",
       "    <tr>\n",
       "      <th>62</th>\n",
       "      <td>32995</td>\n",
       "      <td>Yuri!!! on Ice</td>\n",
       "      <td>TV</td>\n",
       "      <td>12</td>\n",
       "      <td>8.61</td>\n",
       "      <td>103178</td>\n",
       "      <td>['MAPPA']</td>\n",
       "      <td>fall</td>\n",
       "      <td>2016.0</td>\n",
       "      <td>NaN</td>\n",
       "      <td>...</td>\n",
       "      <td>[]</td>\n",
       "      <td>NaN</td>\n",
       "      <td>NaN</td>\n",
       "      <td>NaN</td>\n",
       "      <td>NaN</td>\n",
       "      <td>NaN</td>\n",
       "      <td>NaN</td>\n",
       "      <td>NaN</td>\n",
       "      <td>NaN</td>\n",
       "      <td>NaN</td>\n",
       "    </tr>\n",
       "    <tr>\n",
       "      <th>74</th>\n",
       "      <td>21</td>\n",
       "      <td>One Piece</td>\n",
       "      <td>TV</td>\n",
       "      <td>Unknown</td>\n",
       "      <td>8.58</td>\n",
       "      <td>504862</td>\n",
       "      <td>['Toei Animation']</td>\n",
       "      <td>fall</td>\n",
       "      <td>1999.0</td>\n",
       "      <td>NaN</td>\n",
       "      <td>...</td>\n",
       "      <td>[]</td>\n",
       "      <td>NaN</td>\n",
       "      <td>NaN</td>\n",
       "      <td>NaN</td>\n",
       "      <td>NaN</td>\n",
       "      <td>NaN</td>\n",
       "      <td>NaN</td>\n",
       "      <td>NaN</td>\n",
       "      <td>NaN</td>\n",
       "      <td>NaN</td>\n",
       "    </tr>\n",
       "    <tr>\n",
       "      <th>76</th>\n",
       "      <td>31933</td>\n",
       "      <td>JoJo no Kimyou na Bouken: Diamond wa Kudakenai</td>\n",
       "      <td>TV</td>\n",
       "      <td>39</td>\n",
       "      <td>8.57</td>\n",
       "      <td>74074</td>\n",
       "      <td>['David Production']</td>\n",
       "      <td>spring</td>\n",
       "      <td>2016.0</td>\n",
       "      <td>NaN</td>\n",
       "      <td>...</td>\n",
       "      <td>[]</td>\n",
       "      <td>NaN</td>\n",
       "      <td>NaN</td>\n",
       "      <td>NaN</td>\n",
       "      <td>NaN</td>\n",
       "      <td>NaN</td>\n",
       "      <td>NaN</td>\n",
       "      <td>NaN</td>\n",
       "      <td>NaN</td>\n",
       "      <td>NaN</td>\n",
       "    </tr>\n",
       "    <tr>\n",
       "      <th>140</th>\n",
       "      <td>10937</td>\n",
       "      <td>Mobile Suit Gundam: The Origin</td>\n",
       "      <td>OVA</td>\n",
       "      <td>6</td>\n",
       "      <td>8.42</td>\n",
       "      <td>15420</td>\n",
       "      <td>['Sunrise']</td>\n",
       "      <td>winter</td>\n",
       "      <td>2015.0</td>\n",
       "      <td>NaN</td>\n",
       "      <td>...</td>\n",
       "      <td>['Mecha', 'Military', 'Space']</td>\n",
       "      <td>Shounen</td>\n",
       "      <td>NaN</td>\n",
       "      <td>NaN</td>\n",
       "      <td>NaN</td>\n",
       "      <td>NaN</td>\n",
       "      <td>NaN</td>\n",
       "      <td>NaN</td>\n",
       "      <td>NaN</td>\n",
       "      <td>NaN</td>\n",
       "    </tr>\n",
       "    <tr>\n",
       "      <th>...</th>\n",
       "      <td>...</td>\n",
       "      <td>...</td>\n",
       "      <td>...</td>\n",
       "      <td>...</td>\n",
       "      <td>...</td>\n",
       "      <td>...</td>\n",
       "      <td>...</td>\n",
       "      <td>...</td>\n",
       "      <td>...</td>\n",
       "      <td>...</td>\n",
       "      <td>...</td>\n",
       "      <td>...</td>\n",
       "      <td>...</td>\n",
       "      <td>...</td>\n",
       "      <td>...</td>\n",
       "      <td>...</td>\n",
       "      <td>...</td>\n",
       "      <td>...</td>\n",
       "      <td>...</td>\n",
       "      <td>...</td>\n",
       "      <td>...</td>\n",
       "    </tr>\n",
       "    <tr>\n",
       "      <th>12207</th>\n",
       "      <td>34492</td>\n",
       "      <td>Nuki Doki! Tenshi to Akuma no Sakusei Battle -...</td>\n",
       "      <td>OVA</td>\n",
       "      <td>Unknown</td>\n",
       "      <td>NaN</td>\n",
       "      <td>392</td>\n",
       "      <td>['Collaboration Works']</td>\n",
       "      <td>winter</td>\n",
       "      <td>2017.0</td>\n",
       "      <td>NaN</td>\n",
       "      <td>...</td>\n",
       "      <td>[]</td>\n",
       "      <td>NaN</td>\n",
       "      <td>NaN</td>\n",
       "      <td>NaN</td>\n",
       "      <td>NaN</td>\n",
       "      <td>NaN</td>\n",
       "      <td>NaN</td>\n",
       "      <td>NaN</td>\n",
       "      <td>NaN</td>\n",
       "      <td>NaN</td>\n",
       "    </tr>\n",
       "    <tr>\n",
       "      <th>12211</th>\n",
       "      <td>34491</td>\n",
       "      <td>Sagurare Otome The Animation</td>\n",
       "      <td>OVA</td>\n",
       "      <td>1</td>\n",
       "      <td>NaN</td>\n",
       "      <td>79</td>\n",
       "      <td>['Studio 1st']</td>\n",
       "      <td>winter</td>\n",
       "      <td>2017.0</td>\n",
       "      <td>NaN</td>\n",
       "      <td>...</td>\n",
       "      <td>[]</td>\n",
       "      <td>NaN</td>\n",
       "      <td>NaN</td>\n",
       "      <td>NaN</td>\n",
       "      <td>NaN</td>\n",
       "      <td>NaN</td>\n",
       "      <td>NaN</td>\n",
       "      <td>NaN</td>\n",
       "      <td>NaN</td>\n",
       "      <td>NaN</td>\n",
       "    </tr>\n",
       "    <tr>\n",
       "      <th>12212</th>\n",
       "      <td>34312</td>\n",
       "      <td>Saimin Class</td>\n",
       "      <td>OVA</td>\n",
       "      <td>Unknown</td>\n",
       "      <td>NaN</td>\n",
       "      <td>240</td>\n",
       "      <td>['BreakBottle']</td>\n",
       "      <td>fall</td>\n",
       "      <td>2016.0</td>\n",
       "      <td>NaN</td>\n",
       "      <td>...</td>\n",
       "      <td>[]</td>\n",
       "      <td>NaN</td>\n",
       "      <td>NaN</td>\n",
       "      <td>NaN</td>\n",
       "      <td>NaN</td>\n",
       "      <td>NaN</td>\n",
       "      <td>NaN</td>\n",
       "      <td>NaN</td>\n",
       "      <td>NaN</td>\n",
       "      <td>NaN</td>\n",
       "    </tr>\n",
       "    <tr>\n",
       "      <th>12214</th>\n",
       "      <td>34388</td>\n",
       "      <td>Shikkoku no Shaga The Animation</td>\n",
       "      <td>OVA</td>\n",
       "      <td>Unknown</td>\n",
       "      <td>NaN</td>\n",
       "      <td>195</td>\n",
       "      <td>['Seven']</td>\n",
       "      <td>winter</td>\n",
       "      <td>2017.0</td>\n",
       "      <td>NaN</td>\n",
       "      <td>...</td>\n",
       "      <td>[]</td>\n",
       "      <td>NaN</td>\n",
       "      <td>NaN</td>\n",
       "      <td>NaN</td>\n",
       "      <td>NaN</td>\n",
       "      <td>NaN</td>\n",
       "      <td>NaN</td>\n",
       "      <td>NaN</td>\n",
       "      <td>NaN</td>\n",
       "      <td>NaN</td>\n",
       "    </tr>\n",
       "    <tr>\n",
       "      <th>12217</th>\n",
       "      <td>34399</td>\n",
       "      <td>Taimanin Asagi 3</td>\n",
       "      <td>OVA</td>\n",
       "      <td>Unknown</td>\n",
       "      <td>NaN</td>\n",
       "      <td>485</td>\n",
       "      <td>['Studio Eromatick']</td>\n",
       "      <td>fall</td>\n",
       "      <td>2016.0</td>\n",
       "      <td>NaN</td>\n",
       "      <td>...</td>\n",
       "      <td>[]</td>\n",
       "      <td>NaN</td>\n",
       "      <td>NaN</td>\n",
       "      <td>NaN</td>\n",
       "      <td>NaN</td>\n",
       "      <td>NaN</td>\n",
       "      <td>NaN</td>\n",
       "      <td>NaN</td>\n",
       "      <td>NaN</td>\n",
       "      <td>NaN</td>\n",
       "    </tr>\n",
       "  </tbody>\n",
       "</table>\n",
       "<p>1098 rows × 22 columns</p>\n",
       "</div>"
      ],
      "text/plain": [
       "       anime_id                                               name type  \\\n",
       "31        32983                              Natsume Yuujinchou Go   TV   \n",
       "62        32995                                     Yuri!!! on Ice   TV   \n",
       "74           21                                          One Piece   TV   \n",
       "76        31933     JoJo no Kimyou na Bouken: Diamond wa Kudakenai   TV   \n",
       "140       10937                     Mobile Suit Gundam: The Origin  OVA   \n",
       "...         ...                                                ...  ...   \n",
       "12207     34492  Nuki Doki! Tenshi to Akuma no Sakusei Battle -...  OVA   \n",
       "12211     34491                       Sagurare Otome The Animation  OVA   \n",
       "12212     34312                                       Saimin Class  OVA   \n",
       "12214     34388                    Shikkoku no Shaga The Animation  OVA   \n",
       "12217     34399                                   Taimanin Asagi 3  OVA   \n",
       "\n",
       "      episodes  mal_score  members                   studio release-season  \\\n",
       "31          13       8.76    38865                ['Shuka']           fall   \n",
       "62          12       8.61   103178                ['MAPPA']           fall   \n",
       "74     Unknown       8.58   504862       ['Toei Animation']           fall   \n",
       "76          39       8.57    74074     ['David Production']         spring   \n",
       "140          6       8.42    15420              ['Sunrise']         winter   \n",
       "...        ...        ...      ...                      ...            ...   \n",
       "12207  Unknown        NaN      392  ['Collaboration Works']         winter   \n",
       "12211        1        NaN       79           ['Studio 1st']         winter   \n",
       "12212  Unknown        NaN      240          ['BreakBottle']           fall   \n",
       "12214  Unknown        NaN      195                ['Seven']         winter   \n",
       "12217  Unknown        NaN      485     ['Studio Eromatick']           fall   \n",
       "\n",
       "       release-year  release-date  ...                          themes  \\\n",
       "31           2016.0           NaN  ...      ['Iyashikei', 'Mythology']   \n",
       "62           2016.0           NaN  ...                              []   \n",
       "74           1999.0           NaN  ...                              []   \n",
       "76           2016.0           NaN  ...                              []   \n",
       "140          2015.0           NaN  ...  ['Mecha', 'Military', 'Space']   \n",
       "...             ...           ...  ...                             ...   \n",
       "12207        2017.0           NaN  ...                              []   \n",
       "12211        2017.0           NaN  ...                              []   \n",
       "12212        2016.0           NaN  ...                              []   \n",
       "12214        2017.0           NaN  ...                              []   \n",
       "12217        2016.0           NaN  ...                              []   \n",
       "\n",
       "      demographics synopsis image_url rating va_list staff_list  \\\n",
       "31          Shoujo      NaN       NaN    NaN     NaN        NaN   \n",
       "62             NaN      NaN       NaN    NaN     NaN        NaN   \n",
       "74             NaN      NaN       NaN    NaN     NaN        NaN   \n",
       "76             NaN      NaN       NaN    NaN     NaN        NaN   \n",
       "140        Shounen      NaN       NaN    NaN     NaN        NaN   \n",
       "...            ...      ...       ...    ...     ...        ...   \n",
       "12207          NaN      NaN       NaN    NaN     NaN        NaN   \n",
       "12211          NaN      NaN       NaN    NaN     NaN        NaN   \n",
       "12212          NaN      NaN       NaN    NaN     NaN        NaN   \n",
       "12214          NaN      NaN       NaN    NaN     NaN        NaN   \n",
       "12217          NaN      NaN       NaN    NaN     NaN        NaN   \n",
       "\n",
       "      recommended_review_count mixedfeelings_review_count  \\\n",
       "31                         NaN                        NaN   \n",
       "62                         NaN                        NaN   \n",
       "74                         NaN                        NaN   \n",
       "76                         NaN                        NaN   \n",
       "140                        NaN                        NaN   \n",
       "...                        ...                        ...   \n",
       "12207                      NaN                        NaN   \n",
       "12211                      NaN                        NaN   \n",
       "12212                      NaN                        NaN   \n",
       "12214                      NaN                        NaN   \n",
       "12217                      NaN                        NaN   \n",
       "\n",
       "       notrecommended_review_count  \n",
       "31                             NaN  \n",
       "62                             NaN  \n",
       "74                             NaN  \n",
       "76                             NaN  \n",
       "140                            NaN  \n",
       "...                            ...  \n",
       "12207                          NaN  \n",
       "12211                          NaN  \n",
       "12212                          NaN  \n",
       "12214                          NaN  \n",
       "12217                          NaN  \n",
       "\n",
       "[1098 rows x 22 columns]"
      ]
     },
     "execution_count": 19,
     "metadata": {},
     "output_type": "execute_result"
    }
   ],
   "source": [
    "anime_final_df[anime_final_df['synopsis'].isna()]"
   ]
  },
  {
   "cell_type": "code",
   "execution_count": null,
   "metadata": {},
   "outputs": [],
   "source": []
  },
  {
   "cell_type": "markdown",
   "metadata": {},
   "source": [
    "## Sentence Transformers"
   ]
  },
  {
   "cell_type": "markdown",
   "metadata": {},
   "source": [
    "Instantiate Bert sentence transformer"
   ]
  },
  {
   "cell_type": "code",
   "execution_count": 10,
   "metadata": {},
   "outputs": [
    {
     "name": "stderr",
     "output_type": "stream",
     "text": [
      "c:\\Users\\rosam\\anaconda3\\envs\\cs608_p2\\Lib\\site-packages\\huggingface_hub\\file_download.py:1132: FutureWarning: `resume_download` is deprecated and will be removed in version 1.0.0. Downloads always resume when possible. If you want to force a new download, use `force_download=True`.\n",
      "  warnings.warn(\n"
     ]
    }
   ],
   "source": [
    "model = SentenceTransformer('bert-base-nli-mean-tokens')"
   ]
  },
  {
   "cell_type": "markdown",
   "metadata": {},
   "source": [
    "Generate embeddings"
   ]
  },
  {
   "cell_type": "code",
   "execution_count": 14,
   "metadata": {},
   "outputs": [
    {
     "data": {
      "application/vnd.jupyter.widget-view+json": {
       "model_id": "7d4884161ff84a40997e6d8a88d4c991",
       "version_major": 2,
       "version_minor": 0
      },
      "text/plain": [
       "Batches:   0%|          | 0/1 [00:00<?, ?it/s]"
      ]
     },
     "metadata": {},
     "output_type": "display_data"
    }
   ],
   "source": [
    "# testing on first 5\n",
    "synopsis_list = anime_final_df['synopsis'].iloc[:5].tolist()\n",
    "sentence_embeddings = model.encode(synopsis_list, show_progress_bar=True)\n",
    "\n",
    "# Note: for .encode(), there is an optional arugment: normalize_embeddings (bool, optional) – Whether to \n",
    "# normalize returned vectors to have length 1. In that case, the faster dot-product (util.dot_score) instead \n",
    "# of cosine similarity can be used. Defaults to False."
   ]
  },
  {
   "cell_type": "code",
   "execution_count": 15,
   "metadata": {},
   "outputs": [
    {
     "data": {
      "text/plain": [
       "array([[-0.46397483,  0.32970548,  0.9904363 , ..., -0.3416259 ,\n",
       "        -0.23031402, -0.02224792],\n",
       "       [-0.11658153,  1.0129116 ,  0.49288163, ...,  0.22548924,\n",
       "         0.18881917, -0.09548517],\n",
       "       [-0.54377246,  0.90457124,  0.09619945, ...,  0.5572938 ,\n",
       "         0.16025406, -0.03929615],\n",
       "       [-0.53630084,  1.0769869 ,  0.28372797, ...,  0.1067517 ,\n",
       "         0.2952971 , -0.2879131 ],\n",
       "       [-0.6076364 ,  0.61866707,  0.42367676, ..., -0.19480148,\n",
       "         0.11390668, -0.04527906]], dtype=float32)"
      ]
     },
     "execution_count": 15,
     "metadata": {},
     "output_type": "execute_result"
    }
   ],
   "source": [
    "sentence_embeddings"
   ]
  },
  {
   "cell_type": "markdown",
   "metadata": {},
   "source": [
    "Issue: Could not complete the embedding because there are NaN values for the 'synopsis column'. "
   ]
  },
  {
   "cell_type": "code",
   "execution_count": null,
   "metadata": {},
   "outputs": [],
   "source": []
  },
  {
   "cell_type": "code",
   "execution_count": null,
   "metadata": {},
   "outputs": [],
   "source": []
  }
 ],
 "metadata": {
  "kernelspec": {
   "display_name": "cs608_p2",
   "language": "python",
   "name": "python3"
  },
  "language_info": {
   "codemirror_mode": {
    "name": "ipython",
    "version": 3
   },
   "file_extension": ".py",
   "mimetype": "text/x-python",
   "name": "python",
   "nbconvert_exporter": "python",
   "pygments_lexer": "ipython3",
   "version": "3.11.9"
  }
 },
 "nbformat": 4,
 "nbformat_minor": 2
}
