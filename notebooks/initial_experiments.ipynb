{
 "cells": [
  {
   "cell_type": "markdown",
   "metadata": {},
   "source": [
    "Notes:\n",
    "- Users will likely not want to be recommended an anime they have already watched\n",
    "    - Additional filtering will need to be done during inference\n",
    "- Users might be more emotionally invested in a subsequent season of an anime\n",
    "    - Additional weight for subsequent season of a series? (may be future work)\n",
    "- Users likely prefer more current anime\n",
    "    - Have model favor recent releases\n",
    "    - https://static.googleusercontent.com/media/research.google.com/en//pubs/archive/45530.pdf, section 3.3"
   ]
  },
  {
   "cell_type": "code",
   "execution_count": 1,
   "metadata": {},
   "outputs": [
    {
     "ename": "FileNotFoundError",
     "evalue": "[Errno 2] No such file or directory: './data/CooperUnion/anime.csv'",
     "output_type": "error",
     "traceback": [
      "\u001b[1;31m---------------------------------------------------------------------------\u001b[0m",
      "\u001b[1;31mFileNotFoundError\u001b[0m                         Traceback (most recent call last)",
      "Cell \u001b[1;32mIn[1], line 7\u001b[0m\n\u001b[0;32m      1\u001b[0m \u001b[38;5;66;03m# Dataset sources: \u001b[39;00m\n\u001b[0;32m      2\u001b[0m \u001b[38;5;66;03m# https://www.kaggle.com/datasets/CooperUnion/anime-recommendations-database\u001b[39;00m\n\u001b[0;32m      3\u001b[0m \u001b[38;5;66;03m# https://www.kaggle.com/datasets/crazygump/myanimelist-scrappind-a-decade-of-anime\u001b[39;00m\n\u001b[0;32m      5\u001b[0m \u001b[38;5;28;01mimport\u001b[39;00m \u001b[38;5;21;01mpandas\u001b[39;00m \u001b[38;5;28;01mas\u001b[39;00m \u001b[38;5;21;01mpd\u001b[39;00m\n\u001b[1;32m----> 7\u001b[0m df_anime_rating \u001b[38;5;241m=\u001b[39m \u001b[43mpd\u001b[49m\u001b[38;5;241;43m.\u001b[39;49m\u001b[43mread_csv\u001b[49m\u001b[43m(\u001b[49m\u001b[38;5;124;43m'\u001b[39;49m\u001b[38;5;124;43m./data/CooperUnion/anime.csv\u001b[39;49m\u001b[38;5;124;43m'\u001b[39;49m\u001b[43m)\u001b[49m\n\u001b[0;32m      8\u001b[0m df_anime_meta \u001b[38;5;241m=\u001b[39m pd\u001b[38;5;241m.\u001b[39mread_csv(\u001b[38;5;124m'\u001b[39m\u001b[38;5;124m./data/Gumpy-Q/MAL-all-from-winter1917-to-fall2022.csv\u001b[39m\u001b[38;5;124m'\u001b[39m)\n\u001b[0;32m      9\u001b[0m df_user_rating \u001b[38;5;241m=\u001b[39m pd\u001b[38;5;241m.\u001b[39mread_csv(\u001b[38;5;124m'\u001b[39m\u001b[38;5;124m./data/CooperUnion/rating.csv\u001b[39m\u001b[38;5;124m'\u001b[39m)\n",
      "File \u001b[1;32mc:\\Users\\user\\.conda\\envs\\cs608_p2\\Lib\\site-packages\\pandas\\io\\parsers\\readers.py:1026\u001b[0m, in \u001b[0;36mread_csv\u001b[1;34m(filepath_or_buffer, sep, delimiter, header, names, index_col, usecols, dtype, engine, converters, true_values, false_values, skipinitialspace, skiprows, skipfooter, nrows, na_values, keep_default_na, na_filter, verbose, skip_blank_lines, parse_dates, infer_datetime_format, keep_date_col, date_parser, date_format, dayfirst, cache_dates, iterator, chunksize, compression, thousands, decimal, lineterminator, quotechar, quoting, doublequote, escapechar, comment, encoding, encoding_errors, dialect, on_bad_lines, delim_whitespace, low_memory, memory_map, float_precision, storage_options, dtype_backend)\u001b[0m\n\u001b[0;32m   1013\u001b[0m kwds_defaults \u001b[38;5;241m=\u001b[39m _refine_defaults_read(\n\u001b[0;32m   1014\u001b[0m     dialect,\n\u001b[0;32m   1015\u001b[0m     delimiter,\n\u001b[1;32m   (...)\u001b[0m\n\u001b[0;32m   1022\u001b[0m     dtype_backend\u001b[38;5;241m=\u001b[39mdtype_backend,\n\u001b[0;32m   1023\u001b[0m )\n\u001b[0;32m   1024\u001b[0m kwds\u001b[38;5;241m.\u001b[39mupdate(kwds_defaults)\n\u001b[1;32m-> 1026\u001b[0m \u001b[38;5;28;01mreturn\u001b[39;00m \u001b[43m_read\u001b[49m\u001b[43m(\u001b[49m\u001b[43mfilepath_or_buffer\u001b[49m\u001b[43m,\u001b[49m\u001b[43m \u001b[49m\u001b[43mkwds\u001b[49m\u001b[43m)\u001b[49m\n",
      "File \u001b[1;32mc:\\Users\\user\\.conda\\envs\\cs608_p2\\Lib\\site-packages\\pandas\\io\\parsers\\readers.py:620\u001b[0m, in \u001b[0;36m_read\u001b[1;34m(filepath_or_buffer, kwds)\u001b[0m\n\u001b[0;32m    617\u001b[0m _validate_names(kwds\u001b[38;5;241m.\u001b[39mget(\u001b[38;5;124m\"\u001b[39m\u001b[38;5;124mnames\u001b[39m\u001b[38;5;124m\"\u001b[39m, \u001b[38;5;28;01mNone\u001b[39;00m))\n\u001b[0;32m    619\u001b[0m \u001b[38;5;66;03m# Create the parser.\u001b[39;00m\n\u001b[1;32m--> 620\u001b[0m parser \u001b[38;5;241m=\u001b[39m \u001b[43mTextFileReader\u001b[49m\u001b[43m(\u001b[49m\u001b[43mfilepath_or_buffer\u001b[49m\u001b[43m,\u001b[49m\u001b[43m \u001b[49m\u001b[38;5;241;43m*\u001b[39;49m\u001b[38;5;241;43m*\u001b[39;49m\u001b[43mkwds\u001b[49m\u001b[43m)\u001b[49m\n\u001b[0;32m    622\u001b[0m \u001b[38;5;28;01mif\u001b[39;00m chunksize \u001b[38;5;129;01mor\u001b[39;00m iterator:\n\u001b[0;32m    623\u001b[0m     \u001b[38;5;28;01mreturn\u001b[39;00m parser\n",
      "File \u001b[1;32mc:\\Users\\user\\.conda\\envs\\cs608_p2\\Lib\\site-packages\\pandas\\io\\parsers\\readers.py:1620\u001b[0m, in \u001b[0;36mTextFileReader.__init__\u001b[1;34m(self, f, engine, **kwds)\u001b[0m\n\u001b[0;32m   1617\u001b[0m     \u001b[38;5;28mself\u001b[39m\u001b[38;5;241m.\u001b[39moptions[\u001b[38;5;124m\"\u001b[39m\u001b[38;5;124mhas_index_names\u001b[39m\u001b[38;5;124m\"\u001b[39m] \u001b[38;5;241m=\u001b[39m kwds[\u001b[38;5;124m\"\u001b[39m\u001b[38;5;124mhas_index_names\u001b[39m\u001b[38;5;124m\"\u001b[39m]\n\u001b[0;32m   1619\u001b[0m \u001b[38;5;28mself\u001b[39m\u001b[38;5;241m.\u001b[39mhandles: IOHandles \u001b[38;5;241m|\u001b[39m \u001b[38;5;28;01mNone\u001b[39;00m \u001b[38;5;241m=\u001b[39m \u001b[38;5;28;01mNone\u001b[39;00m\n\u001b[1;32m-> 1620\u001b[0m \u001b[38;5;28mself\u001b[39m\u001b[38;5;241m.\u001b[39m_engine \u001b[38;5;241m=\u001b[39m \u001b[38;5;28;43mself\u001b[39;49m\u001b[38;5;241;43m.\u001b[39;49m\u001b[43m_make_engine\u001b[49m\u001b[43m(\u001b[49m\u001b[43mf\u001b[49m\u001b[43m,\u001b[49m\u001b[43m \u001b[49m\u001b[38;5;28;43mself\u001b[39;49m\u001b[38;5;241;43m.\u001b[39;49m\u001b[43mengine\u001b[49m\u001b[43m)\u001b[49m\n",
      "File \u001b[1;32mc:\\Users\\user\\.conda\\envs\\cs608_p2\\Lib\\site-packages\\pandas\\io\\parsers\\readers.py:1880\u001b[0m, in \u001b[0;36mTextFileReader._make_engine\u001b[1;34m(self, f, engine)\u001b[0m\n\u001b[0;32m   1878\u001b[0m     \u001b[38;5;28;01mif\u001b[39;00m \u001b[38;5;124m\"\u001b[39m\u001b[38;5;124mb\u001b[39m\u001b[38;5;124m\"\u001b[39m \u001b[38;5;129;01mnot\u001b[39;00m \u001b[38;5;129;01min\u001b[39;00m mode:\n\u001b[0;32m   1879\u001b[0m         mode \u001b[38;5;241m+\u001b[39m\u001b[38;5;241m=\u001b[39m \u001b[38;5;124m\"\u001b[39m\u001b[38;5;124mb\u001b[39m\u001b[38;5;124m\"\u001b[39m\n\u001b[1;32m-> 1880\u001b[0m \u001b[38;5;28mself\u001b[39m\u001b[38;5;241m.\u001b[39mhandles \u001b[38;5;241m=\u001b[39m \u001b[43mget_handle\u001b[49m\u001b[43m(\u001b[49m\n\u001b[0;32m   1881\u001b[0m \u001b[43m    \u001b[49m\u001b[43mf\u001b[49m\u001b[43m,\u001b[49m\n\u001b[0;32m   1882\u001b[0m \u001b[43m    \u001b[49m\u001b[43mmode\u001b[49m\u001b[43m,\u001b[49m\n\u001b[0;32m   1883\u001b[0m \u001b[43m    \u001b[49m\u001b[43mencoding\u001b[49m\u001b[38;5;241;43m=\u001b[39;49m\u001b[38;5;28;43mself\u001b[39;49m\u001b[38;5;241;43m.\u001b[39;49m\u001b[43moptions\u001b[49m\u001b[38;5;241;43m.\u001b[39;49m\u001b[43mget\u001b[49m\u001b[43m(\u001b[49m\u001b[38;5;124;43m\"\u001b[39;49m\u001b[38;5;124;43mencoding\u001b[39;49m\u001b[38;5;124;43m\"\u001b[39;49m\u001b[43m,\u001b[49m\u001b[43m \u001b[49m\u001b[38;5;28;43;01mNone\u001b[39;49;00m\u001b[43m)\u001b[49m\u001b[43m,\u001b[49m\n\u001b[0;32m   1884\u001b[0m \u001b[43m    \u001b[49m\u001b[43mcompression\u001b[49m\u001b[38;5;241;43m=\u001b[39;49m\u001b[38;5;28;43mself\u001b[39;49m\u001b[38;5;241;43m.\u001b[39;49m\u001b[43moptions\u001b[49m\u001b[38;5;241;43m.\u001b[39;49m\u001b[43mget\u001b[49m\u001b[43m(\u001b[49m\u001b[38;5;124;43m\"\u001b[39;49m\u001b[38;5;124;43mcompression\u001b[39;49m\u001b[38;5;124;43m\"\u001b[39;49m\u001b[43m,\u001b[49m\u001b[43m \u001b[49m\u001b[38;5;28;43;01mNone\u001b[39;49;00m\u001b[43m)\u001b[49m\u001b[43m,\u001b[49m\n\u001b[0;32m   1885\u001b[0m \u001b[43m    \u001b[49m\u001b[43mmemory_map\u001b[49m\u001b[38;5;241;43m=\u001b[39;49m\u001b[38;5;28;43mself\u001b[39;49m\u001b[38;5;241;43m.\u001b[39;49m\u001b[43moptions\u001b[49m\u001b[38;5;241;43m.\u001b[39;49m\u001b[43mget\u001b[49m\u001b[43m(\u001b[49m\u001b[38;5;124;43m\"\u001b[39;49m\u001b[38;5;124;43mmemory_map\u001b[39;49m\u001b[38;5;124;43m\"\u001b[39;49m\u001b[43m,\u001b[49m\u001b[43m \u001b[49m\u001b[38;5;28;43;01mFalse\u001b[39;49;00m\u001b[43m)\u001b[49m\u001b[43m,\u001b[49m\n\u001b[0;32m   1886\u001b[0m \u001b[43m    \u001b[49m\u001b[43mis_text\u001b[49m\u001b[38;5;241;43m=\u001b[39;49m\u001b[43mis_text\u001b[49m\u001b[43m,\u001b[49m\n\u001b[0;32m   1887\u001b[0m \u001b[43m    \u001b[49m\u001b[43merrors\u001b[49m\u001b[38;5;241;43m=\u001b[39;49m\u001b[38;5;28;43mself\u001b[39;49m\u001b[38;5;241;43m.\u001b[39;49m\u001b[43moptions\u001b[49m\u001b[38;5;241;43m.\u001b[39;49m\u001b[43mget\u001b[49m\u001b[43m(\u001b[49m\u001b[38;5;124;43m\"\u001b[39;49m\u001b[38;5;124;43mencoding_errors\u001b[39;49m\u001b[38;5;124;43m\"\u001b[39;49m\u001b[43m,\u001b[49m\u001b[43m \u001b[49m\u001b[38;5;124;43m\"\u001b[39;49m\u001b[38;5;124;43mstrict\u001b[39;49m\u001b[38;5;124;43m\"\u001b[39;49m\u001b[43m)\u001b[49m\u001b[43m,\u001b[49m\n\u001b[0;32m   1888\u001b[0m \u001b[43m    \u001b[49m\u001b[43mstorage_options\u001b[49m\u001b[38;5;241;43m=\u001b[39;49m\u001b[38;5;28;43mself\u001b[39;49m\u001b[38;5;241;43m.\u001b[39;49m\u001b[43moptions\u001b[49m\u001b[38;5;241;43m.\u001b[39;49m\u001b[43mget\u001b[49m\u001b[43m(\u001b[49m\u001b[38;5;124;43m\"\u001b[39;49m\u001b[38;5;124;43mstorage_options\u001b[39;49m\u001b[38;5;124;43m\"\u001b[39;49m\u001b[43m,\u001b[49m\u001b[43m \u001b[49m\u001b[38;5;28;43;01mNone\u001b[39;49;00m\u001b[43m)\u001b[49m\u001b[43m,\u001b[49m\n\u001b[0;32m   1889\u001b[0m \u001b[43m\u001b[49m\u001b[43m)\u001b[49m\n\u001b[0;32m   1890\u001b[0m \u001b[38;5;28;01massert\u001b[39;00m \u001b[38;5;28mself\u001b[39m\u001b[38;5;241m.\u001b[39mhandles \u001b[38;5;129;01mis\u001b[39;00m \u001b[38;5;129;01mnot\u001b[39;00m \u001b[38;5;28;01mNone\u001b[39;00m\n\u001b[0;32m   1891\u001b[0m f \u001b[38;5;241m=\u001b[39m \u001b[38;5;28mself\u001b[39m\u001b[38;5;241m.\u001b[39mhandles\u001b[38;5;241m.\u001b[39mhandle\n",
      "File \u001b[1;32mc:\\Users\\user\\.conda\\envs\\cs608_p2\\Lib\\site-packages\\pandas\\io\\common.py:873\u001b[0m, in \u001b[0;36mget_handle\u001b[1;34m(path_or_buf, mode, encoding, compression, memory_map, is_text, errors, storage_options)\u001b[0m\n\u001b[0;32m    868\u001b[0m \u001b[38;5;28;01melif\u001b[39;00m \u001b[38;5;28misinstance\u001b[39m(handle, \u001b[38;5;28mstr\u001b[39m):\n\u001b[0;32m    869\u001b[0m     \u001b[38;5;66;03m# Check whether the filename is to be opened in binary mode.\u001b[39;00m\n\u001b[0;32m    870\u001b[0m     \u001b[38;5;66;03m# Binary mode does not support 'encoding' and 'newline'.\u001b[39;00m\n\u001b[0;32m    871\u001b[0m     \u001b[38;5;28;01mif\u001b[39;00m ioargs\u001b[38;5;241m.\u001b[39mencoding \u001b[38;5;129;01mand\u001b[39;00m \u001b[38;5;124m\"\u001b[39m\u001b[38;5;124mb\u001b[39m\u001b[38;5;124m\"\u001b[39m \u001b[38;5;129;01mnot\u001b[39;00m \u001b[38;5;129;01min\u001b[39;00m ioargs\u001b[38;5;241m.\u001b[39mmode:\n\u001b[0;32m    872\u001b[0m         \u001b[38;5;66;03m# Encoding\u001b[39;00m\n\u001b[1;32m--> 873\u001b[0m         handle \u001b[38;5;241m=\u001b[39m \u001b[38;5;28;43mopen\u001b[39;49m\u001b[43m(\u001b[49m\n\u001b[0;32m    874\u001b[0m \u001b[43m            \u001b[49m\u001b[43mhandle\u001b[49m\u001b[43m,\u001b[49m\n\u001b[0;32m    875\u001b[0m \u001b[43m            \u001b[49m\u001b[43mioargs\u001b[49m\u001b[38;5;241;43m.\u001b[39;49m\u001b[43mmode\u001b[49m\u001b[43m,\u001b[49m\n\u001b[0;32m    876\u001b[0m \u001b[43m            \u001b[49m\u001b[43mencoding\u001b[49m\u001b[38;5;241;43m=\u001b[39;49m\u001b[43mioargs\u001b[49m\u001b[38;5;241;43m.\u001b[39;49m\u001b[43mencoding\u001b[49m\u001b[43m,\u001b[49m\n\u001b[0;32m    877\u001b[0m \u001b[43m            \u001b[49m\u001b[43merrors\u001b[49m\u001b[38;5;241;43m=\u001b[39;49m\u001b[43merrors\u001b[49m\u001b[43m,\u001b[49m\n\u001b[0;32m    878\u001b[0m \u001b[43m            \u001b[49m\u001b[43mnewline\u001b[49m\u001b[38;5;241;43m=\u001b[39;49m\u001b[38;5;124;43m\"\u001b[39;49m\u001b[38;5;124;43m\"\u001b[39;49m\u001b[43m,\u001b[49m\n\u001b[0;32m    879\u001b[0m \u001b[43m        \u001b[49m\u001b[43m)\u001b[49m\n\u001b[0;32m    880\u001b[0m     \u001b[38;5;28;01melse\u001b[39;00m:\n\u001b[0;32m    881\u001b[0m         \u001b[38;5;66;03m# Binary mode\u001b[39;00m\n\u001b[0;32m    882\u001b[0m         handle \u001b[38;5;241m=\u001b[39m \u001b[38;5;28mopen\u001b[39m(handle, ioargs\u001b[38;5;241m.\u001b[39mmode)\n",
      "\u001b[1;31mFileNotFoundError\u001b[0m: [Errno 2] No such file or directory: './data/CooperUnion/anime.csv'"
     ]
    }
   ],
   "source": [
    "# Dataset sources: \n",
    "# https://www.kaggle.com/datasets/CooperUnion/anime-recommendations-database\n",
    "# https://www.kaggle.com/datasets/crazygump/myanimelist-scrappind-a-decade-of-anime\n",
    "\n",
    "import pandas as pd\n",
    "\n",
    "df_anime_rating = pd.read_csv('../data/01_raw/anime.csv')\n",
    "df_anime_meta = pd.read_csv('../data/01_raw/MAL-all-from-winter1917-to-fall2022.csv')\n",
    "df_user_rating = pd.read_csv('../data/01_raw/rating.csv')\n",
    "\n",
    "print(df_anime_rating.shape)\n",
    "display(df_anime_rating.head())\n",
    "\n",
    "print(df_anime_meta.shape)\n",
    "display(df_anime_meta.head())\n",
    "\n",
    "print(df_user_rating.shape)\n",
    "display(df_user_rating.head())"
   ]
  },
  {
   "cell_type": "markdown",
   "metadata": {},
   "source": [
    "- rating of -1 means a user has watched a show, but has not rated it (https://www.kaggle.com/datasets/CooperUnion/anime-recommendations-database/discussion/253814)\n",
    "- Suggestion: use https://jikan.moe/ OR https://github.com/abhinavk99/jikanpy jinkan API to extract studio, producer ()information? (note: rate limited to 60 request per minute)\n",
    "- Use https://github.com/QasimK/mal-scraper to scrape?\n",
    "- Scrapy (https://scrapy.org/) can be used to easily extract synopsis, reviews and image links\n",
    "- https://www.kaggle.com/datasets/crazygump/myanimelist-scrappind-a-decade-of-anime/data can be merged on MAL_id \n",
    "- one hot encode genre\n",
    "- VAE encoding for features?\n",
    "- NCF for recommender system? https://medium.com/data-science-in-your-pocket/recommendation-systems-using-neural-collaborative-filtering-ncf-explained-with-codes-21a97e48a2f7"
   ]
  },
  {
   "cell_type": "code",
   "execution_count": null,
   "metadata": {},
   "outputs": [],
   "source": [
    "df_anime_meta.rename(columns={\"MAL_id\":\"anime_id\"}, inplace=True)\n",
    "df_anime = df_anime_rating.merge(df_anime_meta, on='anime_id')\n",
    "\n",
    "# Check for missing values"
   ]
  },
  {
   "cell_type": "code",
   "execution_count": null,
   "metadata": {},
   "outputs": [
    {
     "name": "stdout",
     "output_type": "stream",
     "text": [
      "<class 'pandas.core.frame.DataFrame'>\n",
      "RangeIndex: 12294 entries, 0 to 12293\n",
      "Data columns (total 7 columns):\n",
      " #   Column    Non-Null Count  Dtype  \n",
      "---  ------    --------------  -----  \n",
      " 0   anime_id  12294 non-null  int64  \n",
      " 1   name      12294 non-null  object \n",
      " 2   genre     12232 non-null  object \n",
      " 3   type      12269 non-null  object \n",
      " 4   episodes  12294 non-null  object \n",
      " 5   rating    12064 non-null  float64\n",
      " 6   members   12294 non-null  int64  \n",
      "dtypes: float64(1), int64(2), object(4)\n",
      "memory usage: 672.5+ KB\n"
     ]
    }
   ],
   "source": [
    "df_anime_rating.info()"
   ]
  },
  {
   "cell_type": "code",
   "execution_count": null,
   "metadata": {},
   "outputs": [
    {
     "data": {
      "text/plain": [
       "rating\n",
       " 8     1646019\n",
       "-1     1476496\n",
       " 7     1375287\n",
       " 9     1254096\n",
       " 10     955715\n",
       " 6      637775\n",
       " 5      282806\n",
       " 4      104291\n",
       " 3       41453\n",
       " 2       23150\n",
       " 1       16649\n",
       "Name: count, dtype: int64"
      ]
     },
     "execution_count": 4,
     "metadata": {},
     "output_type": "execute_result"
    }
   ],
   "source": [
    "df_user_rating['rating'].value_counts()"
   ]
  },
  {
   "cell_type": "code",
   "execution_count": null,
   "metadata": {},
   "outputs": [
    {
     "name": "stdout",
     "output_type": "stream",
     "text": [
      "<class 'pandas.core.frame.DataFrame'>\n",
      "RangeIndex: 27505 entries, 0 to 27504\n",
      "Data columns (total 14 columns):\n",
      " #   Column           Non-Null Count  Dtype  \n",
      "---  ------           --------------  -----  \n",
      " 0   title            27505 non-null  object \n",
      " 1   MAL_id           27505 non-null  int64  \n",
      " 2   type             27505 non-null  object \n",
      " 3   studio           27505 non-null  object \n",
      " 4   release-season   27505 non-null  object \n",
      " 5   release-year     27505 non-null  float64\n",
      " 6   release-date     0 non-null      float64\n",
      " 7   source-material  22842 non-null  object \n",
      " 8   genres           27505 non-null  object \n",
      " 9   themes           27505 non-null  object \n",
      " 10  demographics     6425 non-null   object \n",
      " 11  episodes         27505 non-null  float64\n",
      " 12  score            27505 non-null  float64\n",
      " 13  members          27505 non-null  float64\n",
      "dtypes: float64(5), int64(1), object(8)\n",
      "memory usage: 2.9+ MB\n"
     ]
    }
   ],
   "source": [
    "df_anime_meta.info()"
   ]
  },
  {
   "cell_type": "code",
   "execution_count": null,
   "metadata": {},
   "outputs": [
    {
     "name": "stdout",
     "output_type": "stream",
     "text": [
      "title\n",
      "Sazae-san                                            213\n",
      "Sore Ike! Anpanman                                   137\n",
      "Crayon Shin-chan                                     123\n",
      "Nintama Rantarou                                     119\n",
      "Chibi Maruko-chan (1995)                             112\n",
      "                                                    ... \n",
      "Ice Movie                                              1\n",
      "Gegege no Kitarou: Nippon Bakuretsu                    1\n",
      "Eiga! Tamagotchi Uchuu Ichi Happy na Monogatari!?      1\n",
      "Da, da Ge da Xigua                                     1\n",
      "Big Mac to, Susume                                     1\n",
      "Name: count, Length: 16858, dtype: int64\n",
      "MAL_id\n",
      "2406     213\n",
      "1960     137\n",
      "966      123\n",
      "1199     119\n",
      "6149     112\n",
      "        ... \n",
      "9053       1\n",
      "8145       1\n",
      "6517       1\n",
      "44517      1\n",
      "53731      1\n",
      "Name: count, Length: 16858, dtype: int64\n",
      "type\n",
      "TV (Continuing)    9993\n",
      "TV (New)           5269\n",
      "OVA                3967\n",
      "Movie              2931\n",
      "ONA                2916\n",
      "Special            2429\n",
      "Name: count, dtype: int64\n",
      "studio\n",
      "['Unknown']                      7000\n",
      "['Toei Animation']               1685\n",
      "['Sunrise']                       881\n",
      "['TMS Entertainment']             726\n",
      "['Shin-Ei Animation']             721\n",
      "                                 ... \n",
      "['Anima', 'CyberConnect2']          1\n",
      "['Gonzo', 'LandQ studios']          1\n",
      "['Frontier Works']                  1\n",
      "['Madhouse', 'Studio Gokumi']       1\n",
      "['TypeZero']                        1\n",
      "Name: count, Length: 1374, dtype: int64\n",
      "release-season\n",
      "summer    7231\n",
      "fall      7117\n",
      "winter    6708\n",
      "spring    6449\n",
      "Name: count, dtype: int64\n",
      "release-year\n",
      "2017.0    1292\n",
      "2018.0    1259\n",
      "2016.0    1247\n",
      "2014.0    1184\n",
      "2015.0    1149\n",
      "          ... \n",
      "1951.0       1\n",
      "1945.0       1\n",
      "1937.0       1\n",
      "1939.0       1\n",
      "1950.0       1\n",
      "Name: count, Length: 98, dtype: int64\n",
      "Series([], Name: count, dtype: int64)\n",
      "source-material\n",
      "Manga           7787\n",
      "Original        7650\n",
      "Game            1477\n",
      "Visual novel    1155\n",
      "Light novel      987\n",
      "Other            955\n",
      "Novel            800\n",
      "4-koma manga     623\n",
      "Picture book     457\n",
      "Web manga        418\n",
      "Book             188\n",
      "Card game        152\n",
      "Mixed media       90\n",
      "Web novel         48\n",
      "Music             41\n",
      "Radio             14\n",
      "Name: count, dtype: int64\n",
      "genres\n",
      "['Comedy']                                                       3071\n",
      "[]                                                               1937\n",
      "['Comedy', 'Slice of Life']                                      1329\n",
      "['Hentai']                                                       1196\n",
      "['Fantasy']                                                      1017\n",
      "                                                                 ... \n",
      "['Adventure', 'Award Winning', 'Drama', 'Fantasy', 'Romance']       1\n",
      "['Adventure', 'Sci-Fi', 'Hentai']                                   1\n",
      "['Boys Love', 'Comedy', 'Drama', 'Romance', 'Hentai']               1\n",
      "['Drama', 'Romance', 'Sci-Fi', 'Slice of Life']                     1\n",
      "['Gourmet', 'Suspense']                                             1\n",
      "Name: count, Length: 947, dtype: int64\n",
      "themes\n",
      "[]                                                                 21080\n",
      "['School']                                                           711\n",
      "['Anthropomorphic']                                                  404\n",
      "['Mecha']                                                            326\n",
      "['Historical']                                                       281\n",
      "                                                                   ...  \n",
      "['Gag Humor', 'Historical', 'Parody', 'Samurai', 'Time Travel']        1\n",
      "['Educational', 'Visual Arts']                                         1\n",
      "['Harem', 'Love Polygon']                                              1\n",
      "['Isekai', 'Mythology', 'Reverse Harem']                               1\n",
      "['Parody', 'Reverse Harem']                                            1\n",
      "Name: count, Length: 431, dtype: int64\n",
      "demographics\n",
      "Shounen    2554\n",
      "Kids       1785\n",
      "Shoujo     1019\n",
      "Seinen      979\n",
      "Josei        88\n",
      "Name: count, dtype: int64\n",
      "episodes\n",
      "1.0      6760\n",
      "0.0      2346\n",
      "12.0     1853\n",
      "2.0      1514\n",
      "26.0     1490\n",
      "         ... \n",
      "384.0       1\n",
      "126.0       1\n",
      "208.0       1\n",
      "118.0       1\n",
      "176.0       1\n",
      "Name: count, Length: 214, dtype: int64\n",
      "score\n",
      "0.00    6688\n",
      "6.10     356\n",
      "6.57     254\n",
      "6.38     198\n",
      "7.08     186\n",
      "        ... \n",
      "3.84       1\n",
      "3.04       1\n",
      "4.04       1\n",
      "3.86       1\n",
      "9.14       1\n",
      "Name: count, Length: 530, dtype: int64\n",
      "members\n",
      "1100.0      419\n",
      "1400.0      313\n",
      "11000.0     299\n",
      "1300.0      286\n",
      "1800.0      277\n",
      "           ... \n",
      "488000.0      1\n",
      "714.0         1\n",
      "682000.0      1\n",
      "517000.0      1\n",
      "841.0         1\n",
      "Name: count, Length: 1711, dtype: int64\n"
     ]
    }
   ],
   "source": [
    "for col in df_anime_meta.columns:\n",
    "    print(df_anime_meta[col].value_counts())"
   ]
  }
 ],
 "metadata": {
  "kernelspec": {
   "display_name": "cs608_recsys_py_3_11_8",
   "language": "python",
   "name": "python3"
  },
  "language_info": {
   "codemirror_mode": {
    "name": "ipython",
    "version": 3
   },
   "file_extension": ".py",
   "mimetype": "text/x-python",
   "name": "python",
   "nbconvert_exporter": "python",
   "pygments_lexer": "ipython3",
   "version": "3.11.9"
  }
 },
 "nbformat": 4,
 "nbformat_minor": 2
}
