{
 "cells": [
  {
   "cell_type": "code",
   "execution_count": 41,
   "metadata": {},
   "outputs": [
    {
     "name": "stdout",
     "output_type": "stream",
     "text": [
      "# of scraped unique anime_ids: 11132\n",
      "# of unique anime ids: 11200\n",
      "# of remaining anime ids to scrape:68\n"
     ]
    }
   ],
   "source": [
    "import pandas as pd\n",
    "import numpy as np\n",
    "\n",
    "df_consolidated = pd.read_csv('../data/01_raw/anime_scrapy_consolidated.csv', sep=\"|\")\n",
    "df_scraped = pd.read_csv('../data/01_raw/anime_scrapy.csv', sep=\"|\")\n",
    "df_rating = pd.read_csv('../data/01_raw/rating.csv')\n",
    "\n",
    "df_consolidated = pd.concat([df_consolidated, df_scraped])\n",
    "\n",
    "print(f'# of scraped unique anime_ids: {len(df_consolidated[\"anime_id\"].unique())}')\n",
    "print(f'# of unique anime ids: {len(df_rating[\"anime_id\"].unique())}')\n",
    "print(f'# of remaining anime ids to scrape:{len(df_rating[\"anime_id\"].unique())-len(df_consolidated[\"anime_id\"].unique())}')"
   ]
  },
  {
   "cell_type": "code",
   "execution_count": 42,
   "metadata": {},
   "outputs": [
    {
     "name": "stdout",
     "output_type": "stream",
     "text": [
      "Length of missing_anime list: 68\n"
     ]
    }
   ],
   "source": [
    "# Export remaining anime_id list\n",
    "missing_anime = np.setdiff1d(df_rating['anime_id'],df_consolidated['anime_id'])\n",
    "print(f'Length of missing_anime list: {len(missing_anime)}')\n",
    "np.savetxt(\"../data/01_raw/missing_anime.csv\", missing_anime, header=\"anime_id\", fmt=\"%i\", comments=\"\")"
   ]
  },
  {
   "cell_type": "code",
   "execution_count": 43,
   "metadata": {},
   "outputs": [],
   "source": [
    "target_cols = [\n",
    "        \"anime_id\", \n",
    "        \"synopsis\", \n",
    "        \"image_url\", \n",
    "        \"rating\", \n",
    "        \"va_list\", \n",
    "        \"staff_list\",\n",
    "        \"recommended_review_count\",\n",
    "        \"mixedfeelings_review_count\",\n",
    "        \"notrecommended_review_count\"\n",
    "        ]\n",
    "\n",
    "df_consolidated = df_consolidated[target_cols]\n",
    "df_consolidated.to_csv('../data/01_raw/anime_scrapy_consolidated.csv', sep=\"|\", index=False)"
   ]
  }
 ],
 "metadata": {
  "kernelspec": {
   "display_name": "cs608_p2",
   "language": "python",
   "name": "python3"
  },
  "language_info": {
   "codemirror_mode": {
    "name": "ipython",
    "version": 3
   },
   "file_extension": ".py",
   "mimetype": "text/x-python",
   "name": "python",
   "nbconvert_exporter": "python",
   "pygments_lexer": "ipython3",
   "version": "3.11.9"
  }
 },
 "nbformat": 4,
 "nbformat_minor": 2
}
