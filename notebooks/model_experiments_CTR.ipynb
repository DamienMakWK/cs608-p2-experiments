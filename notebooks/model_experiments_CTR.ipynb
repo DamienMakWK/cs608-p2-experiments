{
 "cells": [
  {
   "cell_type": "markdown",
   "metadata": {},
   "source": [
    "# Instructions for Damien and Ros\n",
    "\n",
    "### please run all cells marked with a * before them, and all cells for parts I have allotted you\n",
    "I will be running the text + image modality one\n",
    "\n",
    "- Ros: please run text modality\n",
    "- Damien: please run image modality"
   ]
  },
  {
   "cell_type": "markdown",
   "metadata": {},
   "source": [
    "# *Imports"
   ]
  },
  {
   "cell_type": "code",
   "execution_count": 72,
   "metadata": {},
   "outputs": [
    {
     "name": "stdout",
     "output_type": "stream",
     "text": [
      "System version: 3.11.9 | packaged by conda-forge | (main, Apr 19 2024, 18:27:10) [MSC v.1938 64 bit (AMD64)]\n",
      "Cornac version: 2.2.1\n",
      "Tensorflow version: 2.16.1\n"
     ]
    }
   ],
   "source": [
    "import os\n",
    "import sys\n",
    "import itertools\n",
    "from collections import defaultdict\n",
    "\n",
    "import scipy.sparse as sp\n",
    "import numpy as np\n",
    "import pandas as pd\n",
    "import seaborn as sns\n",
    "import matplotlib.pyplot as plt\n",
    "%matplotlib inline\n",
    "\n",
    "from adjustText import adjust_text\n",
    "\n",
    "from PIL import Image\n",
    "import requests\n",
    "from io import BytesIO\n",
    "\n",
    "import cornac\n",
    "from cornac.utils import cache\n",
    "from cornac.data import Dataset\n",
    "from cornac.eval_methods import RatioSplit\n",
    "from cornac.models import MF, WMF, EASE, CTR\n",
    "from cornac.models.dmrl import DMRL\n",
    "from cornac.data import TextModality\n",
    "from cornac.data.text import BaseTokenizer\n",
    "\n",
    "import tensorflow as tf\n",
    "import torch\n",
    "\n",
    "print(f\"System version: {sys.version}\")\n",
    "print(f\"Cornac version: {cornac.__version__}\")\n",
    "print(f\"Tensorflow version: {tf.__version__}\")\n",
    "\n",
    "SEED = 42\n",
    "VERBOSE = True"
   ]
  },
  {
   "cell_type": "markdown",
   "metadata": {},
   "source": [
    "# *Load dataset"
   ]
  },
  {
   "cell_type": "code",
   "execution_count": 2,
   "metadata": {},
   "outputs": [],
   "source": [
    "ratings_path = '../data/01_raw/rating.csv'\n",
    "anime_path = '../data/03_primary/anime_final_cleaned.csv'"
   ]
  },
  {
   "cell_type": "code",
   "execution_count": 3,
   "metadata": {},
   "outputs": [],
   "source": [
    "ratings = pd.read_csv(ratings_path)\n",
    "content = pd.read_csv(anime_path)"
   ]
  },
  {
   "cell_type": "code",
   "execution_count": 4,
   "metadata": {},
   "outputs": [
    {
     "data": {
      "text/html": [
       "<div>\n",
       "<style scoped>\n",
       "    .dataframe tbody tr th:only-of-type {\n",
       "        vertical-align: middle;\n",
       "    }\n",
       "\n",
       "    .dataframe tbody tr th {\n",
       "        vertical-align: top;\n",
       "    }\n",
       "\n",
       "    .dataframe thead th {\n",
       "        text-align: right;\n",
       "    }\n",
       "</style>\n",
       "<table border=\"1\" class=\"dataframe\">\n",
       "  <thead>\n",
       "    <tr style=\"text-align: right;\">\n",
       "      <th></th>\n",
       "      <th>user_id</th>\n",
       "      <th>anime_id</th>\n",
       "      <th>rating</th>\n",
       "    </tr>\n",
       "  </thead>\n",
       "  <tbody>\n",
       "    <tr>\n",
       "      <th>0</th>\n",
       "      <td>1</td>\n",
       "      <td>20</td>\n",
       "      <td>-1</td>\n",
       "    </tr>\n",
       "    <tr>\n",
       "      <th>1</th>\n",
       "      <td>1</td>\n",
       "      <td>24</td>\n",
       "      <td>-1</td>\n",
       "    </tr>\n",
       "    <tr>\n",
       "      <th>2</th>\n",
       "      <td>1</td>\n",
       "      <td>79</td>\n",
       "      <td>-1</td>\n",
       "    </tr>\n",
       "    <tr>\n",
       "      <th>3</th>\n",
       "      <td>1</td>\n",
       "      <td>226</td>\n",
       "      <td>-1</td>\n",
       "    </tr>\n",
       "    <tr>\n",
       "      <th>4</th>\n",
       "      <td>1</td>\n",
       "      <td>241</td>\n",
       "      <td>-1</td>\n",
       "    </tr>\n",
       "  </tbody>\n",
       "</table>\n",
       "</div>"
      ],
      "text/plain": [
       "   user_id  anime_id  rating\n",
       "0        1        20      -1\n",
       "1        1        24      -1\n",
       "2        1        79      -1\n",
       "3        1       226      -1\n",
       "4        1       241      -1"
      ]
     },
     "execution_count": 4,
     "metadata": {},
     "output_type": "execute_result"
    }
   ],
   "source": [
    "ratings.head()"
   ]
  },
  {
   "cell_type": "code",
   "execution_count": 5,
   "metadata": {},
   "outputs": [],
   "source": [
    "content.sort_values(by=\"anime_id\", inplace=True)"
   ]
  },
  {
   "cell_type": "code",
   "execution_count": 6,
   "metadata": {},
   "outputs": [
    {
     "data": {
      "text/html": [
       "<div>\n",
       "<style scoped>\n",
       "    .dataframe tbody tr th:only-of-type {\n",
       "        vertical-align: middle;\n",
       "    }\n",
       "\n",
       "    .dataframe tbody tr th {\n",
       "        vertical-align: top;\n",
       "    }\n",
       "\n",
       "    .dataframe thead th {\n",
       "        text-align: right;\n",
       "    }\n",
       "</style>\n",
       "<table border=\"1\" class=\"dataframe\">\n",
       "  <thead>\n",
       "    <tr style=\"text-align: right;\">\n",
       "      <th></th>\n",
       "      <th>anime_id</th>\n",
       "      <th>name</th>\n",
       "      <th>type</th>\n",
       "      <th>episodes</th>\n",
       "      <th>mal_score</th>\n",
       "      <th>members</th>\n",
       "      <th>studio</th>\n",
       "      <th>release-season</th>\n",
       "      <th>release-year</th>\n",
       "      <th>release-date</th>\n",
       "      <th>...</th>\n",
       "      <th>themes</th>\n",
       "      <th>demographics</th>\n",
       "      <th>synopsis</th>\n",
       "      <th>image_url</th>\n",
       "      <th>rating</th>\n",
       "      <th>va_list</th>\n",
       "      <th>staff_list</th>\n",
       "      <th>recommended_review_count</th>\n",
       "      <th>mixedfeelings_review_count</th>\n",
       "      <th>notrecommended_review_count</th>\n",
       "    </tr>\n",
       "  </thead>\n",
       "  <tbody>\n",
       "    <tr>\n",
       "      <th>22</th>\n",
       "      <td>1</td>\n",
       "      <td>Cowboy Bebop</td>\n",
       "      <td>TV</td>\n",
       "      <td>26</td>\n",
       "      <td>8.82</td>\n",
       "      <td>486824</td>\n",
       "      <td>['Sunrise']</td>\n",
       "      <td>spring</td>\n",
       "      <td>1998.0</td>\n",
       "      <td>NaN</td>\n",
       "      <td>...</td>\n",
       "      <td>[]</td>\n",
       "      <td>NaN</td>\n",
       "      <td>Crime is timeless. By the year 2071, humanity ...</td>\n",
       "      <td>https://cdn.myanimelist.net/images/anime/4/196...</td>\n",
       "      <td>R - 17+ (violence &amp; profanity)</td>\n",
       "      <td>['Yamadera, Kouichi', 'Hayashibara, Megumi', '...</td>\n",
       "      <td>['Cook, Justin', 'Maseba, Yutaka', 'Minami, Ma...</td>\n",
       "      <td>539.0</td>\n",
       "      <td>38.0</td>\n",
       "      <td>17.0</td>\n",
       "    </tr>\n",
       "    <tr>\n",
       "      <th>147</th>\n",
       "      <td>5</td>\n",
       "      <td>Cowboy Bebop: Tengoku no Tobira</td>\n",
       "      <td>Movie</td>\n",
       "      <td>1</td>\n",
       "      <td>8.40</td>\n",
       "      <td>137636</td>\n",
       "      <td>['Bones']</td>\n",
       "      <td>summer</td>\n",
       "      <td>2001.0</td>\n",
       "      <td>NaN</td>\n",
       "      <td>...</td>\n",
       "      <td>[]</td>\n",
       "      <td>NaN</td>\n",
       "      <td>Another day, another bounty—such is the life o...</td>\n",
       "      <td>https://cdn.myanimelist.net/images/anime/1439/...</td>\n",
       "      <td>R - 17+ (violence &amp; profanity)</td>\n",
       "      <td>['Yamadera, Kouichi', 'Hayashibara, Megumi', '...</td>\n",
       "      <td>['Maseba, Yutaka', 'Minami, Masahiko', 'Ueda, ...</td>\n",
       "      <td>62.0</td>\n",
       "      <td>8.0</td>\n",
       "      <td>3.0</td>\n",
       "    </tr>\n",
       "    <tr>\n",
       "      <th>208</th>\n",
       "      <td>6</td>\n",
       "      <td>Trigun</td>\n",
       "      <td>TV</td>\n",
       "      <td>26</td>\n",
       "      <td>8.32</td>\n",
       "      <td>283069</td>\n",
       "      <td>['Madhouse']</td>\n",
       "      <td>spring</td>\n",
       "      <td>1998.0</td>\n",
       "      <td>NaN</td>\n",
       "      <td>...</td>\n",
       "      <td>['Adult Cast']</td>\n",
       "      <td>Shounen</td>\n",
       "      <td>Vash the Stampede is the man with a $$60,000,0...</td>\n",
       "      <td>https://cdn.myanimelist.net/images/anime/7/203...</td>\n",
       "      <td>PG-13 - Teens 13 or older</td>\n",
       "      <td>['Onosaka, Masaya', 'Hayami, Show', 'Yukino, S...</td>\n",
       "      <td>['Cook, Justin', 'Maseba, Yutaka', 'Kitayama, ...</td>\n",
       "      <td>151.0</td>\n",
       "      <td>16.0</td>\n",
       "      <td>9.0</td>\n",
       "    </tr>\n",
       "    <tr>\n",
       "      <th>2050</th>\n",
       "      <td>7</td>\n",
       "      <td>Witch Hunter Robin</td>\n",
       "      <td>TV</td>\n",
       "      <td>26</td>\n",
       "      <td>7.36</td>\n",
       "      <td>64905</td>\n",
       "      <td>['Sunrise']</td>\n",
       "      <td>summer</td>\n",
       "      <td>2002.0</td>\n",
       "      <td>NaN</td>\n",
       "      <td>...</td>\n",
       "      <td>[]</td>\n",
       "      <td>NaN</td>\n",
       "      <td>Robin Sena is a powerful craft user drafted in...</td>\n",
       "      <td>https://cdn.myanimelist.net/images/anime/10/19...</td>\n",
       "      <td>PG-13 - Teens 13 or older</td>\n",
       "      <td>['Watanabe, Akeno', 'Takewaka, Takuma', 'Yuuki...</td>\n",
       "      <td>['Murase, Shukou', 'Fujino, Sadayoshi', 'Miyat...</td>\n",
       "      <td>28.0</td>\n",
       "      <td>6.0</td>\n",
       "      <td>4.0</td>\n",
       "    </tr>\n",
       "    <tr>\n",
       "      <th>3090</th>\n",
       "      <td>8</td>\n",
       "      <td>Beet the Vandel Buster</td>\n",
       "      <td>TV</td>\n",
       "      <td>52</td>\n",
       "      <td>7.06</td>\n",
       "      <td>9848</td>\n",
       "      <td>['Toei Animation']</td>\n",
       "      <td>fall</td>\n",
       "      <td>2004.0</td>\n",
       "      <td>NaN</td>\n",
       "      <td>...</td>\n",
       "      <td>[]</td>\n",
       "      <td>NaN</td>\n",
       "      <td>It is the dark century and the people are suff...</td>\n",
       "      <td>https://cdn.myanimelist.net/images/anime/7/215...</td>\n",
       "      <td>PG - Children</td>\n",
       "      <td>['Kiuchi, Reiko', 'Hisakawa, Aya', 'Miura, Hir...</td>\n",
       "      <td>['Seki, Hiromi', 'Nagamine, Tatsuya', 'Yamauch...</td>\n",
       "      <td>3.0</td>\n",
       "      <td>1.0</td>\n",
       "      <td>0.0</td>\n",
       "    </tr>\n",
       "  </tbody>\n",
       "</table>\n",
       "<p>5 rows × 22 columns</p>\n",
       "</div>"
      ],
      "text/plain": [
       "      anime_id                             name   type episodes  mal_score  \\\n",
       "22           1                     Cowboy Bebop     TV       26       8.82   \n",
       "147          5  Cowboy Bebop: Tengoku no Tobira  Movie        1       8.40   \n",
       "208          6                           Trigun     TV       26       8.32   \n",
       "2050         7               Witch Hunter Robin     TV       26       7.36   \n",
       "3090         8           Beet the Vandel Buster     TV       52       7.06   \n",
       "\n",
       "      members              studio release-season  release-year  release-date  \\\n",
       "22     486824         ['Sunrise']         spring        1998.0           NaN   \n",
       "147    137636           ['Bones']         summer        2001.0           NaN   \n",
       "208    283069        ['Madhouse']         spring        1998.0           NaN   \n",
       "2050    64905         ['Sunrise']         summer        2002.0           NaN   \n",
       "3090     9848  ['Toei Animation']           fall        2004.0           NaN   \n",
       "\n",
       "      ...          themes demographics  \\\n",
       "22    ...              []          NaN   \n",
       "147   ...              []          NaN   \n",
       "208   ...  ['Adult Cast']      Shounen   \n",
       "2050  ...              []          NaN   \n",
       "3090  ...              []          NaN   \n",
       "\n",
       "                                               synopsis  \\\n",
       "22    Crime is timeless. By the year 2071, humanity ...   \n",
       "147   Another day, another bounty—such is the life o...   \n",
       "208   Vash the Stampede is the man with a $$60,000,0...   \n",
       "2050  Robin Sena is a powerful craft user drafted in...   \n",
       "3090  It is the dark century and the people are suff...   \n",
       "\n",
       "                                              image_url  \\\n",
       "22    https://cdn.myanimelist.net/images/anime/4/196...   \n",
       "147   https://cdn.myanimelist.net/images/anime/1439/...   \n",
       "208   https://cdn.myanimelist.net/images/anime/7/203...   \n",
       "2050  https://cdn.myanimelist.net/images/anime/10/19...   \n",
       "3090  https://cdn.myanimelist.net/images/anime/7/215...   \n",
       "\n",
       "                              rating  \\\n",
       "22    R - 17+ (violence & profanity)   \n",
       "147   R - 17+ (violence & profanity)   \n",
       "208        PG-13 - Teens 13 or older   \n",
       "2050       PG-13 - Teens 13 or older   \n",
       "3090                   PG - Children   \n",
       "\n",
       "                                                va_list  \\\n",
       "22    ['Yamadera, Kouichi', 'Hayashibara, Megumi', '...   \n",
       "147   ['Yamadera, Kouichi', 'Hayashibara, Megumi', '...   \n",
       "208   ['Onosaka, Masaya', 'Hayami, Show', 'Yukino, S...   \n",
       "2050  ['Watanabe, Akeno', 'Takewaka, Takuma', 'Yuuki...   \n",
       "3090  ['Kiuchi, Reiko', 'Hisakawa, Aya', 'Miura, Hir...   \n",
       "\n",
       "                                             staff_list  \\\n",
       "22    ['Cook, Justin', 'Maseba, Yutaka', 'Minami, Ma...   \n",
       "147   ['Maseba, Yutaka', 'Minami, Masahiko', 'Ueda, ...   \n",
       "208   ['Cook, Justin', 'Maseba, Yutaka', 'Kitayama, ...   \n",
       "2050  ['Murase, Shukou', 'Fujino, Sadayoshi', 'Miyat...   \n",
       "3090  ['Seki, Hiromi', 'Nagamine, Tatsuya', 'Yamauch...   \n",
       "\n",
       "     recommended_review_count mixedfeelings_review_count  \\\n",
       "22                      539.0                       38.0   \n",
       "147                      62.0                        8.0   \n",
       "208                     151.0                       16.0   \n",
       "2050                     28.0                        6.0   \n",
       "3090                      3.0                        1.0   \n",
       "\n",
       "      notrecommended_review_count  \n",
       "22                           17.0  \n",
       "147                           3.0  \n",
       "208                           9.0  \n",
       "2050                          4.0  \n",
       "3090                          0.0  \n",
       "\n",
       "[5 rows x 22 columns]"
      ]
     },
     "execution_count": 6,
     "metadata": {},
     "output_type": "execute_result"
    }
   ],
   "source": [
    "content.head()"
   ]
  },
  {
   "cell_type": "markdown",
   "metadata": {},
   "source": [
    "# *Preprocessing"
   ]
  },
  {
   "cell_type": "code",
   "execution_count": 7,
   "metadata": {},
   "outputs": [
    {
     "name": "stdout",
     "output_type": "stream",
     "text": [
      "number of users = 73515\n"
     ]
    }
   ],
   "source": [
    "# clean user_id\n",
    "all_users = ratings['user_id'].unique()\n",
    "print(f\"number of users = {len(all_users)}\")"
   ]
  },
  {
   "cell_type": "code",
   "execution_count": 8,
   "metadata": {},
   "outputs": [
    {
     "name": "stdout",
     "output_type": "stream",
     "text": [
      "user_id ranges from: 1 to 73516\n"
     ]
    }
   ],
   "source": [
    "print(f\"user_id ranges from: {ratings['user_id'].min()} to {ratings['user_id'].max()}\")"
   ]
  },
  {
   "cell_type": "markdown",
   "metadata": {},
   "source": [
    "There is a single missing user_id within the range. To remap the user_ids."
   ]
  },
  {
   "cell_type": "code",
   "execution_count": 9,
   "metadata": {},
   "outputs": [
    {
     "data": {
      "text/plain": [
       "46809.0"
      ]
     },
     "execution_count": 9,
     "metadata": {},
     "output_type": "execute_result"
    }
   ],
   "source": [
    "max = ratings['user_id'].max()\n",
    "# use property of arithmetic series :) (thanks leetcode! O(1))\n",
    "missing = (max * (max+1)) / 2 - all_users.sum()\n",
    "missing"
   ]
  },
  {
   "cell_type": "code",
   "execution_count": 10,
   "metadata": {},
   "outputs": [
    {
     "data": {
      "text/plain": [
       "False"
      ]
     },
     "execution_count": 10,
     "metadata": {},
     "output_type": "execute_result"
    }
   ],
   "source": [
    "# double check whether that really is the missing user_id\n",
    "id_46809_in_users = 46809 in all_users\n",
    "id_46809_in_users"
   ]
  },
  {
   "cell_type": "code",
   "execution_count": 11,
   "metadata": {},
   "outputs": [
    {
     "data": {
      "text/plain": [
       "True"
      ]
     },
     "execution_count": 11,
     "metadata": {},
     "output_type": "execute_result"
    }
   ],
   "source": [
    "# double check whether all other values are present in the column. O(n)\n",
    "all_users_set = set(all_users)\n",
    "all_others_present = True\n",
    "for user in range(1, ratings['user_id'].max() + 1):\n",
    "    if user == 46809:\n",
    "        continue\n",
    "    else:\n",
    "        if user in all_users_set:\n",
    "            continue\n",
    "        all_others_present = False\n",
    "        break\n",
    "    \n",
    "all_others_present"
   ]
  },
  {
   "cell_type": "code",
   "execution_count": 12,
   "metadata": {},
   "outputs": [
    {
     "data": {
      "text/html": [
       "<div>\n",
       "<style scoped>\n",
       "    .dataframe tbody tr th:only-of-type {\n",
       "        vertical-align: middle;\n",
       "    }\n",
       "\n",
       "    .dataframe tbody tr th {\n",
       "        vertical-align: top;\n",
       "    }\n",
       "\n",
       "    .dataframe thead th {\n",
       "        text-align: right;\n",
       "    }\n",
       "</style>\n",
       "<table border=\"1\" class=\"dataframe\">\n",
       "  <thead>\n",
       "    <tr style=\"text-align: right;\">\n",
       "      <th></th>\n",
       "      <th>user_id</th>\n",
       "      <th>anime_id</th>\n",
       "      <th>rating</th>\n",
       "    </tr>\n",
       "  </thead>\n",
       "  <tbody>\n",
       "    <tr>\n",
       "      <th>7813735</th>\n",
       "      <td>73516</td>\n",
       "      <td>790</td>\n",
       "      <td>9</td>\n",
       "    </tr>\n",
       "    <tr>\n",
       "      <th>7813736</th>\n",
       "      <td>73516</td>\n",
       "      <td>8074</td>\n",
       "      <td>9</td>\n",
       "    </tr>\n",
       "  </tbody>\n",
       "</table>\n",
       "</div>"
      ],
      "text/plain": [
       "         user_id  anime_id  rating\n",
       "7813735    73516       790       9\n",
       "7813736    73516      8074       9"
      ]
     },
     "execution_count": 12,
     "metadata": {},
     "output_type": "execute_result"
    }
   ],
   "source": [
    "# instead of remapping the entire user_id column, we can just change last user 73516 to 46809.\n",
    "ratings[ratings[\"user_id\"]==73516]"
   ]
  },
  {
   "cell_type": "code",
   "execution_count": 13,
   "metadata": {},
   "outputs": [
    {
     "data": {
      "text/html": [
       "<div>\n",
       "<style scoped>\n",
       "    .dataframe tbody tr th:only-of-type {\n",
       "        vertical-align: middle;\n",
       "    }\n",
       "\n",
       "    .dataframe tbody tr th {\n",
       "        vertical-align: top;\n",
       "    }\n",
       "\n",
       "    .dataframe thead th {\n",
       "        text-align: right;\n",
       "    }\n",
       "</style>\n",
       "<table border=\"1\" class=\"dataframe\">\n",
       "  <thead>\n",
       "    <tr style=\"text-align: right;\">\n",
       "      <th></th>\n",
       "      <th>user_id</th>\n",
       "      <th>anime_id</th>\n",
       "      <th>rating</th>\n",
       "    </tr>\n",
       "  </thead>\n",
       "  <tbody>\n",
       "    <tr>\n",
       "      <th>7813735</th>\n",
       "      <td>46809</td>\n",
       "      <td>790</td>\n",
       "      <td>9</td>\n",
       "    </tr>\n",
       "    <tr>\n",
       "      <th>7813736</th>\n",
       "      <td>46809</td>\n",
       "      <td>8074</td>\n",
       "      <td>9</td>\n",
       "    </tr>\n",
       "  </tbody>\n",
       "</table>\n",
       "</div>"
      ],
      "text/plain": [
       "         user_id  anime_id  rating\n",
       "7813735    46809       790       9\n",
       "7813736    46809      8074       9"
      ]
     },
     "execution_count": 13,
     "metadata": {},
     "output_type": "execute_result"
    }
   ],
   "source": [
    "ratings[\"user_id\"] = ratings[\"user_id\"].replace(73516, 46809)\n",
    "ratings[ratings[\"user_id\"]==46809]"
   ]
  },
  {
   "cell_type": "code",
   "execution_count": 14,
   "metadata": {},
   "outputs": [
    {
     "data": {
      "text/html": [
       "<div>\n",
       "<style scoped>\n",
       "    .dataframe tbody tr th:only-of-type {\n",
       "        vertical-align: middle;\n",
       "    }\n",
       "\n",
       "    .dataframe tbody tr th {\n",
       "        vertical-align: top;\n",
       "    }\n",
       "\n",
       "    .dataframe thead th {\n",
       "        text-align: right;\n",
       "    }\n",
       "</style>\n",
       "<table border=\"1\" class=\"dataframe\">\n",
       "  <thead>\n",
       "    <tr style=\"text-align: right;\">\n",
       "      <th></th>\n",
       "      <th>user_id</th>\n",
       "      <th>anime_id</th>\n",
       "      <th>rating</th>\n",
       "    </tr>\n",
       "  </thead>\n",
       "  <tbody>\n",
       "    <tr>\n",
       "      <th>4458436</th>\n",
       "      <td>1</td>\n",
       "      <td>8407</td>\n",
       "      <td>-1</td>\n",
       "    </tr>\n",
       "    <tr>\n",
       "      <th>5764696</th>\n",
       "      <td>1</td>\n",
       "      <td>13411</td>\n",
       "      <td>-1</td>\n",
       "    </tr>\n",
       "    <tr>\n",
       "      <th>4946889</th>\n",
       "      <td>1</td>\n",
       "      <td>10073</td>\n",
       "      <td>-1</td>\n",
       "    </tr>\n",
       "    <tr>\n",
       "      <th>5755528</th>\n",
       "      <td>1</td>\n",
       "      <td>13367</td>\n",
       "      <td>-1</td>\n",
       "    </tr>\n",
       "    <tr>\n",
       "      <th>4950590</th>\n",
       "      <td>1</td>\n",
       "      <td>10076</td>\n",
       "      <td>-1</td>\n",
       "    </tr>\n",
       "    <tr>\n",
       "      <th>...</th>\n",
       "      <td>...</td>\n",
       "      <td>...</td>\n",
       "      <td>...</td>\n",
       "    </tr>\n",
       "    <tr>\n",
       "      <th>2349703</th>\n",
       "      <td>73515</td>\n",
       "      <td>1818</td>\n",
       "      <td>9</td>\n",
       "    </tr>\n",
       "    <tr>\n",
       "      <th>1038389</th>\n",
       "      <td>73515</td>\n",
       "      <td>411</td>\n",
       "      <td>9</td>\n",
       "    </tr>\n",
       "    <tr>\n",
       "      <th>5471551</th>\n",
       "      <td>73515</td>\n",
       "      <td>11751</td>\n",
       "      <td>6</td>\n",
       "    </tr>\n",
       "    <tr>\n",
       "      <th>4172236</th>\n",
       "      <td>73515</td>\n",
       "      <td>6919</td>\n",
       "      <td>7</td>\n",
       "    </tr>\n",
       "    <tr>\n",
       "      <th>4184945</th>\n",
       "      <td>73515</td>\n",
       "      <td>6954</td>\n",
       "      <td>6</td>\n",
       "    </tr>\n",
       "  </tbody>\n",
       "</table>\n",
       "<p>7807674 rows × 3 columns</p>\n",
       "</div>"
      ],
      "text/plain": [
       "         user_id  anime_id  rating\n",
       "4458436        1      8407      -1\n",
       "5764696        1     13411      -1\n",
       "4946889        1     10073      -1\n",
       "5755528        1     13367      -1\n",
       "4950590        1     10076      -1\n",
       "...          ...       ...     ...\n",
       "2349703    73515      1818       9\n",
       "1038389    73515       411       9\n",
       "5471551    73515     11751       6\n",
       "4172236    73515      6919       7\n",
       "4184945    73515      6954       6\n",
       "\n",
       "[7807674 rows x 3 columns]"
      ]
     },
     "execution_count": 14,
     "metadata": {},
     "output_type": "execute_result"
    }
   ],
   "source": [
    "# discard ratings for items not in final anime list\n",
    "filtered_ratings = pd.merge(\n",
    "    content, \n",
    "    ratings, \n",
    "    on=\"anime_id\", \n",
    "    how=\"left\", \n",
    "    suffixes=[\"_left\", \"\"]\n",
    ")[[\"user_id\", \"anime_id\", \"rating\"]].sort_values(by=['user_id'])\n",
    "\n",
    "filtered_ratings"
   ]
  },
  {
   "cell_type": "code",
   "execution_count": 15,
   "metadata": {},
   "outputs": [
    {
     "name": "stdout",
     "output_type": "stream",
     "text": [
      "lost ratings due to missing synopsis and/or cover image 6063\n"
     ]
    }
   ],
   "source": [
    "# find out how many ratings were lost due to missing synopsis and/or cover image\n",
    "print(f\"lost ratings due to missing synopsis and/or cover image {len(ratings) - len(filtered_ratings)}\")"
   ]
  },
  {
   "cell_type": "code",
   "execution_count": 16,
   "metadata": {},
   "outputs": [
    {
     "data": {
      "text/html": [
       "<div>\n",
       "<style scoped>\n",
       "    .dataframe tbody tr th:only-of-type {\n",
       "        vertical-align: middle;\n",
       "    }\n",
       "\n",
       "    .dataframe tbody tr th {\n",
       "        vertical-align: top;\n",
       "    }\n",
       "\n",
       "    .dataframe thead th {\n",
       "        text-align: right;\n",
       "    }\n",
       "</style>\n",
       "<table border=\"1\" class=\"dataframe\">\n",
       "  <thead>\n",
       "    <tr style=\"text-align: right;\">\n",
       "      <th></th>\n",
       "      <th>anime_id</th>\n",
       "      <th>name</th>\n",
       "      <th>type</th>\n",
       "      <th>episodes</th>\n",
       "      <th>mal_score</th>\n",
       "      <th>members</th>\n",
       "      <th>studio</th>\n",
       "      <th>release-season</th>\n",
       "      <th>release-year</th>\n",
       "      <th>release-date</th>\n",
       "      <th>...</th>\n",
       "      <th>demographics</th>\n",
       "      <th>synopsis</th>\n",
       "      <th>image_url</th>\n",
       "      <th>rating</th>\n",
       "      <th>va_list</th>\n",
       "      <th>staff_list</th>\n",
       "      <th>recommended_review_count</th>\n",
       "      <th>mixedfeelings_review_count</th>\n",
       "      <th>notrecommended_review_count</th>\n",
       "      <th>anime_id_remapped</th>\n",
       "    </tr>\n",
       "  </thead>\n",
       "  <tbody>\n",
       "    <tr>\n",
       "      <th>22</th>\n",
       "      <td>1</td>\n",
       "      <td>Cowboy Bebop</td>\n",
       "      <td>TV</td>\n",
       "      <td>26</td>\n",
       "      <td>8.82</td>\n",
       "      <td>486824</td>\n",
       "      <td>['Sunrise']</td>\n",
       "      <td>spring</td>\n",
       "      <td>1998.0</td>\n",
       "      <td>NaN</td>\n",
       "      <td>...</td>\n",
       "      <td>NaN</td>\n",
       "      <td>Crime is timeless. By the year 2071, humanity ...</td>\n",
       "      <td>https://cdn.myanimelist.net/images/anime/4/196...</td>\n",
       "      <td>R - 17+ (violence &amp; profanity)</td>\n",
       "      <td>['Yamadera, Kouichi', 'Hayashibara, Megumi', '...</td>\n",
       "      <td>['Cook, Justin', 'Maseba, Yutaka', 'Minami, Ma...</td>\n",
       "      <td>539.0</td>\n",
       "      <td>38.0</td>\n",
       "      <td>17.0</td>\n",
       "      <td>1</td>\n",
       "    </tr>\n",
       "    <tr>\n",
       "      <th>147</th>\n",
       "      <td>5</td>\n",
       "      <td>Cowboy Bebop: Tengoku no Tobira</td>\n",
       "      <td>Movie</td>\n",
       "      <td>1</td>\n",
       "      <td>8.40</td>\n",
       "      <td>137636</td>\n",
       "      <td>['Bones']</td>\n",
       "      <td>summer</td>\n",
       "      <td>2001.0</td>\n",
       "      <td>NaN</td>\n",
       "      <td>...</td>\n",
       "      <td>NaN</td>\n",
       "      <td>Another day, another bounty—such is the life o...</td>\n",
       "      <td>https://cdn.myanimelist.net/images/anime/1439/...</td>\n",
       "      <td>R - 17+ (violence &amp; profanity)</td>\n",
       "      <td>['Yamadera, Kouichi', 'Hayashibara, Megumi', '...</td>\n",
       "      <td>['Maseba, Yutaka', 'Minami, Masahiko', 'Ueda, ...</td>\n",
       "      <td>62.0</td>\n",
       "      <td>8.0</td>\n",
       "      <td>3.0</td>\n",
       "      <td>2</td>\n",
       "    </tr>\n",
       "    <tr>\n",
       "      <th>208</th>\n",
       "      <td>6</td>\n",
       "      <td>Trigun</td>\n",
       "      <td>TV</td>\n",
       "      <td>26</td>\n",
       "      <td>8.32</td>\n",
       "      <td>283069</td>\n",
       "      <td>['Madhouse']</td>\n",
       "      <td>spring</td>\n",
       "      <td>1998.0</td>\n",
       "      <td>NaN</td>\n",
       "      <td>...</td>\n",
       "      <td>Shounen</td>\n",
       "      <td>Vash the Stampede is the man with a $$60,000,0...</td>\n",
       "      <td>https://cdn.myanimelist.net/images/anime/7/203...</td>\n",
       "      <td>PG-13 - Teens 13 or older</td>\n",
       "      <td>['Onosaka, Masaya', 'Hayami, Show', 'Yukino, S...</td>\n",
       "      <td>['Cook, Justin', 'Maseba, Yutaka', 'Kitayama, ...</td>\n",
       "      <td>151.0</td>\n",
       "      <td>16.0</td>\n",
       "      <td>9.0</td>\n",
       "      <td>3</td>\n",
       "    </tr>\n",
       "    <tr>\n",
       "      <th>2050</th>\n",
       "      <td>7</td>\n",
       "      <td>Witch Hunter Robin</td>\n",
       "      <td>TV</td>\n",
       "      <td>26</td>\n",
       "      <td>7.36</td>\n",
       "      <td>64905</td>\n",
       "      <td>['Sunrise']</td>\n",
       "      <td>summer</td>\n",
       "      <td>2002.0</td>\n",
       "      <td>NaN</td>\n",
       "      <td>...</td>\n",
       "      <td>NaN</td>\n",
       "      <td>Robin Sena is a powerful craft user drafted in...</td>\n",
       "      <td>https://cdn.myanimelist.net/images/anime/10/19...</td>\n",
       "      <td>PG-13 - Teens 13 or older</td>\n",
       "      <td>['Watanabe, Akeno', 'Takewaka, Takuma', 'Yuuki...</td>\n",
       "      <td>['Murase, Shukou', 'Fujino, Sadayoshi', 'Miyat...</td>\n",
       "      <td>28.0</td>\n",
       "      <td>6.0</td>\n",
       "      <td>4.0</td>\n",
       "      <td>4</td>\n",
       "    </tr>\n",
       "    <tr>\n",
       "      <th>3090</th>\n",
       "      <td>8</td>\n",
       "      <td>Beet the Vandel Buster</td>\n",
       "      <td>TV</td>\n",
       "      <td>52</td>\n",
       "      <td>7.06</td>\n",
       "      <td>9848</td>\n",
       "      <td>['Toei Animation']</td>\n",
       "      <td>fall</td>\n",
       "      <td>2004.0</td>\n",
       "      <td>NaN</td>\n",
       "      <td>...</td>\n",
       "      <td>NaN</td>\n",
       "      <td>It is the dark century and the people are suff...</td>\n",
       "      <td>https://cdn.myanimelist.net/images/anime/7/215...</td>\n",
       "      <td>PG - Children</td>\n",
       "      <td>['Kiuchi, Reiko', 'Hisakawa, Aya', 'Miura, Hir...</td>\n",
       "      <td>['Seki, Hiromi', 'Nagamine, Tatsuya', 'Yamauch...</td>\n",
       "      <td>3.0</td>\n",
       "      <td>1.0</td>\n",
       "      <td>0.0</td>\n",
       "      <td>5</td>\n",
       "    </tr>\n",
       "  </tbody>\n",
       "</table>\n",
       "<p>5 rows × 23 columns</p>\n",
       "</div>"
      ],
      "text/plain": [
       "      anime_id                             name   type episodes  mal_score  \\\n",
       "22           1                     Cowboy Bebop     TV       26       8.82   \n",
       "147          5  Cowboy Bebop: Tengoku no Tobira  Movie        1       8.40   \n",
       "208          6                           Trigun     TV       26       8.32   \n",
       "2050         7               Witch Hunter Robin     TV       26       7.36   \n",
       "3090         8           Beet the Vandel Buster     TV       52       7.06   \n",
       "\n",
       "      members              studio release-season  release-year  release-date  \\\n",
       "22     486824         ['Sunrise']         spring        1998.0           NaN   \n",
       "147    137636           ['Bones']         summer        2001.0           NaN   \n",
       "208    283069        ['Madhouse']         spring        1998.0           NaN   \n",
       "2050    64905         ['Sunrise']         summer        2002.0           NaN   \n",
       "3090     9848  ['Toei Animation']           fall        2004.0           NaN   \n",
       "\n",
       "      ... demographics                                           synopsis  \\\n",
       "22    ...          NaN  Crime is timeless. By the year 2071, humanity ...   \n",
       "147   ...          NaN  Another day, another bounty—such is the life o...   \n",
       "208   ...      Shounen  Vash the Stampede is the man with a $$60,000,0...   \n",
       "2050  ...          NaN  Robin Sena is a powerful craft user drafted in...   \n",
       "3090  ...          NaN  It is the dark century and the people are suff...   \n",
       "\n",
       "                                              image_url  \\\n",
       "22    https://cdn.myanimelist.net/images/anime/4/196...   \n",
       "147   https://cdn.myanimelist.net/images/anime/1439/...   \n",
       "208   https://cdn.myanimelist.net/images/anime/7/203...   \n",
       "2050  https://cdn.myanimelist.net/images/anime/10/19...   \n",
       "3090  https://cdn.myanimelist.net/images/anime/7/215...   \n",
       "\n",
       "                              rating  \\\n",
       "22    R - 17+ (violence & profanity)   \n",
       "147   R - 17+ (violence & profanity)   \n",
       "208        PG-13 - Teens 13 or older   \n",
       "2050       PG-13 - Teens 13 or older   \n",
       "3090                   PG - Children   \n",
       "\n",
       "                                                va_list  \\\n",
       "22    ['Yamadera, Kouichi', 'Hayashibara, Megumi', '...   \n",
       "147   ['Yamadera, Kouichi', 'Hayashibara, Megumi', '...   \n",
       "208   ['Onosaka, Masaya', 'Hayami, Show', 'Yukino, S...   \n",
       "2050  ['Watanabe, Akeno', 'Takewaka, Takuma', 'Yuuki...   \n",
       "3090  ['Kiuchi, Reiko', 'Hisakawa, Aya', 'Miura, Hir...   \n",
       "\n",
       "                                             staff_list  \\\n",
       "22    ['Cook, Justin', 'Maseba, Yutaka', 'Minami, Ma...   \n",
       "147   ['Maseba, Yutaka', 'Minami, Masahiko', 'Ueda, ...   \n",
       "208   ['Cook, Justin', 'Maseba, Yutaka', 'Kitayama, ...   \n",
       "2050  ['Murase, Shukou', 'Fujino, Sadayoshi', 'Miyat...   \n",
       "3090  ['Seki, Hiromi', 'Nagamine, Tatsuya', 'Yamauch...   \n",
       "\n",
       "     recommended_review_count mixedfeelings_review_count  \\\n",
       "22                      539.0                       38.0   \n",
       "147                      62.0                        8.0   \n",
       "208                     151.0                       16.0   \n",
       "2050                     28.0                        6.0   \n",
       "3090                      3.0                        1.0   \n",
       "\n",
       "     notrecommended_review_count  anime_id_remapped  \n",
       "22                          17.0                  1  \n",
       "147                          3.0                  2  \n",
       "208                          9.0                  3  \n",
       "2050                         4.0                  4  \n",
       "3090                         0.0                  5  \n",
       "\n",
       "[5 rows x 23 columns]"
      ]
     },
     "execution_count": 16,
     "metadata": {},
     "output_type": "execute_result"
    }
   ],
   "source": [
    "# reindex items\n",
    "anime_remap = {}\n",
    "sorted_content = content.sort_values(by=['anime_id'])\n",
    "all_anime = sorted_content['anime_id'].unique()\n",
    "\n",
    "counter = 1\n",
    "for anime in all_anime:\n",
    "    anime_remap[anime] = counter\n",
    "    counter += 1\n",
    "\n",
    "content[\"anime_id_remapped\"] = content[\"anime_id\"].map(anime_remap)\n",
    "content.head()"
   ]
  },
  {
   "cell_type": "code",
   "execution_count": 17,
   "metadata": {},
   "outputs": [
    {
     "data": {
      "text/html": [
       "<div>\n",
       "<style scoped>\n",
       "    .dataframe tbody tr th:only-of-type {\n",
       "        vertical-align: middle;\n",
       "    }\n",
       "\n",
       "    .dataframe tbody tr th {\n",
       "        vertical-align: top;\n",
       "    }\n",
       "\n",
       "    .dataframe thead th {\n",
       "        text-align: right;\n",
       "    }\n",
       "</style>\n",
       "<table border=\"1\" class=\"dataframe\">\n",
       "  <thead>\n",
       "    <tr style=\"text-align: right;\">\n",
       "      <th></th>\n",
       "      <th>user_id</th>\n",
       "      <th>anime_id</th>\n",
       "      <th>rating</th>\n",
       "      <th>anime_id_remapped</th>\n",
       "    </tr>\n",
       "  </thead>\n",
       "  <tbody>\n",
       "    <tr>\n",
       "      <th>4458436</th>\n",
       "      <td>1</td>\n",
       "      <td>8407</td>\n",
       "      <td>-1</td>\n",
       "      <td>5329</td>\n",
       "    </tr>\n",
       "    <tr>\n",
       "      <th>5764696</th>\n",
       "      <td>1</td>\n",
       "      <td>13411</td>\n",
       "      <td>-1</td>\n",
       "      <td>6921</td>\n",
       "    </tr>\n",
       "    <tr>\n",
       "      <th>4946889</th>\n",
       "      <td>1</td>\n",
       "      <td>10073</td>\n",
       "      <td>-1</td>\n",
       "      <td>6016</td>\n",
       "    </tr>\n",
       "    <tr>\n",
       "      <th>5755528</th>\n",
       "      <td>1</td>\n",
       "      <td>13367</td>\n",
       "      <td>-1</td>\n",
       "      <td>6910</td>\n",
       "    </tr>\n",
       "    <tr>\n",
       "      <th>4950590</th>\n",
       "      <td>1</td>\n",
       "      <td>10076</td>\n",
       "      <td>-1</td>\n",
       "      <td>6019</td>\n",
       "    </tr>\n",
       "  </tbody>\n",
       "</table>\n",
       "</div>"
      ],
      "text/plain": [
       "         user_id  anime_id  rating  anime_id_remapped\n",
       "4458436        1      8407      -1               5329\n",
       "5764696        1     13411      -1               6921\n",
       "4946889        1     10073      -1               6016\n",
       "5755528        1     13367      -1               6910\n",
       "4950590        1     10076      -1               6019"
      ]
     },
     "execution_count": 17,
     "metadata": {},
     "output_type": "execute_result"
    }
   ],
   "source": [
    "filtered_ratings[\"anime_id_remapped\"] = filtered_ratings[\"anime_id\"].map(anime_remap)\n",
    "filtered_ratings.head()"
   ]
  },
  {
   "cell_type": "code",
   "execution_count": 18,
   "metadata": {},
   "outputs": [
    {
     "data": {
      "text/plain": [
       "0"
      ]
     },
     "execution_count": 18,
     "metadata": {},
     "output_type": "execute_result"
    }
   ],
   "source": [
    "# map came from content dataframe, double check if filtered_ratings was remapped properly\n",
    "filtered_ratings[\"anime_id_remapped\"].isna().sum()"
   ]
  },
  {
   "cell_type": "code",
   "execution_count": 19,
   "metadata": {},
   "outputs": [],
   "source": [
    "# take only the columns we want\n",
    "ratings_cleaned = filtered_ratings[[\"user_id\", \"anime_id_remapped\", \"rating\"]]"
   ]
  },
  {
   "cell_type": "markdown",
   "metadata": {},
   "source": [
    "# *Explore different encodings\n",
    "Encoding \"Watched but not rated\" as -1 may cause such anime to be devalued as compared to unwatched anime. Plan to explore different encoding representations\n",
    "\n",
    "- leave \"watched but not rated\" as -1\n",
    "- convert them to 0.5 (just above unwatched, but that means less value than a 1 star anime)\n",
    "- convert them to 5 (middle of the scale, but everyone's middle may be different)\n",
    "- convert them to 7 (just below the \"high\" ratings)\n",
    "\n",
    "It may also be valuable to explore if binning scores can improve the rec sys"
   ]
  },
  {
   "cell_type": "code",
   "execution_count": 20,
   "metadata": {},
   "outputs": [
    {
     "data": {
      "image/png": "[encoded data removed]",
      "text/plain": [
       "<Figure size 640x480 with 1 Axes>"
      ]
     },
     "metadata": {},
     "output_type": "display_data"
    }
   ],
   "source": [
    "ratings_vc = ratings_cleaned[\"rating\"].value_counts().sort_index()\n",
    "rating_values, rating_counts = list(ratings_vc.index), list(ratings_vc.values)\n",
    "plt.bar(rating_values, rating_counts)\n",
    "plt.show()"
   ]
  },
  {
   "cell_type": "markdown",
   "metadata": {},
   "source": [
    "Users tend to rate anime with fairly high ratings, the most comming rating is 8. Ratings above 7 make up the majority of ratings. A sizable portion of interations are unrated."
   ]
  },
  {
   "cell_type": "code",
   "execution_count": 20,
   "metadata": {},
   "outputs": [],
   "source": [
    "# count number of unrated interactions\n",
    "# all_minus1 = ratings_cleaned[ratings_cleaned[\"rating\"]==-1]\n",
    "# len(all_minus1)"
   ]
  },
  {
   "cell_type": "code",
   "execution_count": 21,
   "metadata": {},
   "outputs": [],
   "source": [
    "# users_no_rating = all_minus1[\"user_id\"].unique()\n",
    "# len(users_no_rating)"
   ]
  },
  {
   "cell_type": "markdown",
   "metadata": {},
   "source": [
    "roughly half of our users have at least 1 unrated anime."
   ]
  },
  {
   "cell_type": "code",
   "execution_count": 22,
   "metadata": {},
   "outputs": [],
   "source": [
    "# users_who_never_rate = []\n",
    "# for user in users_no_rating:\n",
    "#     all_their_ratings = ratings_cleaned[ratings_cleaned[\"user_id\"]==user][\"rating\"].unique()\n",
    "#     if len(all_their_ratings) == 1:\n",
    "#         users_who_never_rate.append(user)\n",
    "\n",
    "# len(users_who_never_rate)"
   ]
  },
  {
   "cell_type": "markdown",
   "metadata": {},
   "source": [
    "There is a population of users who have never rated but it is a small population out of the users who have at least one \"watched but not rated\" anime. I don't think it's worth executing anything special for them."
   ]
  },
  {
   "cell_type": "code",
   "execution_count": 21,
   "metadata": {},
   "outputs": [],
   "source": [
    "ratings_point5 = ratings_cleaned.copy(deep=True)\n",
    "ratings_5 = ratings_cleaned.copy(deep=True)\n",
    "ratings_7 = ratings_cleaned.copy(deep=True)\n",
    "\n",
    "ratings_point5[\"rating\"] = ratings_point5[\"rating\"].replace(-1, 0.5)\n",
    "ratings_5[\"rating\"] = ratings_5[\"rating\"].replace(-1, 5)\n",
    "ratings_7[\"rating\"] = ratings_7[\"rating\"].replace(-1, 7)"
   ]
  },
  {
   "cell_type": "markdown",
   "metadata": {},
   "source": [
    "### *Save to csv (if you have not already done so)"
   ]
  },
  {
   "cell_type": "code",
   "execution_count": 24,
   "metadata": {},
   "outputs": [],
   "source": [
    "# Save these options to csv\n",
    "# ratings_point5.to_csv(\"../data/05_model_input/ratings_point5.csv\", index=False)\n",
    "# ratings_5.to_csv(\"../data/05_model_input/ratings_5.csv\", index=False)\n",
    "# ratings_7.to_csv(\"../data/05_model_input/ratings_7.csv\", index=False)"
   ]
  },
  {
   "cell_type": "code",
   "execution_count": null,
   "metadata": {},
   "outputs": [],
   "source": [
    "# Code to load the csvs back to dataframe\n",
    "# ratings_point5 = pd.read_csv(\"../data/05_model_input/ratings_point5.csv\")\n",
    "# ratings_5 = pd.read_csv(\"../data/05_model_input/ratings_5.csv\")\n",
    "# ratings_7 = pd.read_csv(\"../data/05_model_input/ratings_7.csv\")"
   ]
  },
  {
   "cell_type": "markdown",
   "metadata": {},
   "source": [
    "### *Convert ratings data "
   ]
  },
  {
   "cell_type": "code",
   "execution_count": 22,
   "metadata": {},
   "outputs": [],
   "source": [
    "# Convert user id and anime id to strings for ratings_7\n",
    "ratings_7['user_id'] = ratings_7['user_id'].astype('str')\n",
    "ratings_7['anime_id_remapped'] = ratings_7['anime_id_remapped'].astype('str')"
   ]
  },
  {
   "cell_type": "code",
   "execution_count": 23,
   "metadata": {},
   "outputs": [],
   "source": [
    "# convert data into list of tuples\n",
    "# this version of the data did not change the -1 values\n",
    "ratings_data = [tuple(row) for row in ratings_cleaned.itertuples(index=False)]\n",
    "ratings_point5_data = [tuple(row) for row in ratings_point5.itertuples(index=False)]\n",
    "ratings_5_data = [tuple(row) for row in ratings_5.itertuples(index=False)]\n",
    "ratings_7_data = [tuple(row) for row in ratings_7.itertuples(index=False)]"
   ]
  },
  {
   "cell_type": "code",
   "execution_count": 24,
   "metadata": {},
   "outputs": [
    {
     "name": "stdout",
     "output_type": "stream",
     "text": [
      "('1', '5329', 7)\n"
     ]
    }
   ],
   "source": [
    "# inspect ratings_7_data\n",
    "\n",
    "for uir in ratings_7_data:\n",
    "    print(uir)\n",
    "    break"
   ]
  },
  {
   "cell_type": "markdown",
   "metadata": {},
   "source": [
    "# *Model Baselines (Ratings data only)\n",
    "\n",
    "## -------------------\n",
    "## Damien and Ros!!!\n",
    "## -------------------\n",
    "\n",
    "only run the next cell in this section to define eval metrics"
   ]
  },
  {
   "cell_type": "code",
   "execution_count": 25,
   "metadata": {},
   "outputs": [],
   "source": [
    "# mf10 = MF(k=10, max_iter=100, learning_rate=0.001, lambda_reg=0.01, use_bias=False,\n",
    "#         verbose=VERBOSE, seed=SEED, name=f\"MF(K=10)\")\n",
    "# wmf10 = WMF(k=10, max_iter=100, a=1.0, b=0.01, learning_rate=0.001, lambda_u=0.01, lambda_v=0.01,\n",
    "#           verbose=VERBOSE, seed=SEED, name=f\"WMF(K=10)\")\n",
    "# mf50 = MF(k=50, max_iter=100, learning_rate=0.001, lambda_reg=0.01, use_bias=False,\n",
    "#         verbose=VERBOSE, seed=SEED, name=f\"MF(K=50)\")\n",
    "# wmf50 = WMF(k=50, max_iter=100, a=1.0, b=0.01, learning_rate=0.001, lambda_u=0.01, lambda_v=0.01,\n",
    "#           verbose=VERBOSE, seed=SEED, name=f\"WMF(K=50)\")\n",
    "# mf100 = MF(k=100, max_iter=100, learning_rate=0.001, lambda_reg=0.01, use_bias=False,\n",
    "#         verbose=VERBOSE, seed=SEED, name=f\"MF(K=100)\")\n",
    "# wmf100 = WMF(k=100, max_iter=100, a=1.0, b=0.01, learning_rate=0.001, lambda_u=0.01, lambda_v=0.01,\n",
    "#           verbose=VERBOSE, seed=SEED, name=f\"WMF(K=100)\")\n",
    "\n",
    "\n",
    "\n",
    "eval_metrics = [\n",
    "  cornac.metrics.RMSE(), \n",
    "  cornac.metrics.AUC(),\n",
    "  cornac.metrics.Precision(k=20),\n",
    "  cornac.metrics.Recall(k=20),\n",
    "  cornac.metrics.FMeasure(k=20),\n",
    "  cornac.metrics.NDCG(k=20),\n",
    "  cornac.metrics.NCRR(k=20),\n",
    "  cornac.metrics.Precision(k=50),\n",
    "  cornac.metrics.Recall(k=50),\n",
    "  cornac.metrics.FMeasure(k=50),\n",
    "  cornac.metrics.NDCG(k=50),\n",
    "  cornac.metrics.NCRR(k=50),\n",
    "  cornac.metrics.MRR(),\n",
    "  cornac.metrics.MAP()\n",
    "]"
   ]
  },
  {
   "cell_type": "markdown",
   "metadata": {},
   "source": [
    "### Unrated = -1"
   ]
  },
  {
   "cell_type": "code",
   "execution_count": 104,
   "metadata": {},
   "outputs": [
    {
     "name": "stderr",
     "output_type": "stream",
     "text": [
      "c:\\Users\\User\\anaconda3\\envs\\CS608_RecommenderSystems\\lib\\site-packages\\cornac\\data\\dataset.py:335: UserWarning: 2 duplicated observations are removed!\n",
      "  warnings.warn(\"%d duplicated observations are removed!\" % dup_count)\n",
      "c:\\Users\\User\\anaconda3\\envs\\CS608_RecommenderSystems\\lib\\site-packages\\cornac\\data\\dataset.py:335: UserWarning: 1 duplicated observations are removed!\n",
      "  warnings.warn(\"%d duplicated observations are removed!\" % dup_count)\n",
      "c:\\Users\\User\\anaconda3\\envs\\CS608_RecommenderSystems\\lib\\site-packages\\cornac\\models\\recommender.py:306: UserWarning: Model is already fitted. Re-fitting will overwrite the previous model.\n",
      "  warnings.warn(\n"
     ]
    },
    {
     "name": "stdout",
     "output_type": "stream",
     "text": [
      "\n",
      "TEST:\n",
      "...\n",
      "           |   RMSE |    AUC |  F1@20 |  F1@50 |    MAP |    MRR | NCRR@20 | NCRR@50 | NDCG@20 | NDCG@50 | Precision@20 | Precision@50 | Recall@20 | Recall@50 | Train (s) |  Test (s)\n",
      "---------- + ------ + ------ + ------ + ------ + ------ + ------ + ------- + ------- + ------- + ------- + ------------ + ------------ + --------- + --------- + --------- + ---------\n",
      "MF(K=10)   | 1.7657 | 0.8386 | 0.0227 | 0.0268 | 0.0281 | 0.0939 |  0.0388 |  0.0411 |  0.0427 |  0.0541 |       0.0256 |       0.0220 |    0.0468 |    0.0874 |   53.3032 |  821.1504\n",
      "WMF(K=10)  | 2.9126 | 0.9429 | 0.1091 | 0.1112 | 0.1156 | 0.3346 |  0.1755 |  0.1821 |  0.1821 |  0.2173 |       0.1168 |       0.0877 |    0.1821 |    0.3084 | 2929.6227 |  554.2180\n",
      "MF(K=50)   | 1.8317 | 0.8485 | 0.0360 | 0.0375 | 0.0443 | 0.1523 |  0.0676 |  0.0702 |  0.0727 |  0.0874 |       0.0379 |       0.0298 |    0.0802 |    0.1339 |  234.4542 | 1027.7630\n",
      "WMF(K=50)  | 2.8600 | 0.9505 | 0.1130 | 0.1149 | 0.1237 | 0.3616 |  0.1903 |  0.1965 |  0.1942 |  0.2301 |       0.1206 |       0.0904 |    0.1920 |    0.3229 | 3851.1581 |  647.1933\n",
      "MF(K=100)  | 1.8455 | 0.8516 | 0.0392 | 0.0401 | 0.0483 | 0.1651 |  0.0740 |  0.0770 |  0.0794 |  0.0953 |       0.0404 |       0.0315 |    0.0874 |    0.1442 |  389.1317 |  866.8634\n",
      "WMF(K=100) | 2.7978 | 0.9537 | 0.1235 | 0.1234 | 0.1411 | 0.3969 |  0.2141 |  0.2210 |  0.2168 |  0.2551 |       0.1302 |       0.0965 |    0.2128 |    0.3508 | 3488.5608 |  502.9112\n",
      "\n"
     ]
    }
   ],
   "source": [
    "rs = RatioSplit(ratings_data, test_size=0.2, seed=SEED, verbose=VERBOSE)\n",
    "\n",
    "cornac.Experiment(eval_method=rs, models=[\n",
    "        mf10, wmf10,\n",
    "        mf50, wmf50,\n",
    "        mf100, wmf100], metrics=eval_metrics).run()"
   ]
  },
  {
   "cell_type": "markdown",
   "metadata": {},
   "source": [
    "### Unrated = 0.5"
   ]
  },
  {
   "cell_type": "code",
   "execution_count": 105,
   "metadata": {},
   "outputs": [
    {
     "name": "stdout",
     "output_type": "stream",
     "text": [
      "\n",
      "TEST:\n",
      "...\n",
      "           |   RMSE |    AUC |  F1@20 |  F1@50 |    MAP |    MRR | NCRR@20 | NCRR@50 | NDCG@20 | NDCG@50 | Precision@20 | Precision@50 | Recall@20 | Recall@50 | Train (s) | Test (s)\n",
      "---------- + ------ + ------ + ------ + ------ + ------ + ------ + ------- + ------- + ------- + ------- + ------------ + ------------ + --------- + --------- + --------- + --------\n",
      "MF(K=10)   | 1.6091 | 0.8377 | 0.0188 | 0.0232 | 0.0239 | 0.0760 |  0.0305 |  0.0326 |  0.0346 |  0.0450 |       0.0216 |       0.0193 |    0.0391 |    0.0754 |   50.4856 | 752.1639\n",
      "WMF(K=10)  | 2.6952 | 0.9697 | 0.1169 | 0.1184 | 0.1281 | 0.3558 |  0.1905 |  0.1981 |  0.1984 |  0.2373 |       0.1233 |       0.0929 |    0.2027 |    0.3393 | 2634.4292 | 461.5037\n",
      "MF(K=50)   | 1.7170 | 0.8422 | 0.0276 | 0.0297 | 0.0374 | 0.1167 |  0.0519 |  0.0544 |  0.0580 |  0.0708 |       0.0292 |       0.0239 |    0.0676 |    0.1134 |  192.9291 | 720.4256\n",
      "WMF(K=50)  | 2.6045 | 0.9716 | 0.1276 | 0.1284 | 0.1439 | 0.3845 |  0.2105 |  0.2186 |  0.2191 |  0.2606 |       0.1338 |       0.1003 |    0.2235 |    0.3683 | 2721.2458 | 486.4870\n",
      "MF(K=100)  | 1.7353 | 0.8485 | 0.0333 | 0.0343 | 0.0442 | 0.1414 |  0.0636 |  0.0665 |  0.0698 |  0.0847 |       0.0337 |       0.0268 |    0.0798 |    0.1319 |  335.6399 | 733.9448\n",
      "WMF(K=100) | 2.6334 | 0.9701 | 0.1353 | 0.1342 | 0.1583 | 0.4105 |  0.2290 |  0.2374 |  0.2368 |  0.2795 |       0.1404 |       0.1044 |    0.2396 |    0.3875 | 3158.6957 | 484.9616\n",
      "\n"
     ]
    }
   ],
   "source": [
    "rs = RatioSplit(ratings_point5_data, test_size=0.2, seed=SEED, verbose=VERBOSE)\n",
    "\n",
    "cornac.Experiment(eval_method=rs, models=[\n",
    "        mf10, wmf10,\n",
    "        mf50, wmf50,\n",
    "        mf100, wmf100], metrics=eval_metrics).run()"
   ]
  },
  {
   "cell_type": "markdown",
   "metadata": {},
   "source": [
    "### Unrated = 5"
   ]
  },
  {
   "cell_type": "code",
   "execution_count": 112,
   "metadata": {},
   "outputs": [
    {
     "name": "stderr",
     "output_type": "stream",
     "text": [
      "c:\\Users\\User\\anaconda3\\envs\\CS608_RecommenderSystems\\lib\\site-packages\\cornac\\data\\dataset.py:335: UserWarning: 2 duplicated observations are removed!\n",
      "  warnings.warn(\"%d duplicated observations are removed!\" % dup_count)\n"
     ]
    },
    {
     "name": "stderr",
     "output_type": "stream",
     "text": [
      "c:\\Users\\User\\anaconda3\\envs\\CS608_RecommenderSystems\\lib\\site-packages\\cornac\\data\\dataset.py:335: UserWarning: 1 duplicated observations are removed!\n",
      "  warnings.warn(\"%d duplicated observations are removed!\" % dup_count)\n",
      "c:\\Users\\User\\anaconda3\\envs\\CS608_RecommenderSystems\\lib\\site-packages\\cornac\\models\\recommender.py:306: UserWarning: Model is already fitted. Re-fitting will overwrite the previous model.\n",
      "  warnings.warn(\n"
     ]
    },
    {
     "name": "stdout",
     "output_type": "stream",
     "text": [
      "\n",
      "TEST:\n",
      "...\n",
      "           |   RMSE |    AUC |  F1@20 |  F1@50 |    MAP |    MRR | NCRR@20 | NCRR@50 | NDCG@20 | NDCG@50 | Precision@20 | Precision@50 | Recall@20 | Recall@50 | Train (s) |  Test (s)\n",
      "---------- + ------ + ------ + ------ + ------ + ------ + ------ + ------- + ------- + ------- + ------- + ------------ + ------------ + --------- + --------- + --------- + ---------\n",
      "MF(K=10)   | 1.1821 | 0.8191 | 0.0167 | 0.0222 | 0.0201 | 0.0581 |  0.0223 |  0.0249 |  0.0281 |  0.0381 |       0.0207 |       0.0193 |    0.0320 |    0.0651 |   59.7835 |  981.5862\n",
      "WMF(K=10)  | 2.5207 | 0.9710 | 0.1260 | 0.1315 | 0.1376 | 0.3836 |  0.2065 |  0.2142 |  0.2119 |  0.2517 |       0.1385 |       0.1057 |    0.2031 |    0.3446 | 2798.9323 |  590.5558\n",
      "MF(K=50)   | 1.2749 | 0.8354 | 0.0257 | 0.0284 | 0.0345 | 0.1109 |  0.0480 |  0.0504 |  0.0532 |  0.0652 |       0.0280 |       0.0233 |    0.0594 |    0.1026 |  214.9807 |  987.6285\n",
      "WMF(K=50)  | 2.4418 | 0.9735 | 0.1400 | 0.1429 | 0.1583 | 0.4134 |  0.2291 |  0.2379 |  0.2374 |  0.2809 |       0.1499 |       0.1135 |    0.2338 |    0.3841 | 3214.2985 |  641.7768\n",
      "MF(K=100)  | 1.2911 | 0.8457 | 0.0315 | 0.0332 | 0.0403 | 0.1359 |  0.0589 |  0.0617 |  0.0641 |  0.0781 |       0.0328 |       0.0264 |    0.0709 |    0.1194 |  387.6389 | 1002.0447\n",
      "WMF(K=100) | 2.5414 | 0.9716 | 0.1480 | 0.1490 | 0.1717 | 0.4369 |  0.2461 |  0.2552 |  0.2540 |  0.2987 |       0.1571 |       0.1179 |    0.2490 |    0.4022 | 4016.5989 |  718.5573\n",
      "\n"
     ]
    }
   ],
   "source": [
    "rs = RatioSplit(ratings_5_data, test_size=0.2, seed=SEED, verbose=VERBOSE)\n",
    "\n",
    "cornac.Experiment(eval_method=rs, models=[\n",
    "        mf10, wmf10,\n",
    "        mf50, wmf50, \n",
    "        mf100, wmf100], metrics=eval_metrics).run()"
   ]
  },
  {
   "cell_type": "markdown",
   "metadata": {},
   "source": [
    "### Unrated = 7"
   ]
  },
  {
   "cell_type": "code",
   "execution_count": 113,
   "metadata": {},
   "outputs": [
    {
     "name": "stderr",
     "output_type": "stream",
     "text": [
      "c:\\Users\\User\\anaconda3\\envs\\CS608_RecommenderSystems\\lib\\site-packages\\cornac\\data\\dataset.py:335: UserWarning: 2 duplicated observations are removed!\n",
      "  warnings.warn(\"%d duplicated observations are removed!\" % dup_count)\n",
      "c:\\Users\\User\\anaconda3\\envs\\CS608_RecommenderSystems\\lib\\site-packages\\cornac\\data\\dataset.py:335: UserWarning: 1 duplicated observations are removed!\n",
      "  warnings.warn(\"%d duplicated observations are removed!\" % dup_count)\n",
      "c:\\Users\\User\\anaconda3\\envs\\CS608_RecommenderSystems\\lib\\site-packages\\cornac\\models\\recommender.py:306: UserWarning: Model is already fitted. Re-fitting will overwrite the previous model.\n",
      "  warnings.warn(\n"
     ]
    },
    {
     "name": "stdout",
     "output_type": "stream",
     "text": [
      "\n",
      "TEST:\n",
      "...\n",
      "           |   RMSE |    AUC |  F1@20 |  F1@50 |    MAP |    MRR | NCRR@20 | NCRR@50 | NDCG@20 | NDCG@50 | Precision@20 | Precision@50 | Recall@20 | Recall@50 | Train (s) |  Test (s)\n",
      "---------- + ------ + ------ + ------ + ------ + ------ + ------ + ------- + ------- + ------- + ------- + ------------ + ------------ + --------- + --------- + --------- + ---------\n",
      "MF(K=10)   | 1.0463 | 0.8119 | 0.0132 | 0.0195 | 0.0164 | 0.0390 |  0.0136 |  0.0166 |  0.0200 |  0.0303 |       0.0167 |       0.0170 |    0.0247 |    0.0558 |   80.1222 | 1100.2063\n",
      "WMF(K=10)  | 2.6701 | 0.9707 | 0.1273 | 0.1327 | 0.1397 | 0.3888 |  0.2096 |  0.2173 |  0.2139 |  0.2539 |       0.1397 |       0.1067 |    0.2029 |    0.3444 | 3293.1244 |  656.9865\n",
      "MF(K=50)   | 1.1278 | 0.8322 | 0.0234 | 0.0260 | 0.0326 | 0.1014 |  0.0441 |  0.0463 |  0.0492 |  0.0604 |       0.0257 |       0.0215 |    0.0554 |    0.0958 |  228.2291 |  994.2652\n",
      "WMF(K=50)  | 2.4631 | 0.9739 | 0.1452 | 0.1480 | 0.1671 | 0.4193 |  0.2358 |  0.2457 |  0.2458 |  0.2919 |       0.1541 |       0.1172 |    0.2440 |    0.3980 | 3328.9112 |  645.4342\n",
      "MF(K=100)  | 1.1479 | 0.8442 | 0.0297 | 0.0314 | 0.0389 | 0.1281 |  0.0556 |  0.0583 |  0.0609 |  0.0745 |       0.0309 |       0.0250 |    0.0680 |    0.1148 |  385.7792 |  973.8816\n",
      "WMF(K=100) | 2.6321 | 0.9708 | 0.1530 | 0.1544 | 0.1789 | 0.4348 |  0.2485 |  0.2591 |  0.2601 |  0.3079 |       0.1607 |       0.1217 |    0.2593 |    0.4162 | 3719.1294 |  595.8190\n",
      "\n"
     ]
    }
   ],
   "source": [
    "rs = RatioSplit(ratings_7_data, test_size=0.2, seed=SEED, verbose=VERBOSE)\n",
    "\n",
    "cornac.Experiment(eval_method=rs, models=[\n",
    "        mf10, wmf10,\n",
    "        mf50, wmf50,\n",
    "        mf100, wmf100], metrics=eval_metrics).run()"
   ]
  },
  {
   "cell_type": "markdown",
   "metadata": {},
   "source": [
    "### Unrated = 7 appears to give the best predictions on ranking based metrics\n",
    "### K=100 appears to give the best ranking based results"
   ]
  },
  {
   "cell_type": "code",
   "execution_count": 23,
   "metadata": {},
   "outputs": [],
   "source": [
    "dmrl100 = DMRL(batch_size=128, epochs=5, log_metrics=False, learning_rate=0.01, num_factors=2, \n",
    "        decay_r=0.5, decay_c=0.01, num_neg=3, embedding_dim=100, name='dmrl(emb_dim=100)')"
   ]
  },
  {
   "cell_type": "code",
   "execution_count": 31,
   "metadata": {},
   "outputs": [
    {
     "ename": "KeyboardInterrupt",
     "evalue": "",
     "output_type": "error",
     "traceback": [
      "\u001b[1;31m---------------------------------------------------------------------------\u001b[0m",
      "\u001b[1;31mKeyboardInterrupt\u001b[0m                         Traceback (most recent call last)",
      "Cell \u001b[1;32mIn[31], line 1\u001b[0m\n\u001b[1;32m----> 1\u001b[0m rs \u001b[38;5;241m=\u001b[39m \u001b[43mRatioSplit\u001b[49m\u001b[43m(\u001b[49m\u001b[43mratings_7_data\u001b[49m\u001b[43m,\u001b[49m\u001b[43m \u001b[49m\u001b[43mtest_size\u001b[49m\u001b[38;5;241;43m=\u001b[39;49m\u001b[38;5;241;43m0.2\u001b[39;49m\u001b[43m,\u001b[49m\u001b[43m \u001b[49m\u001b[43mseed\u001b[49m\u001b[38;5;241;43m=\u001b[39;49m\u001b[43mSEED\u001b[49m\u001b[43m,\u001b[49m\u001b[43m \u001b[49m\u001b[43mverbose\u001b[49m\u001b[38;5;241;43m=\u001b[39;49m\u001b[43mVERBOSE\u001b[49m\u001b[43m)\u001b[49m\n\u001b[0;32m      3\u001b[0m \u001b[38;5;66;03m# cornac.Experiment(eval_method=rs, models=[\u001b[39;00m\n\u001b[0;32m      4\u001b[0m \u001b[38;5;66;03m#         ease100, dmrl100], metrics=eval_metrics).run()\u001b[39;00m\n\u001b[0;32m      5\u001b[0m cornac\u001b[38;5;241m.\u001b[39mExperiment(eval_method\u001b[38;5;241m=\u001b[39mrs, models\u001b[38;5;241m=\u001b[39m[\n\u001b[0;32m      6\u001b[0m         dmrl100], metrics\u001b[38;5;241m=\u001b[39meval_metrics)\u001b[38;5;241m.\u001b[39mrun()\n",
      "File \u001b[1;32mc:\\Users\\rosam\\anaconda3\\envs\\cs608_p2\\Lib\\site-packages\\cornac\\eval_methods\\ratio_split.py:79\u001b[0m, in \u001b[0;36mRatioSplit.__init__\u001b[1;34m(self, data, test_size, val_size, rating_threshold, seed, exclude_unknowns, verbose, **kwargs)\u001b[0m\n\u001b[0;32m     65\u001b[0m \u001b[38;5;28msuper\u001b[39m()\u001b[38;5;241m.\u001b[39m\u001b[38;5;21m__init__\u001b[39m(\n\u001b[0;32m     66\u001b[0m     data\u001b[38;5;241m=\u001b[39mdata,\n\u001b[0;32m     67\u001b[0m     rating_threshold\u001b[38;5;241m=\u001b[39mrating_threshold,\n\u001b[1;32m   (...)\u001b[0m\n\u001b[0;32m     71\u001b[0m     \u001b[38;5;241m*\u001b[39m\u001b[38;5;241m*\u001b[39mkwargs,\n\u001b[0;32m     72\u001b[0m )\n\u001b[0;32m     74\u001b[0m \u001b[38;5;28mself\u001b[39m\u001b[38;5;241m.\u001b[39mtrain_size, \u001b[38;5;28mself\u001b[39m\u001b[38;5;241m.\u001b[39mval_size, \u001b[38;5;28mself\u001b[39m\u001b[38;5;241m.\u001b[39mtest_size \u001b[38;5;241m=\u001b[39m \u001b[38;5;28mself\u001b[39m\u001b[38;5;241m.\u001b[39mvalidate_size(\n\u001b[0;32m     75\u001b[0m     val_size\u001b[38;5;241m=\u001b[39mval_size,\n\u001b[0;32m     76\u001b[0m     test_size\u001b[38;5;241m=\u001b[39mtest_size,\n\u001b[0;32m     77\u001b[0m     data_size\u001b[38;5;241m=\u001b[39mkwargs\u001b[38;5;241m.\u001b[39mget(\u001b[38;5;124m\"\u001b[39m\u001b[38;5;124mdata_size\u001b[39m\u001b[38;5;124m\"\u001b[39m, \u001b[38;5;28mlen\u001b[39m(data)),\n\u001b[0;32m     78\u001b[0m )\n\u001b[1;32m---> 79\u001b[0m \u001b[38;5;28;43mself\u001b[39;49m\u001b[38;5;241;43m.\u001b[39;49m\u001b[43m_split\u001b[49m\u001b[43m(\u001b[49m\u001b[43m)\u001b[49m\n",
      "File \u001b[1;32mc:\\Users\\rosam\\anaconda3\\envs\\cs608_p2\\Lib\\site-packages\\cornac\\eval_methods\\ratio_split.py:126\u001b[0m, in \u001b[0;36mRatioSplit._split\u001b[1;34m(self)\u001b[0m\n\u001b[0;32m    123\u001b[0m test_data \u001b[38;5;241m=\u001b[39m safe_indexing(\u001b[38;5;28mself\u001b[39m\u001b[38;5;241m.\u001b[39mdata, test_idx)\n\u001b[0;32m    124\u001b[0m val_data \u001b[38;5;241m=\u001b[39m safe_indexing(\u001b[38;5;28mself\u001b[39m\u001b[38;5;241m.\u001b[39mdata, val_idx) \u001b[38;5;28;01mif\u001b[39;00m \u001b[38;5;28mlen\u001b[39m(val_idx) \u001b[38;5;241m>\u001b[39m \u001b[38;5;241m0\u001b[39m \u001b[38;5;28;01melse\u001b[39;00m \u001b[38;5;28;01mNone\u001b[39;00m\n\u001b[1;32m--> 126\u001b[0m \u001b[38;5;28;43mself\u001b[39;49m\u001b[38;5;241;43m.\u001b[39;49m\u001b[43mbuild\u001b[49m\u001b[43m(\u001b[49m\u001b[43mtrain_data\u001b[49m\u001b[38;5;241;43m=\u001b[39;49m\u001b[43mtrain_data\u001b[49m\u001b[43m,\u001b[49m\u001b[43m \u001b[49m\u001b[43mtest_data\u001b[49m\u001b[38;5;241;43m=\u001b[39;49m\u001b[43mtest_data\u001b[49m\u001b[43m,\u001b[49m\u001b[43m \u001b[49m\u001b[43mval_data\u001b[49m\u001b[38;5;241;43m=\u001b[39;49m\u001b[43mval_data\u001b[49m\u001b[43m)\u001b[49m\n",
      "File \u001b[1;32mc:\\Users\\rosam\\anaconda3\\envs\\cs608_p2\\Lib\\site-packages\\cornac\\eval_methods\\base_method.py:649\u001b[0m, in \u001b[0;36mBaseMethod.build\u001b[1;34m(self, train_data, test_data, val_data)\u001b[0m\n\u001b[0;32m    646\u001b[0m \u001b[38;5;28mself\u001b[39m\u001b[38;5;241m.\u001b[39mglobal_uid_map\u001b[38;5;241m.\u001b[39mclear()\n\u001b[0;32m    647\u001b[0m \u001b[38;5;28mself\u001b[39m\u001b[38;5;241m.\u001b[39mglobal_iid_map\u001b[38;5;241m.\u001b[39mclear()\n\u001b[1;32m--> 649\u001b[0m \u001b[38;5;28;43mself\u001b[39;49m\u001b[38;5;241;43m.\u001b[39;49m\u001b[43m_build_datasets\u001b[49m\u001b[43m(\u001b[49m\u001b[43mtrain_data\u001b[49m\u001b[43m,\u001b[49m\u001b[43m \u001b[49m\u001b[43mtest_data\u001b[49m\u001b[43m,\u001b[49m\u001b[43m \u001b[49m\u001b[43mval_data\u001b[49m\u001b[43m)\u001b[49m\n\u001b[0;32m    650\u001b[0m \u001b[38;5;28mself\u001b[39m\u001b[38;5;241m.\u001b[39m_build_modalities()\n\u001b[0;32m    652\u001b[0m \u001b[38;5;28;01mreturn\u001b[39;00m \u001b[38;5;28mself\u001b[39m\n",
      "File \u001b[1;32mc:\\Users\\rosam\\anaconda3\\envs\\cs608_p2\\Lib\\site-packages\\cornac\\eval_methods\\base_method.py:491\u001b[0m, in \u001b[0;36mBaseMethod._build_datasets\u001b[1;34m(self, train_data, test_data, val_data)\u001b[0m\n\u001b[0;32m    490\u001b[0m \u001b[38;5;28;01mdef\u001b[39;00m \u001b[38;5;21m_build_datasets\u001b[39m(\u001b[38;5;28mself\u001b[39m, train_data, test_data, val_data\u001b[38;5;241m=\u001b[39m\u001b[38;5;28;01mNone\u001b[39;00m):\n\u001b[1;32m--> 491\u001b[0m     \u001b[38;5;28mself\u001b[39m\u001b[38;5;241m.\u001b[39mtrain_set \u001b[38;5;241m=\u001b[39m \u001b[43mDataset\u001b[49m\u001b[38;5;241;43m.\u001b[39;49m\u001b[43mbuild\u001b[49m\u001b[43m(\u001b[49m\n\u001b[0;32m    492\u001b[0m \u001b[43m        \u001b[49m\u001b[43mdata\u001b[49m\u001b[38;5;241;43m=\u001b[39;49m\u001b[43mtrain_data\u001b[49m\u001b[43m,\u001b[49m\n\u001b[0;32m    493\u001b[0m \u001b[43m        \u001b[49m\u001b[43mfmt\u001b[49m\u001b[38;5;241;43m=\u001b[39;49m\u001b[38;5;28;43mself\u001b[39;49m\u001b[38;5;241;43m.\u001b[39;49m\u001b[43mfmt\u001b[49m\u001b[43m,\u001b[49m\n\u001b[0;32m    494\u001b[0m \u001b[43m        \u001b[49m\u001b[43mglobal_uid_map\u001b[49m\u001b[38;5;241;43m=\u001b[39;49m\u001b[38;5;28;43mself\u001b[39;49m\u001b[38;5;241;43m.\u001b[39;49m\u001b[43mglobal_uid_map\u001b[49m\u001b[43m,\u001b[49m\n\u001b[0;32m    495\u001b[0m \u001b[43m        \u001b[49m\u001b[43mglobal_iid_map\u001b[49m\u001b[38;5;241;43m=\u001b[39;49m\u001b[38;5;28;43mself\u001b[39;49m\u001b[38;5;241;43m.\u001b[39;49m\u001b[43mglobal_iid_map\u001b[49m\u001b[43m,\u001b[49m\n\u001b[0;32m    496\u001b[0m \u001b[43m        \u001b[49m\u001b[43mseed\u001b[49m\u001b[38;5;241;43m=\u001b[39;49m\u001b[38;5;28;43mself\u001b[39;49m\u001b[38;5;241;43m.\u001b[39;49m\u001b[43mseed\u001b[49m\u001b[43m,\u001b[49m\n\u001b[0;32m    497\u001b[0m \u001b[43m        \u001b[49m\u001b[43mexclude_unknowns\u001b[49m\u001b[38;5;241;43m=\u001b[39;49m\u001b[38;5;28;43;01mFalse\u001b[39;49;00m\u001b[43m,\u001b[49m\n\u001b[0;32m    498\u001b[0m \u001b[43m    \u001b[49m\u001b[43m)\u001b[49m\n\u001b[0;32m    499\u001b[0m     \u001b[38;5;28;01mif\u001b[39;00m \u001b[38;5;28mself\u001b[39m\u001b[38;5;241m.\u001b[39mverbose:\n\u001b[0;32m    500\u001b[0m         \u001b[38;5;28mprint\u001b[39m(\u001b[38;5;124m\"\u001b[39m\u001b[38;5;124m---\u001b[39m\u001b[38;5;124m\"\u001b[39m)\n",
      "File \u001b[1;32mc:\\Users\\rosam\\anaconda3\\envs\\cs608_p2\\Lib\\site-packages\\cornac\\data\\dataset.py:327\u001b[0m, in \u001b[0;36mDataset.build\u001b[1;34m(cls, data, fmt, global_uid_map, global_iid_map, seed, exclude_unknowns)\u001b[0m\n\u001b[0;32m    324\u001b[0m ui_set\u001b[38;5;241m.\u001b[39madd((uid, iid))\n\u001b[0;32m    326\u001b[0m uid_map[uid] \u001b[38;5;241m=\u001b[39m global_uid_map\u001b[38;5;241m.\u001b[39msetdefault(uid, \u001b[38;5;28mlen\u001b[39m(global_uid_map))\n\u001b[1;32m--> 327\u001b[0m iid_map[iid] \u001b[38;5;241m=\u001b[39m global_iid_map\u001b[38;5;241m.\u001b[39msetdefault(iid, \u001b[38;5;28mlen\u001b[39m(global_iid_map))\n\u001b[0;32m    329\u001b[0m u_indices\u001b[38;5;241m.\u001b[39mappend(uid_map[uid])\n\u001b[0;32m    330\u001b[0m i_indices\u001b[38;5;241m.\u001b[39mappend(iid_map[iid])\n",
      "\u001b[1;31mKeyboardInterrupt\u001b[0m: "
     ]
    }
   ],
   "source": [
    "rs = RatioSplit(ratings_7_data, test_size=0.2, seed=SEED, verbose=VERBOSE)\n",
    "\n",
    "# cornac.Experiment(eval_method=rs, models=[\n",
    "#         ease100, dmrl100], metrics=eval_metrics).run()\n",
    "cornac.Experiment(eval_method=rs, models=[\n",
    "        dmrl100], metrics=eval_metrics).run()"
   ]
  },
  {
   "cell_type": "markdown",
   "metadata": {},
   "source": [
    "### Text Modality (Ros)"
   ]
  },
  {
   "cell_type": "markdown",
   "metadata": {},
   "source": [
    "##### Preprocessing labels: We perform feature selection using domain expertise, and have identified the following labels to be important info: \n",
    "- genre\n",
    "- themes\n",
    "- source-material\n",
    "- demographics\n",
    "- rating (age rating eg. R-17+ Violence and profanity)"
   ]
  },
  {
   "cell_type": "markdown",
   "metadata": {},
   "source": [
    "anime genre"
   ]
  },
  {
   "cell_type": "code",
   "execution_count": 26,
   "metadata": {},
   "outputs": [
    {
     "name": "stdout",
     "output_type": "stream",
     "text": [
      "Null values in genres: 1196\n"
     ]
    },
    {
     "data": {
      "text/plain": [
       "22                            action, sci-fi\n",
       "147                           action, sci-fi\n",
       "208                action, adventure, sci-fi\n",
       "2050    action, drama, mystery, supernatural\n",
       "3090        adventure, fantasy, supernatural\n",
       "Name: genres_string, dtype: object"
      ]
     },
     "execution_count": 26,
     "metadata": {},
     "output_type": "execute_result"
    }
   ],
   "source": [
    "print('Null values in genres:', content['genres'].isna().sum())\n",
    "content['genres'] = content['genres'].fillna('missing genre')\n",
    "content['genres_string'] = content['genres'].astype(str).str.strip('[]').str.replace(\"'\",\"\").str.join('').str.lower()\n",
    "# inspect genre string\n",
    "content['genres_string'].head()"
   ]
  },
  {
   "cell_type": "markdown",
   "metadata": {},
   "source": [
    "anime themes"
   ]
  },
  {
   "cell_type": "code",
   "execution_count": 27,
   "metadata": {},
   "outputs": [
    {
     "name": "stdout",
     "output_type": "stream",
     "text": [
      "Null values in themes: 1196\n"
     ]
    },
    {
     "data": {
      "text/plain": [
       "22      missing themes\n",
       "147     missing themes\n",
       "208         adult cast\n",
       "2050    missing themes\n",
       "3090    missing themes\n",
       "Name: themes_string, dtype: object"
      ]
     },
     "execution_count": 27,
     "metadata": {},
     "output_type": "execute_result"
    }
   ],
   "source": [
    "print('Null values in themes:', content['themes'].isna().sum())\n",
    "content['themes'] = content['themes'].fillna('missing themes')\n",
    "content['themes'] = content['themes'].replace(\"[]\",\"missing themes\")\n",
    "content['themes_string'] = content['themes'].astype(str).str.strip('[]').str.replace(\"'\",\"\").str.join('').str.lower()\n",
    "# inspect themes string\n",
    "content['themes_string'].head()"
   ]
  },
  {
   "cell_type": "markdown",
   "metadata": {},
   "source": [
    "anime source-material"
   ]
  },
  {
   "cell_type": "code",
   "execution_count": 28,
   "metadata": {},
   "outputs": [
    {
     "name": "stdout",
     "output_type": "stream",
     "text": [
      "Null values in source-material: 3273\n"
     ]
    },
    {
     "data": {
      "text/plain": [
       "22      original\n",
       "147     original\n",
       "208        manga\n",
       "2050    original\n",
       "3090       manga\n",
       "Name: source-material, dtype: object"
      ]
     },
     "execution_count": 28,
     "metadata": {},
     "output_type": "execute_result"
    }
   ],
   "source": [
    "print('Null values in source-material:', content['source-material'].isna().sum())\n",
    "content['source-material'] = content['source-material'].fillna('missing source-material')\n",
    "content['source-material'] = content['source-material'].str.lower()\n",
    "content['source-material'].head()"
   ]
  },
  {
   "cell_type": "markdown",
   "metadata": {},
   "source": [
    "anime demographics"
   ]
  },
  {
   "cell_type": "code",
   "execution_count": 30,
   "metadata": {},
   "outputs": [
    {
     "name": "stdout",
     "output_type": "stream",
     "text": [
      "Null values in demographics: 9094\n"
     ]
    },
    {
     "data": {
      "text/plain": [
       "22      missing demographics\n",
       "147     missing demographics\n",
       "208                  shounen\n",
       "2050    missing demographics\n",
       "3090    missing demographics\n",
       "Name: demographics, dtype: object"
      ]
     },
     "execution_count": 30,
     "metadata": {},
     "output_type": "execute_result"
    }
   ],
   "source": [
    "print('Null values in demographics:', content['demographics'].isna().sum())\n",
    "content['demographics'] = content['demographics'].fillna('missing demographics')\n",
    "content['demographics'] = content['demographics'].str.lower()\n",
    "content['demographics'].head()"
   ]
  },
  {
   "cell_type": "markdown",
   "metadata": {},
   "source": [
    "anime rating"
   ]
  },
  {
   "cell_type": "code",
   "execution_count": 32,
   "metadata": {},
   "outputs": [
    {
     "name": "stdout",
     "output_type": "stream",
     "text": [
      "Null values in rating: 153\n"
     ]
    },
    {
     "data": {
      "text/plain": [
       "22      R - 17+ (violence & profanity)\n",
       "147     R - 17+ (violence & profanity)\n",
       "208          PG-13 - Teens 13 or older\n",
       "2050         PG-13 - Teens 13 or older\n",
       "3090                     PG - Children\n",
       "Name: rating, dtype: object"
      ]
     },
     "execution_count": 32,
     "metadata": {},
     "output_type": "execute_result"
    }
   ],
   "source": [
    "print('Null values in rating:', content['rating'].isna().sum())\n",
    "content['rating'] = content['rating'].fillna('missing rating')\n",
    "content['rating'].head()"
   ]
  },
  {
   "cell_type": "markdown",
   "metadata": {},
   "source": [
    "##### Create a 'soup' a column that concatenates all the important text info."
   ]
  },
  {
   "cell_type": "code",
   "execution_count": 58,
   "metadata": {},
   "outputs": [],
   "source": [
    "# create a 'soup' column\n",
    "# genre\n",
    "# themes\n",
    "# source-material\n",
    "# demographics\n",
    "# rating (age rating eg. R-17+ Violence and profanity)\n",
    "\n",
    "content['soup'] = content['genres_string'] + ' ' + content['themes_string'] + ' ' + content['source-material'] \\\n",
    "+ ' ' + content['demographics'] + ' ' + content['rating'] + ' ' + content['synopsis']"
   ]
  },
  {
   "cell_type": "code",
   "execution_count": 59,
   "metadata": {},
   "outputs": [
    {
     "data": {
      "text/plain": [
       "'action, sci-fi missing themes original missing demographics R - 17+ (violence & profanity) Another day, another bounty—such is the life of the often unlucky crew of the Bebop. However, this routine is interrupted when Faye, who is chasing a fairly worthless target on Mars, witnesses an oil tanker suddenly explode, causing mass hysteria. As casualties mount due to a strange disease spreading through the smoke from the blast, a whopping three hundred million woolong price is placed on the head of the supposed perpetrator.    With lives at stake and a solution to their money problems in sight, the Bebop crew springs into action. Spike, Jet, Faye, and Edward, followed closely by Ein, split up to pursue different leads across Alba City. Through their individual investigations, they discover a cover-up scheme involving a pharmaceutical company, revealing a plot that reaches much further than the ragtag team of bounty hunters could have realized.    [Written by MAL Rewrite]'"
      ]
     },
     "execution_count": 59,
     "metadata": {},
     "output_type": "execute_result"
    }
   ],
   "source": [
    "# Inspect a random row from the soup\n",
    "content['soup'].iloc[1]"
   ]
  },
  {
   "cell_type": "code",
   "execution_count": 60,
   "metadata": {},
   "outputs": [],
   "source": [
    "# Remove [Written by MAL Rewrite] from all soup rows\n",
    "content['soup'] = content['soup'].str.replace(r'\\s*\\[Written by MAL Rewrite\\]\\s*','', regex=True)"
   ]
  },
  {
   "cell_type": "markdown",
   "metadata": {},
   "source": [
    "#### Modelling using CTR"
   ]
  },
  {
   "cell_type": "code",
   "execution_count": 68,
   "metadata": {},
   "outputs": [],
   "source": [
    "# define docs and item_ids for text modality\n",
    "docs = list(content[\"soup\"])\n",
    "item_ids = list(content[\"anime_id_remapped\"])"
   ]
  },
  {
   "cell_type": "code",
   "execution_count": 69,
   "metadata": {},
   "outputs": [
    {
     "name": "stdout",
     "output_type": "stream",
     "text": [
      "<class 'int'>\n",
      "1\n"
     ]
    }
   ],
   "source": [
    "# inspect item ids\n",
    "\n",
    "for id in item_ids:\n",
    "    print(type(id))\n",
    "    print(id)\n",
    "    break"
   ]
  },
  {
   "cell_type": "code",
   "execution_count": 71,
   "metadata": {},
   "outputs": [],
   "source": [
    "item_text_modality = TextModality(\n",
    "    corpus=docs,\n",
    "    ids=item_ids,\n",
    "    tokenizer=BaseTokenizer(sep=\" \", stop_words=\"english\"),\n",
    "    max_vocab=8000,\n",
    "    max_doc_freq=0.5,\n",
    ")"
   ]
  },
  {
   "cell_type": "code",
   "execution_count": 73,
   "metadata": {},
   "outputs": [],
   "source": [
    "K = 50\n",
    "ctr = CTR(k=K, max_iter=50, a=1.0, b=0.01, lambda_u=0.01, lambda_v=0.01, verbose=VERBOSE, seed=SEED)"
   ]
  },
  {
   "cell_type": "code",
   "execution_count": 74,
   "metadata": {},
   "outputs": [
    {
     "name": "stdout",
     "output_type": "stream",
     "text": [
      "rating_threshold = 4.0\n",
      "exclude_unknowns = True\n"
     ]
    },
    {
     "name": "stderr",
     "output_type": "stream",
     "text": [
      "c:\\Users\\rosam\\anaconda3\\envs\\cs608_p2\\Lib\\site-packages\\cornac\\data\\dataset.py:335: UserWarning: 2 duplicated observations are removed!\n",
      "  warnings.warn(\"%d duplicated observations are removed!\" % dup_count)\n"
     ]
    },
    {
     "name": "stdout",
     "output_type": "stream",
     "text": [
      "---\n",
      "Training data:\n",
      "Number of users = 72927\n",
      "Number of items = 10799\n",
      "Number of ratings = 6246137\n",
      "Max rating = 10.0\n",
      "Min rating = 1.0\n",
      "Global mean = 7.7\n"
     ]
    },
    {
     "name": "stderr",
     "output_type": "stream",
     "text": [
      "c:\\Users\\rosam\\anaconda3\\envs\\cs608_p2\\Lib\\site-packages\\cornac\\data\\dataset.py:335: UserWarning: 1 duplicated observations are removed!\n",
      "  warnings.warn(\"%d duplicated observations are removed!\" % dup_count)\n"
     ]
    },
    {
     "name": "stdout",
     "output_type": "stream",
     "text": [
      "---\n",
      "Test data:\n",
      "Number of users = 72927\n",
      "Number of items = 10799\n",
      "Number of ratings = 1560538\n",
      "Number of unknown users = 0\n",
      "Number of unknown items = 0\n",
      "---\n",
      "Total users = 72927\n",
      "Total items = 10799\n",
      "\n",
      "[CTR] Training started!\n"
     ]
    },
    {
     "data": {
      "application/vnd.jupyter.widget-view+json": {
       "model_id": "5264511043b14714a163b34a29c5908b",
       "version_major": 2,
       "version_minor": 0
      },
      "text/plain": [
       "  0%|          | 0/50 [00:00<?, ?it/s]"
      ]
     },
     "metadata": {},
     "output_type": "display_data"
    },
    {
     "name": "stdout",
     "output_type": "stream",
     "text": [
      "Learning completed!\n",
      "\n",
      "[CTR] Evaluation started!\n"
     ]
    },
    {
     "data": {
      "application/vnd.jupyter.widget-view+json": {
       "model_id": "51ff417ab2fa4f73a1eaed2c01a1fb53",
       "version_major": 2,
       "version_minor": 0
      },
      "text/plain": [
       "Rating:   0%|          | 0/1560538 [00:00<?, ?it/s]"
      ]
     },
     "metadata": {},
     "output_type": "display_data"
    },
    {
     "data": {
      "application/vnd.jupyter.widget-view+json": {
       "model_id": "8d3f844d8a4341239648842120b5d607",
       "version_major": 2,
       "version_minor": 0
      },
      "text/plain": [
       "Ranking:   0%|          | 0/67241 [00:00<?, ?it/s]"
      ]
     },
     "metadata": {},
     "output_type": "display_data"
    },
    {
     "name": "stdout",
     "output_type": "stream",
     "text": [
      "\n",
      "TEST:\n",
      "...\n",
      "    |   RMSE |    AUC |  F1@20 |  F1@50 |    MAP |    MRR | NCRR@20 | NCRR@50 | NDCG@20 | NDCG@50 | Precision@20 | Precision@50 | Recall@20 | Recall@50 | Train (s) | Test (s)\n",
      "--- + ------ + ------ + ------ + ------ + ------ + ------ + ------- + ------- + ------- + ------- + ------------ + ------------ + --------- + --------- + --------- + --------\n",
      "CTR | 2.4443 | 0.9718 | 0.1572 | 0.1616 | 0.1844 | 0.4279 |  0.2493 |  0.2611 |  0.2644 |  0.3175 |       0.1653 |       0.1273 |    0.2683 |    0.4393 | 6781.1643 | 222.4611\n",
      "\n"
     ]
    }
   ],
   "source": [
    "# testing CTR method \n",
    "\n",
    "ratio_split = RatioSplit(\n",
    "    data=ratings_7_data,\n",
    "    test_size=0.2,\n",
    "    rating_threshold=4.0,\n",
    "    exclude_unknowns=True,\n",
    "    item_text=item_text_modality,\n",
    "    verbose=VERBOSE,\n",
    "    seed=SEED,\n",
    ")\n",
    "\n",
    "cornac.Experiment(eval_method=ratio_split, models=[ctr], metrics=eval_metrics).run()"
   ]
  },
  {
   "cell_type": "markdown",
   "metadata": {},
   "source": [
    "##### Save model"
   ]
  },
  {
   "cell_type": "code",
   "execution_count": 78,
   "metadata": {},
   "outputs": [
    {
     "name": "stdout",
     "output_type": "stream",
     "text": [
      "CTR model is saved to ../data/07_model_output\\CTR\\2024-06-19_00-55-07-819379.pkl\n"
     ]
    },
    {
     "data": {
      "text/plain": [
       "'../data/07_model_output\\\\CTR\\\\2024-06-19_00-55-07-819379.pkl'"
      ]
     },
     "execution_count": 78,
     "metadata": {},
     "output_type": "execute_result"
    }
   ],
   "source": [
    "# Save the trained model\n",
    "ctr.save(save_dir=\"../data/07_model_output\")"
   ]
  },
  {
   "cell_type": "markdown",
   "metadata": {},
   "source": [
    "##### Load model"
   ]
  },
  {
   "cell_type": "code",
   "execution_count": 79,
   "metadata": {},
   "outputs": [],
   "source": [
    "# Load the trained model\n",
    "model = ctr.load(\"../data/07_model_output/CTR\")"
   ]
  },
  {
   "cell_type": "markdown",
   "metadata": {},
   "source": [
    "### Image Modality (Damien)"
   ]
  },
  {
   "cell_type": "code",
   "execution_count": 33,
   "metadata": {},
   "outputs": [],
   "source": [
    "image_urls = list(content[\"image_url\"])"
   ]
  },
  {
   "cell_type": "code",
   "execution_count": 37,
   "metadata": {},
   "outputs": [],
   "source": [
    "# this might take a while\n",
    "images = []\n",
    "\n",
    "for url in image_urls:\n",
    "    try:\n",
    "        response = requests.get(url)\n",
    "        img = Image.open(BytesIO(response.content))\n",
    "        images.append(img)\n",
    "    except:\n",
    "        images.append('')"
   ]
  },
  {
   "cell_type": "code",
   "execution_count": 38,
   "metadata": {},
   "outputs": [
    {
     "data": {
      "text/plain": [
       "[26, 49, 2125]"
      ]
     },
     "execution_count": 38,
     "metadata": {},
     "output_type": "execute_result"
    }
   ],
   "source": [
    "# how many images cannot be pulled\n",
    "missing_idx_list = []\n",
    "for idx in range(len(images)):\n",
    "    if images[idx] == '':\n",
    "        missing_idx_list.append(idx)\n",
    "\n",
    "missing_idx_list"
   ]
  },
  {
   "cell_type": "code",
   "execution_count": 48,
   "metadata": {},
   "outputs": [
    {
     "data": {
      "text/plain": [
       "(225, 335)"
      ]
     },
     "execution_count": 48,
     "metadata": {},
     "output_type": "execute_result"
    }
   ],
   "source": [
    "images[0].size"
   ]
  },
  {
   "cell_type": "code",
   "execution_count": 49,
   "metadata": {},
   "outputs": [],
   "source": [
    "# Impute unavailable images with black image\n",
    "width, height = 225, 320\n",
    "black_image = Image.new('RGB', (width, height), (0, 0, 0))\n",
    "\n",
    "black_image.save('black_image.jpg', 'JPEG')"
   ]
  },
  {
   "cell_type": "code",
   "execution_count": null,
   "metadata": {},
   "outputs": [],
   "source": [
    "# replace missing images with 0 arrays/tensors\n",
    "for missing_idx in missing_idx_list:\n",
    "    images[missing_idx] = "
   ]
  },
  {
   "cell_type": "code",
   "execution_count": null,
   "metadata": {},
   "outputs": [],
   "source": [
    "item_ids = list(content[\"anime_id_remapped\"])"
   ]
  },
  {
   "cell_type": "code",
   "execution_count": null,
   "metadata": {},
   "outputs": [],
   "source": [
    "item_image_modality = ImageModality(\n",
    "    images=images,\n",
    "    ids=item_ids,\n",
    ")"
   ]
  },
  {
   "cell_type": "code",
   "execution_count": null,
   "metadata": {},
   "outputs": [],
   "source": [
    "dmrl100 = DMRL(batch_size=4096, epochs=20, log_metrics=False, learning_rate=0.01, num_factors=2, \n",
    "        decay_r=0.5, decay_c=0.01, num_neg=3, embedding_dim=100, name='dmrl(emb_dim=100)')"
   ]
  },
  {
   "cell_type": "code",
   "execution_count": null,
   "metadata": {},
   "outputs": [],
   "source": [
    "rs = RatioSplit(\n",
    "    data=ratings_7_data,\n",
    "    test_size=0.2,\n",
    "    exclude_unknowns=True,\n",
    "    verbose=True,\n",
    "    seed=SEED,\n",
    "    rating_threshold=0.5,\n",
    "    item_text=item_text_modality,\n",
    "    item_image=item_image_modality,\n",
    ")\n",
    "\n",
    "cornac.Experiment(eval_method=rs, models=[\n",
    "        dmrl100], metrics=eval_metrics).run()"
   ]
  },
  {
   "cell_type": "markdown",
   "metadata": {},
   "source": [
    "### Both Modalities (Leroy)"
   ]
  },
  {
   "cell_type": "code",
   "execution_count": null,
   "metadata": {},
   "outputs": [],
   "source": [
    "dmrl100 = DMRL(batch_size=4096, epochs=20, log_metrics=False, learning_rate=0.01, num_factors=2, \n",
    "        decay_r=0.5, decay_c=0.01, num_neg=3, embedding_dim=100, name='dmrl(emb_dim=100)')"
   ]
  },
  {
   "cell_type": "code",
   "execution_count": null,
   "metadata": {},
   "outputs": [],
   "source": [
    "rs = RatioSplit(\n",
    "    data=ratings_7_data,\n",
    "    test_size=0.2,\n",
    "    exclude_unknowns=True,\n",
    "    verbose=True,\n",
    "    seed=SEED,\n",
    "    rating_threshold=0.5,\n",
    "    \n",
    "    item_image=item_image_modality,\n",
    ")\n",
    "\n",
    "cornac.Experiment(eval_method=rs, models=[\n",
    "        dmrl100], metrics=eval_metrics).run()"
   ]
  }
 ],
 "metadata": {
  "kernelspec": {
   "display_name": "CS608_RecommenderSystems",
   "language": "python",
   "name": "python3"
  },
  "language_info": {
   "codemirror_mode": {
    "name": "ipython",
    "version": 3
   },
   "file_extension": ".py",
   "mimetype": "text/x-python",
   "name": "python",
   "nbconvert_exporter": "python",
   "pygments_lexer": "ipython3",
   "version": "3.11.9"
  }
 },
 "nbformat": 4,
 "nbformat_minor": 2
}
