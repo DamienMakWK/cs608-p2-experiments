{
 "cells": [
  {
   "cell_type": "code",
   "execution_count": 11,
   "metadata": {},
   "outputs": [
    {
     "data": {
      "text/html": [
       "<div>\n",
       "<style scoped>\n",
       "    .dataframe tbody tr th:only-of-type {\n",
       "        vertical-align: middle;\n",
       "    }\n",
       "\n",
       "    .dataframe tbody tr th {\n",
       "        vertical-align: top;\n",
       "    }\n",
       "\n",
       "    .dataframe thead th {\n",
       "        text-align: right;\n",
       "    }\n",
       "</style>\n",
       "<table border=\"1\" class=\"dataframe\">\n",
       "  <thead>\n",
       "    <tr style=\"text-align: right;\">\n",
       "      <th></th>\n",
       "      <th>anime_id</th>\n",
       "      <th>name</th>\n",
       "      <th>type</th>\n",
       "      <th>episodes</th>\n",
       "      <th>mal_score</th>\n",
       "      <th>members</th>\n",
       "      <th>studio</th>\n",
       "      <th>release-season</th>\n",
       "      <th>release-year</th>\n",
       "      <th>release-date</th>\n",
       "      <th>...</th>\n",
       "      <th>themes</th>\n",
       "      <th>demographics</th>\n",
       "      <th>synopsis</th>\n",
       "      <th>image_url</th>\n",
       "      <th>rating</th>\n",
       "      <th>va_list</th>\n",
       "      <th>staff_list</th>\n",
       "      <th>recommended_review_count</th>\n",
       "      <th>mixedfeelings_review_count</th>\n",
       "      <th>notrecommended_review_count</th>\n",
       "    </tr>\n",
       "  </thead>\n",
       "  <tbody>\n",
       "    <tr>\n",
       "      <th>0</th>\n",
       "      <td>32281</td>\n",
       "      <td>Kimi no Na wa.</td>\n",
       "      <td>Movie</td>\n",
       "      <td>1</td>\n",
       "      <td>9.37</td>\n",
       "      <td>200630</td>\n",
       "      <td>['CoMix Wave Films']</td>\n",
       "      <td>summer</td>\n",
       "      <td>2016.0</td>\n",
       "      <td>NaN</td>\n",
       "      <td>...</td>\n",
       "      <td>[]</td>\n",
       "      <td>NaN</td>\n",
       "      <td>Mitsuha Miyamizu, a high school girl, yearns t...</td>\n",
       "      <td>https://cdn.myanimelist.net/images/anime/5/870...</td>\n",
       "      <td>PG-13 - Teens 13 or older</td>\n",
       "      <td>['Kamishiraishi, Mone', 'Kamiki, Ryunosuke', '...</td>\n",
       "      <td>['Bezerra, Wendel', 'Kawamura, Genki', 'Itou, ...</td>\n",
       "      <td>808.0</td>\n",
       "      <td>88.0</td>\n",
       "      <td>50.0</td>\n",
       "    </tr>\n",
       "    <tr>\n",
       "      <th>1</th>\n",
       "      <td>5114</td>\n",
       "      <td>Fullmetal Alchemist: Brotherhood</td>\n",
       "      <td>TV</td>\n",
       "      <td>64</td>\n",
       "      <td>9.26</td>\n",
       "      <td>793665</td>\n",
       "      <td>['Bones']</td>\n",
       "      <td>spring</td>\n",
       "      <td>2009.0</td>\n",
       "      <td>NaN</td>\n",
       "      <td>...</td>\n",
       "      <td>['Military']</td>\n",
       "      <td>Shounen</td>\n",
       "      <td>After a horrific alchemy experiment goes wrong...</td>\n",
       "      <td>https://cdn.myanimelist.net/images/anime/1208/...</td>\n",
       "      <td>R - 17+ (violence &amp; profanity)</td>\n",
       "      <td>['Park, Romi', 'Kugimiya, Rie', 'Miki, Shinich...</td>\n",
       "      <td>['Cook, Justin', 'Maruyama, Hiroo', 'Yonai, No...</td>\n",
       "      <td>912.0</td>\n",
       "      <td>59.0</td>\n",
       "      <td>39.0</td>\n",
       "    </tr>\n",
       "    <tr>\n",
       "      <th>2</th>\n",
       "      <td>28977</td>\n",
       "      <td>Gintama°</td>\n",
       "      <td>TV</td>\n",
       "      <td>51</td>\n",
       "      <td>9.25</td>\n",
       "      <td>114262</td>\n",
       "      <td>['Bandai Namco Pictures']</td>\n",
       "      <td>spring</td>\n",
       "      <td>2015.0</td>\n",
       "      <td>NaN</td>\n",
       "      <td>...</td>\n",
       "      <td>['Gag Humor', 'Historical', 'Parody', 'Samurai']</td>\n",
       "      <td>Shounen</td>\n",
       "      <td>Gintoki, Shinpachi, and Kagura return as the f...</td>\n",
       "      <td>https://cdn.myanimelist.net/images/anime/3/720...</td>\n",
       "      <td>PG-13 - Teens 13 or older</td>\n",
       "      <td>['Sugita, Tomokazu', 'Kugimiya, Rie', 'Sakaguc...</td>\n",
       "      <td>['Miyawaki, Chizuru', 'Takamatsu, Shinji', 'Yo...</td>\n",
       "      <td>79.0</td>\n",
       "      <td>3.0</td>\n",
       "      <td>1.0</td>\n",
       "    </tr>\n",
       "  </tbody>\n",
       "</table>\n",
       "<p>3 rows × 22 columns</p>\n",
       "</div>"
      ],
      "text/plain": [
       "   anime_id                              name   type episodes  mal_score  \\\n",
       "0     32281                    Kimi no Na wa.  Movie        1       9.37   \n",
       "1      5114  Fullmetal Alchemist: Brotherhood     TV       64       9.26   \n",
       "2     28977                          Gintama°     TV       51       9.25   \n",
       "\n",
       "   members                     studio release-season  release-year  \\\n",
       "0   200630       ['CoMix Wave Films']         summer        2016.0   \n",
       "1   793665                  ['Bones']         spring        2009.0   \n",
       "2   114262  ['Bandai Namco Pictures']         spring        2015.0   \n",
       "\n",
       "   release-date  ...                                            themes  \\\n",
       "0           NaN  ...                                                []   \n",
       "1           NaN  ...                                      ['Military']   \n",
       "2           NaN  ...  ['Gag Humor', 'Historical', 'Parody', 'Samurai']   \n",
       "\n",
       "  demographics                                           synopsis  \\\n",
       "0          NaN  Mitsuha Miyamizu, a high school girl, yearns t...   \n",
       "1      Shounen  After a horrific alchemy experiment goes wrong...   \n",
       "2      Shounen  Gintoki, Shinpachi, and Kagura return as the f...   \n",
       "\n",
       "                                           image_url  \\\n",
       "0  https://cdn.myanimelist.net/images/anime/5/870...   \n",
       "1  https://cdn.myanimelist.net/images/anime/1208/...   \n",
       "2  https://cdn.myanimelist.net/images/anime/3/720...   \n",
       "\n",
       "                           rating  \\\n",
       "0       PG-13 - Teens 13 or older   \n",
       "1  R - 17+ (violence & profanity)   \n",
       "2       PG-13 - Teens 13 or older   \n",
       "\n",
       "                                             va_list  \\\n",
       "0  ['Kamishiraishi, Mone', 'Kamiki, Ryunosuke', '...   \n",
       "1  ['Park, Romi', 'Kugimiya, Rie', 'Miki, Shinich...   \n",
       "2  ['Sugita, Tomokazu', 'Kugimiya, Rie', 'Sakaguc...   \n",
       "\n",
       "                                          staff_list recommended_review_count  \\\n",
       "0  ['Bezerra, Wendel', 'Kawamura, Genki', 'Itou, ...                    808.0   \n",
       "1  ['Cook, Justin', 'Maruyama, Hiroo', 'Yonai, No...                    912.0   \n",
       "2  ['Miyawaki, Chizuru', 'Takamatsu, Shinji', 'Yo...                     79.0   \n",
       "\n",
       "  mixedfeelings_review_count  notrecommended_review_count  \n",
       "0                       88.0                         50.0  \n",
       "1                       59.0                         39.0  \n",
       "2                        3.0                          1.0  \n",
       "\n",
       "[3 rows x 22 columns]"
      ]
     },
     "execution_count": 11,
     "metadata": {},
     "output_type": "execute_result"
    }
   ],
   "source": [
    "import pandas as pd\n",
    "from PIL import Image\n",
    "import requests\n",
    "from tqdm import tqdm\n",
    "\n",
    "df_anime = pd.read_csv('../data/03_primary/anime_final.csv', sep='|')\n",
    "\n",
    "df_anime.head(3)"
   ]
  },
  {
   "cell_type": "code",
   "execution_count": 15,
   "metadata": {},
   "outputs": [
    {
     "name": "stderr",
     "output_type": "stream",
     "text": [
      " 50%|█████     | 1/2 [00:00<00:00,  1.57it/s]"
     ]
    },
    {
     "name": "stdout",
     "output_type": "stream",
     "text": [
      "(225, 320)\n"
     ]
    },
    {
     "name": "stderr",
     "output_type": "stream",
     "text": [
      "100%|██████████| 2/2 [00:01<00:00,  1.67it/s]"
     ]
    },
    {
     "name": "stdout",
     "output_type": "stream",
     "text": [
      "(225, 321)\n"
     ]
    },
    {
     "name": "stderr",
     "output_type": "stream",
     "text": [
      "\n"
     ]
    }
   ],
   "source": [
    "for i in tqdm(range(len(df_anime[:2]))):\n",
    "    url = df_anime['image_url'][i]\n",
    "    img = Image.open(requests.get(url, stream=True).raw)\n",
    "    print(img.size)\n",
    "    img.show()"
   ]
  }
 ],
 "metadata": {
  "kernelspec": {
   "display_name": "cs608_p2",
   "language": "python",
   "name": "python3"
  },
  "language_info": {
   "codemirror_mode": {
    "name": "ipython",
    "version": 3
   },
   "file_extension": ".py",
   "mimetype": "text/x-python",
   "name": "python",
   "nbconvert_exporter": "python",
   "pygments_lexer": "ipython3",
   "version": "3.11.9"
  }
 },
 "nbformat": 4,
 "nbformat_minor": 2
}
