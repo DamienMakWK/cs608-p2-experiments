{
 "cells": [
  {
   "cell_type": "markdown",
   "metadata": {},
   "source": [
    "# Instructions for Damien and Ros\n",
    "\n",
    "### please run all cells marked with a * before them, and all cells for parts I have allotted you\n",
    "I will be running the text + image modality one\n",
    "\n",
    "- Ros: please run text modality\n",
    "- Damien: please run image modality"
   ]
  },
  {
   "cell_type": "markdown",
   "metadata": {},
   "source": [
    "# *Imports"
   ]
  },
  {
   "cell_type": "code",
   "execution_count": 2,
   "metadata": {},
   "outputs": [
    {
     "name": "stderr",
     "output_type": "stream",
     "text": [
      "c:\\Users\\user\\.conda\\envs\\cs608_p2\\Lib\\site-packages\\tqdm\\auto.py:21: TqdmWarning: IProgress not found. Please update jupyter and ipywidgets. See https://ipywidgets.readthedocs.io/en/stable/user_install.html\n",
      "  from .autonotebook import tqdm as notebook_tqdm\n"
     ]
    },
    {
     "name": "stdout",
     "output_type": "stream",
     "text": [
      "System version: 3.11.9 | packaged by Anaconda, Inc. | (main, Apr 19 2024, 16:40:41) [MSC v.1916 64 bit (AMD64)]\n",
      "Cornac version: 2.2.1\n",
      "Tensorflow version: 2.16.1\n"
     ]
    }
   ],
   "source": [
    "import os\n",
    "import sys\n",
    "import itertools\n",
    "from collections import defaultdict\n",
    "\n",
    "from sklearn.decomposition import TruncatedSVD, PCA\n",
    "\n",
    "import scipy.sparse as sp\n",
    "import numpy as np\n",
    "import pandas as pd\n",
    "import seaborn as sns\n",
    "import matplotlib.pyplot as plt\n",
    "%matplotlib inline\n",
    "\n",
    "from adjustText import adjust_text\n",
    "\n",
    "from tqdm import tqdm\n",
    "from PIL import Image\n",
    "import requests\n",
    "from io import BytesIO\n",
    "\n",
    "import tensorflow as tf\n",
    "from tensorflow.keras.applications import VGG16\n",
    "from tensorflow.keras.preprocessing import image\n",
    "from tensorflow.keras.applications.vgg16 import preprocess_input\n",
    "\n",
    "import torch\n",
    "\n",
    "import cornac\n",
    "from cornac.utils import cache\n",
    "from cornac.data import Dataset\n",
    "from cornac.eval_methods import RatioSplit\n",
    "from cornac.models import MF, WMF, EASE, VBPR\n",
    "from cornac.models.dmrl import DMRL\n",
    "from cornac.data import TextModality, ImageModality\n",
    "\n",
    "print(f\"System version: {sys.version}\")\n",
    "print(f\"Cornac version: {cornac.__version__}\")\n",
    "print(f\"Tensorflow version: {tf.__version__}\")\n",
    "\n",
    "SEED = 42\n",
    "VERBOSE = False"
   ]
  },
  {
   "cell_type": "markdown",
   "metadata": {},
   "source": [
    "# *Load dataset"
   ]
  },
  {
   "cell_type": "code",
   "execution_count": 3,
   "metadata": {},
   "outputs": [],
   "source": [
    "ratings_path = '../data/01_raw/rating.csv'\n",
    "anime_path = '../data/03_primary/anime_final_cleaned.csv'"
   ]
  },
  {
   "cell_type": "code",
   "execution_count": 4,
   "metadata": {},
   "outputs": [],
   "source": [
    "ratings = pd.read_csv(ratings_path)\n",
    "content = pd.read_csv(anime_path)"
   ]
  },
  {
   "cell_type": "code",
   "execution_count": 5,
   "metadata": {},
   "outputs": [
    {
     "data": {
      "text/html": [
       "<div>\n",
       "<style scoped>\n",
       "    .dataframe tbody tr th:only-of-type {\n",
       "        vertical-align: middle;\n",
       "    }\n",
       "\n",
       "    .dataframe tbody tr th {\n",
       "        vertical-align: top;\n",
       "    }\n",
       "\n",
       "    .dataframe thead th {\n",
       "        text-align: right;\n",
       "    }\n",
       "</style>\n",
       "<table border=\"1\" class=\"dataframe\">\n",
       "  <thead>\n",
       "    <tr style=\"text-align: right;\">\n",
       "      <th></th>\n",
       "      <th>user_id</th>\n",
       "      <th>anime_id</th>\n",
       "      <th>rating</th>\n",
       "    </tr>\n",
       "  </thead>\n",
       "  <tbody>\n",
       "    <tr>\n",
       "      <th>0</th>\n",
       "      <td>1</td>\n",
       "      <td>20</td>\n",
       "      <td>-1</td>\n",
       "    </tr>\n",
       "    <tr>\n",
       "      <th>1</th>\n",
       "      <td>1</td>\n",
       "      <td>24</td>\n",
       "      <td>-1</td>\n",
       "    </tr>\n",
       "    <tr>\n",
       "      <th>2</th>\n",
       "      <td>1</td>\n",
       "      <td>79</td>\n",
       "      <td>-1</td>\n",
       "    </tr>\n",
       "    <tr>\n",
       "      <th>3</th>\n",
       "      <td>1</td>\n",
       "      <td>226</td>\n",
       "      <td>-1</td>\n",
       "    </tr>\n",
       "    <tr>\n",
       "      <th>4</th>\n",
       "      <td>1</td>\n",
       "      <td>241</td>\n",
       "      <td>-1</td>\n",
       "    </tr>\n",
       "  </tbody>\n",
       "</table>\n",
       "</div>"
      ],
      "text/plain": [
       "   user_id  anime_id  rating\n",
       "0        1        20      -1\n",
       "1        1        24      -1\n",
       "2        1        79      -1\n",
       "3        1       226      -1\n",
       "4        1       241      -1"
      ]
     },
     "execution_count": 5,
     "metadata": {},
     "output_type": "execute_result"
    }
   ],
   "source": [
    "ratings.head()"
   ]
  },
  {
   "cell_type": "code",
   "execution_count": 6,
   "metadata": {},
   "outputs": [
    {
     "data": {
      "text/html": [
       "<div>\n",
       "<style scoped>\n",
       "    .dataframe tbody tr th:only-of-type {\n",
       "        vertical-align: middle;\n",
       "    }\n",
       "\n",
       "    .dataframe tbody tr th {\n",
       "        vertical-align: top;\n",
       "    }\n",
       "\n",
       "    .dataframe thead th {\n",
       "        text-align: right;\n",
       "    }\n",
       "</style>\n",
       "<table border=\"1\" class=\"dataframe\">\n",
       "  <thead>\n",
       "    <tr style=\"text-align: right;\">\n",
       "      <th></th>\n",
       "      <th>anime_id</th>\n",
       "      <th>name</th>\n",
       "      <th>type</th>\n",
       "      <th>episodes</th>\n",
       "      <th>mal_score</th>\n",
       "      <th>members</th>\n",
       "      <th>studio</th>\n",
       "      <th>release-season</th>\n",
       "      <th>release-year</th>\n",
       "      <th>release-date</th>\n",
       "      <th>...</th>\n",
       "      <th>themes</th>\n",
       "      <th>demographics</th>\n",
       "      <th>synopsis</th>\n",
       "      <th>image_url</th>\n",
       "      <th>rating</th>\n",
       "      <th>va_list</th>\n",
       "      <th>staff_list</th>\n",
       "      <th>recommended_review_count</th>\n",
       "      <th>mixedfeelings_review_count</th>\n",
       "      <th>notrecommended_review_count</th>\n",
       "    </tr>\n",
       "  </thead>\n",
       "  <tbody>\n",
       "    <tr>\n",
       "      <th>0</th>\n",
       "      <td>32281</td>\n",
       "      <td>Kimi no Na wa.</td>\n",
       "      <td>Movie</td>\n",
       "      <td>1</td>\n",
       "      <td>9.37</td>\n",
       "      <td>200630</td>\n",
       "      <td>['CoMix Wave Films']</td>\n",
       "      <td>summer</td>\n",
       "      <td>2016.0</td>\n",
       "      <td>NaN</td>\n",
       "      <td>...</td>\n",
       "      <td>[]</td>\n",
       "      <td>NaN</td>\n",
       "      <td>Mitsuha Miyamizu, a high school girl, yearns t...</td>\n",
       "      <td>https://cdn.myanimelist.net/images/anime/5/870...</td>\n",
       "      <td>PG-13 - Teens 13 or older</td>\n",
       "      <td>['Kamishiraishi, Mone', 'Kamiki, Ryunosuke', '...</td>\n",
       "      <td>['Bezerra, Wendel', 'Kawamura, Genki', 'Itou, ...</td>\n",
       "      <td>808.0</td>\n",
       "      <td>88.0</td>\n",
       "      <td>50.0</td>\n",
       "    </tr>\n",
       "    <tr>\n",
       "      <th>1</th>\n",
       "      <td>5114</td>\n",
       "      <td>Fullmetal Alchemist: Brotherhood</td>\n",
       "      <td>TV</td>\n",
       "      <td>64</td>\n",
       "      <td>9.26</td>\n",
       "      <td>793665</td>\n",
       "      <td>['Bones']</td>\n",
       "      <td>spring</td>\n",
       "      <td>2009.0</td>\n",
       "      <td>NaN</td>\n",
       "      <td>...</td>\n",
       "      <td>['Military']</td>\n",
       "      <td>Shounen</td>\n",
       "      <td>After a horrific alchemy experiment goes wrong...</td>\n",
       "      <td>https://cdn.myanimelist.net/images/anime/1208/...</td>\n",
       "      <td>R - 17+ (violence &amp; profanity)</td>\n",
       "      <td>['Park, Romi', 'Kugimiya, Rie', 'Miki, Shinich...</td>\n",
       "      <td>['Cook, Justin', 'Maruyama, Hiroo', 'Yonai, No...</td>\n",
       "      <td>912.0</td>\n",
       "      <td>59.0</td>\n",
       "      <td>39.0</td>\n",
       "    </tr>\n",
       "    <tr>\n",
       "      <th>2</th>\n",
       "      <td>28977</td>\n",
       "      <td>Gintama°</td>\n",
       "      <td>TV</td>\n",
       "      <td>51</td>\n",
       "      <td>9.25</td>\n",
       "      <td>114262</td>\n",
       "      <td>['Bandai Namco Pictures']</td>\n",
       "      <td>spring</td>\n",
       "      <td>2015.0</td>\n",
       "      <td>NaN</td>\n",
       "      <td>...</td>\n",
       "      <td>['Gag Humor', 'Historical', 'Parody', 'Samurai']</td>\n",
       "      <td>Shounen</td>\n",
       "      <td>Gintoki, Shinpachi, and Kagura return as the f...</td>\n",
       "      <td>https://cdn.myanimelist.net/images/anime/3/720...</td>\n",
       "      <td>PG-13 - Teens 13 or older</td>\n",
       "      <td>['Sugita, Tomokazu', 'Kugimiya, Rie', 'Sakaguc...</td>\n",
       "      <td>['Miyawaki, Chizuru', 'Takamatsu, Shinji', 'Yo...</td>\n",
       "      <td>79.0</td>\n",
       "      <td>3.0</td>\n",
       "      <td>1.0</td>\n",
       "    </tr>\n",
       "    <tr>\n",
       "      <th>3</th>\n",
       "      <td>9253</td>\n",
       "      <td>Steins;Gate</td>\n",
       "      <td>TV</td>\n",
       "      <td>24</td>\n",
       "      <td>9.17</td>\n",
       "      <td>673572</td>\n",
       "      <td>['White Fox']</td>\n",
       "      <td>spring</td>\n",
       "      <td>2011.0</td>\n",
       "      <td>NaN</td>\n",
       "      <td>...</td>\n",
       "      <td>[]</td>\n",
       "      <td>NaN</td>\n",
       "      <td>Eccentric scientist Rintarou Okabe has a never...</td>\n",
       "      <td>https://cdn.myanimelist.net/images/anime/1935/...</td>\n",
       "      <td>PG-13 - Teens 13 or older</td>\n",
       "      <td>['Miyano, Mamoru', 'Imai, Asami', 'Hanazawa, K...</td>\n",
       "      <td>['Cook, Justin', 'Iwasa, Gaku', 'Kananiwa, Koz...</td>\n",
       "      <td>1007.0</td>\n",
       "      <td>73.0</td>\n",
       "      <td>73.0</td>\n",
       "    </tr>\n",
       "    <tr>\n",
       "      <th>4</th>\n",
       "      <td>9969</td>\n",
       "      <td>Gintama&amp;#039;</td>\n",
       "      <td>TV</td>\n",
       "      <td>51</td>\n",
       "      <td>9.16</td>\n",
       "      <td>151266</td>\n",
       "      <td>['Sunrise']</td>\n",
       "      <td>spring</td>\n",
       "      <td>2011.0</td>\n",
       "      <td>NaN</td>\n",
       "      <td>...</td>\n",
       "      <td>['Gag Humor', 'Historical', 'Parody', 'Samurai']</td>\n",
       "      <td>Shounen</td>\n",
       "      <td>After a one-year hiatus, Shinpachi Shimura ret...</td>\n",
       "      <td>https://cdn.myanimelist.net/images/anime/4/503...</td>\n",
       "      <td>PG-13 - Teens 13 or older</td>\n",
       "      <td>['Sugita, Tomokazu', 'Kugimiya, Rie', 'Sakaguc...</td>\n",
       "      <td>['Fujita, Youichi', 'Kobayashi, Katsuyoshi', '...</td>\n",
       "      <td>39.0</td>\n",
       "      <td>1.0</td>\n",
       "      <td>1.0</td>\n",
       "    </tr>\n",
       "  </tbody>\n",
       "</table>\n",
       "<p>5 rows × 22 columns</p>\n",
       "</div>"
      ],
      "text/plain": [
       "   anime_id                              name   type episodes  mal_score  \\\n",
       "0     32281                    Kimi no Na wa.  Movie        1       9.37   \n",
       "1      5114  Fullmetal Alchemist: Brotherhood     TV       64       9.26   \n",
       "2     28977                          Gintama°     TV       51       9.25   \n",
       "3      9253                       Steins;Gate     TV       24       9.17   \n",
       "4      9969                     Gintama&#039;     TV       51       9.16   \n",
       "\n",
       "   members                     studio release-season  release-year  \\\n",
       "0   200630       ['CoMix Wave Films']         summer        2016.0   \n",
       "1   793665                  ['Bones']         spring        2009.0   \n",
       "2   114262  ['Bandai Namco Pictures']         spring        2015.0   \n",
       "3   673572              ['White Fox']         spring        2011.0   \n",
       "4   151266                ['Sunrise']         spring        2011.0   \n",
       "\n",
       "   release-date  ...                                            themes  \\\n",
       "0           NaN  ...                                                []   \n",
       "1           NaN  ...                                      ['Military']   \n",
       "2           NaN  ...  ['Gag Humor', 'Historical', 'Parody', 'Samurai']   \n",
       "3           NaN  ...                                                []   \n",
       "4           NaN  ...  ['Gag Humor', 'Historical', 'Parody', 'Samurai']   \n",
       "\n",
       "  demographics                                           synopsis  \\\n",
       "0          NaN  Mitsuha Miyamizu, a high school girl, yearns t...   \n",
       "1      Shounen  After a horrific alchemy experiment goes wrong...   \n",
       "2      Shounen  Gintoki, Shinpachi, and Kagura return as the f...   \n",
       "3          NaN  Eccentric scientist Rintarou Okabe has a never...   \n",
       "4      Shounen  After a one-year hiatus, Shinpachi Shimura ret...   \n",
       "\n",
       "                                           image_url  \\\n",
       "0  https://cdn.myanimelist.net/images/anime/5/870...   \n",
       "1  https://cdn.myanimelist.net/images/anime/1208/...   \n",
       "2  https://cdn.myanimelist.net/images/anime/3/720...   \n",
       "3  https://cdn.myanimelist.net/images/anime/1935/...   \n",
       "4  https://cdn.myanimelist.net/images/anime/4/503...   \n",
       "\n",
       "                           rating  \\\n",
       "0       PG-13 - Teens 13 or older   \n",
       "1  R - 17+ (violence & profanity)   \n",
       "2       PG-13 - Teens 13 or older   \n",
       "3       PG-13 - Teens 13 or older   \n",
       "4       PG-13 - Teens 13 or older   \n",
       "\n",
       "                                             va_list  \\\n",
       "0  ['Kamishiraishi, Mone', 'Kamiki, Ryunosuke', '...   \n",
       "1  ['Park, Romi', 'Kugimiya, Rie', 'Miki, Shinich...   \n",
       "2  ['Sugita, Tomokazu', 'Kugimiya, Rie', 'Sakaguc...   \n",
       "3  ['Miyano, Mamoru', 'Imai, Asami', 'Hanazawa, K...   \n",
       "4  ['Sugita, Tomokazu', 'Kugimiya, Rie', 'Sakaguc...   \n",
       "\n",
       "                                          staff_list recommended_review_count  \\\n",
       "0  ['Bezerra, Wendel', 'Kawamura, Genki', 'Itou, ...                    808.0   \n",
       "1  ['Cook, Justin', 'Maruyama, Hiroo', 'Yonai, No...                    912.0   \n",
       "2  ['Miyawaki, Chizuru', 'Takamatsu, Shinji', 'Yo...                     79.0   \n",
       "3  ['Cook, Justin', 'Iwasa, Gaku', 'Kananiwa, Koz...                   1007.0   \n",
       "4  ['Fujita, Youichi', 'Kobayashi, Katsuyoshi', '...                     39.0   \n",
       "\n",
       "  mixedfeelings_review_count  notrecommended_review_count  \n",
       "0                       88.0                         50.0  \n",
       "1                       59.0                         39.0  \n",
       "2                        3.0                          1.0  \n",
       "3                       73.0                         73.0  \n",
       "4                        1.0                          1.0  \n",
       "\n",
       "[5 rows x 22 columns]"
      ]
     },
     "execution_count": 6,
     "metadata": {},
     "output_type": "execute_result"
    }
   ],
   "source": [
    "content.head()"
   ]
  },
  {
   "cell_type": "markdown",
   "metadata": {},
   "source": [
    "# *Preprocessing"
   ]
  },
  {
   "cell_type": "code",
   "execution_count": 7,
   "metadata": {},
   "outputs": [
    {
     "name": "stdout",
     "output_type": "stream",
     "text": [
      "number of users = 73515\n"
     ]
    }
   ],
   "source": [
    "# clean user_id\n",
    "all_users = ratings['user_id'].unique()\n",
    "print(f\"number of users = {len(all_users)}\")"
   ]
  },
  {
   "cell_type": "code",
   "execution_count": 8,
   "metadata": {},
   "outputs": [
    {
     "name": "stdout",
     "output_type": "stream",
     "text": [
      "user_id ranges from: 1 to 73516\n"
     ]
    }
   ],
   "source": [
    "print(f\"user_id ranges from: {ratings['user_id'].min()} to {ratings['user_id'].max()}\")"
   ]
  },
  {
   "cell_type": "markdown",
   "metadata": {},
   "source": [
    "There is a single missing user_id within the range. To remap the user_ids."
   ]
  },
  {
   "cell_type": "code",
   "execution_count": 9,
   "metadata": {},
   "outputs": [
    {
     "data": {
      "text/plain": [
       "46809.0"
      ]
     },
     "execution_count": 9,
     "metadata": {},
     "output_type": "execute_result"
    }
   ],
   "source": [
    "max = ratings['user_id'].max()\n",
    "# use property of arithmetic series :) (thanks leetcode! O(1))\n",
    "missing = (max * (max+1)) / 2 - all_users.sum()\n",
    "missing"
   ]
  },
  {
   "cell_type": "code",
   "execution_count": 10,
   "metadata": {},
   "outputs": [
    {
     "data": {
      "text/plain": [
       "False"
      ]
     },
     "execution_count": 10,
     "metadata": {},
     "output_type": "execute_result"
    }
   ],
   "source": [
    "# double check whether that really is the missing user_id\n",
    "id_46809_in_users = 46809 in all_users\n",
    "id_46809_in_users"
   ]
  },
  {
   "cell_type": "code",
   "execution_count": 11,
   "metadata": {},
   "outputs": [
    {
     "data": {
      "text/plain": [
       "True"
      ]
     },
     "execution_count": 11,
     "metadata": {},
     "output_type": "execute_result"
    }
   ],
   "source": [
    "# double check whether all other values are present in the column. O(n)\n",
    "all_users_set = set(all_users)\n",
    "all_others_present = True\n",
    "for user in range(1, ratings['user_id'].max() + 1):\n",
    "    if user == 46809:\n",
    "        continue\n",
    "    else:\n",
    "        if user in all_users_set:\n",
    "            continue\n",
    "        all_others_present = False\n",
    "        break\n",
    "    \n",
    "all_others_present"
   ]
  },
  {
   "cell_type": "code",
   "execution_count": 12,
   "metadata": {},
   "outputs": [
    {
     "data": {
      "text/html": [
       "<div>\n",
       "<style scoped>\n",
       "    .dataframe tbody tr th:only-of-type {\n",
       "        vertical-align: middle;\n",
       "    }\n",
       "\n",
       "    .dataframe tbody tr th {\n",
       "        vertical-align: top;\n",
       "    }\n",
       "\n",
       "    .dataframe thead th {\n",
       "        text-align: right;\n",
       "    }\n",
       "</style>\n",
       "<table border=\"1\" class=\"dataframe\">\n",
       "  <thead>\n",
       "    <tr style=\"text-align: right;\">\n",
       "      <th></th>\n",
       "      <th>user_id</th>\n",
       "      <th>anime_id</th>\n",
       "      <th>rating</th>\n",
       "    </tr>\n",
       "  </thead>\n",
       "  <tbody>\n",
       "    <tr>\n",
       "      <th>7813735</th>\n",
       "      <td>73516</td>\n",
       "      <td>790</td>\n",
       "      <td>9</td>\n",
       "    </tr>\n",
       "    <tr>\n",
       "      <th>7813736</th>\n",
       "      <td>73516</td>\n",
       "      <td>8074</td>\n",
       "      <td>9</td>\n",
       "    </tr>\n",
       "  </tbody>\n",
       "</table>\n",
       "</div>"
      ],
      "text/plain": [
       "         user_id  anime_id  rating\n",
       "7813735    73516       790       9\n",
       "7813736    73516      8074       9"
      ]
     },
     "execution_count": 12,
     "metadata": {},
     "output_type": "execute_result"
    }
   ],
   "source": [
    "# instead of remapping the entire user_id column, we can just change last user 73516 to 46809.\n",
    "ratings[ratings[\"user_id\"]==73516]"
   ]
  },
  {
   "cell_type": "code",
   "execution_count": 13,
   "metadata": {},
   "outputs": [
    {
     "data": {
      "text/html": [
       "<div>\n",
       "<style scoped>\n",
       "    .dataframe tbody tr th:only-of-type {\n",
       "        vertical-align: middle;\n",
       "    }\n",
       "\n",
       "    .dataframe tbody tr th {\n",
       "        vertical-align: top;\n",
       "    }\n",
       "\n",
       "    .dataframe thead th {\n",
       "        text-align: right;\n",
       "    }\n",
       "</style>\n",
       "<table border=\"1\" class=\"dataframe\">\n",
       "  <thead>\n",
       "    <tr style=\"text-align: right;\">\n",
       "      <th></th>\n",
       "      <th>user_id</th>\n",
       "      <th>anime_id</th>\n",
       "      <th>rating</th>\n",
       "    </tr>\n",
       "  </thead>\n",
       "  <tbody>\n",
       "    <tr>\n",
       "      <th>7813735</th>\n",
       "      <td>46809</td>\n",
       "      <td>790</td>\n",
       "      <td>9</td>\n",
       "    </tr>\n",
       "    <tr>\n",
       "      <th>7813736</th>\n",
       "      <td>46809</td>\n",
       "      <td>8074</td>\n",
       "      <td>9</td>\n",
       "    </tr>\n",
       "  </tbody>\n",
       "</table>\n",
       "</div>"
      ],
      "text/plain": [
       "         user_id  anime_id  rating\n",
       "7813735    46809       790       9\n",
       "7813736    46809      8074       9"
      ]
     },
     "execution_count": 13,
     "metadata": {},
     "output_type": "execute_result"
    }
   ],
   "source": [
    "ratings[\"user_id\"] = ratings[\"user_id\"].replace(73516, 46809)\n",
    "ratings[ratings[\"user_id\"]==46809]"
   ]
  },
  {
   "cell_type": "code",
   "execution_count": 14,
   "metadata": {},
   "outputs": [
    {
     "data": {
      "text/html": [
       "<div>\n",
       "<style scoped>\n",
       "    .dataframe tbody tr th:only-of-type {\n",
       "        vertical-align: middle;\n",
       "    }\n",
       "\n",
       "    .dataframe tbody tr th {\n",
       "        vertical-align: top;\n",
       "    }\n",
       "\n",
       "    .dataframe thead th {\n",
       "        text-align: right;\n",
       "    }\n",
       "</style>\n",
       "<table border=\"1\" class=\"dataframe\">\n",
       "  <thead>\n",
       "    <tr style=\"text-align: right;\">\n",
       "      <th></th>\n",
       "      <th>user_id</th>\n",
       "      <th>anime_id</th>\n",
       "      <th>rating</th>\n",
       "    </tr>\n",
       "  </thead>\n",
       "  <tbody>\n",
       "    <tr>\n",
       "      <th>4233377</th>\n",
       "      <td>1</td>\n",
       "      <td>18753</td>\n",
       "      <td>-1</td>\n",
       "    </tr>\n",
       "    <tr>\n",
       "      <th>6457401</th>\n",
       "      <td>1</td>\n",
       "      <td>25099</td>\n",
       "      <td>-1</td>\n",
       "    </tr>\n",
       "    <tr>\n",
       "      <th>268512</th>\n",
       "      <td>1</td>\n",
       "      <td>2001</td>\n",
       "      <td>-1</td>\n",
       "    </tr>\n",
       "    <tr>\n",
       "      <th>7055089</th>\n",
       "      <td>1</td>\n",
       "      <td>21033</td>\n",
       "      <td>-1</td>\n",
       "    </tr>\n",
       "    <tr>\n",
       "      <th>6293141</th>\n",
       "      <td>1</td>\n",
       "      <td>9041</td>\n",
       "      <td>-1</td>\n",
       "    </tr>\n",
       "    <tr>\n",
       "      <th>...</th>\n",
       "      <td>...</td>\n",
       "      <td>...</td>\n",
       "      <td>...</td>\n",
       "    </tr>\n",
       "    <tr>\n",
       "      <th>2628104</th>\n",
       "      <td>73515</td>\n",
       "      <td>317</td>\n",
       "      <td>9</td>\n",
       "    </tr>\n",
       "    <tr>\n",
       "      <th>5431394</th>\n",
       "      <td>73515</td>\n",
       "      <td>12293</td>\n",
       "      <td>8</td>\n",
       "    </tr>\n",
       "    <tr>\n",
       "      <th>6467256</th>\n",
       "      <td>73515</td>\n",
       "      <td>2404</td>\n",
       "      <td>9</td>\n",
       "    </tr>\n",
       "    <tr>\n",
       "      <th>4316751</th>\n",
       "      <td>73515</td>\n",
       "      <td>2596</td>\n",
       "      <td>7</td>\n",
       "    </tr>\n",
       "    <tr>\n",
       "      <th>1687088</th>\n",
       "      <td>73515</td>\n",
       "      <td>1482</td>\n",
       "      <td>8</td>\n",
       "    </tr>\n",
       "  </tbody>\n",
       "</table>\n",
       "<p>7807674 rows × 3 columns</p>\n",
       "</div>"
      ],
      "text/plain": [
       "         user_id  anime_id  rating\n",
       "4233377        1     18753      -1\n",
       "6457401        1     25099      -1\n",
       "268512         1      2001      -1\n",
       "7055089        1     21033      -1\n",
       "6293141        1      9041      -1\n",
       "...          ...       ...     ...\n",
       "2628104    73515       317       9\n",
       "5431394    73515     12293       8\n",
       "6467256    73515      2404       9\n",
       "4316751    73515      2596       7\n",
       "1687088    73515      1482       8\n",
       "\n",
       "[7807674 rows x 3 columns]"
      ]
     },
     "execution_count": 14,
     "metadata": {},
     "output_type": "execute_result"
    }
   ],
   "source": [
    "# discard ratings for items not in final anime list\n",
    "filtered_ratings = pd.merge(\n",
    "    content, \n",
    "    ratings, \n",
    "    on=\"anime_id\", \n",
    "    how=\"left\", \n",
    "    suffixes=[\"_left\", \"\"]\n",
    ")[[\"user_id\", \"anime_id\", \"rating\"]].sort_values(by=['user_id'])\n",
    "\n",
    "filtered_ratings"
   ]
  },
  {
   "cell_type": "code",
   "execution_count": 15,
   "metadata": {},
   "outputs": [
    {
     "name": "stdout",
     "output_type": "stream",
     "text": [
      "lost ratings due to missing synopsis and/or cover image 6063\n"
     ]
    }
   ],
   "source": [
    "# find out how many ratings were lost due to missing synopsis and/or cover image\n",
    "print(f\"lost ratings due to missing synopsis and/or cover image {len(ratings) - len(filtered_ratings)}\")"
   ]
  },
  {
   "cell_type": "code",
   "execution_count": 16,
   "metadata": {},
   "outputs": [
    {
     "data": {
      "text/html": [
       "<div>\n",
       "<style scoped>\n",
       "    .dataframe tbody tr th:only-of-type {\n",
       "        vertical-align: middle;\n",
       "    }\n",
       "\n",
       "    .dataframe tbody tr th {\n",
       "        vertical-align: top;\n",
       "    }\n",
       "\n",
       "    .dataframe thead th {\n",
       "        text-align: right;\n",
       "    }\n",
       "</style>\n",
       "<table border=\"1\" class=\"dataframe\">\n",
       "  <thead>\n",
       "    <tr style=\"text-align: right;\">\n",
       "      <th></th>\n",
       "      <th>anime_id</th>\n",
       "      <th>name</th>\n",
       "      <th>type</th>\n",
       "      <th>episodes</th>\n",
       "      <th>mal_score</th>\n",
       "      <th>members</th>\n",
       "      <th>studio</th>\n",
       "      <th>release-season</th>\n",
       "      <th>release-year</th>\n",
       "      <th>release-date</th>\n",
       "      <th>...</th>\n",
       "      <th>demographics</th>\n",
       "      <th>synopsis</th>\n",
       "      <th>image_url</th>\n",
       "      <th>rating</th>\n",
       "      <th>va_list</th>\n",
       "      <th>staff_list</th>\n",
       "      <th>recommended_review_count</th>\n",
       "      <th>mixedfeelings_review_count</th>\n",
       "      <th>notrecommended_review_count</th>\n",
       "      <th>anime_id_remapped</th>\n",
       "    </tr>\n",
       "  </thead>\n",
       "  <tbody>\n",
       "    <tr>\n",
       "      <th>0</th>\n",
       "      <td>32281</td>\n",
       "      <td>Kimi no Na wa.</td>\n",
       "      <td>Movie</td>\n",
       "      <td>1</td>\n",
       "      <td>9.37</td>\n",
       "      <td>200630</td>\n",
       "      <td>['CoMix Wave Films']</td>\n",
       "      <td>summer</td>\n",
       "      <td>2016.0</td>\n",
       "      <td>NaN</td>\n",
       "      <td>...</td>\n",
       "      <td>NaN</td>\n",
       "      <td>Mitsuha Miyamizu, a high school girl, yearns t...</td>\n",
       "      <td>https://cdn.myanimelist.net/images/anime/5/870...</td>\n",
       "      <td>PG-13 - Teens 13 or older</td>\n",
       "      <td>['Kamishiraishi, Mone', 'Kamiki, Ryunosuke', '...</td>\n",
       "      <td>['Bezerra, Wendel', 'Kawamura, Genki', 'Itou, ...</td>\n",
       "      <td>808.0</td>\n",
       "      <td>88.0</td>\n",
       "      <td>50.0</td>\n",
       "      <td>10683</td>\n",
       "    </tr>\n",
       "    <tr>\n",
       "      <th>1</th>\n",
       "      <td>5114</td>\n",
       "      <td>Fullmetal Alchemist: Brotherhood</td>\n",
       "      <td>TV</td>\n",
       "      <td>64</td>\n",
       "      <td>9.26</td>\n",
       "      <td>793665</td>\n",
       "      <td>['Bones']</td>\n",
       "      <td>spring</td>\n",
       "      <td>2009.0</td>\n",
       "      <td>NaN</td>\n",
       "      <td>...</td>\n",
       "      <td>Shounen</td>\n",
       "      <td>After a horrific alchemy experiment goes wrong...</td>\n",
       "      <td>https://cdn.myanimelist.net/images/anime/1208/...</td>\n",
       "      <td>R - 17+ (violence &amp; profanity)</td>\n",
       "      <td>['Park, Romi', 'Kugimiya, Rie', 'Miki, Shinich...</td>\n",
       "      <td>['Cook, Justin', 'Maruyama, Hiroo', 'Yonai, No...</td>\n",
       "      <td>912.0</td>\n",
       "      <td>59.0</td>\n",
       "      <td>39.0</td>\n",
       "      <td>3953</td>\n",
       "    </tr>\n",
       "    <tr>\n",
       "      <th>2</th>\n",
       "      <td>28977</td>\n",
       "      <td>Gintama°</td>\n",
       "      <td>TV</td>\n",
       "      <td>51</td>\n",
       "      <td>9.25</td>\n",
       "      <td>114262</td>\n",
       "      <td>['Bandai Namco Pictures']</td>\n",
       "      <td>spring</td>\n",
       "      <td>2015.0</td>\n",
       "      <td>NaN</td>\n",
       "      <td>...</td>\n",
       "      <td>Shounen</td>\n",
       "      <td>Gintoki, Shinpachi, and Kagura return as the f...</td>\n",
       "      <td>https://cdn.myanimelist.net/images/anime/3/720...</td>\n",
       "      <td>PG-13 - Teens 13 or older</td>\n",
       "      <td>['Sugita, Tomokazu', 'Kugimiya, Rie', 'Sakaguc...</td>\n",
       "      <td>['Miyawaki, Chizuru', 'Takamatsu, Shinji', 'Yo...</td>\n",
       "      <td>79.0</td>\n",
       "      <td>3.0</td>\n",
       "      <td>1.0</td>\n",
       "      <td>9753</td>\n",
       "    </tr>\n",
       "    <tr>\n",
       "      <th>3</th>\n",
       "      <td>9253</td>\n",
       "      <td>Steins;Gate</td>\n",
       "      <td>TV</td>\n",
       "      <td>24</td>\n",
       "      <td>9.17</td>\n",
       "      <td>673572</td>\n",
       "      <td>['White Fox']</td>\n",
       "      <td>spring</td>\n",
       "      <td>2011.0</td>\n",
       "      <td>NaN</td>\n",
       "      <td>...</td>\n",
       "      <td>NaN</td>\n",
       "      <td>Eccentric scientist Rintarou Okabe has a never...</td>\n",
       "      <td>https://cdn.myanimelist.net/images/anime/1935/...</td>\n",
       "      <td>PG-13 - Teens 13 or older</td>\n",
       "      <td>['Miyano, Mamoru', 'Imai, Asami', 'Hanazawa, K...</td>\n",
       "      <td>['Cook, Justin', 'Iwasa, Gaku', 'Kananiwa, Koz...</td>\n",
       "      <td>1007.0</td>\n",
       "      <td>73.0</td>\n",
       "      <td>73.0</td>\n",
       "      <td>5648</td>\n",
       "    </tr>\n",
       "    <tr>\n",
       "      <th>4</th>\n",
       "      <td>9969</td>\n",
       "      <td>Gintama&amp;#039;</td>\n",
       "      <td>TV</td>\n",
       "      <td>51</td>\n",
       "      <td>9.16</td>\n",
       "      <td>151266</td>\n",
       "      <td>['Sunrise']</td>\n",
       "      <td>spring</td>\n",
       "      <td>2011.0</td>\n",
       "      <td>NaN</td>\n",
       "      <td>...</td>\n",
       "      <td>Shounen</td>\n",
       "      <td>After a one-year hiatus, Shinpachi Shimura ret...</td>\n",
       "      <td>https://cdn.myanimelist.net/images/anime/4/503...</td>\n",
       "      <td>PG-13 - Teens 13 or older</td>\n",
       "      <td>['Sugita, Tomokazu', 'Kugimiya, Rie', 'Sakaguc...</td>\n",
       "      <td>['Fujita, Youichi', 'Kobayashi, Katsuyoshi', '...</td>\n",
       "      <td>39.0</td>\n",
       "      <td>1.0</td>\n",
       "      <td>1.0</td>\n",
       "      <td>5969</td>\n",
       "    </tr>\n",
       "  </tbody>\n",
       "</table>\n",
       "<p>5 rows × 23 columns</p>\n",
       "</div>"
      ],
      "text/plain": [
       "   anime_id                              name   type episodes  mal_score  \\\n",
       "0     32281                    Kimi no Na wa.  Movie        1       9.37   \n",
       "1      5114  Fullmetal Alchemist: Brotherhood     TV       64       9.26   \n",
       "2     28977                          Gintama°     TV       51       9.25   \n",
       "3      9253                       Steins;Gate     TV       24       9.17   \n",
       "4      9969                     Gintama&#039;     TV       51       9.16   \n",
       "\n",
       "   members                     studio release-season  release-year  \\\n",
       "0   200630       ['CoMix Wave Films']         summer        2016.0   \n",
       "1   793665                  ['Bones']         spring        2009.0   \n",
       "2   114262  ['Bandai Namco Pictures']         spring        2015.0   \n",
       "3   673572              ['White Fox']         spring        2011.0   \n",
       "4   151266                ['Sunrise']         spring        2011.0   \n",
       "\n",
       "   release-date  ... demographics  \\\n",
       "0           NaN  ...          NaN   \n",
       "1           NaN  ...      Shounen   \n",
       "2           NaN  ...      Shounen   \n",
       "3           NaN  ...          NaN   \n",
       "4           NaN  ...      Shounen   \n",
       "\n",
       "                                            synopsis  \\\n",
       "0  Mitsuha Miyamizu, a high school girl, yearns t...   \n",
       "1  After a horrific alchemy experiment goes wrong...   \n",
       "2  Gintoki, Shinpachi, and Kagura return as the f...   \n",
       "3  Eccentric scientist Rintarou Okabe has a never...   \n",
       "4  After a one-year hiatus, Shinpachi Shimura ret...   \n",
       "\n",
       "                                           image_url  \\\n",
       "0  https://cdn.myanimelist.net/images/anime/5/870...   \n",
       "1  https://cdn.myanimelist.net/images/anime/1208/...   \n",
       "2  https://cdn.myanimelist.net/images/anime/3/720...   \n",
       "3  https://cdn.myanimelist.net/images/anime/1935/...   \n",
       "4  https://cdn.myanimelist.net/images/anime/4/503...   \n",
       "\n",
       "                           rating  \\\n",
       "0       PG-13 - Teens 13 or older   \n",
       "1  R - 17+ (violence & profanity)   \n",
       "2       PG-13 - Teens 13 or older   \n",
       "3       PG-13 - Teens 13 or older   \n",
       "4       PG-13 - Teens 13 or older   \n",
       "\n",
       "                                             va_list  \\\n",
       "0  ['Kamishiraishi, Mone', 'Kamiki, Ryunosuke', '...   \n",
       "1  ['Park, Romi', 'Kugimiya, Rie', 'Miki, Shinich...   \n",
       "2  ['Sugita, Tomokazu', 'Kugimiya, Rie', 'Sakaguc...   \n",
       "3  ['Miyano, Mamoru', 'Imai, Asami', 'Hanazawa, K...   \n",
       "4  ['Sugita, Tomokazu', 'Kugimiya, Rie', 'Sakaguc...   \n",
       "\n",
       "                                          staff_list recommended_review_count  \\\n",
       "0  ['Bezerra, Wendel', 'Kawamura, Genki', 'Itou, ...                    808.0   \n",
       "1  ['Cook, Justin', 'Maruyama, Hiroo', 'Yonai, No...                    912.0   \n",
       "2  ['Miyawaki, Chizuru', 'Takamatsu, Shinji', 'Yo...                     79.0   \n",
       "3  ['Cook, Justin', 'Iwasa, Gaku', 'Kananiwa, Koz...                   1007.0   \n",
       "4  ['Fujita, Youichi', 'Kobayashi, Katsuyoshi', '...                     39.0   \n",
       "\n",
       "  mixedfeelings_review_count notrecommended_review_count  anime_id_remapped  \n",
       "0                       88.0                        50.0              10683  \n",
       "1                       59.0                        39.0               3953  \n",
       "2                        3.0                         1.0               9753  \n",
       "3                       73.0                        73.0               5648  \n",
       "4                        1.0                         1.0               5969  \n",
       "\n",
       "[5 rows x 23 columns]"
      ]
     },
     "execution_count": 16,
     "metadata": {},
     "output_type": "execute_result"
    }
   ],
   "source": [
    "# reindex items\n",
    "anime_remap = {}\n",
    "sorted_content = content.sort_values(by=['anime_id'])\n",
    "all_anime = sorted_content['anime_id'].unique()\n",
    "\n",
    "counter = 1\n",
    "for anime in all_anime:\n",
    "    anime_remap[anime] = counter\n",
    "    counter += 1\n",
    "\n",
    "content[\"anime_id_remapped\"] = content[\"anime_id\"].map(anime_remap)\n",
    "content.head()"
   ]
  },
  {
   "cell_type": "code",
   "execution_count": 17,
   "metadata": {},
   "outputs": [
    {
     "data": {
      "text/html": [
       "<div>\n",
       "<style scoped>\n",
       "    .dataframe tbody tr th:only-of-type {\n",
       "        vertical-align: middle;\n",
       "    }\n",
       "\n",
       "    .dataframe tbody tr th {\n",
       "        vertical-align: top;\n",
       "    }\n",
       "\n",
       "    .dataframe thead th {\n",
       "        text-align: right;\n",
       "    }\n",
       "</style>\n",
       "<table border=\"1\" class=\"dataframe\">\n",
       "  <thead>\n",
       "    <tr style=\"text-align: right;\">\n",
       "      <th></th>\n",
       "      <th>user_id</th>\n",
       "      <th>anime_id</th>\n",
       "      <th>rating</th>\n",
       "      <th>anime_id_remapped</th>\n",
       "    </tr>\n",
       "  </thead>\n",
       "  <tbody>\n",
       "    <tr>\n",
       "      <th>4233377</th>\n",
       "      <td>1</td>\n",
       "      <td>18753</td>\n",
       "      <td>-1</td>\n",
       "      <td>7893</td>\n",
       "    </tr>\n",
       "    <tr>\n",
       "      <th>6457401</th>\n",
       "      <td>1</td>\n",
       "      <td>25099</td>\n",
       "      <td>-1</td>\n",
       "      <td>9175</td>\n",
       "    </tr>\n",
       "    <tr>\n",
       "      <th>268512</th>\n",
       "      <td>1</td>\n",
       "      <td>2001</td>\n",
       "      <td>-1</td>\n",
       "      <td>1817</td>\n",
       "    </tr>\n",
       "    <tr>\n",
       "      <th>7055089</th>\n",
       "      <td>1</td>\n",
       "      <td>21033</td>\n",
       "      <td>-1</td>\n",
       "      <td>8314</td>\n",
       "    </tr>\n",
       "    <tr>\n",
       "      <th>6293141</th>\n",
       "      <td>1</td>\n",
       "      <td>9041</td>\n",
       "      <td>-1</td>\n",
       "      <td>5585</td>\n",
       "    </tr>\n",
       "  </tbody>\n",
       "</table>\n",
       "</div>"
      ],
      "text/plain": [
       "         user_id  anime_id  rating  anime_id_remapped\n",
       "4233377        1     18753      -1               7893\n",
       "6457401        1     25099      -1               9175\n",
       "268512         1      2001      -1               1817\n",
       "7055089        1     21033      -1               8314\n",
       "6293141        1      9041      -1               5585"
      ]
     },
     "execution_count": 17,
     "metadata": {},
     "output_type": "execute_result"
    }
   ],
   "source": [
    "filtered_ratings[\"anime_id_remapped\"] = filtered_ratings[\"anime_id\"].map(anime_remap)\n",
    "filtered_ratings.head()"
   ]
  },
  {
   "cell_type": "code",
   "execution_count": 18,
   "metadata": {},
   "outputs": [
    {
     "data": {
      "text/plain": [
       "0"
      ]
     },
     "execution_count": 18,
     "metadata": {},
     "output_type": "execute_result"
    }
   ],
   "source": [
    "# map came from content dataframe, double check if filtered_ratings was remapped properly\n",
    "filtered_ratings[\"anime_id_remapped\"].isna().sum()"
   ]
  },
  {
   "cell_type": "code",
   "execution_count": 19,
   "metadata": {},
   "outputs": [],
   "source": [
    "# take only the columns we want\n",
    "ratings_cleaned = filtered_ratings[[\"user_id\", \"anime_id_remapped\", \"rating\"]]"
   ]
  },
  {
   "cell_type": "markdown",
   "metadata": {},
   "source": [
    "# *Explore different encodings\n",
    "Encoding \"Watched but not rated\" as -1 may cause such anime to be devalued as compared to unwatched anime. Plan to explore different encoding representations\n",
    "\n",
    "- leave \"watched but not rated\" as -1\n",
    "- convert them to 0.5 (just above unwatched, but that means less value than a 1 star anime)\n",
    "- convert them to 5 (middle of the scale, but everyone's middle may be different)\n",
    "- convert them to 7 (just below the \"high\" ratings)\n",
    "\n",
    "It may also be valuable to explore if binning scores can improve the rec sys"
   ]
  },
  {
   "cell_type": "code",
   "execution_count": 20,
   "metadata": {},
   "outputs": [
    {
     "data": {
      "image/png": "[encoded data removed]",
      "text/plain": [
       "<Figure size 640x480 with 1 Axes>"
      ]
     },
     "metadata": {},
     "output_type": "display_data"
    }
   ],
   "source": [
    "ratings_vc = ratings_cleaned[\"rating\"].value_counts().sort_index()\n",
    "rating_values, rating_counts = list(ratings_vc.index), list(ratings_vc.values)\n",
    "plt.bar(rating_values, rating_counts)\n",
    "plt.show()"
   ]
  },
  {
   "cell_type": "markdown",
   "metadata": {},
   "source": [
    "Users tend to rate anime with fairly high ratings, the most comming rating is 8. Ratings above 7 make up the majority of ratings. A sizable portion of interations are unrated."
   ]
  },
  {
   "cell_type": "code",
   "execution_count": 21,
   "metadata": {},
   "outputs": [],
   "source": [
    "# count number of unrated interactions\n",
    "# all_minus1 = ratings_cleaned[ratings_cleaned[\"rating\"]==-1]\n",
    "# len(all_minus1)"
   ]
  },
  {
   "cell_type": "code",
   "execution_count": 22,
   "metadata": {},
   "outputs": [],
   "source": [
    "# users_no_rating = all_minus1[\"user_id\"].unique()\n",
    "# len(users_no_rating)"
   ]
  },
  {
   "cell_type": "markdown",
   "metadata": {},
   "source": [
    "roughly half of our users have at least 1 unrated anime."
   ]
  },
  {
   "cell_type": "code",
   "execution_count": 23,
   "metadata": {},
   "outputs": [],
   "source": [
    "# users_who_never_rate = []\n",
    "# for user in users_no_rating:\n",
    "#     all_their_ratings = ratings_cleaned[ratings_cleaned[\"user_id\"]==user][\"rating\"].unique()\n",
    "#     if len(all_their_ratings) == 1:\n",
    "#         users_who_never_rate.append(user)\n",
    "\n",
    "# len(users_who_never_rate)"
   ]
  },
  {
   "cell_type": "markdown",
   "metadata": {},
   "source": [
    "There is a population of users who have never rated but it is a small population out of the users who have at least one \"watched but not rated\" anime. I don't think it's worth executing anything special for them."
   ]
  },
  {
   "cell_type": "code",
   "execution_count": 24,
   "metadata": {},
   "outputs": [],
   "source": [
    "ratings_point5 = ratings_cleaned.copy(deep=True)\n",
    "ratings_5 = ratings_cleaned.copy(deep=True)\n",
    "ratings_7 = ratings_cleaned.copy(deep=True)\n",
    "\n",
    "ratings_point5[\"rating\"] = ratings_point5[\"rating\"].replace(-1, 0.5)\n",
    "ratings_5[\"rating\"] = ratings_5[\"rating\"].replace(-1, 5)\n",
    "ratings_7[\"rating\"] = ratings_7[\"rating\"].replace(-1, 7)"
   ]
  },
  {
   "cell_type": "markdown",
   "metadata": {},
   "source": [
    "### *Save to csv (if you have not already done so)"
   ]
  },
  {
   "cell_type": "code",
   "execution_count": 25,
   "metadata": {},
   "outputs": [],
   "source": [
    "# Save these options to csv\n",
    "# ratings_point5.to_csv(\"../data/05_model_input/ratings_point5.csv\", index=False)\n",
    "# ratings_5.to_csv(\"../data/05_model_input/ratings_5.csv\", index=False)\n",
    "# ratings_7.to_csv(\"../data/05_model_input/ratings_7.csv\", index=False)"
   ]
  },
  {
   "cell_type": "code",
   "execution_count": 26,
   "metadata": {},
   "outputs": [],
   "source": [
    "# Code to load the csvs back to dataframe\n",
    "# ratings_point5 = pd.read_csv(\"../data/05_model_input/ratings_point5.csv\")\n",
    "# ratings_5 = pd.read_csv(\"../data/05_model_input/ratings_5.csv\")\n",
    "# ratings_7 = pd.read_csv(\"../data/05_model_input/ratings_7.csv\")"
   ]
  },
  {
   "cell_type": "markdown",
   "metadata": {},
   "source": [
    "### *Convert ratings data "
   ]
  },
  {
   "cell_type": "code",
   "execution_count": 27,
   "metadata": {},
   "outputs": [],
   "source": [
    "# convert data into list of tuples\n",
    "# this version of the data did not change the -1 values\n",
    "ratings_data = [tuple(row) for row in ratings_cleaned.itertuples(index=False)]\n",
    "ratings_point5_data = [tuple(row) for row in ratings_point5.itertuples(index=False)]\n",
    "ratings_5_data = [tuple(row) for row in ratings_5.itertuples(index=False)]\n",
    "ratings_7_data = [tuple(row) for row in ratings_7.itertuples(index=False)]"
   ]
  },
  {
   "cell_type": "code",
   "execution_count": 28,
   "metadata": {},
   "outputs": [],
   "source": [
    "# ratings_data"
   ]
  },
  {
   "cell_type": "markdown",
   "metadata": {},
   "source": [
    "# *Model Baselines (Ratings data only)\n",
    "\n",
    "## -------------------\n",
    "## Damien and Ros!!!\n",
    "## -------------------\n",
    "\n",
    "only run the next cell in this section to define eval metrics"
   ]
  },
  {
   "cell_type": "code",
   "execution_count": 29,
   "metadata": {},
   "outputs": [],
   "source": [
    "# mf10 = MF(k=10, max_iter=100, learning_rate=0.001, lambda_reg=0.01, use_bias=False,\n",
    "#         verbose=VERBOSE, seed=SEED, name=f\"MF(K=10)\")\n",
    "# wmf10 = WMF(k=10, max_iter=100, a=1.0, b=0.01, learning_rate=0.001, lambda_u=0.01, lambda_v=0.01,\n",
    "#           verbose=VERBOSE, seed=SEED, name=f\"WMF(K=10)\")\n",
    "# mf50 = MF(k=50, max_iter=100, learning_rate=0.001, lambda_reg=0.01, use_bias=False,\n",
    "#         verbose=VERBOSE, seed=SEED, name=f\"MF(K=50)\")\n",
    "# wmf50 = WMF(k=50, max_iter=100, a=1.0, b=0.01, learning_rate=0.001, lambda_u=0.01, lambda_v=0.01,\n",
    "#           verbose=VERBOSE, seed=SEED, name=f\"WMF(K=50)\")\n",
    "# mf100 = MF(k=100, max_iter=100, learning_rate=0.001, lambda_reg=0.01, use_bias=False,\n",
    "#         verbose=VERBOSE, seed=SEED, name=f\"MF(K=100)\")\n",
    "# wmf100 = WMF(k=100, max_iter=100, a=1.0, b=0.01, learning_rate=0.001, lambda_u=0.01, lambda_v=0.01,\n",
    "#           verbose=VERBOSE, seed=SEED, name=f\"WMF(K=100)\")\n",
    "\n",
    "\n",
    "\n",
    "eval_metrics = [\n",
    "  cornac.metrics.RMSE(), \n",
    "  cornac.metrics.AUC(),\n",
    "  cornac.metrics.Precision(k=20),\n",
    "  cornac.metrics.Recall(k=20),\n",
    "  cornac.metrics.FMeasure(k=20),\n",
    "  cornac.metrics.NDCG(k=20),\n",
    "  cornac.metrics.NCRR(k=20),\n",
    "  cornac.metrics.Precision(k=50),\n",
    "  cornac.metrics.Recall(k=50),\n",
    "  cornac.metrics.FMeasure(k=50),\n",
    "  cornac.metrics.NDCG(k=50),\n",
    "  cornac.metrics.NCRR(k=50),\n",
    "  cornac.metrics.MRR(),\n",
    "  cornac.metrics.MAP()\n",
    "]"
   ]
  },
  {
   "cell_type": "markdown",
   "metadata": {},
   "source": [
    "### Unrated = -1"
   ]
  },
  {
   "cell_type": "code",
   "execution_count": 30,
   "metadata": {},
   "outputs": [],
   "source": [
    "# rs = RatioSplit(ratings_data, test_size=0.2, seed=SEED, verbose=VERBOSE)\n",
    "\n",
    "# cornac.Experiment(eval_method=rs, models=[\n",
    "#         mf10, wmf10,\n",
    "#         mf50, wmf50,\n",
    "#         mf100, wmf100], metrics=eval_metrics).run()"
   ]
  },
  {
   "cell_type": "markdown",
   "metadata": {},
   "source": [
    "### Unrated = 0.5"
   ]
  },
  {
   "cell_type": "code",
   "execution_count": 31,
   "metadata": {},
   "outputs": [],
   "source": [
    "# rs = RatioSplit(ratings_point5_data, test_size=0.2, seed=SEED, verbose=VERBOSE)\n",
    "\n",
    "# cornac.Experiment(eval_method=rs, models=[\n",
    "#         mf10, wmf10,\n",
    "#         mf50, wmf50,\n",
    "#         mf100, wmf100], metrics=eval_metrics).run()"
   ]
  },
  {
   "cell_type": "markdown",
   "metadata": {},
   "source": [
    "### Unrated = 5"
   ]
  },
  {
   "cell_type": "code",
   "execution_count": 32,
   "metadata": {},
   "outputs": [],
   "source": [
    "# rs = RatioSplit(ratings_5_data, test_size=0.2, seed=SEED, verbose=VERBOSE)\n",
    "\n",
    "# cornac.Experiment(eval_method=rs, models=[\n",
    "#         mf10, wmf10,\n",
    "#         mf50, wmf50, \n",
    "#         mf100, wmf100], metrics=eval_metrics).run()"
   ]
  },
  {
   "cell_type": "markdown",
   "metadata": {},
   "source": [
    "### Unrated = 7"
   ]
  },
  {
   "cell_type": "code",
   "execution_count": 33,
   "metadata": {},
   "outputs": [],
   "source": [
    "# rs = RatioSplit(ratings_7_data, test_size=0.2, seed=SEED, verbose=VERBOSE)\n",
    "\n",
    "# cornac.Experiment(eval_method=rs, models=[\n",
    "#         mf10, wmf10,\n",
    "#         mf50, wmf50,\n",
    "#         mf100, wmf100], metrics=eval_metrics).run()"
   ]
  },
  {
   "cell_type": "markdown",
   "metadata": {},
   "source": [
    "### Unrated = 7 appears to give the best predictions on ranking based metrics\n",
    "### K=100 appears to give the best ranking based results"
   ]
  },
  {
   "cell_type": "code",
   "execution_count": 34,
   "metadata": {},
   "outputs": [],
   "source": [
    "# dmrl100 = DMRL(batch_size=128, epochs=20, log_metrics=False, learning_rate=0.01, num_factors=2, \n",
    "#         decay_r=0.5, decay_c=0.01, num_neg=3, embedding_dim=100, name='dmrl(emb_dim=100)')"
   ]
  },
  {
   "cell_type": "code",
   "execution_count": 35,
   "metadata": {},
   "outputs": [],
   "source": [
    "# rs = RatioSplit(ratings_7_data, test_size=0.2, seed=SEED, verbose=VERBOSE)\n",
    "\n",
    "# # cornac.Experiment(eval_method=rs, models=[\n",
    "# #         ease100, dmrl100], metrics=eval_metrics).run()\n",
    "# cornac.Experiment(eval_method=rs, models=[\n",
    "#         dmrl100], metrics=eval_metrics).run()"
   ]
  },
  {
   "cell_type": "markdown",
   "metadata": {},
   "source": [
    "### Image Modality (Damien)"
   ]
  },
  {
   "cell_type": "code",
   "execution_count": 36,
   "metadata": {},
   "outputs": [
    {
     "name": "stdout",
     "output_type": "stream",
     "text": [
      "[32281, 5114, 28977, 9253, 9969, 32935, 11061, 820, 15335, 15417]\n"
     ]
    },
    {
     "name": "stderr",
     "output_type": "stream",
     "text": [
      "100%|██████████| 11094/11094 [11:19<00:00, 16.34it/s]"
     ]
    },
    {
     "name": "stdout",
     "output_type": "stream",
     "text": [
      "# of tensors: 11094\n",
      "Length of tensors: 25088\n"
     ]
    },
    {
     "name": "stderr",
     "output_type": "stream",
     "text": [
      "\n"
     ]
    }
   ],
   "source": [
    "# VBPR Experiments preprocessing\n",
    "image_ids = list(content['anime_id'])\n",
    "print(image_ids[:10])\n",
    "\n",
    "width, height = 225, 320\n",
    "black_image = Image.new('RGB', (width, height), (0, 0, 0))\n",
    "black_image.save('../data/05_model_input/images/black_image.jpg', 'JPEG')\n",
    "\n",
    "img_features_list = []\n",
    "model = VGG16(weights='imagenet', include_top=False)\n",
    "\n",
    "for i in tqdm(range(len(image_ids))):\n",
    "    try:\n",
    "        img_path = f\"../data/05_model_input/images/{image_ids[i]}.jpg\"\n",
    "    except:\n",
    "        img_path = '../data/05_model_input/images/black_image.jpg'\n",
    "\n",
    "    img = image.load_img(img_path, target_size = (224,224))\n",
    "    x = image.img_to_array(img)\n",
    "    x = np.expand_dims(x, axis=0)\n",
    "    x = preprocess_input(x)\n",
    "    features = model.predict(x, verbose=0)\n",
    "    features_flat = features.flatten()\n",
    "    img_features_list.append(features_flat)\n",
    "\n",
    "print(f\"# of tensors: {len(img_features_list)}\")\n",
    "print(f\"Length of tensors: {len(img_features_list[0])}\")"
   ]
  },
  {
   "cell_type": "code",
   "execution_count": 38,
   "metadata": {},
   "outputs": [
    {
     "name": "stdout",
     "output_type": "stream",
     "text": [
      "Original length of tensors: 25088\n",
      "New length of tensors: 100\n"
     ]
    }
   ],
   "source": [
    "# Dimensionality reduction: PCA\n",
    "img_features_array = np.array(img_features_list)\n",
    "img_features_tensor = torch.FloatTensor(img_features_array)\n",
    "\n",
    "item_ids = list(content[\"anime_id_remapped\"])\n",
    "pca = PCA(100)\n",
    "img_features_tensor_PCA = pca.fit_transform(img_features_tensor)\n",
    "\n",
    "print(f\"Original length of tensors: {len(img_features_list[0])}\")\n",
    "print(f\"New length of tensors: {len(img_features_tensor_PCA[0])}\")\n",
    "\n",
    "item_image_modality_PCA = ImageModality(\n",
    "    features=img_features_tensor_PCA, \n",
    "    ids=item_ids, \n",
    "    normalized=True\n",
    "    )"
   ]
  },
  {
   "cell_type": "code",
   "execution_count": 39,
   "metadata": {},
   "outputs": [
    {
     "name": "stderr",
     "output_type": "stream",
     "text": [
      "c:\\Users\\user\\.conda\\envs\\cs608_p2\\Lib\\site-packages\\cornac\\data\\dataset.py:335: UserWarning: 5 duplicated observations are removed!\n",
      "  warnings.warn(\"%d duplicated observations are removed!\" % dup_count)\n"
     ]
    },
    {
     "name": "stdout",
     "output_type": "stream",
     "text": [
      "Optimization finished!\n",
      "\n",
      "TEST:\n",
      "...\n",
      "     |   RMSE |    AUC |  F1@20 |  F1@50 |    MAP |    MRR | NCRR@20 | NCRR@50 | NDCG@20 | NDCG@50 | Precision@20 | Precision@50 | Recall@20 | Recall@50 |  Train (s) | Test (s)\n",
      "---- + ------ + ------ + ------ + ------ + ------ + ------ + ------- + ------- + ------- + ------- + ------------ + ------------ + --------- + --------- + ---------- + --------\n",
      "VBPR | 7.0148 | 0.9476 | 0.0789 | 0.0873 | 0.0766 | 0.2918 |  0.1371 |  0.1397 |  0.1365 |  0.1591 |       0.0964 |       0.0744 |    0.1177 |    0.2164 | 26650.8577 | 222.9866\n",
      "\n"
     ]
    },
    {
     "data": {
      "text/plain": [
       "'../data/06_models\\\\VBPR\\\\2024-06-18_18-18-59-264311.pkl'"
      ]
     },
     "execution_count": 39,
     "metadata": {},
     "output_type": "execute_result"
    }
   ],
   "source": [
    "# VBPR Experiments: PCA\n",
    "\n",
    "K = 20\n",
    "\n",
    "vbpr_PCA = VBPR(k=K, k2=K, n_epochs=50, batch_size=100, learning_rate=0.001,\n",
    "            lambda_w=1, lambda_b=0.01, lambda_e=0.0, use_gpu=True, verbose=VERBOSE, seed=SEED)\n",
    "\n",
    "rs = RatioSplit(ratings_7_data, test_size=0.2, item_image=item_image_modality_PCA, seed=SEED, verbose=VERBOSE)\n",
    "\n",
    "cornac.Experiment(eval_method=rs, models=[vbpr_PCA], metrics=eval_metrics).run()\n",
    "\n",
    "# Model export\n",
    "vbpr_PCA.save(\"../data/06_models\")"
   ]
  },
  {
   "cell_type": "code",
   "execution_count": 40,
   "metadata": {},
   "outputs": [
    {
     "name": "stdout",
     "output_type": "stream",
     "text": [
      "Original length of tensors: 25088\n",
      "New length of tensors: 100\n"
     ]
    }
   ],
   "source": [
    "# Dimensionality reduction: TruncatedSVD\n",
    "# img_features_array = np.array(img_features_list)\n",
    "# img_features_tensor = torch.FloatTensor(img_features_array)\n",
    "\n",
    "truncatedSVD = TruncatedSVD(100)\n",
    "img_features_tensor_TSVD = truncatedSVD.fit_transform(img_features_tensor)\n",
    "\n",
    "print(f\"Original length of tensors: {len(img_features_list[0])}\")\n",
    "print(f\"New length of tensors: {len(img_features_tensor_TSVD[0])}\")\n",
    "\n",
    "item_ids = list(content[\"anime_id_remapped\"])\n",
    "\n",
    "item_image_modality_TSVD = ImageModality(\n",
    "    features=img_features_tensor_TSVD, \n",
    "    ids=item_ids, \n",
    "    normalized=True\n",
    "    )"
   ]
  },
  {
   "cell_type": "code",
   "execution_count": 41,
   "metadata": {},
   "outputs": [
    {
     "name": "stderr",
     "output_type": "stream",
     "text": [
      "c:\\Users\\user\\.conda\\envs\\cs608_p2\\Lib\\site-packages\\cornac\\data\\dataset.py:335: UserWarning: 5 duplicated observations are removed!\n",
      "  warnings.warn(\"%d duplicated observations are removed!\" % dup_count)\n"
     ]
    },
    {
     "name": "stdout",
     "output_type": "stream",
     "text": [
      "Optimization finished!\n",
      "\n",
      "TEST:\n",
      "...\n",
      "     |   RMSE |    AUC |  F1@20 |  F1@50 |    MAP |    MRR | NCRR@20 | NCRR@50 | NDCG@20 | NDCG@50 | Precision@20 | Precision@50 | Recall@20 | Recall@50 |  Train (s) | Test (s)\n",
      "---- + ------ + ------ + ------ + ------ + ------ + ------ + ------- + ------- + ------- + ------- + ------------ + ------------ + --------- + --------- + ---------- + --------\n",
      "VBPR | 7.0251 | 0.9475 | 0.0789 | 0.0884 | 0.0742 | 0.2807 |  0.1322 |  0.1350 |  0.1337 |  0.1575 |       0.0968 |       0.0752 |    0.1175 |    0.2199 | 26398.5541 | 214.6498\n",
      "\n"
     ]
    },
    {
     "data": {
      "text/plain": [
       "'../data/06_models\\\\VBPR\\\\2024-06-19_01-43-22-153770.pkl'"
      ]
     },
     "execution_count": 41,
     "metadata": {},
     "output_type": "execute_result"
    }
   ],
   "source": [
    "# VBPR Experiments: TSVD\n",
    "\n",
    "K = 20\n",
    "\n",
    "vbpr_TSVD = VBPR(k=K, k2=K, n_epochs=50, batch_size=100, learning_rate=0.001,\n",
    "            lambda_w=1, lambda_b=0.01, lambda_e=0.0, use_gpu=True, verbose=VERBOSE, seed=SEED)\n",
    "\n",
    "rs = RatioSplit(ratings_7_data, test_size=0.2, item_image=item_image_modality_TSVD, seed=SEED, verbose=VERBOSE)\n",
    "\n",
    "cornac.Experiment(eval_method=rs, models=[vbpr_TSVD], metrics=eval_metrics).run()\n",
    "\n",
    "# Model export\n",
    "vbpr_TSVD.save(\"../data/06_models\")"
   ]
  }
 ],
 "metadata": {
  "kernelspec": {
   "display_name": "CS608_RecommenderSystems",
   "language": "python",
   "name": "python3"
  },
  "language_info": {
   "codemirror_mode": {
    "name": "ipython",
    "version": 3
   },
   "file_extension": ".py",
   "mimetype": "text/x-python",
   "name": "python",
   "nbconvert_exporter": "python",
   "pygments_lexer": "ipython3",
   "version": "3.11.9"
  }
 },
 "nbformat": 4,
 "nbformat_minor": 2
}
