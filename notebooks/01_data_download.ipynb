{
 "cells": [
  {
   "cell_type": "markdown",
   "metadata": {},
   "source": [
    "# Contents\n",
    "1. Download kaggle datasets\n",
    "2. Scrape following from MAL websites:\n",
    "    - Synopsis\n",
    "    - Background\n",
    "    - Voice actors (TBC)\n",
    "    - Image links\n",
    "\n",
    "Data preprocessing intended for next ipynb"
   ]
  },
  {
   "cell_type": "code",
   "execution_count": 2,
   "metadata": {},
   "outputs": [],
   "source": [
    "import kaggle\n",
    "import pandas as pd\n",
    "import scrapy \n",
    "\n",
    "ds_path = \"../data/01_raw\"\n",
    "\n",
    "kaggle.api.authenticate()"
   ]
  },
  {
   "cell_type": "code",
   "execution_count": 3,
   "metadata": {},
   "outputs": [
    {
     "name": "stdout",
     "output_type": "stream",
     "text": [
      "Dataset URL: https://www.kaggle.com/datasets/CooperUnion/anime-recommendations-database\n",
      "Dataset URL: https://www.kaggle.com/datasets/crazygump/myanimelist-scrappind-a-decade-of-anime\n"
     ]
    }
   ],
   "source": [
    "ds1_kagglename = \"CooperUnion/anime-recommendations-database\"\n",
    "ds2_kagglename = \"crazygump/myanimelist-scrappind-a-decade-of-anime\"\n",
    "\n",
    "kaggle.api.dataset_download_files(ds1_kagglename, path=ds_path, unzip=True)\n",
    "kaggle.api.dataset_download_files(ds2_kagglename, path=ds_path, unzip=True)"
   ]
  }
 ],
 "metadata": {
  "kernelspec": {
   "display_name": "cs608_p2",
   "language": "python",
   "name": "python3"
  },
  "language_info": {
   "codemirror_mode": {
    "name": "ipython",
    "version": 3
   },
   "file_extension": ".py",
   "mimetype": "text/x-python",
   "name": "python",
   "nbconvert_exporter": "python",
   "pygments_lexer": "ipython3",
   "version": "3.11.9"
  }
 },
 "nbformat": 4,
 "nbformat_minor": 2
}
