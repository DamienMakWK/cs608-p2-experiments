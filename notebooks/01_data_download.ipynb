{
 "cells": [
  {
   "cell_type": "markdown",
   "metadata": {},
   "source": [
    "# Contents\n",
    "1. Download kaggle datasets\n",
    "2. Scrape following from MAL websites:\n",
    "    - Synopsis\n",
    "    - Background\n",
    "    - Voice actors (TBC)\n",
    "    - Image links\n",
    "\n",
    "Data preprocessing intended for next ipynb"
   ]
  },
  {
   "cell_type": "markdown",
   "metadata": {},
   "source": [
    "## 1. Download kaggle datasets"
   ]
  },
  {
   "cell_type": "code",
   "execution_count": 2,
   "metadata": {},
   "outputs": [],
   "source": [
    "import kaggle\n",
    "import pandas as pd\n",
    "\n",
    "\n",
    "ds_path = \"../data/01_raw\"\n",
    "\n",
    "kaggle.api.authenticate()"
   ]
  },
  {
   "cell_type": "code",
   "execution_count": 3,
   "metadata": {},
   "outputs": [
    {
     "name": "stdout",
     "output_type": "stream",
     "text": [
      "Dataset URL: https://www.kaggle.com/datasets/CooperUnion/anime-recommendations-database\n",
      "Dataset URL: https://www.kaggle.com/datasets/crazygump/myanimelist-scrappind-a-decade-of-anime\n"
     ]
    }
   ],
   "source": [
    "ds1_kagglename = \"CooperUnion/anime-recommendations-database\"\n",
    "ds2_kagglename = \"crazygump/myanimelist-scrappind-a-decade-of-anime\"\n",
    "\n",
    "kaggle.api.dataset_download_files(ds1_kagglename, path=ds_path, unzip=True)\n",
    "kaggle.api.dataset_download_files(ds2_kagglename, path=ds_path, unzip=True)"
   ]
  },
  {
   "cell_type": "markdown",
   "metadata": {},
   "source": [
    "## 2. Scrape data from MAL Websites"
   ]
  },
  {
   "cell_type": "code",
   "execution_count": 30,
   "metadata": {},
   "outputs": [
    {
     "name": "stdout",
     "output_type": "stream",
     "text": [
      "11200\n"
     ]
    }
   ],
   "source": [
    "import pandas as pd \n",
    "\n",
    "# Gathering unique anime_id values from ratings dataset:\n",
    "ratings_path = \"../data/01_raw/rating.csv\"\n",
    "df_ratings = pd.read_csv(ratings_path)\n",
    "\n",
    "# df_unique_anime = df_ratings[\"anime_id\"].unique()\n",
    "df_unique_anime = df_ratings.drop_duplicates(subset=['anime_id'])\n",
    "print(len(df_unique_anime))"
   ]
  },
  {
   "cell_type": "code",
   "execution_count": 43,
   "metadata": {},
   "outputs": [
    {
     "name": "stdout",
     "output_type": "stream",
     "text": [
      "<class 'pandas.core.frame.DataFrame'>\n",
      "Index: 2800 entries, 0 to 15666\n",
      "Data columns (total 3 columns):\n",
      " #   Column    Non-Null Count  Dtype\n",
      "---  ------    --------------  -----\n",
      " 0   user_id   2800 non-null   int64\n",
      " 1   anime_id  2800 non-null   int64\n",
      " 2   rating    2800 non-null   int64\n",
      "dtypes: int64(3)\n",
      "memory usage: 87.5 KB\n",
      "None\n",
      "<class 'pandas.core.frame.DataFrame'>\n",
      "Index: 2800 entries, 15667 to 146310\n",
      "Data columns (total 3 columns):\n",
      " #   Column    Non-Null Count  Dtype\n",
      "---  ------    --------------  -----\n",
      " 0   user_id   2800 non-null   int64\n",
      " 1   anime_id  2800 non-null   int64\n",
      " 2   rating    2800 non-null   int64\n",
      "dtypes: int64(3)\n",
      "memory usage: 87.5 KB\n",
      "None\n",
      "<class 'pandas.core.frame.DataFrame'>\n",
      "Index: 2800 entries, 146312 to 1158091\n",
      "Data columns (total 3 columns):\n",
      " #   Column    Non-Null Count  Dtype\n",
      "---  ------    --------------  -----\n",
      " 0   user_id   2800 non-null   int64\n",
      " 1   anime_id  2800 non-null   int64\n",
      " 2   rating    2800 non-null   int64\n",
      "dtypes: int64(3)\n",
      "memory usage: 87.5 KB\n",
      "None\n",
      "<class 'pandas.core.frame.DataFrame'>\n",
      "Index: 2800 entries, 1158104 to 7736697\n",
      "Data columns (total 3 columns):\n",
      " #   Column    Non-Null Count  Dtype\n",
      "---  ------    --------------  -----\n",
      " 0   user_id   2800 non-null   int64\n",
      " 1   anime_id  2800 non-null   int64\n",
      " 2   rating    2800 non-null   int64\n",
      "dtypes: int64(3)\n",
      "memory usage: 87.5 KB\n",
      "None\n"
     ]
    }
   ],
   "source": [
    "partition_size = int(len(df_unique_anime)/4)\n",
    "df_unique_anime_damien = df_unique_anime[:partition_size]\n",
    "df_unique_anime_leroy = df_unique_anime[partition_size:2*partition_size]\n",
    "df_unique_anime_rosamund = df_unique_anime[2*partition_size:3*partition_size]\n",
    "df_unique_anime_kenneth = df_unique_anime[3*partition_size:4*partition_size]\n",
    "\n",
    "print(df_unique_anime_damien.info())\n",
    "print(df_unique_anime_leroy.info())\n",
    "print(df_unique_anime_rosamund.info())\n",
    "print(df_unique_anime_kenneth.info())"
   ]
  },
  {
   "cell_type": "code",
   "execution_count": null,
   "metadata": {},
   "outputs": [],
   "source": [
    "# Export unique anime IDs for separate scrapy scraping\n",
    "df_unique_anime_damien.to_csv(\"../data/01_raw/rating_damien.csv\")\n",
    "df_unique_anime_leroy.to_csv(\"../data/01_raw/rating_leroy.csv\")\n",
    "df_unique_anime_rosamund.to_csv(\"../data/01_raw/rating_rosamund.csv\")\n",
    "df_unique_anime_kenneth.to_csv(\"../data/01_raw/rating_kenneth.csv\")"
   ]
  }
 ],
 "metadata": {
  "kernelspec": {
   "display_name": "cs608_p2",
   "language": "python",
   "name": "python3"
  },
  "language_info": {
   "codemirror_mode": {
    "name": "ipython",
    "version": 3
   },
   "file_extension": ".py",
   "mimetype": "text/x-python",
   "name": "python",
   "nbconvert_exporter": "python",
   "pygments_lexer": "ipython3",
   "version": "3.11.9"
  }
 },
 "nbformat": 4,
 "nbformat_minor": 2
}
