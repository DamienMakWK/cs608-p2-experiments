{
 "cells": [
  {
   "cell_type": "markdown",
   "metadata": {},
   "source": [
    "# Imports"
   ]
  },
  {
   "cell_type": "code",
   "execution_count": 119,
   "metadata": {},
   "outputs": [
    {
     "name": "stdout",
     "output_type": "stream",
     "text": [
      "System version: 3.9.19 (main, Mar 21 2024, 17:21:27) [MSC v.1916 64 bit (AMD64)]\n",
      "Cornac version: 2.1\n",
      "Tensorflow version: 2.16.1\n"
     ]
    }
   ],
   "source": [
    "import os\n",
    "import sys\n",
    "import itertools\n",
    "from collections import defaultdict\n",
    "\n",
    "import scipy.sparse as sp\n",
    "import numpy as np\n",
    "import pandas as pd\n",
    "import seaborn as sns\n",
    "import matplotlib.pyplot as plt\n",
    "%matplotlib inline\n",
    "\n",
    "from adjustText import adjust_text\n",
    "\n",
    "from PIL import Image\n",
    "import requests\n",
    "from io import BytesIO\n",
    "\n",
    "import cornac\n",
    "from cornac.utils import cache\n",
    "from cornac.data import Dataset\n",
    "from cornac.eval_methods import RatioSplit\n",
    "from cornac.models import MF, WMF, EASE, VBPR, CTR\n",
    "from cornac.models.dmrl import DMRL\n",
    "from cornac.data import TextModality, ImageModality\n",
    "\n",
    "import tensorflow as tf\n",
    "\n",
    "print(f\"System version: {sys.version}\")\n",
    "print(f\"Cornac version: {cornac.__version__}\")\n",
    "print(f\"Tensorflow version: {tf.__version__}\")\n",
    "\n",
    "SEED = 42\n",
    "VERBOSE = False"
   ]
  },
  {
   "cell_type": "markdown",
   "metadata": {},
   "source": [
    "# Load dataset"
   ]
  },
  {
   "cell_type": "code",
   "execution_count": 3,
   "metadata": {},
   "outputs": [],
   "source": [
    "# ratings.csv straight from kaggle\n",
    "ratings_path = '../data/01_raw/rating.csv'\n",
    "\n",
    "# anime_final_cleaned.csv is a processed csv file combined from kaggle and scraping\n",
    "# where anime without either a synopsis and/or a cover image were removed from the df.\n",
    "anime_path = '../data/03_primary/anime_final_cleaned.csv'"
   ]
  },
  {
   "cell_type": "code",
   "execution_count": 4,
   "metadata": {},
   "outputs": [],
   "source": [
    "ratings = pd.read_csv(ratings_path)\n",
    "content = pd.read_csv(anime_path)"
   ]
  },
  {
   "cell_type": "code",
   "execution_count": 75,
   "metadata": {},
   "outputs": [
    {
     "data": {
      "text/html": [
       "<div>\n",
       "<style scoped>\n",
       "    .dataframe tbody tr th:only-of-type {\n",
       "        vertical-align: middle;\n",
       "    }\n",
       "\n",
       "    .dataframe tbody tr th {\n",
       "        vertical-align: top;\n",
       "    }\n",
       "\n",
       "    .dataframe thead th {\n",
       "        text-align: right;\n",
       "    }\n",
       "</style>\n",
       "<table border=\"1\" class=\"dataframe\">\n",
       "  <thead>\n",
       "    <tr style=\"text-align: right;\">\n",
       "      <th></th>\n",
       "      <th>user_id</th>\n",
       "      <th>anime_id</th>\n",
       "      <th>rating</th>\n",
       "    </tr>\n",
       "  </thead>\n",
       "  <tbody>\n",
       "    <tr>\n",
       "      <th>0</th>\n",
       "      <td>1</td>\n",
       "      <td>20</td>\n",
       "      <td>-1</td>\n",
       "    </tr>\n",
       "    <tr>\n",
       "      <th>1</th>\n",
       "      <td>1</td>\n",
       "      <td>24</td>\n",
       "      <td>-1</td>\n",
       "    </tr>\n",
       "    <tr>\n",
       "      <th>2</th>\n",
       "      <td>1</td>\n",
       "      <td>79</td>\n",
       "      <td>-1</td>\n",
       "    </tr>\n",
       "    <tr>\n",
       "      <th>3</th>\n",
       "      <td>1</td>\n",
       "      <td>226</td>\n",
       "      <td>-1</td>\n",
       "    </tr>\n",
       "    <tr>\n",
       "      <th>4</th>\n",
       "      <td>1</td>\n",
       "      <td>241</td>\n",
       "      <td>-1</td>\n",
       "    </tr>\n",
       "  </tbody>\n",
       "</table>\n",
       "</div>"
      ],
      "text/plain": [
       "   user_id  anime_id  rating\n",
       "0        1        20      -1\n",
       "1        1        24      -1\n",
       "2        1        79      -1\n",
       "3        1       226      -1\n",
       "4        1       241      -1"
      ]
     },
     "execution_count": 75,
     "metadata": {},
     "output_type": "execute_result"
    }
   ],
   "source": [
    "ratings.head()"
   ]
  },
  {
   "cell_type": "code",
   "execution_count": 76,
   "metadata": {},
   "outputs": [
    {
     "data": {
      "text/html": [
       "<div>\n",
       "<style scoped>\n",
       "    .dataframe tbody tr th:only-of-type {\n",
       "        vertical-align: middle;\n",
       "    }\n",
       "\n",
       "    .dataframe tbody tr th {\n",
       "        vertical-align: top;\n",
       "    }\n",
       "\n",
       "    .dataframe thead th {\n",
       "        text-align: right;\n",
       "    }\n",
       "</style>\n",
       "<table border=\"1\" class=\"dataframe\">\n",
       "  <thead>\n",
       "    <tr style=\"text-align: right;\">\n",
       "      <th></th>\n",
       "      <th>anime_id</th>\n",
       "      <th>name</th>\n",
       "      <th>type</th>\n",
       "      <th>episodes</th>\n",
       "      <th>mal_score</th>\n",
       "      <th>members</th>\n",
       "      <th>studio</th>\n",
       "      <th>release-season</th>\n",
       "      <th>release-year</th>\n",
       "      <th>release-date</th>\n",
       "      <th>...</th>\n",
       "      <th>themes</th>\n",
       "      <th>demographics</th>\n",
       "      <th>synopsis</th>\n",
       "      <th>image_url</th>\n",
       "      <th>rating</th>\n",
       "      <th>va_list</th>\n",
       "      <th>staff_list</th>\n",
       "      <th>recommended_review_count</th>\n",
       "      <th>mixedfeelings_review_count</th>\n",
       "      <th>notrecommended_review_count</th>\n",
       "    </tr>\n",
       "  </thead>\n",
       "  <tbody>\n",
       "    <tr>\n",
       "      <th>0</th>\n",
       "      <td>1</td>\n",
       "      <td>Cowboy Bebop</td>\n",
       "      <td>TV</td>\n",
       "      <td>26</td>\n",
       "      <td>8.82</td>\n",
       "      <td>486824</td>\n",
       "      <td>['Sunrise']</td>\n",
       "      <td>spring</td>\n",
       "      <td>1998.0</td>\n",
       "      <td>NaN</td>\n",
       "      <td>...</td>\n",
       "      <td>[]</td>\n",
       "      <td>NaN</td>\n",
       "      <td>Crime is timeless. By the year 2071, humanity ...</td>\n",
       "      <td>https://cdn.myanimelist.net/images/anime/4/196...</td>\n",
       "      <td>R - 17+ (violence &amp; profanity)</td>\n",
       "      <td>['Yamadera, Kouichi', 'Hayashibara, Megumi', '...</td>\n",
       "      <td>['Cook, Justin', 'Maseba, Yutaka', 'Minami, Ma...</td>\n",
       "      <td>539</td>\n",
       "      <td>38</td>\n",
       "      <td>17</td>\n",
       "    </tr>\n",
       "    <tr>\n",
       "      <th>1</th>\n",
       "      <td>5</td>\n",
       "      <td>Cowboy Bebop: Tengoku no Tobira</td>\n",
       "      <td>Movie</td>\n",
       "      <td>1</td>\n",
       "      <td>8.40</td>\n",
       "      <td>137636</td>\n",
       "      <td>['Bones']</td>\n",
       "      <td>summer</td>\n",
       "      <td>2001.0</td>\n",
       "      <td>NaN</td>\n",
       "      <td>...</td>\n",
       "      <td>[]</td>\n",
       "      <td>NaN</td>\n",
       "      <td>Another day, another bounty—such is the life o...</td>\n",
       "      <td>https://cdn.myanimelist.net/images/anime/1439/...</td>\n",
       "      <td>R - 17+ (violence &amp; profanity)</td>\n",
       "      <td>['Yamadera, Kouichi', 'Hayashibara, Megumi', '...</td>\n",
       "      <td>['Maseba, Yutaka', 'Minami, Masahiko', 'Ueda, ...</td>\n",
       "      <td>62</td>\n",
       "      <td>8</td>\n",
       "      <td>3</td>\n",
       "    </tr>\n",
       "    <tr>\n",
       "      <th>2</th>\n",
       "      <td>6</td>\n",
       "      <td>Trigun</td>\n",
       "      <td>TV</td>\n",
       "      <td>26</td>\n",
       "      <td>8.32</td>\n",
       "      <td>283069</td>\n",
       "      <td>['Madhouse']</td>\n",
       "      <td>spring</td>\n",
       "      <td>1998.0</td>\n",
       "      <td>NaN</td>\n",
       "      <td>...</td>\n",
       "      <td>['Adult Cast']</td>\n",
       "      <td>Shounen</td>\n",
       "      <td>Vash the Stampede is the man with a $$60,000,0...</td>\n",
       "      <td>https://cdn.myanimelist.net/images/anime/7/203...</td>\n",
       "      <td>PG-13 - Teens 13 or older</td>\n",
       "      <td>['Onosaka, Masaya', 'Hayami, Show', 'Yukino, S...</td>\n",
       "      <td>['Cook, Justin', 'Maseba, Yutaka', 'Kitayama, ...</td>\n",
       "      <td>151</td>\n",
       "      <td>16</td>\n",
       "      <td>9</td>\n",
       "    </tr>\n",
       "    <tr>\n",
       "      <th>3</th>\n",
       "      <td>7</td>\n",
       "      <td>Witch Hunter Robin</td>\n",
       "      <td>TV</td>\n",
       "      <td>26</td>\n",
       "      <td>7.36</td>\n",
       "      <td>64905</td>\n",
       "      <td>['Sunrise']</td>\n",
       "      <td>summer</td>\n",
       "      <td>2002.0</td>\n",
       "      <td>NaN</td>\n",
       "      <td>...</td>\n",
       "      <td>[]</td>\n",
       "      <td>NaN</td>\n",
       "      <td>Robin Sena is a powerful craft user drafted in...</td>\n",
       "      <td>https://cdn.myanimelist.net/images/anime/10/19...</td>\n",
       "      <td>PG-13 - Teens 13 or older</td>\n",
       "      <td>['Watanabe, Akeno', 'Takewaka, Takuma', 'Yuuki...</td>\n",
       "      <td>['Murase, Shukou', 'Fujino, Sadayoshi', 'Miyat...</td>\n",
       "      <td>28</td>\n",
       "      <td>6</td>\n",
       "      <td>4</td>\n",
       "    </tr>\n",
       "    <tr>\n",
       "      <th>4</th>\n",
       "      <td>8</td>\n",
       "      <td>Beet the Vandel Buster</td>\n",
       "      <td>TV</td>\n",
       "      <td>52</td>\n",
       "      <td>7.06</td>\n",
       "      <td>9848</td>\n",
       "      <td>['Toei Animation']</td>\n",
       "      <td>fall</td>\n",
       "      <td>2004.0</td>\n",
       "      <td>NaN</td>\n",
       "      <td>...</td>\n",
       "      <td>[]</td>\n",
       "      <td>NaN</td>\n",
       "      <td>It is the dark century and the people are suff...</td>\n",
       "      <td>https://cdn.myanimelist.net/images/anime/7/215...</td>\n",
       "      <td>PG - Children</td>\n",
       "      <td>['Kiuchi, Reiko', 'Hisakawa, Aya', 'Miura, Hir...</td>\n",
       "      <td>['Seki, Hiromi', 'Nagamine, Tatsuya', 'Yamauch...</td>\n",
       "      <td>3</td>\n",
       "      <td>1</td>\n",
       "      <td>0</td>\n",
       "    </tr>\n",
       "  </tbody>\n",
       "</table>\n",
       "<p>5 rows × 22 columns</p>\n",
       "</div>"
      ],
      "text/plain": [
       "   anime_id                             name   type episodes  mal_score  \\\n",
       "0         1                     Cowboy Bebop     TV       26       8.82   \n",
       "1         5  Cowboy Bebop: Tengoku no Tobira  Movie        1       8.40   \n",
       "2         6                           Trigun     TV       26       8.32   \n",
       "3         7               Witch Hunter Robin     TV       26       7.36   \n",
       "4         8           Beet the Vandel Buster     TV       52       7.06   \n",
       "\n",
       "   members              studio release-season  release-year  release-date  \\\n",
       "0   486824         ['Sunrise']         spring        1998.0           NaN   \n",
       "1   137636           ['Bones']         summer        2001.0           NaN   \n",
       "2   283069        ['Madhouse']         spring        1998.0           NaN   \n",
       "3    64905         ['Sunrise']         summer        2002.0           NaN   \n",
       "4     9848  ['Toei Animation']           fall        2004.0           NaN   \n",
       "\n",
       "   ...          themes demographics  \\\n",
       "0  ...              []          NaN   \n",
       "1  ...              []          NaN   \n",
       "2  ...  ['Adult Cast']      Shounen   \n",
       "3  ...              []          NaN   \n",
       "4  ...              []          NaN   \n",
       "\n",
       "                                            synopsis  \\\n",
       "0  Crime is timeless. By the year 2071, humanity ...   \n",
       "1  Another day, another bounty—such is the life o...   \n",
       "2  Vash the Stampede is the man with a $$60,000,0...   \n",
       "3  Robin Sena is a powerful craft user drafted in...   \n",
       "4  It is the dark century and the people are suff...   \n",
       "\n",
       "                                           image_url  \\\n",
       "0  https://cdn.myanimelist.net/images/anime/4/196...   \n",
       "1  https://cdn.myanimelist.net/images/anime/1439/...   \n",
       "2  https://cdn.myanimelist.net/images/anime/7/203...   \n",
       "3  https://cdn.myanimelist.net/images/anime/10/19...   \n",
       "4  https://cdn.myanimelist.net/images/anime/7/215...   \n",
       "\n",
       "                           rating  \\\n",
       "0  R - 17+ (violence & profanity)   \n",
       "1  R - 17+ (violence & profanity)   \n",
       "2       PG-13 - Teens 13 or older   \n",
       "3       PG-13 - Teens 13 or older   \n",
       "4                   PG - Children   \n",
       "\n",
       "                                             va_list  \\\n",
       "0  ['Yamadera, Kouichi', 'Hayashibara, Megumi', '...   \n",
       "1  ['Yamadera, Kouichi', 'Hayashibara, Megumi', '...   \n",
       "2  ['Onosaka, Masaya', 'Hayami, Show', 'Yukino, S...   \n",
       "3  ['Watanabe, Akeno', 'Takewaka, Takuma', 'Yuuki...   \n",
       "4  ['Kiuchi, Reiko', 'Hisakawa, Aya', 'Miura, Hir...   \n",
       "\n",
       "                                          staff_list recommended_review_count  \\\n",
       "0  ['Cook, Justin', 'Maseba, Yutaka', 'Minami, Ma...                      539   \n",
       "1  ['Maseba, Yutaka', 'Minami, Masahiko', 'Ueda, ...                       62   \n",
       "2  ['Cook, Justin', 'Maseba, Yutaka', 'Kitayama, ...                      151   \n",
       "3  ['Murase, Shukou', 'Fujino, Sadayoshi', 'Miyat...                       28   \n",
       "4  ['Seki, Hiromi', 'Nagamine, Tatsuya', 'Yamauch...                        3   \n",
       "\n",
       "  mixedfeelings_review_count  notrecommended_review_count  \n",
       "0                         38                           17  \n",
       "1                          8                            3  \n",
       "2                         16                            9  \n",
       "3                          6                            4  \n",
       "4                          1                            0  \n",
       "\n",
       "[5 rows x 22 columns]"
      ]
     },
     "execution_count": 76,
     "metadata": {},
     "output_type": "execute_result"
    }
   ],
   "source": [
    "content.head()"
   ]
  },
  {
   "cell_type": "markdown",
   "metadata": {},
   "source": [
    "# Preprocessing"
   ]
  },
  {
   "cell_type": "code",
   "execution_count": 7,
   "metadata": {},
   "outputs": [
    {
     "name": "stdout",
     "output_type": "stream",
     "text": [
      "number of users = 73515\n"
     ]
    }
   ],
   "source": [
    "# clean user_id\n",
    "all_users = ratings['user_id'].unique()\n",
    "print(f\"number of users = {len(all_users)}\")"
   ]
  },
  {
   "cell_type": "code",
   "execution_count": 8,
   "metadata": {},
   "outputs": [
    {
     "name": "stdout",
     "output_type": "stream",
     "text": [
      "user_id ranges from: 1 to 73516\n"
     ]
    }
   ],
   "source": [
    "print(f\"user_id ranges from: {ratings['user_id'].min()} to {ratings['user_id'].max()}\")"
   ]
  },
  {
   "cell_type": "markdown",
   "metadata": {},
   "source": [
    "There is a single missing user_id within the range. To find out the missing value and remap the user_ids."
   ]
  },
  {
   "cell_type": "code",
   "execution_count": 9,
   "metadata": {},
   "outputs": [
    {
     "data": {
      "text/plain": [
       "46809.0"
      ]
     },
     "execution_count": 9,
     "metadata": {},
     "output_type": "execute_result"
    }
   ],
   "source": [
    "max = ratings['user_id'].max()\n",
    "# use property of arithmetic series :) (thanks leetcode! O(1))\n",
    "missing = (max * (max+1)) / 2 - all_users.sum()\n",
    "missing"
   ]
  },
  {
   "cell_type": "code",
   "execution_count": 10,
   "metadata": {},
   "outputs": [
    {
     "data": {
      "text/plain": [
       "False"
      ]
     },
     "execution_count": 10,
     "metadata": {},
     "output_type": "execute_result"
    }
   ],
   "source": [
    "# double check whether that really is the missing user_id\n",
    "id_46809_in_users = 46809 in all_users\n",
    "id_46809_in_users"
   ]
  },
  {
   "cell_type": "code",
   "execution_count": 11,
   "metadata": {},
   "outputs": [
    {
     "data": {
      "text/plain": [
       "True"
      ]
     },
     "execution_count": 11,
     "metadata": {},
     "output_type": "execute_result"
    }
   ],
   "source": [
    "# double check whether all other values are present in the column. O(n)\n",
    "all_users_set = set(all_users)\n",
    "all_others_present = True\n",
    "for user in range(1, ratings['user_id'].max() + 1):\n",
    "    if user == 46809:\n",
    "        continue\n",
    "    else:\n",
    "        if user in all_users_set:\n",
    "            continue\n",
    "        all_others_present = False\n",
    "        break\n",
    "    \n",
    "all_others_present"
   ]
  },
  {
   "cell_type": "code",
   "execution_count": 12,
   "metadata": {},
   "outputs": [
    {
     "data": {
      "text/html": [
       "<div>\n",
       "<style scoped>\n",
       "    .dataframe tbody tr th:only-of-type {\n",
       "        vertical-align: middle;\n",
       "    }\n",
       "\n",
       "    .dataframe tbody tr th {\n",
       "        vertical-align: top;\n",
       "    }\n",
       "\n",
       "    .dataframe thead th {\n",
       "        text-align: right;\n",
       "    }\n",
       "</style>\n",
       "<table border=\"1\" class=\"dataframe\">\n",
       "  <thead>\n",
       "    <tr style=\"text-align: right;\">\n",
       "      <th></th>\n",
       "      <th>user_id</th>\n",
       "      <th>anime_id</th>\n",
       "      <th>rating</th>\n",
       "    </tr>\n",
       "  </thead>\n",
       "  <tbody>\n",
       "    <tr>\n",
       "      <th>7813735</th>\n",
       "      <td>73516</td>\n",
       "      <td>790</td>\n",
       "      <td>9</td>\n",
       "    </tr>\n",
       "    <tr>\n",
       "      <th>7813736</th>\n",
       "      <td>73516</td>\n",
       "      <td>8074</td>\n",
       "      <td>9</td>\n",
       "    </tr>\n",
       "  </tbody>\n",
       "</table>\n",
       "</div>"
      ],
      "text/plain": [
       "         user_id  anime_id  rating\n",
       "7813735    73516       790       9\n",
       "7813736    73516      8074       9"
      ]
     },
     "execution_count": 12,
     "metadata": {},
     "output_type": "execute_result"
    }
   ],
   "source": [
    "# instead of remapping the entire user_id column, we can just change the id of last user 73516 to 46809.\n",
    "ratings[ratings[\"user_id\"]==73516]"
   ]
  },
  {
   "cell_type": "code",
   "execution_count": 13,
   "metadata": {},
   "outputs": [
    {
     "data": {
      "text/html": [
       "<div>\n",
       "<style scoped>\n",
       "    .dataframe tbody tr th:only-of-type {\n",
       "        vertical-align: middle;\n",
       "    }\n",
       "\n",
       "    .dataframe tbody tr th {\n",
       "        vertical-align: top;\n",
       "    }\n",
       "\n",
       "    .dataframe thead th {\n",
       "        text-align: right;\n",
       "    }\n",
       "</style>\n",
       "<table border=\"1\" class=\"dataframe\">\n",
       "  <thead>\n",
       "    <tr style=\"text-align: right;\">\n",
       "      <th></th>\n",
       "      <th>user_id</th>\n",
       "      <th>anime_id</th>\n",
       "      <th>rating</th>\n",
       "    </tr>\n",
       "  </thead>\n",
       "  <tbody>\n",
       "    <tr>\n",
       "      <th>7813735</th>\n",
       "      <td>46809</td>\n",
       "      <td>790</td>\n",
       "      <td>9</td>\n",
       "    </tr>\n",
       "    <tr>\n",
       "      <th>7813736</th>\n",
       "      <td>46809</td>\n",
       "      <td>8074</td>\n",
       "      <td>9</td>\n",
       "    </tr>\n",
       "  </tbody>\n",
       "</table>\n",
       "</div>"
      ],
      "text/plain": [
       "         user_id  anime_id  rating\n",
       "7813735    46809       790       9\n",
       "7813736    46809      8074       9"
      ]
     },
     "execution_count": 13,
     "metadata": {},
     "output_type": "execute_result"
    }
   ],
   "source": [
    "ratings[\"user_id\"] = ratings[\"user_id\"].replace(73516, 46809)\n",
    "ratings[ratings[\"user_id\"]==46809]"
   ]
  },
  {
   "cell_type": "code",
   "execution_count": 14,
   "metadata": {},
   "outputs": [
    {
     "data": {
      "text/html": [
       "<div>\n",
       "<style scoped>\n",
       "    .dataframe tbody tr th:only-of-type {\n",
       "        vertical-align: middle;\n",
       "    }\n",
       "\n",
       "    .dataframe tbody tr th {\n",
       "        vertical-align: top;\n",
       "    }\n",
       "\n",
       "    .dataframe thead th {\n",
       "        text-align: right;\n",
       "    }\n",
       "</style>\n",
       "<table border=\"1\" class=\"dataframe\">\n",
       "  <thead>\n",
       "    <tr style=\"text-align: right;\">\n",
       "      <th></th>\n",
       "      <th>user_id</th>\n",
       "      <th>anime_id</th>\n",
       "      <th>rating</th>\n",
       "    </tr>\n",
       "  </thead>\n",
       "  <tbody>\n",
       "    <tr>\n",
       "      <th>4458436</th>\n",
       "      <td>1</td>\n",
       "      <td>8407</td>\n",
       "      <td>-1</td>\n",
       "    </tr>\n",
       "    <tr>\n",
       "      <th>5764696</th>\n",
       "      <td>1</td>\n",
       "      <td>13411</td>\n",
       "      <td>-1</td>\n",
       "    </tr>\n",
       "    <tr>\n",
       "      <th>4946889</th>\n",
       "      <td>1</td>\n",
       "      <td>10073</td>\n",
       "      <td>-1</td>\n",
       "    </tr>\n",
       "    <tr>\n",
       "      <th>5755528</th>\n",
       "      <td>1</td>\n",
       "      <td>13367</td>\n",
       "      <td>-1</td>\n",
       "    </tr>\n",
       "    <tr>\n",
       "      <th>4950590</th>\n",
       "      <td>1</td>\n",
       "      <td>10076</td>\n",
       "      <td>-1</td>\n",
       "    </tr>\n",
       "    <tr>\n",
       "      <th>...</th>\n",
       "      <td>...</td>\n",
       "      <td>...</td>\n",
       "      <td>...</td>\n",
       "    </tr>\n",
       "    <tr>\n",
       "      <th>2349703</th>\n",
       "      <td>73515</td>\n",
       "      <td>1818</td>\n",
       "      <td>9</td>\n",
       "    </tr>\n",
       "    <tr>\n",
       "      <th>1038389</th>\n",
       "      <td>73515</td>\n",
       "      <td>411</td>\n",
       "      <td>9</td>\n",
       "    </tr>\n",
       "    <tr>\n",
       "      <th>5471551</th>\n",
       "      <td>73515</td>\n",
       "      <td>11751</td>\n",
       "      <td>6</td>\n",
       "    </tr>\n",
       "    <tr>\n",
       "      <th>4172236</th>\n",
       "      <td>73515</td>\n",
       "      <td>6919</td>\n",
       "      <td>7</td>\n",
       "    </tr>\n",
       "    <tr>\n",
       "      <th>4184945</th>\n",
       "      <td>73515</td>\n",
       "      <td>6954</td>\n",
       "      <td>6</td>\n",
       "    </tr>\n",
       "  </tbody>\n",
       "</table>\n",
       "<p>7807674 rows × 3 columns</p>\n",
       "</div>"
      ],
      "text/plain": [
       "         user_id  anime_id  rating\n",
       "4458436        1      8407      -1\n",
       "5764696        1     13411      -1\n",
       "4946889        1     10073      -1\n",
       "5755528        1     13367      -1\n",
       "4950590        1     10076      -1\n",
       "...          ...       ...     ...\n",
       "2349703    73515      1818       9\n",
       "1038389    73515       411       9\n",
       "5471551    73515     11751       6\n",
       "4172236    73515      6919       7\n",
       "4184945    73515      6954       6\n",
       "\n",
       "[7807674 rows x 3 columns]"
      ]
     },
     "execution_count": 14,
     "metadata": {},
     "output_type": "execute_result"
    }
   ],
   "source": [
    "# discard ratings for items not in final anime list\n",
    "filtered_ratings = pd.merge(\n",
    "    content, \n",
    "    ratings, \n",
    "    on=\"anime_id\", \n",
    "    how=\"left\", \n",
    "    suffixes=[\"_left\", \"\"]\n",
    ")[[\"user_id\", \"anime_id\", \"rating\"]].sort_values(by=['user_id'])\n",
    "\n",
    "filtered_ratings"
   ]
  },
  {
   "cell_type": "code",
   "execution_count": 15,
   "metadata": {},
   "outputs": [
    {
     "name": "stdout",
     "output_type": "stream",
     "text": [
      "lost ratings due to missing synopsis and/or cover image 6063\n"
     ]
    }
   ],
   "source": [
    "# find out how many ratings were lost due to missing synopsis and/or cover image\n",
    "print(f\"lost ratings due to missing synopsis and/or cover image {len(ratings) - len(filtered_ratings)}\")"
   ]
  },
  {
   "cell_type": "code",
   "execution_count": 16,
   "metadata": {},
   "outputs": [
    {
     "data": {
      "text/html": [
       "<div>\n",
       "<style scoped>\n",
       "    .dataframe tbody tr th:only-of-type {\n",
       "        vertical-align: middle;\n",
       "    }\n",
       "\n",
       "    .dataframe tbody tr th {\n",
       "        vertical-align: top;\n",
       "    }\n",
       "\n",
       "    .dataframe thead th {\n",
       "        text-align: right;\n",
       "    }\n",
       "</style>\n",
       "<table border=\"1\" class=\"dataframe\">\n",
       "  <thead>\n",
       "    <tr style=\"text-align: right;\">\n",
       "      <th></th>\n",
       "      <th>anime_id</th>\n",
       "      <th>name</th>\n",
       "      <th>type</th>\n",
       "      <th>episodes</th>\n",
       "      <th>mal_score</th>\n",
       "      <th>members</th>\n",
       "      <th>studio</th>\n",
       "      <th>release-season</th>\n",
       "      <th>release-year</th>\n",
       "      <th>release-date</th>\n",
       "      <th>...</th>\n",
       "      <th>demographics</th>\n",
       "      <th>synopsis</th>\n",
       "      <th>image_url</th>\n",
       "      <th>rating</th>\n",
       "      <th>va_list</th>\n",
       "      <th>staff_list</th>\n",
       "      <th>recommended_review_count</th>\n",
       "      <th>mixedfeelings_review_count</th>\n",
       "      <th>notrecommended_review_count</th>\n",
       "      <th>anime_id_remapped</th>\n",
       "    </tr>\n",
       "  </thead>\n",
       "  <tbody>\n",
       "    <tr>\n",
       "      <th>0</th>\n",
       "      <td>1</td>\n",
       "      <td>Cowboy Bebop</td>\n",
       "      <td>TV</td>\n",
       "      <td>26</td>\n",
       "      <td>8.82</td>\n",
       "      <td>486824</td>\n",
       "      <td>['Sunrise']</td>\n",
       "      <td>spring</td>\n",
       "      <td>1998.0</td>\n",
       "      <td>NaN</td>\n",
       "      <td>...</td>\n",
       "      <td>NaN</td>\n",
       "      <td>Crime is timeless. By the year 2071, humanity ...</td>\n",
       "      <td>https://cdn.myanimelist.net/images/anime/4/196...</td>\n",
       "      <td>R - 17+ (violence &amp; profanity)</td>\n",
       "      <td>['Yamadera, Kouichi', 'Hayashibara, Megumi', '...</td>\n",
       "      <td>['Cook, Justin', 'Maseba, Yutaka', 'Minami, Ma...</td>\n",
       "      <td>539</td>\n",
       "      <td>38</td>\n",
       "      <td>17</td>\n",
       "      <td>1</td>\n",
       "    </tr>\n",
       "    <tr>\n",
       "      <th>1</th>\n",
       "      <td>5</td>\n",
       "      <td>Cowboy Bebop: Tengoku no Tobira</td>\n",
       "      <td>Movie</td>\n",
       "      <td>1</td>\n",
       "      <td>8.40</td>\n",
       "      <td>137636</td>\n",
       "      <td>['Bones']</td>\n",
       "      <td>summer</td>\n",
       "      <td>2001.0</td>\n",
       "      <td>NaN</td>\n",
       "      <td>...</td>\n",
       "      <td>NaN</td>\n",
       "      <td>Another day, another bounty—such is the life o...</td>\n",
       "      <td>https://cdn.myanimelist.net/images/anime/1439/...</td>\n",
       "      <td>R - 17+ (violence &amp; profanity)</td>\n",
       "      <td>['Yamadera, Kouichi', 'Hayashibara, Megumi', '...</td>\n",
       "      <td>['Maseba, Yutaka', 'Minami, Masahiko', 'Ueda, ...</td>\n",
       "      <td>62</td>\n",
       "      <td>8</td>\n",
       "      <td>3</td>\n",
       "      <td>2</td>\n",
       "    </tr>\n",
       "    <tr>\n",
       "      <th>2</th>\n",
       "      <td>6</td>\n",
       "      <td>Trigun</td>\n",
       "      <td>TV</td>\n",
       "      <td>26</td>\n",
       "      <td>8.32</td>\n",
       "      <td>283069</td>\n",
       "      <td>['Madhouse']</td>\n",
       "      <td>spring</td>\n",
       "      <td>1998.0</td>\n",
       "      <td>NaN</td>\n",
       "      <td>...</td>\n",
       "      <td>Shounen</td>\n",
       "      <td>Vash the Stampede is the man with a $$60,000,0...</td>\n",
       "      <td>https://cdn.myanimelist.net/images/anime/7/203...</td>\n",
       "      <td>PG-13 - Teens 13 or older</td>\n",
       "      <td>['Onosaka, Masaya', 'Hayami, Show', 'Yukino, S...</td>\n",
       "      <td>['Cook, Justin', 'Maseba, Yutaka', 'Kitayama, ...</td>\n",
       "      <td>151</td>\n",
       "      <td>16</td>\n",
       "      <td>9</td>\n",
       "      <td>3</td>\n",
       "    </tr>\n",
       "    <tr>\n",
       "      <th>3</th>\n",
       "      <td>7</td>\n",
       "      <td>Witch Hunter Robin</td>\n",
       "      <td>TV</td>\n",
       "      <td>26</td>\n",
       "      <td>7.36</td>\n",
       "      <td>64905</td>\n",
       "      <td>['Sunrise']</td>\n",
       "      <td>summer</td>\n",
       "      <td>2002.0</td>\n",
       "      <td>NaN</td>\n",
       "      <td>...</td>\n",
       "      <td>NaN</td>\n",
       "      <td>Robin Sena is a powerful craft user drafted in...</td>\n",
       "      <td>https://cdn.myanimelist.net/images/anime/10/19...</td>\n",
       "      <td>PG-13 - Teens 13 or older</td>\n",
       "      <td>['Watanabe, Akeno', 'Takewaka, Takuma', 'Yuuki...</td>\n",
       "      <td>['Murase, Shukou', 'Fujino, Sadayoshi', 'Miyat...</td>\n",
       "      <td>28</td>\n",
       "      <td>6</td>\n",
       "      <td>4</td>\n",
       "      <td>4</td>\n",
       "    </tr>\n",
       "    <tr>\n",
       "      <th>4</th>\n",
       "      <td>8</td>\n",
       "      <td>Beet the Vandel Buster</td>\n",
       "      <td>TV</td>\n",
       "      <td>52</td>\n",
       "      <td>7.06</td>\n",
       "      <td>9848</td>\n",
       "      <td>['Toei Animation']</td>\n",
       "      <td>fall</td>\n",
       "      <td>2004.0</td>\n",
       "      <td>NaN</td>\n",
       "      <td>...</td>\n",
       "      <td>NaN</td>\n",
       "      <td>It is the dark century and the people are suff...</td>\n",
       "      <td>https://cdn.myanimelist.net/images/anime/7/215...</td>\n",
       "      <td>PG - Children</td>\n",
       "      <td>['Kiuchi, Reiko', 'Hisakawa, Aya', 'Miura, Hir...</td>\n",
       "      <td>['Seki, Hiromi', 'Nagamine, Tatsuya', 'Yamauch...</td>\n",
       "      <td>3</td>\n",
       "      <td>1</td>\n",
       "      <td>0</td>\n",
       "      <td>5</td>\n",
       "    </tr>\n",
       "  </tbody>\n",
       "</table>\n",
       "<p>5 rows × 23 columns</p>\n",
       "</div>"
      ],
      "text/plain": [
       "   anime_id                             name   type episodes  mal_score  \\\n",
       "0         1                     Cowboy Bebop     TV       26       8.82   \n",
       "1         5  Cowboy Bebop: Tengoku no Tobira  Movie        1       8.40   \n",
       "2         6                           Trigun     TV       26       8.32   \n",
       "3         7               Witch Hunter Robin     TV       26       7.36   \n",
       "4         8           Beet the Vandel Buster     TV       52       7.06   \n",
       "\n",
       "   members              studio release-season  release-year  release-date  \\\n",
       "0   486824         ['Sunrise']         spring        1998.0           NaN   \n",
       "1   137636           ['Bones']         summer        2001.0           NaN   \n",
       "2   283069        ['Madhouse']         spring        1998.0           NaN   \n",
       "3    64905         ['Sunrise']         summer        2002.0           NaN   \n",
       "4     9848  ['Toei Animation']           fall        2004.0           NaN   \n",
       "\n",
       "   ... demographics                                           synopsis  \\\n",
       "0  ...          NaN  Crime is timeless. By the year 2071, humanity ...   \n",
       "1  ...          NaN  Another day, another bounty—such is the life o...   \n",
       "2  ...      Shounen  Vash the Stampede is the man with a $$60,000,0...   \n",
       "3  ...          NaN  Robin Sena is a powerful craft user drafted in...   \n",
       "4  ...          NaN  It is the dark century and the people are suff...   \n",
       "\n",
       "                                           image_url  \\\n",
       "0  https://cdn.myanimelist.net/images/anime/4/196...   \n",
       "1  https://cdn.myanimelist.net/images/anime/1439/...   \n",
       "2  https://cdn.myanimelist.net/images/anime/7/203...   \n",
       "3  https://cdn.myanimelist.net/images/anime/10/19...   \n",
       "4  https://cdn.myanimelist.net/images/anime/7/215...   \n",
       "\n",
       "                           rating  \\\n",
       "0  R - 17+ (violence & profanity)   \n",
       "1  R - 17+ (violence & profanity)   \n",
       "2       PG-13 - Teens 13 or older   \n",
       "3       PG-13 - Teens 13 or older   \n",
       "4                   PG - Children   \n",
       "\n",
       "                                             va_list  \\\n",
       "0  ['Yamadera, Kouichi', 'Hayashibara, Megumi', '...   \n",
       "1  ['Yamadera, Kouichi', 'Hayashibara, Megumi', '...   \n",
       "2  ['Onosaka, Masaya', 'Hayami, Show', 'Yukino, S...   \n",
       "3  ['Watanabe, Akeno', 'Takewaka, Takuma', 'Yuuki...   \n",
       "4  ['Kiuchi, Reiko', 'Hisakawa, Aya', 'Miura, Hir...   \n",
       "\n",
       "                                          staff_list recommended_review_count  \\\n",
       "0  ['Cook, Justin', 'Maseba, Yutaka', 'Minami, Ma...                      539   \n",
       "1  ['Maseba, Yutaka', 'Minami, Masahiko', 'Ueda, ...                       62   \n",
       "2  ['Cook, Justin', 'Maseba, Yutaka', 'Kitayama, ...                      151   \n",
       "3  ['Murase, Shukou', 'Fujino, Sadayoshi', 'Miyat...                       28   \n",
       "4  ['Seki, Hiromi', 'Nagamine, Tatsuya', 'Yamauch...                        3   \n",
       "\n",
       "  mixedfeelings_review_count notrecommended_review_count  anime_id_remapped  \n",
       "0                         38                          17                  1  \n",
       "1                          8                           3                  2  \n",
       "2                         16                           9                  3  \n",
       "3                          6                           4                  4  \n",
       "4                          1                           0                  5  \n",
       "\n",
       "[5 rows x 23 columns]"
      ]
     },
     "execution_count": 16,
     "metadata": {},
     "output_type": "execute_result"
    }
   ],
   "source": [
    "# reindex items\n",
    "anime_remap = {}\n",
    "sorted_content = content.sort_values(by=['anime_id'])\n",
    "all_anime = sorted_content['anime_id'].unique()\n",
    "\n",
    "counter = 1\n",
    "for anime in all_anime:\n",
    "    anime_remap[anime] = counter\n",
    "    counter += 1\n",
    "\n",
    "content[\"anime_id_remapped\"] = content[\"anime_id\"].map(anime_remap)\n",
    "content.head()"
   ]
  },
  {
   "cell_type": "code",
   "execution_count": 17,
   "metadata": {},
   "outputs": [
    {
     "data": {
      "text/html": [
       "<div>\n",
       "<style scoped>\n",
       "    .dataframe tbody tr th:only-of-type {\n",
       "        vertical-align: middle;\n",
       "    }\n",
       "\n",
       "    .dataframe tbody tr th {\n",
       "        vertical-align: top;\n",
       "    }\n",
       "\n",
       "    .dataframe thead th {\n",
       "        text-align: right;\n",
       "    }\n",
       "</style>\n",
       "<table border=\"1\" class=\"dataframe\">\n",
       "  <thead>\n",
       "    <tr style=\"text-align: right;\">\n",
       "      <th></th>\n",
       "      <th>user_id</th>\n",
       "      <th>anime_id</th>\n",
       "      <th>rating</th>\n",
       "      <th>anime_id_remapped</th>\n",
       "    </tr>\n",
       "  </thead>\n",
       "  <tbody>\n",
       "    <tr>\n",
       "      <th>4458436</th>\n",
       "      <td>1</td>\n",
       "      <td>8407</td>\n",
       "      <td>-1</td>\n",
       "      <td>5329</td>\n",
       "    </tr>\n",
       "    <tr>\n",
       "      <th>5764696</th>\n",
       "      <td>1</td>\n",
       "      <td>13411</td>\n",
       "      <td>-1</td>\n",
       "      <td>6921</td>\n",
       "    </tr>\n",
       "    <tr>\n",
       "      <th>4946889</th>\n",
       "      <td>1</td>\n",
       "      <td>10073</td>\n",
       "      <td>-1</td>\n",
       "      <td>6016</td>\n",
       "    </tr>\n",
       "    <tr>\n",
       "      <th>5755528</th>\n",
       "      <td>1</td>\n",
       "      <td>13367</td>\n",
       "      <td>-1</td>\n",
       "      <td>6910</td>\n",
       "    </tr>\n",
       "    <tr>\n",
       "      <th>4950590</th>\n",
       "      <td>1</td>\n",
       "      <td>10076</td>\n",
       "      <td>-1</td>\n",
       "      <td>6019</td>\n",
       "    </tr>\n",
       "  </tbody>\n",
       "</table>\n",
       "</div>"
      ],
      "text/plain": [
       "         user_id  anime_id  rating  anime_id_remapped\n",
       "4458436        1      8407      -1               5329\n",
       "5764696        1     13411      -1               6921\n",
       "4946889        1     10073      -1               6016\n",
       "5755528        1     13367      -1               6910\n",
       "4950590        1     10076      -1               6019"
      ]
     },
     "execution_count": 17,
     "metadata": {},
     "output_type": "execute_result"
    }
   ],
   "source": [
    "filtered_ratings[\"anime_id_remapped\"] = filtered_ratings[\"anime_id\"].map(anime_remap)\n",
    "filtered_ratings.head()"
   ]
  },
  {
   "cell_type": "code",
   "execution_count": 18,
   "metadata": {},
   "outputs": [
    {
     "data": {
      "text/plain": [
       "0"
      ]
     },
     "execution_count": 18,
     "metadata": {},
     "output_type": "execute_result"
    }
   ],
   "source": [
    "# map came from content dataframe, double check if filtered_ratings was remapped properly\n",
    "filtered_ratings[\"anime_id_remapped\"].isna().sum()"
   ]
  },
  {
   "cell_type": "code",
   "execution_count": 19,
   "metadata": {},
   "outputs": [],
   "source": [
    "# take only the columns we want\n",
    "ratings_cleaned = filtered_ratings[[\"user_id\", \"anime_id_remapped\", \"rating\"]]"
   ]
  },
  {
   "cell_type": "markdown",
   "metadata": {},
   "source": [
    "## Sparsity calculation"
   ]
  },
  {
   "cell_type": "code",
   "execution_count": 159,
   "metadata": {},
   "outputs": [
    {
     "name": "stdout",
     "output_type": "stream",
     "text": [
      "sparsity: 0.9904267908224452\n"
     ]
    }
   ],
   "source": [
    "number_of_users = ratings_cleaned['user_id'].max()\n",
    "number_of_items = len(content)\n",
    "numner_of_interactions = len(ratings_cleaned)\n",
    "\n",
    "sparsity = 1 - numner_of_interactions / (number_of_users * number_of_items)\n",
    "print(f\"sparsity: {sparsity}\")"
   ]
  },
  {
   "cell_type": "markdown",
   "metadata": {},
   "source": [
    "# Explore different encodings"
   ]
  },
  {
   "cell_type": "code",
   "execution_count": 156,
   "metadata": {},
   "outputs": [
    {
     "data": {
      "image/png": "[encoded data removed]",
      "text/plain": [
       "<Figure size 640x480 with 1 Axes>"
      ]
     },
     "metadata": {},
     "output_type": "display_data"
    }
   ],
   "source": [
    "ratings_vc = ratings_cleaned[\"rating\"].value_counts().sort_index()\n",
    "rating_values, rating_counts = list(ratings_vc.index), list(ratings_vc.values)\n",
    "plt.bar(rating_values, rating_counts)\n",
    "plt.show()"
   ]
  },
  {
   "cell_type": "markdown",
   "metadata": {},
   "source": [
    "Users tend to rate anime with fairly high ratings, the most comming rating is 8. Ratings above 7 make up the majority of ratings. A sizable portion of interations are unrated."
   ]
  },
  {
   "cell_type": "markdown",
   "metadata": {},
   "source": [
    "## Imputation methods\n",
    "Kaggle dataset encoding \"Watched but not rated\" as -1 may cause such anime to be devalued as compared to unwatched anime. Plan to explore different encoding representations\n",
    "\n",
    "- leave \"watched but not rated\" as -1\n",
    "- convert them to 0.5 (just above unwatched, but that means less value than a 1 star rated anime which the user thinks is bad)\n",
    "- convert them to 5 (middle of the scale, but everyone's middle may be different. It seems users tend to rate a bit higher anyway so 5 may not be the best midpoint)\n",
    "- convert them to 7 (just below the \"high\" ratings)\n",
    "\n",
    "It may also be valuable to explore if binning scores can improve the rec sys"
   ]
  },
  {
   "cell_type": "code",
   "execution_count": 21,
   "metadata": {},
   "outputs": [
    {
     "data": {
      "text/plain": [
       "1474815"
      ]
     },
     "execution_count": 21,
     "metadata": {},
     "output_type": "execute_result"
    }
   ],
   "source": [
    "# count number of unrated interactions\n",
    "all_minus1 = ratings_cleaned[ratings_cleaned[\"rating\"]==-1]\n",
    "len(all_minus1)"
   ]
  },
  {
   "cell_type": "code",
   "execution_count": 22,
   "metadata": {},
   "outputs": [
    {
     "data": {
      "text/plain": [
       "37124"
      ]
     },
     "execution_count": 22,
     "metadata": {},
     "output_type": "execute_result"
    }
   ],
   "source": [
    "# find out how many users have at least 1 watched but unrated anime on their list\n",
    "users_no_rating = all_minus1[\"user_id\"].unique()\n",
    "len(users_no_rating)"
   ]
  },
  {
   "cell_type": "markdown",
   "metadata": {},
   "source": [
    "roughly half of our users have at least 1 unrated anime."
   ]
  },
  {
   "cell_type": "code",
   "execution_count": 23,
   "metadata": {},
   "outputs": [
    {
     "data": {
      "text/plain": [
       "3915"
      ]
     },
     "execution_count": 23,
     "metadata": {},
     "output_type": "execute_result"
    }
   ],
   "source": [
    "# find out how many users only have unrated anime in their list\n",
    "users_who_never_rate = []\n",
    "for user in users_no_rating:\n",
    "    all_their_ratings = ratings_cleaned[ratings_cleaned[\"user_id\"]==user][\"rating\"].unique()\n",
    "    if len(all_their_ratings) == 1:\n",
    "        users_who_never_rate.append(user)\n",
    "\n",
    "len(users_who_never_rate)"
   ]
  },
  {
   "cell_type": "markdown",
   "metadata": {},
   "source": [
    "There is a population of users who have never rated but it is a small population out of the users who have at least one \"watched but not rated\" anime. I don't think it's worth executing anything special for them."
   ]
  },
  {
   "cell_type": "markdown",
   "metadata": {},
   "source": [
    "## Explore performance of different imputation methods"
   ]
  },
  {
   "cell_type": "code",
   "execution_count": 24,
   "metadata": {},
   "outputs": [],
   "source": [
    "ratings_point5 = ratings_cleaned.copy(deep=True)\n",
    "ratings_5 = ratings_cleaned.copy(deep=True)\n",
    "ratings_7 = ratings_cleaned.copy(deep=True)\n",
    "\n",
    "ratings_point5[\"rating\"] = ratings_point5[\"rating\"].replace(-1, 0.5)\n",
    "ratings_5[\"rating\"] = ratings_5[\"rating\"].replace(-1, 5)\n",
    "ratings_7[\"rating\"] = ratings_7[\"rating\"].replace(-1, 7)"
   ]
  },
  {
   "cell_type": "markdown",
   "metadata": {},
   "source": [
    "### Save to csv (if you have not already done so)"
   ]
  },
  {
   "cell_type": "code",
   "execution_count": 98,
   "metadata": {},
   "outputs": [],
   "source": [
    "# Save these options to csv\n",
    "ratings_point5.to_csv(\"../data/05_model_input/ratings_point5.csv\", index=False)\n",
    "ratings_5.to_csv(\"../data/05_model_input/ratings_5.csv\", index=False)\n",
    "ratings_7.to_csv(\"../data/05_model_input/ratings_7.csv\", index=False)"
   ]
  },
  {
   "cell_type": "code",
   "execution_count": 160,
   "metadata": {},
   "outputs": [],
   "source": [
    "# Code to load the csvs back to dataframe\n",
    "ratings_point5 = pd.read_csv(\"../data/05_model_input/ratings_point5.csv\")\n",
    "ratings_5 = pd.read_csv(\"../data/05_model_input/ratings_5.csv\")\n",
    "ratings_7 = pd.read_csv(\"../data/05_model_input/ratings_7.csv\")"
   ]
  },
  {
   "cell_type": "markdown",
   "metadata": {},
   "source": [
    "### Convert ratings data "
   ]
  },
  {
   "cell_type": "code",
   "execution_count": 25,
   "metadata": {},
   "outputs": [],
   "source": [
    "# convert data into list of tuples\n",
    "# this version of the data did not change the -1 values\n",
    "ratings_data = [tuple(row) for row in ratings_cleaned.itertuples(index=False)]\n",
    "\n",
    "# the other versions imputed -1 to other values\n",
    "ratings_point5_data = [tuple(row) for row in ratings_point5.itertuples(index=False)]\n",
    "ratings_5_data = [tuple(row) for row in ratings_5.itertuples(index=False)]\n",
    "ratings_7_data = [tuple(row) for row in ratings_7.itertuples(index=False)]"
   ]
  },
  {
   "cell_type": "code",
   "execution_count": 70,
   "metadata": {},
   "outputs": [
    {
     "data": {
      "text/plain": [
       "7807674"
      ]
     },
     "execution_count": 70,
     "metadata": {},
     "output_type": "execute_result"
    }
   ],
   "source": [
    "len(ratings_data)"
   ]
  },
  {
   "cell_type": "code",
   "execution_count": 71,
   "metadata": {},
   "outputs": [
    {
     "data": {
      "text/plain": [
       "7807673"
      ]
     },
     "execution_count": 71,
     "metadata": {},
     "output_type": "execute_result"
    }
   ],
   "source": [
    "len(set(ratings_data))"
   ]
  },
  {
   "cell_type": "markdown",
   "metadata": {},
   "source": [
    "1 set of duplicated data but cornac can deal with it."
   ]
  },
  {
   "cell_type": "markdown",
   "metadata": {},
   "source": [
    "# Model Baselines (Ratings data only)"
   ]
  },
  {
   "cell_type": "code",
   "execution_count": 26,
   "metadata": {},
   "outputs": [],
   "source": [
    "mf10 = MF(k=10, max_iter=100, learning_rate=0.001, lambda_reg=0.01, use_bias=False,\n",
    "        verbose=VERBOSE, seed=SEED, name=f\"MF(K=10)\")\n",
    "wmf10 = WMF(k=10, max_iter=100, a=1.0, b=0.01, learning_rate=0.001, lambda_u=0.01, lambda_v=0.01,\n",
    "          verbose=VERBOSE, seed=SEED, name=f\"WMF(K=10)\")\n",
    "mf50 = MF(k=50, max_iter=100, learning_rate=0.001, lambda_reg=0.01, use_bias=False,\n",
    "        verbose=VERBOSE, seed=SEED, name=f\"MF(K=50)\")\n",
    "wmf50 = WMF(k=50, max_iter=100, a=1.0, b=0.01, learning_rate=0.001, lambda_u=0.01, lambda_v=0.01,\n",
    "          verbose=VERBOSE, seed=SEED, name=f\"WMF(K=50)\")\n",
    "mf100 = MF(k=100, max_iter=100, learning_rate=0.001, lambda_reg=0.01, use_bias=False,\n",
    "        verbose=VERBOSE, seed=SEED, name=f\"MF(K=100)\")\n",
    "wmf100 = WMF(k=100, max_iter=100, a=1.0, b=0.01, learning_rate=0.001, lambda_u=0.01, lambda_v=0.01,\n",
    "          verbose=VERBOSE, seed=SEED, name=f\"WMF(K=100)\")\n",
    "\n",
    "\n",
    "\n",
    "eval_metrics = [\n",
    "  cornac.metrics.RMSE(), \n",
    "  cornac.metrics.AUC(),\n",
    "  cornac.metrics.Precision(k=20),\n",
    "  cornac.metrics.Recall(k=20),\n",
    "  cornac.metrics.FMeasure(k=20),\n",
    "  cornac.metrics.NDCG(k=20),\n",
    "  cornac.metrics.NCRR(k=20),\n",
    "  cornac.metrics.Precision(k=50),\n",
    "  cornac.metrics.Recall(k=50),\n",
    "  cornac.metrics.FMeasure(k=50),\n",
    "  cornac.metrics.NDCG(k=50),\n",
    "  cornac.metrics.NCRR(k=50),\n",
    "  cornac.metrics.MRR(),\n",
    "  cornac.metrics.MAP()\n",
    "]"
   ]
  },
  {
   "cell_type": "markdown",
   "metadata": {},
   "source": [
    "### Unrated = -1"
   ]
  },
  {
   "cell_type": "code",
   "execution_count": 104,
   "metadata": {},
   "outputs": [
    {
     "name": "stderr",
     "output_type": "stream",
     "text": [
      "c:\\Users\\User\\anaconda3\\envs\\CS608_RecommenderSystems\\lib\\site-packages\\cornac\\data\\dataset.py:335: UserWarning: 2 duplicated observations are removed!\n",
      "  warnings.warn(\"%d duplicated observations are removed!\" % dup_count)\n",
      "c:\\Users\\User\\anaconda3\\envs\\CS608_RecommenderSystems\\lib\\site-packages\\cornac\\data\\dataset.py:335: UserWarning: 1 duplicated observations are removed!\n",
      "  warnings.warn(\"%d duplicated observations are removed!\" % dup_count)\n",
      "c:\\Users\\User\\anaconda3\\envs\\CS608_RecommenderSystems\\lib\\site-packages\\cornac\\models\\recommender.py:306: UserWarning: Model is already fitted. Re-fitting will overwrite the previous model.\n",
      "  warnings.warn(\n"
     ]
    },
    {
     "name": "stdout",
     "output_type": "stream",
     "text": [
      "\n",
      "TEST:\n",
      "...\n",
      "           |   RMSE |    AUC |  F1@20 |  F1@50 |    MAP |    MRR | NCRR@20 | NCRR@50 | NDCG@20 | NDCG@50 | Precision@20 | Precision@50 | Recall@20 | Recall@50 | Train (s) |  Test (s)\n",
      "---------- + ------ + ------ + ------ + ------ + ------ + ------ + ------- + ------- + ------- + ------- + ------------ + ------------ + --------- + --------- + --------- + ---------\n",
      "MF(K=10)   | 1.7657 | 0.8386 | 0.0227 | 0.0268 | 0.0281 | 0.0939 |  0.0388 |  0.0411 |  0.0427 |  0.0541 |       0.0256 |       0.0220 |    0.0468 |    0.0874 |   53.3032 |  821.1504\n",
      "WMF(K=10)  | 2.9126 | 0.9429 | 0.1091 | 0.1112 | 0.1156 | 0.3346 |  0.1755 |  0.1821 |  0.1821 |  0.2173 |       0.1168 |       0.0877 |    0.1821 |    0.3084 | 2929.6227 |  554.2180\n",
      "MF(K=50)   | 1.8317 | 0.8485 | 0.0360 | 0.0375 | 0.0443 | 0.1523 |  0.0676 |  0.0702 |  0.0727 |  0.0874 |       0.0379 |       0.0298 |    0.0802 |    0.1339 |  234.4542 | 1027.7630\n",
      "WMF(K=50)  | 2.8600 | 0.9505 | 0.1130 | 0.1149 | 0.1237 | 0.3616 |  0.1903 |  0.1965 |  0.1942 |  0.2301 |       0.1206 |       0.0904 |    0.1920 |    0.3229 | 3851.1581 |  647.1933\n",
      "MF(K=100)  | 1.8455 | 0.8516 | 0.0392 | 0.0401 | 0.0483 | 0.1651 |  0.0740 |  0.0770 |  0.0794 |  0.0953 |       0.0404 |       0.0315 |    0.0874 |    0.1442 |  389.1317 |  866.8634\n",
      "WMF(K=100) | 2.7978 | 0.9537 | 0.1235 | 0.1234 | 0.1411 | 0.3969 |  0.2141 |  0.2210 |  0.2168 |  0.2551 |       0.1302 |       0.0965 |    0.2128 |    0.3508 | 3488.5608 |  502.9112\n",
      "\n"
     ]
    }
   ],
   "source": [
    "rs = RatioSplit(ratings_data, test_size=0.2, seed=SEED, verbose=VERBOSE)\n",
    "\n",
    "cornac.Experiment(eval_method=rs, models=[\n",
    "        mf10, wmf10,\n",
    "        mf50, wmf50,\n",
    "        mf100, wmf100], metrics=eval_metrics).run()"
   ]
  },
  {
   "cell_type": "markdown",
   "metadata": {},
   "source": [
    "### Unrated = 0.5"
   ]
  },
  {
   "cell_type": "code",
   "execution_count": 105,
   "metadata": {},
   "outputs": [
    {
     "name": "stdout",
     "output_type": "stream",
     "text": [
      "\n",
      "TEST:\n",
      "...\n",
      "           |   RMSE |    AUC |  F1@20 |  F1@50 |    MAP |    MRR | NCRR@20 | NCRR@50 | NDCG@20 | NDCG@50 | Precision@20 | Precision@50 | Recall@20 | Recall@50 | Train (s) | Test (s)\n",
      "---------- + ------ + ------ + ------ + ------ + ------ + ------ + ------- + ------- + ------- + ------- + ------------ + ------------ + --------- + --------- + --------- + --------\n",
      "MF(K=10)   | 1.6091 | 0.8377 | 0.0188 | 0.0232 | 0.0239 | 0.0760 |  0.0305 |  0.0326 |  0.0346 |  0.0450 |       0.0216 |       0.0193 |    0.0391 |    0.0754 |   50.4856 | 752.1639\n",
      "WMF(K=10)  | 2.6952 | 0.9697 | 0.1169 | 0.1184 | 0.1281 | 0.3558 |  0.1905 |  0.1981 |  0.1984 |  0.2373 |       0.1233 |       0.0929 |    0.2027 |    0.3393 | 2634.4292 | 461.5037\n",
      "MF(K=50)   | 1.7170 | 0.8422 | 0.0276 | 0.0297 | 0.0374 | 0.1167 |  0.0519 |  0.0544 |  0.0580 |  0.0708 |       0.0292 |       0.0239 |    0.0676 |    0.1134 |  192.9291 | 720.4256\n",
      "WMF(K=50)  | 2.6045 | 0.9716 | 0.1276 | 0.1284 | 0.1439 | 0.3845 |  0.2105 |  0.2186 |  0.2191 |  0.2606 |       0.1338 |       0.1003 |    0.2235 |    0.3683 | 2721.2458 | 486.4870\n",
      "MF(K=100)  | 1.7353 | 0.8485 | 0.0333 | 0.0343 | 0.0442 | 0.1414 |  0.0636 |  0.0665 |  0.0698 |  0.0847 |       0.0337 |       0.0268 |    0.0798 |    0.1319 |  335.6399 | 733.9448\n",
      "WMF(K=100) | 2.6334 | 0.9701 | 0.1353 | 0.1342 | 0.1583 | 0.4105 |  0.2290 |  0.2374 |  0.2368 |  0.2795 |       0.1404 |       0.1044 |    0.2396 |    0.3875 | 3158.6957 | 484.9616\n",
      "\n"
     ]
    }
   ],
   "source": [
    "rs = RatioSplit(ratings_point5_data, test_size=0.2, seed=SEED, verbose=VERBOSE)\n",
    "\n",
    "cornac.Experiment(eval_method=rs, models=[\n",
    "        mf10, wmf10,\n",
    "        mf50, wmf50,\n",
    "        mf100, wmf100], metrics=eval_metrics).run()"
   ]
  },
  {
   "cell_type": "markdown",
   "metadata": {},
   "source": [
    "### Unrated = 5"
   ]
  },
  {
   "cell_type": "code",
   "execution_count": 112,
   "metadata": {},
   "outputs": [
    {
     "name": "stderr",
     "output_type": "stream",
     "text": [
      "c:\\Users\\User\\anaconda3\\envs\\CS608_RecommenderSystems\\lib\\site-packages\\cornac\\data\\dataset.py:335: UserWarning: 2 duplicated observations are removed!\n",
      "  warnings.warn(\"%d duplicated observations are removed!\" % dup_count)\n"
     ]
    },
    {
     "name": "stderr",
     "output_type": "stream",
     "text": [
      "c:\\Users\\User\\anaconda3\\envs\\CS608_RecommenderSystems\\lib\\site-packages\\cornac\\data\\dataset.py:335: UserWarning: 1 duplicated observations are removed!\n",
      "  warnings.warn(\"%d duplicated observations are removed!\" % dup_count)\n",
      "c:\\Users\\User\\anaconda3\\envs\\CS608_RecommenderSystems\\lib\\site-packages\\cornac\\models\\recommender.py:306: UserWarning: Model is already fitted. Re-fitting will overwrite the previous model.\n",
      "  warnings.warn(\n"
     ]
    },
    {
     "name": "stdout",
     "output_type": "stream",
     "text": [
      "\n",
      "TEST:\n",
      "...\n",
      "           |   RMSE |    AUC |  F1@20 |  F1@50 |    MAP |    MRR | NCRR@20 | NCRR@50 | NDCG@20 | NDCG@50 | Precision@20 | Precision@50 | Recall@20 | Recall@50 | Train (s) |  Test (s)\n",
      "---------- + ------ + ------ + ------ + ------ + ------ + ------ + ------- + ------- + ------- + ------- + ------------ + ------------ + --------- + --------- + --------- + ---------\n",
      "MF(K=10)   | 1.1821 | 0.8191 | 0.0167 | 0.0222 | 0.0201 | 0.0581 |  0.0223 |  0.0249 |  0.0281 |  0.0381 |       0.0207 |       0.0193 |    0.0320 |    0.0651 |   59.7835 |  981.5862\n",
      "WMF(K=10)  | 2.5207 | 0.9710 | 0.1260 | 0.1315 | 0.1376 | 0.3836 |  0.2065 |  0.2142 |  0.2119 |  0.2517 |       0.1385 |       0.1057 |    0.2031 |    0.3446 | 2798.9323 |  590.5558\n",
      "MF(K=50)   | 1.2749 | 0.8354 | 0.0257 | 0.0284 | 0.0345 | 0.1109 |  0.0480 |  0.0504 |  0.0532 |  0.0652 |       0.0280 |       0.0233 |    0.0594 |    0.1026 |  214.9807 |  987.6285\n",
      "WMF(K=50)  | 2.4418 | 0.9735 | 0.1400 | 0.1429 | 0.1583 | 0.4134 |  0.2291 |  0.2379 |  0.2374 |  0.2809 |       0.1499 |       0.1135 |    0.2338 |    0.3841 | 3214.2985 |  641.7768\n",
      "MF(K=100)  | 1.2911 | 0.8457 | 0.0315 | 0.0332 | 0.0403 | 0.1359 |  0.0589 |  0.0617 |  0.0641 |  0.0781 |       0.0328 |       0.0264 |    0.0709 |    0.1194 |  387.6389 | 1002.0447\n",
      "WMF(K=100) | 2.5414 | 0.9716 | 0.1480 | 0.1490 | 0.1717 | 0.4369 |  0.2461 |  0.2552 |  0.2540 |  0.2987 |       0.1571 |       0.1179 |    0.2490 |    0.4022 | 4016.5989 |  718.5573\n",
      "\n"
     ]
    }
   ],
   "source": [
    "rs = RatioSplit(ratings_5_data, test_size=0.2, seed=SEED, verbose=VERBOSE)\n",
    "\n",
    "cornac.Experiment(eval_method=rs, models=[\n",
    "        mf10, wmf10,\n",
    "        mf50, wmf50, \n",
    "        mf100, wmf100], metrics=eval_metrics).run()"
   ]
  },
  {
   "cell_type": "markdown",
   "metadata": {},
   "source": [
    "### Unrated = 7"
   ]
  },
  {
   "cell_type": "code",
   "execution_count": 113,
   "metadata": {},
   "outputs": [
    {
     "name": "stderr",
     "output_type": "stream",
     "text": [
      "c:\\Users\\User\\anaconda3\\envs\\CS608_RecommenderSystems\\lib\\site-packages\\cornac\\data\\dataset.py:335: UserWarning: 2 duplicated observations are removed!\n",
      "  warnings.warn(\"%d duplicated observations are removed!\" % dup_count)\n",
      "c:\\Users\\User\\anaconda3\\envs\\CS608_RecommenderSystems\\lib\\site-packages\\cornac\\data\\dataset.py:335: UserWarning: 1 duplicated observations are removed!\n",
      "  warnings.warn(\"%d duplicated observations are removed!\" % dup_count)\n",
      "c:\\Users\\User\\anaconda3\\envs\\CS608_RecommenderSystems\\lib\\site-packages\\cornac\\models\\recommender.py:306: UserWarning: Model is already fitted. Re-fitting will overwrite the previous model.\n",
      "  warnings.warn(\n"
     ]
    },
    {
     "name": "stdout",
     "output_type": "stream",
     "text": [
      "\n",
      "TEST:\n",
      "...\n",
      "           |   RMSE |    AUC |  F1@20 |  F1@50 |    MAP |    MRR | NCRR@20 | NCRR@50 | NDCG@20 | NDCG@50 | Precision@20 | Precision@50 | Recall@20 | Recall@50 | Train (s) |  Test (s)\n",
      "---------- + ------ + ------ + ------ + ------ + ------ + ------ + ------- + ------- + ------- + ------- + ------------ + ------------ + --------- + --------- + --------- + ---------\n",
      "MF(K=10)   | 1.0463 | 0.8119 | 0.0132 | 0.0195 | 0.0164 | 0.0390 |  0.0136 |  0.0166 |  0.0200 |  0.0303 |       0.0167 |       0.0170 |    0.0247 |    0.0558 |   80.1222 | 1100.2063\n",
      "WMF(K=10)  | 2.6701 | 0.9707 | 0.1273 | 0.1327 | 0.1397 | 0.3888 |  0.2096 |  0.2173 |  0.2139 |  0.2539 |       0.1397 |       0.1067 |    0.2029 |    0.3444 | 3293.1244 |  656.9865\n",
      "MF(K=50)   | 1.1278 | 0.8322 | 0.0234 | 0.0260 | 0.0326 | 0.1014 |  0.0441 |  0.0463 |  0.0492 |  0.0604 |       0.0257 |       0.0215 |    0.0554 |    0.0958 |  228.2291 |  994.2652\n",
      "WMF(K=50)  | 2.4631 | 0.9739 | 0.1452 | 0.1480 | 0.1671 | 0.4193 |  0.2358 |  0.2457 |  0.2458 |  0.2919 |       0.1541 |       0.1172 |    0.2440 |    0.3980 | 3328.9112 |  645.4342\n",
      "MF(K=100)  | 1.1479 | 0.8442 | 0.0297 | 0.0314 | 0.0389 | 0.1281 |  0.0556 |  0.0583 |  0.0609 |  0.0745 |       0.0309 |       0.0250 |    0.0680 |    0.1148 |  385.7792 |  973.8816\n",
      "WMF(K=100) | 2.6321 | 0.9708 | 0.1530 | 0.1544 | 0.1789 | 0.4348 |  0.2485 |  0.2591 |  0.2601 |  0.3079 |       0.1607 |       0.1217 |    0.2593 |    0.4162 | 3719.1294 |  595.8190\n",
      "\n"
     ]
    }
   ],
   "source": [
    "rs = RatioSplit(ratings_7_data, test_size=0.2, seed=SEED, verbose=VERBOSE)\n",
    "\n",
    "cornac.Experiment(eval_method=rs, models=[\n",
    "        mf10, wmf10,\n",
    "        mf50, wmf50,\n",
    "        mf100, wmf100], metrics=eval_metrics).run()"
   ]
  },
  {
   "cell_type": "markdown",
   "metadata": {},
   "source": [
    "### Unrated = 7 appears to give the best predictions on ranking based metrics\n",
    "### K=100 appears to give the best ranking based results"
   ]
  },
  {
   "cell_type": "markdown",
   "metadata": {},
   "source": [
    "## Hyperparameter tuning for WMF (ratings only)"
   ]
  },
  {
   "cell_type": "code",
   "execution_count": 75,
   "metadata": {},
   "outputs": [
    {
     "name": "stderr",
     "output_type": "stream",
     "text": [
      "c:\\Users\\User\\anaconda3\\envs\\CS608_RecommenderSystems\\lib\\site-packages\\cornac\\data\\dataset.py:335: UserWarning: 2 duplicated observations are removed!\n",
      "  warnings.warn(\"%d duplicated observations are removed!\" % dup_count)\n",
      "c:\\Users\\User\\anaconda3\\envs\\CS608_RecommenderSystems\\lib\\site-packages\\cornac\\data\\dataset.py:335: UserWarning: 1 duplicated observations are removed!\n",
      "  warnings.warn(\"%d duplicated observations are removed!\" % dup_count)\n"
     ]
    }
   ],
   "source": [
    "# tune on NDCG@50\n",
    "from cornac.hyperopt import Discrete, Continuous\n",
    "from cornac.hyperopt import GridSearch, RandomSearch\n",
    "\n",
    "K = 100\n",
    "wmf = WMF(k=K, max_iter=100, a=1.0, b=0.01, learning_rate=0.001, lambda_u=0.01, lambda_v=0.01,\n",
    "          verbose=VERBOSE, seed=SEED, name=f\"WMF(K={K})\")\n",
    "\n",
    "NDCG50 = cornac.metrics.NDCG(k=50)\n",
    "\n",
    "rs = RatioSplit(ratings_7_data, test_size=0.1, val_size=0.1, seed=SEED, verbose=VERBOSE)\n",
    "\n",
    "\n",
    "# Random Search\n",
    "rs_wmf = RandomSearch(\n",
    "    model=wmf,\n",
    "    space=[\n",
    "        Discrete(name=\"k\", values=[20, 30, 40, 50, 60, 70, 80, 90, 100]),\n",
    "        Discrete(name=\"a\", values=[0.2, 0.5, 0.8, 1.0]),\n",
    "        Discrete(name=\"b\", values=[0.001, 0.01, 0.1]),\n",
    "        Discrete(name=\"learning_rate\", values=[0.001, 0.005, 0.01, 0.05, 0.1]),\n",
    "        Discrete(name=\"lambda_u\", values=[0.001, 0.005, 0.01, 0.05, 0,1]),\n",
    "        Discrete(name=\"lambda_v\", values=[0.001, 0.005, 0.01, 0.05, 0.1])\n",
    "    ],\n",
    "    metric=NDCG50,\n",
    "    eval_method=rs,\n",
    "    n_trails=20,\n",
    ")"
   ]
  },
  {
   "cell_type": "code",
   "execution_count": 76,
   "metadata": {},
   "outputs": [
    {
     "name": "stdout",
     "output_type": "stream",
     "text": [
      "\n",
      "VALIDATION:\n",
      "...\n",
      "                        | NDCG@50 | Time (s)\n",
      "----------------------- + ------- + --------\n",
      "RandomSearch_WMF(K=100) |  0.3315 | 169.7790\n",
      "\n",
      "TEST:\n",
      "...\n",
      "                        | NDCG@50 |  Train (s) | Test (s)\n",
      "----------------------- + ------- + ---------- + --------\n",
      "RandomSearch_WMF(K=100) |  0.3699 | 76882.0616 | 183.4591\n",
      "\n",
      "{'a': 0.8, 'b': 0.1, 'k': 90, 'lambda_u': 0.0, 'lambda_v': 0.05, 'learning_rate': 0.01}\n"
     ]
    }
   ],
   "source": [
    "# Define the experiment\n",
    "cornac.Experiment(\n",
    "    eval_method=rs,\n",
    "    models=[rs_wmf],\n",
    "    metrics=[NDCG50],\n",
    "    user_based=False,\n",
    "    save_dir=\"saved_models\"\n",
    ").run()\n",
    "\n",
    "# Obtain the best params\n",
    "print(rs_wmf.best_params)"
   ]
  },
  {
   "cell_type": "code",
   "execution_count": 77,
   "metadata": {},
   "outputs": [
    {
     "data": {
      "text/plain": [
       "[5509, 6530, 7211, 5585, 3855, 202, 6331, 2715, 4687, 6569]"
      ]
     },
     "execution_count": 77,
     "metadata": {},
     "output_type": "execute_result"
    }
   ],
   "source": [
    "rs_wmf.recommend(user_id=1, k=10)"
   ]
  },
  {
   "cell_type": "code",
   "execution_count": 78,
   "metadata": {},
   "outputs": [
    {
     "data": {
      "text/plain": [
       "'../data/06_models\\\\RandomSearch_WMF(K=100)\\\\2024-06-18_18-02-31-870820.pkl'"
      ]
     },
     "execution_count": 78,
     "metadata": {},
     "output_type": "execute_result"
    }
   ],
   "source": [
    "rs_wmf.save(\"../data/06_models\")"
   ]
  },
  {
   "cell_type": "code",
   "execution_count": 79,
   "metadata": {},
   "outputs": [],
   "source": [
    "tuned_wmf = WMF.load(\"../data/06_models/RandomSearch_WMF\")"
   ]
  },
  {
   "cell_type": "code",
   "execution_count": 80,
   "metadata": {},
   "outputs": [
    {
     "data": {
      "text/plain": [
       "[5509, 6530, 7211, 5585, 3855, 202, 6331, 2715, 4687, 6569]"
      ]
     },
     "execution_count": 80,
     "metadata": {},
     "output_type": "execute_result"
    }
   ],
   "source": [
    "# double check loaded model gives the same recommendations as above\n",
    "tuned_wmf.recommend(user_id=1, k=10)"
   ]
  },
  {
   "cell_type": "code",
   "execution_count": 84,
   "metadata": {},
   "outputs": [
    {
     "data": {
      "text/plain": [
       "{'a': 0.8,\n",
       " 'b': 0.1,\n",
       " 'k': 90,\n",
       " 'lambda_u': 0.0,\n",
       " 'lambda_v': 0.05,\n",
       " 'learning_rate': 0.01}"
      ]
     },
     "execution_count": 84,
     "metadata": {},
     "output_type": "execute_result"
    }
   ],
   "source": [
    "tuned_wmf.best_params"
   ]
  },
  {
   "cell_type": "code",
   "execution_count": 117,
   "metadata": {},
   "outputs": [
    {
     "name": "stderr",
     "output_type": "stream",
     "text": [
      "c:\\Users\\User\\anaconda3\\envs\\CS608_RecommenderSystems\\lib\\site-packages\\cornac\\data\\dataset.py:335: UserWarning: 2 duplicated observations are removed!\n",
      "  warnings.warn(\"%d duplicated observations are removed!\" % dup_count)\n",
      "c:\\Users\\User\\anaconda3\\envs\\CS608_RecommenderSystems\\lib\\site-packages\\cornac\\data\\dataset.py:335: UserWarning: 1 duplicated observations are removed!\n",
      "  warnings.warn(\"%d duplicated observations are removed!\" % dup_count)\n"
     ]
    },
    {
     "name": "stdout",
     "output_type": "stream",
     "text": [
      "\n",
      "TEST:\n",
      "...\n",
      "          |   RMSE |    AUC |  F1@20 |  F1@50 |    MAP |    MRR | NCRR@20 | NCRR@50 | NDCG@20 | NDCG@50 | Precision@20 | Precision@50 | Recall@20 | Recall@50 | Train (s) | Test (s)\n",
      "--------- + ------ + ------ + ------ + ------ + ------ + ------ + ------- + ------- + ------- + ------- + ------------ + ------------ + --------- + --------- + --------- + --------\n",
      "WMF_final | 4.7338 | 0.9302 | 0.2242 | 0.2068 | 0.2674 | 0.6554 |  0.4256 |  0.4244 |  0.4036 |  0.4272 |       0.2579 |       0.1723 |    0.3290 |    0.4827 | 3035.1639 | 404.1397\n",
      "\n"
     ]
    }
   ],
   "source": [
    "wmf_final = WMF(k=90, max_iter=100, a=0.8, b=0.1, learning_rate=0.01, lambda_u=0.001, lambda_v=0.05,\n",
    "          verbose=VERBOSE, seed=SEED, name=f\"WMF_final\")\n",
    "\n",
    "rs = RatioSplit(ratings_7_data, test_size=0.2, seed=SEED, verbose=VERBOSE)\n",
    "\n",
    "cornac.Experiment(eval_method=rs, models=[wmf_final], metrics=eval_metrics).run()"
   ]
  },
  {
   "cell_type": "markdown",
   "metadata": {},
   "source": [
    "## Model for Ratings + Feature labels (VBPR)\n",
    "### Preprocess Feature labels (treat as image encoding)"
   ]
  },
  {
   "cell_type": "code",
   "execution_count": 101,
   "metadata": {},
   "outputs": [],
   "source": [
    "# too many columns, choose only the most important ones\n",
    "selected_content = content[['anime_id', 'genres', 'themes', 'source-material', 'demographics', 'rating']]"
   ]
  },
  {
   "cell_type": "code",
   "execution_count": 102,
   "metadata": {},
   "outputs": [
    {
     "data": {
      "text/html": [
       "<div>\n",
       "<style scoped>\n",
       "    .dataframe tbody tr th:only-of-type {\n",
       "        vertical-align: middle;\n",
       "    }\n",
       "\n",
       "    .dataframe tbody tr th {\n",
       "        vertical-align: top;\n",
       "    }\n",
       "\n",
       "    .dataframe thead th {\n",
       "        text-align: right;\n",
       "    }\n",
       "</style>\n",
       "<table border=\"1\" class=\"dataframe\">\n",
       "  <thead>\n",
       "    <tr style=\"text-align: right;\">\n",
       "      <th></th>\n",
       "      <th>anime_id</th>\n",
       "      <th>genres</th>\n",
       "      <th>themes</th>\n",
       "      <th>source-material</th>\n",
       "      <th>demographics</th>\n",
       "      <th>rating</th>\n",
       "    </tr>\n",
       "  </thead>\n",
       "  <tbody>\n",
       "    <tr>\n",
       "      <th>0</th>\n",
       "      <td>1</td>\n",
       "      <td>['Action', 'Sci-Fi']</td>\n",
       "      <td>[]</td>\n",
       "      <td>Original</td>\n",
       "      <td>NaN</td>\n",
       "      <td>R - 17+ (violence &amp; profanity)</td>\n",
       "    </tr>\n",
       "    <tr>\n",
       "      <th>1</th>\n",
       "      <td>5</td>\n",
       "      <td>['Action', 'Sci-Fi']</td>\n",
       "      <td>[]</td>\n",
       "      <td>Original</td>\n",
       "      <td>NaN</td>\n",
       "      <td>R - 17+ (violence &amp; profanity)</td>\n",
       "    </tr>\n",
       "    <tr>\n",
       "      <th>2</th>\n",
       "      <td>6</td>\n",
       "      <td>['Action', 'Adventure', 'Sci-Fi']</td>\n",
       "      <td>['Adult Cast']</td>\n",
       "      <td>Manga</td>\n",
       "      <td>Shounen</td>\n",
       "      <td>PG-13 - Teens 13 or older</td>\n",
       "    </tr>\n",
       "    <tr>\n",
       "      <th>3</th>\n",
       "      <td>7</td>\n",
       "      <td>['Action', 'Drama', 'Mystery', 'Supernatural']</td>\n",
       "      <td>[]</td>\n",
       "      <td>Original</td>\n",
       "      <td>NaN</td>\n",
       "      <td>PG-13 - Teens 13 or older</td>\n",
       "    </tr>\n",
       "    <tr>\n",
       "      <th>4</th>\n",
       "      <td>8</td>\n",
       "      <td>['Adventure', 'Fantasy', 'Supernatural']</td>\n",
       "      <td>[]</td>\n",
       "      <td>Manga</td>\n",
       "      <td>NaN</td>\n",
       "      <td>PG - Children</td>\n",
       "    </tr>\n",
       "    <tr>\n",
       "      <th>...</th>\n",
       "      <td>...</td>\n",
       "      <td>...</td>\n",
       "      <td>...</td>\n",
       "      <td>...</td>\n",
       "      <td>...</td>\n",
       "      <td>...</td>\n",
       "    </tr>\n",
       "    <tr>\n",
       "      <th>11089</th>\n",
       "      <td>34367</td>\n",
       "      <td>['Comedy', 'Slice of Life', 'Sports']</td>\n",
       "      <td>['CGDCT']</td>\n",
       "      <td>Manga</td>\n",
       "      <td>Shounen</td>\n",
       "      <td>PG-13 - Teens 13 or older</td>\n",
       "    </tr>\n",
       "    <tr>\n",
       "      <th>11090</th>\n",
       "      <td>34412</td>\n",
       "      <td>NaN</td>\n",
       "      <td>NaN</td>\n",
       "      <td>NaN</td>\n",
       "      <td>NaN</td>\n",
       "      <td>PG-13 - Teens 13 or older</td>\n",
       "    </tr>\n",
       "    <tr>\n",
       "      <th>11091</th>\n",
       "      <td>34475</td>\n",
       "      <td>['Action', 'Fantasy']</td>\n",
       "      <td>[]</td>\n",
       "      <td>Game</td>\n",
       "      <td>NaN</td>\n",
       "      <td>PG-13 - Teens 13 or older</td>\n",
       "    </tr>\n",
       "    <tr>\n",
       "      <th>11092</th>\n",
       "      <td>34476</td>\n",
       "      <td>['Sci-Fi', 'Slice of Life']</td>\n",
       "      <td>[]</td>\n",
       "      <td>Novel</td>\n",
       "      <td>NaN</td>\n",
       "      <td>PG-13 - Teens 13 or older</td>\n",
       "    </tr>\n",
       "    <tr>\n",
       "      <th>11093</th>\n",
       "      <td>34519</td>\n",
       "      <td>['Comedy', 'Sports']</td>\n",
       "      <td>[]</td>\n",
       "      <td>Original</td>\n",
       "      <td>NaN</td>\n",
       "      <td>PG - Children</td>\n",
       "    </tr>\n",
       "  </tbody>\n",
       "</table>\n",
       "<p>11094 rows × 6 columns</p>\n",
       "</div>"
      ],
      "text/plain": [
       "       anime_id                                          genres  \\\n",
       "0             1                            ['Action', 'Sci-Fi']   \n",
       "1             5                            ['Action', 'Sci-Fi']   \n",
       "2             6               ['Action', 'Adventure', 'Sci-Fi']   \n",
       "3             7  ['Action', 'Drama', 'Mystery', 'Supernatural']   \n",
       "4             8        ['Adventure', 'Fantasy', 'Supernatural']   \n",
       "...         ...                                             ...   \n",
       "11089     34367           ['Comedy', 'Slice of Life', 'Sports']   \n",
       "11090     34412                                             NaN   \n",
       "11091     34475                           ['Action', 'Fantasy']   \n",
       "11092     34476                     ['Sci-Fi', 'Slice of Life']   \n",
       "11093     34519                            ['Comedy', 'Sports']   \n",
       "\n",
       "               themes source-material demographics  \\\n",
       "0                  []        Original          NaN   \n",
       "1                  []        Original          NaN   \n",
       "2      ['Adult Cast']           Manga      Shounen   \n",
       "3                  []        Original          NaN   \n",
       "4                  []           Manga          NaN   \n",
       "...               ...             ...          ...   \n",
       "11089       ['CGDCT']           Manga      Shounen   \n",
       "11090             NaN             NaN          NaN   \n",
       "11091              []            Game          NaN   \n",
       "11092              []           Novel          NaN   \n",
       "11093              []        Original          NaN   \n",
       "\n",
       "                               rating  \n",
       "0      R - 17+ (violence & profanity)  \n",
       "1      R - 17+ (violence & profanity)  \n",
       "2           PG-13 - Teens 13 or older  \n",
       "3           PG-13 - Teens 13 or older  \n",
       "4                       PG - Children  \n",
       "...                               ...  \n",
       "11089       PG-13 - Teens 13 or older  \n",
       "11090       PG-13 - Teens 13 or older  \n",
       "11091       PG-13 - Teens 13 or older  \n",
       "11092       PG-13 - Teens 13 or older  \n",
       "11093                   PG - Children  \n",
       "\n",
       "[11094 rows x 6 columns]"
      ]
     },
     "execution_count": 102,
     "metadata": {},
     "output_type": "execute_result"
    }
   ],
   "source": [
    "selected_content"
   ]
  },
  {
   "cell_type": "markdown",
   "metadata": {},
   "source": [
    "for multilabel encoding, rows without a label should be an empty list rather than NaN. To impute"
   ]
  },
  {
   "cell_type": "code",
   "execution_count": 99,
   "metadata": {},
   "outputs": [
    {
     "name": "stderr",
     "output_type": "stream",
     "text": [
      "C:\\Users\\User\\AppData\\Local\\Temp\\ipykernel_22444\\3171840587.py:2: FutureWarning: DataFrame.applymap has been deprecated. Use DataFrame.map instead.\n",
      "  genres = genres.applymap(lambda x: [] if pd.isna(x) else x)\n"
     ]
    },
    {
     "data": {
      "text/html": [
       "<div>\n",
       "<style scoped>\n",
       "    .dataframe tbody tr th:only-of-type {\n",
       "        vertical-align: middle;\n",
       "    }\n",
       "\n",
       "    .dataframe tbody tr th {\n",
       "        vertical-align: top;\n",
       "    }\n",
       "\n",
       "    .dataframe thead th {\n",
       "        text-align: right;\n",
       "    }\n",
       "</style>\n",
       "<table border=\"1\" class=\"dataframe\">\n",
       "  <thead>\n",
       "    <tr style=\"text-align: right;\">\n",
       "      <th></th>\n",
       "      <th>genres</th>\n",
       "    </tr>\n",
       "  </thead>\n",
       "  <tbody>\n",
       "    <tr>\n",
       "      <th>0</th>\n",
       "      <td>['Action', 'Sci-Fi']</td>\n",
       "    </tr>\n",
       "    <tr>\n",
       "      <th>1</th>\n",
       "      <td>['Action', 'Sci-Fi']</td>\n",
       "    </tr>\n",
       "    <tr>\n",
       "      <th>2</th>\n",
       "      <td>['Action', 'Adventure', 'Sci-Fi']</td>\n",
       "    </tr>\n",
       "    <tr>\n",
       "      <th>3</th>\n",
       "      <td>['Action', 'Drama', 'Mystery', 'Supernatural']</td>\n",
       "    </tr>\n",
       "    <tr>\n",
       "      <th>4</th>\n",
       "      <td>['Adventure', 'Fantasy', 'Supernatural']</td>\n",
       "    </tr>\n",
       "    <tr>\n",
       "      <th>...</th>\n",
       "      <td>...</td>\n",
       "    </tr>\n",
       "    <tr>\n",
       "      <th>11089</th>\n",
       "      <td>['Comedy', 'Slice of Life', 'Sports']</td>\n",
       "    </tr>\n",
       "    <tr>\n",
       "      <th>11090</th>\n",
       "      <td>[]</td>\n",
       "    </tr>\n",
       "    <tr>\n",
       "      <th>11091</th>\n",
       "      <td>['Action', 'Fantasy']</td>\n",
       "    </tr>\n",
       "    <tr>\n",
       "      <th>11092</th>\n",
       "      <td>['Sci-Fi', 'Slice of Life']</td>\n",
       "    </tr>\n",
       "    <tr>\n",
       "      <th>11093</th>\n",
       "      <td>['Comedy', 'Sports']</td>\n",
       "    </tr>\n",
       "  </tbody>\n",
       "</table>\n",
       "<p>11094 rows × 1 columns</p>\n",
       "</div>"
      ],
      "text/plain": [
       "                                               genres\n",
       "0                                ['Action', 'Sci-Fi']\n",
       "1                                ['Action', 'Sci-Fi']\n",
       "2                   ['Action', 'Adventure', 'Sci-Fi']\n",
       "3      ['Action', 'Drama', 'Mystery', 'Supernatural']\n",
       "4            ['Adventure', 'Fantasy', 'Supernatural']\n",
       "...                                               ...\n",
       "11089           ['Comedy', 'Slice of Life', 'Sports']\n",
       "11090                                              []\n",
       "11091                           ['Action', 'Fantasy']\n",
       "11092                     ['Sci-Fi', 'Slice of Life']\n",
       "11093                            ['Comedy', 'Sports']\n",
       "\n",
       "[11094 rows x 1 columns]"
      ]
     },
     "execution_count": 99,
     "metadata": {},
     "output_type": "execute_result"
    }
   ],
   "source": [
    "# impute NaN in genres column to empty list\n",
    "genres = selected_content[['genres']]\n",
    "genres = genres.applymap(lambda x: [] if pd.isna(x) else x)\n",
    "genres"
   ]
  },
  {
   "cell_type": "code",
   "execution_count": 100,
   "metadata": {},
   "outputs": [
    {
     "name": "stderr",
     "output_type": "stream",
     "text": [
      "C:\\Users\\User\\AppData\\Local\\Temp\\ipykernel_22444\\3448072920.py:2: FutureWarning: DataFrame.applymap has been deprecated. Use DataFrame.map instead.\n",
      "  themes = themes.applymap(lambda x: [] if pd.isna(x) else x)\n"
     ]
    },
    {
     "data": {
      "text/html": [
       "<div>\n",
       "<style scoped>\n",
       "    .dataframe tbody tr th:only-of-type {\n",
       "        vertical-align: middle;\n",
       "    }\n",
       "\n",
       "    .dataframe tbody tr th {\n",
       "        vertical-align: top;\n",
       "    }\n",
       "\n",
       "    .dataframe thead th {\n",
       "        text-align: right;\n",
       "    }\n",
       "</style>\n",
       "<table border=\"1\" class=\"dataframe\">\n",
       "  <thead>\n",
       "    <tr style=\"text-align: right;\">\n",
       "      <th></th>\n",
       "      <th>themes</th>\n",
       "    </tr>\n",
       "  </thead>\n",
       "  <tbody>\n",
       "    <tr>\n",
       "      <th>0</th>\n",
       "      <td>[]</td>\n",
       "    </tr>\n",
       "    <tr>\n",
       "      <th>1</th>\n",
       "      <td>[]</td>\n",
       "    </tr>\n",
       "    <tr>\n",
       "      <th>2</th>\n",
       "      <td>['Adult Cast']</td>\n",
       "    </tr>\n",
       "    <tr>\n",
       "      <th>3</th>\n",
       "      <td>[]</td>\n",
       "    </tr>\n",
       "    <tr>\n",
       "      <th>4</th>\n",
       "      <td>[]</td>\n",
       "    </tr>\n",
       "    <tr>\n",
       "      <th>...</th>\n",
       "      <td>...</td>\n",
       "    </tr>\n",
       "    <tr>\n",
       "      <th>11089</th>\n",
       "      <td>['CGDCT']</td>\n",
       "    </tr>\n",
       "    <tr>\n",
       "      <th>11090</th>\n",
       "      <td>[]</td>\n",
       "    </tr>\n",
       "    <tr>\n",
       "      <th>11091</th>\n",
       "      <td>[]</td>\n",
       "    </tr>\n",
       "    <tr>\n",
       "      <th>11092</th>\n",
       "      <td>[]</td>\n",
       "    </tr>\n",
       "    <tr>\n",
       "      <th>11093</th>\n",
       "      <td>[]</td>\n",
       "    </tr>\n",
       "  </tbody>\n",
       "</table>\n",
       "<p>11094 rows × 1 columns</p>\n",
       "</div>"
      ],
      "text/plain": [
       "               themes\n",
       "0                  []\n",
       "1                  []\n",
       "2      ['Adult Cast']\n",
       "3                  []\n",
       "4                  []\n",
       "...               ...\n",
       "11089       ['CGDCT']\n",
       "11090              []\n",
       "11091              []\n",
       "11092              []\n",
       "11093              []\n",
       "\n",
       "[11094 rows x 1 columns]"
      ]
     },
     "execution_count": 100,
     "metadata": {},
     "output_type": "execute_result"
    }
   ],
   "source": [
    "# impute NaN in themes column to empty list\n",
    "themes = selected_content[['themes']]\n",
    "themes = themes.applymap(lambda x: [] if pd.isna(x) else x)\n",
    "themes"
   ]
  },
  {
   "cell_type": "markdown",
   "metadata": {},
   "source": [
    "## Multilabel/One-hot Encoding"
   ]
  },
  {
   "cell_type": "code",
   "execution_count": 95,
   "metadata": {},
   "outputs": [],
   "source": [
    "from sklearn.preprocessing import MultiLabelBinarizer"
   ]
  },
  {
   "cell_type": "code",
   "execution_count": 104,
   "metadata": {},
   "outputs": [
    {
     "data": {
      "text/plain": [
       "array([[1, 1, 1, ..., 0, 0, 0],\n",
       "       [1, 1, 1, ..., 0, 0, 0],\n",
       "       [1, 1, 1, ..., 1, 0, 0],\n",
       "       ...,\n",
       "       [1, 1, 1, ..., 0, 0, 1],\n",
       "       [1, 1, 1, ..., 0, 0, 0],\n",
       "       [1, 1, 1, ..., 0, 0, 1]])"
      ]
     },
     "execution_count": 104,
     "metadata": {},
     "output_type": "execute_result"
    }
   ],
   "source": [
    "mlb = MultiLabelBinarizer()\n",
    "one_hot_genres = mlb.fit_transform(genres['genres'])\n",
    "one_hot_genres"
   ]
  },
  {
   "cell_type": "code",
   "execution_count": 105,
   "metadata": {},
   "outputs": [
    {
     "data": {
      "text/plain": [
       "array([[0, 0, 0, ..., 0, 0, 0],\n",
       "       [0, 0, 0, ..., 0, 0, 0],\n",
       "       [1, 1, 0, ..., 0, 0, 0],\n",
       "       ...,\n",
       "       [0, 0, 0, ..., 0, 0, 0],\n",
       "       [0, 0, 0, ..., 0, 0, 0],\n",
       "       [0, 0, 0, ..., 0, 0, 0]])"
      ]
     },
     "execution_count": 105,
     "metadata": {},
     "output_type": "execute_result"
    }
   ],
   "source": [
    "mlb = MultiLabelBinarizer()\n",
    "one_hot_themes = mlb.fit_transform(themes['themes'])\n",
    "one_hot_themes"
   ]
  },
  {
   "cell_type": "code",
   "execution_count": 111,
   "metadata": {},
   "outputs": [
    {
     "data": {
      "text/plain": [
       "array([[0, 0, 0, ..., 0, 0, 0],\n",
       "       [0, 0, 0, ..., 0, 0, 0],\n",
       "       [0, 0, 0, ..., 0, 0, 0],\n",
       "       ...,\n",
       "       [0, 0, 0, ..., 0, 0, 0],\n",
       "       [0, 0, 0, ..., 0, 0, 0],\n",
       "       [0, 0, 0, ..., 0, 0, 0]])"
      ]
     },
     "execution_count": 111,
     "metadata": {},
     "output_type": "execute_result"
    }
   ],
   "source": [
    "source_material = selected_content[['source-material']]\n",
    "one_hot_source_material = pd.get_dummies(source_material, columns=['source-material'])\n",
    "one_hot_source_material = one_hot_source_material.values.astype(int)\n",
    "one_hot_source_material"
   ]
  },
  {
   "cell_type": "code",
   "execution_count": 112,
   "metadata": {},
   "outputs": [
    {
     "data": {
      "text/plain": [
       "array([[0, 0, 0, 0, 0],\n",
       "       [0, 0, 0, 0, 0],\n",
       "       [0, 0, 0, 0, 1],\n",
       "       ...,\n",
       "       [0, 0, 0, 0, 0],\n",
       "       [0, 0, 0, 0, 0],\n",
       "       [0, 0, 0, 0, 0]])"
      ]
     },
     "execution_count": 112,
     "metadata": {},
     "output_type": "execute_result"
    }
   ],
   "source": [
    "demographics = selected_content[['demographics']]\n",
    "one_hot_demographics = pd.get_dummies(demographics, columns=['demographics'])\n",
    "one_hot_demographics = one_hot_demographics.values.astype(int)\n",
    "one_hot_demographics"
   ]
  },
  {
   "cell_type": "code",
   "execution_count": 113,
   "metadata": {},
   "outputs": [
    {
     "data": {
      "text/plain": [
       "array([[0, 0, 0, 1, 0, 0],\n",
       "       [0, 0, 0, 1, 0, 0],\n",
       "       [0, 0, 1, 0, 0, 0],\n",
       "       ...,\n",
       "       [0, 0, 1, 0, 0, 0],\n",
       "       [0, 0, 1, 0, 0, 0],\n",
       "       [0, 1, 0, 0, 0, 0]])"
      ]
     },
     "execution_count": 113,
     "metadata": {},
     "output_type": "execute_result"
    }
   ],
   "source": [
    "rating = selected_content[['rating']]\n",
    "one_hot_rating = pd.get_dummies(rating, columns=['rating'])\n",
    "one_hot_rating = one_hot_rating.values.astype(int)\n",
    "one_hot_rating"
   ]
  },
  {
   "cell_type": "code",
   "execution_count": 114,
   "metadata": {},
   "outputs": [
    {
     "data": {
      "text/plain": [
       "(11094, 115)"
      ]
     },
     "execution_count": 114,
     "metadata": {},
     "output_type": "execute_result"
    }
   ],
   "source": [
    "label_array = np.concatenate(\n",
    "    (\n",
    "        one_hot_genres, \n",
    "        one_hot_themes, \n",
    "        one_hot_source_material, \n",
    "        one_hot_demographics, \n",
    "        one_hot_rating,\n",
    "    ), \n",
    "    axis=1)\n",
    "\n",
    "label_array.shape"
   ]
  },
  {
   "cell_type": "code",
   "execution_count": 116,
   "metadata": {},
   "outputs": [
    {
     "name": "stderr",
     "output_type": "stream",
     "text": [
      "c:\\Users\\User\\anaconda3\\envs\\CS608_RecommenderSystems\\lib\\site-packages\\cornac\\data\\dataset.py:335: UserWarning: 2 duplicated observations are removed!\n",
      "  warnings.warn(\"%d duplicated observations are removed!\" % dup_count)\n",
      "c:\\Users\\User\\anaconda3\\envs\\CS608_RecommenderSystems\\lib\\site-packages\\cornac\\data\\dataset.py:335: UserWarning: 1 duplicated observations are removed!\n",
      "  warnings.warn(\"%d duplicated observations are removed!\" % dup_count)\n"
     ]
    },
    {
     "ename": "KeyboardInterrupt",
     "evalue": "",
     "output_type": "error",
     "traceback": [
      "\u001b[1;31m---------------------------------------------------------------------------\u001b[0m",
      "\u001b[1;31mKeyboardInterrupt\u001b[0m                         Traceback (most recent call last)",
      "Cell \u001b[1;32mIn[116], line 9\u001b[0m\n\u001b[0;32m      5\u001b[0m item_image_modality \u001b[38;5;241m=\u001b[39m ImageModality(features\u001b[38;5;241m=\u001b[39mlabel_array, ids\u001b[38;5;241m=\u001b[39mitem_ids, normalized\u001b[38;5;241m=\u001b[39m\u001b[38;5;28;01mTrue\u001b[39;00m)\n\u001b[0;32m      7\u001b[0m rs \u001b[38;5;241m=\u001b[39m RatioSplit(ratings_7_data, test_size\u001b[38;5;241m=\u001b[39m\u001b[38;5;241m0.2\u001b[39m, item_image\u001b[38;5;241m=\u001b[39mitem_image_modality, seed\u001b[38;5;241m=\u001b[39mSEED, verbose\u001b[38;5;241m=\u001b[39mVERBOSE)\n\u001b[1;32m----> 9\u001b[0m \u001b[43mcornac\u001b[49m\u001b[38;5;241;43m.\u001b[39;49m\u001b[43mExperiment\u001b[49m\u001b[43m(\u001b[49m\u001b[43meval_method\u001b[49m\u001b[38;5;241;43m=\u001b[39;49m\u001b[43mrs\u001b[49m\u001b[43m,\u001b[49m\u001b[43m \u001b[49m\u001b[43mmodels\u001b[49m\u001b[38;5;241;43m=\u001b[39;49m\u001b[43m[\u001b[49m\u001b[43mvbpr\u001b[49m\u001b[43m]\u001b[49m\u001b[43m,\u001b[49m\u001b[43m \u001b[49m\u001b[43mmetrics\u001b[49m\u001b[38;5;241;43m=\u001b[39;49m\u001b[43meval_metrics\u001b[49m\u001b[43m)\u001b[49m\u001b[38;5;241;43m.\u001b[39;49m\u001b[43mrun\u001b[49m\u001b[43m(\u001b[49m\u001b[43m)\u001b[49m\n",
      "File \u001b[1;32mc:\\Users\\User\\anaconda3\\envs\\CS608_RecommenderSystems\\lib\\site-packages\\cornac\\experiment\\experiment.py:142\u001b[0m, in \u001b[0;36mExperiment.run\u001b[1;34m(self)\u001b[0m\n\u001b[0;32m    139\u001b[0m         model\u001b[38;5;241m.\u001b[39mverbose \u001b[38;5;241m=\u001b[39m \u001b[38;5;28mself\u001b[39m\u001b[38;5;241m.\u001b[39mverbose\n\u001b[0;32m    141\u001b[0m \u001b[38;5;28;01mfor\u001b[39;00m model \u001b[38;5;129;01min\u001b[39;00m \u001b[38;5;28mself\u001b[39m\u001b[38;5;241m.\u001b[39mmodels:\n\u001b[1;32m--> 142\u001b[0m     test_result, val_result \u001b[38;5;241m=\u001b[39m \u001b[38;5;28;43mself\u001b[39;49m\u001b[38;5;241;43m.\u001b[39;49m\u001b[43meval_method\u001b[49m\u001b[38;5;241;43m.\u001b[39;49m\u001b[43mevaluate\u001b[49m\u001b[43m(\u001b[49m\n\u001b[0;32m    143\u001b[0m \u001b[43m        \u001b[49m\u001b[43mmodel\u001b[49m\u001b[38;5;241;43m=\u001b[39;49m\u001b[43mmodel\u001b[49m\u001b[43m,\u001b[49m\n\u001b[0;32m    144\u001b[0m \u001b[43m        \u001b[49m\u001b[43mmetrics\u001b[49m\u001b[38;5;241;43m=\u001b[39;49m\u001b[38;5;28;43mself\u001b[39;49m\u001b[38;5;241;43m.\u001b[39;49m\u001b[43mmetrics\u001b[49m\u001b[43m,\u001b[49m\n\u001b[0;32m    145\u001b[0m \u001b[43m        \u001b[49m\u001b[43muser_based\u001b[49m\u001b[38;5;241;43m=\u001b[39;49m\u001b[38;5;28;43mself\u001b[39;49m\u001b[38;5;241;43m.\u001b[39;49m\u001b[43muser_based\u001b[49m\u001b[43m,\u001b[49m\n\u001b[0;32m    146\u001b[0m \u001b[43m        \u001b[49m\u001b[43mshow_validation\u001b[49m\u001b[38;5;241;43m=\u001b[39;49m\u001b[38;5;28;43mself\u001b[39;49m\u001b[38;5;241;43m.\u001b[39;49m\u001b[43mshow_validation\u001b[49m\u001b[43m,\u001b[49m\n\u001b[0;32m    147\u001b[0m \u001b[43m    \u001b[49m\u001b[43m)\u001b[49m\n\u001b[0;32m    149\u001b[0m     \u001b[38;5;28mself\u001b[39m\u001b[38;5;241m.\u001b[39mresult\u001b[38;5;241m.\u001b[39mappend(test_result)\n\u001b[0;32m    150\u001b[0m     \u001b[38;5;28;01mif\u001b[39;00m \u001b[38;5;28mself\u001b[39m\u001b[38;5;241m.\u001b[39mval_result \u001b[38;5;129;01mis\u001b[39;00m \u001b[38;5;129;01mnot\u001b[39;00m \u001b[38;5;28;01mNone\u001b[39;00m:\n",
      "File \u001b[1;32mc:\\Users\\User\\anaconda3\\envs\\CS608_RecommenderSystems\\lib\\site-packages\\cornac\\eval_methods\\base_method.py:734\u001b[0m, in \u001b[0;36mBaseMethod.evaluate\u001b[1;34m(self, model, metrics, user_based, show_validation)\u001b[0m\n\u001b[0;32m    731\u001b[0m     \u001b[38;5;28mprint\u001b[39m(\u001b[38;5;124m\"\u001b[39m\u001b[38;5;130;01m\\n\u001b[39;00m\u001b[38;5;124m[\u001b[39m\u001b[38;5;132;01m{}\u001b[39;00m\u001b[38;5;124m] Training started!\u001b[39m\u001b[38;5;124m\"\u001b[39m\u001b[38;5;241m.\u001b[39mformat(model\u001b[38;5;241m.\u001b[39mname))\n\u001b[0;32m    733\u001b[0m start \u001b[38;5;241m=\u001b[39m time\u001b[38;5;241m.\u001b[39mtime()\n\u001b[1;32m--> 734\u001b[0m \u001b[43mmodel\u001b[49m\u001b[38;5;241;43m.\u001b[39;49m\u001b[43mfit\u001b[49m\u001b[43m(\u001b[49m\u001b[38;5;28;43mself\u001b[39;49m\u001b[38;5;241;43m.\u001b[39;49m\u001b[43mtrain_set\u001b[49m\u001b[43m,\u001b[49m\u001b[43m \u001b[49m\u001b[38;5;28;43mself\u001b[39;49m\u001b[38;5;241;43m.\u001b[39;49m\u001b[43mval_set\u001b[49m\u001b[43m)\u001b[49m\n\u001b[0;32m    735\u001b[0m train_time \u001b[38;5;241m=\u001b[39m time\u001b[38;5;241m.\u001b[39mtime() \u001b[38;5;241m-\u001b[39m start\n\u001b[0;32m    737\u001b[0m \u001b[38;5;66;03m##############\u001b[39;00m\n\u001b[0;32m    738\u001b[0m \u001b[38;5;66;03m# EVALUATION #\u001b[39;00m\n\u001b[0;32m    739\u001b[0m \u001b[38;5;66;03m##############\u001b[39;00m\n",
      "File \u001b[1;32mc:\\Users\\User\\anaconda3\\envs\\CS608_RecommenderSystems\\lib\\site-packages\\cornac\\models\\vbpr\\recom_vbpr.py:165\u001b[0m, in \u001b[0;36mVBPR.fit\u001b[1;34m(self, train_set, val_set)\u001b[0m\n\u001b[0;32m    158\u001b[0m \u001b[38;5;28mself\u001b[39m\u001b[38;5;241m.\u001b[39m_init(\n\u001b[0;32m    159\u001b[0m     n_users\u001b[38;5;241m=\u001b[39m\u001b[38;5;28mself\u001b[39m\u001b[38;5;241m.\u001b[39mtotal_users,\n\u001b[0;32m    160\u001b[0m     n_items\u001b[38;5;241m=\u001b[39m\u001b[38;5;28mself\u001b[39m\u001b[38;5;241m.\u001b[39mtotal_items,\n\u001b[0;32m    161\u001b[0m     features\u001b[38;5;241m=\u001b[39mtrain_features,\n\u001b[0;32m    162\u001b[0m )\n\u001b[0;32m    164\u001b[0m \u001b[38;5;28;01mif\u001b[39;00m \u001b[38;5;28mself\u001b[39m\u001b[38;5;241m.\u001b[39mtrainable:\n\u001b[1;32m--> 165\u001b[0m     \u001b[38;5;28;43mself\u001b[39;49m\u001b[38;5;241;43m.\u001b[39;49m\u001b[43m_fit_torch\u001b[49m\u001b[43m(\u001b[49m\u001b[43mtrain_set\u001b[49m\u001b[43m,\u001b[49m\u001b[43m \u001b[49m\u001b[43mtrain_features\u001b[49m\u001b[43m)\u001b[49m\n\u001b[0;32m    167\u001b[0m \u001b[38;5;28;01mreturn\u001b[39;00m \u001b[38;5;28mself\u001b[39m\n",
      "File \u001b[1;32mc:\\Users\\User\\anaconda3\\envs\\CS608_RecommenderSystems\\lib\\site-packages\\cornac\\models\\vbpr\\recom_vbpr.py:256\u001b[0m, in \u001b[0;36mVBPR._fit_torch\u001b[1;34m(self, train_set, train_features)\u001b[0m\n\u001b[0;32m    254\u001b[0m optimizer\u001b[38;5;241m.\u001b[39mzero_grad()\n\u001b[0;32m    255\u001b[0m loss\u001b[38;5;241m.\u001b[39mbackward()\n\u001b[1;32m--> 256\u001b[0m \u001b[43moptimizer\u001b[49m\u001b[38;5;241;43m.\u001b[39;49m\u001b[43mstep\u001b[49m\u001b[43m(\u001b[49m\u001b[43m)\u001b[49m\n\u001b[0;32m    258\u001b[0m sum_loss \u001b[38;5;241m+\u001b[39m\u001b[38;5;241m=\u001b[39m loss\u001b[38;5;241m.\u001b[39mdata\u001b[38;5;241m.\u001b[39mitem()\n\u001b[0;32m    259\u001b[0m count \u001b[38;5;241m+\u001b[39m\u001b[38;5;241m=\u001b[39m \u001b[38;5;28mlen\u001b[39m(batch_u)\n",
      "File \u001b[1;32mc:\\Users\\User\\anaconda3\\envs\\CS608_RecommenderSystems\\lib\\site-packages\\torch\\optim\\optimizer.py:391\u001b[0m, in \u001b[0;36mOptimizer.profile_hook_step.<locals>.wrapper\u001b[1;34m(*args, **kwargs)\u001b[0m\n\u001b[0;32m    386\u001b[0m         \u001b[38;5;28;01melse\u001b[39;00m:\n\u001b[0;32m    387\u001b[0m             \u001b[38;5;28;01mraise\u001b[39;00m \u001b[38;5;167;01mRuntimeError\u001b[39;00m(\n\u001b[0;32m    388\u001b[0m                 \u001b[38;5;124mf\u001b[39m\u001b[38;5;124m\"\u001b[39m\u001b[38;5;132;01m{\u001b[39;00mfunc\u001b[38;5;132;01m}\u001b[39;00m\u001b[38;5;124m must return None or a tuple of (new_args, new_kwargs), but got \u001b[39m\u001b[38;5;132;01m{\u001b[39;00mresult\u001b[38;5;132;01m}\u001b[39;00m\u001b[38;5;124m.\u001b[39m\u001b[38;5;124m\"\u001b[39m\n\u001b[0;32m    389\u001b[0m             )\n\u001b[1;32m--> 391\u001b[0m out \u001b[38;5;241m=\u001b[39m func(\u001b[38;5;241m*\u001b[39margs, \u001b[38;5;241m*\u001b[39m\u001b[38;5;241m*\u001b[39mkwargs)\n\u001b[0;32m    392\u001b[0m \u001b[38;5;28mself\u001b[39m\u001b[38;5;241m.\u001b[39m_optimizer_step_code()\n\u001b[0;32m    394\u001b[0m \u001b[38;5;66;03m# call optimizer step post hooks\u001b[39;00m\n",
      "File \u001b[1;32mc:\\Users\\User\\anaconda3\\envs\\CS608_RecommenderSystems\\lib\\site-packages\\torch\\optim\\optimizer.py:76\u001b[0m, in \u001b[0;36m_use_grad_for_differentiable.<locals>._use_grad\u001b[1;34m(self, *args, **kwargs)\u001b[0m\n\u001b[0;32m     74\u001b[0m     torch\u001b[38;5;241m.\u001b[39mset_grad_enabled(\u001b[38;5;28mself\u001b[39m\u001b[38;5;241m.\u001b[39mdefaults[\u001b[38;5;124m'\u001b[39m\u001b[38;5;124mdifferentiable\u001b[39m\u001b[38;5;124m'\u001b[39m])\n\u001b[0;32m     75\u001b[0m     torch\u001b[38;5;241m.\u001b[39m_dynamo\u001b[38;5;241m.\u001b[39mgraph_break()\n\u001b[1;32m---> 76\u001b[0m     ret \u001b[38;5;241m=\u001b[39m func(\u001b[38;5;28mself\u001b[39m, \u001b[38;5;241m*\u001b[39margs, \u001b[38;5;241m*\u001b[39m\u001b[38;5;241m*\u001b[39mkwargs)\n\u001b[0;32m     77\u001b[0m \u001b[38;5;28;01mfinally\u001b[39;00m:\n\u001b[0;32m     78\u001b[0m     torch\u001b[38;5;241m.\u001b[39m_dynamo\u001b[38;5;241m.\u001b[39mgraph_break()\n",
      "File \u001b[1;32mc:\\Users\\User\\anaconda3\\envs\\CS608_RecommenderSystems\\lib\\site-packages\\torch\\optim\\adam.py:168\u001b[0m, in \u001b[0;36mAdam.step\u001b[1;34m(self, closure)\u001b[0m\n\u001b[0;32m    157\u001b[0m     beta1, beta2 \u001b[38;5;241m=\u001b[39m group[\u001b[38;5;124m'\u001b[39m\u001b[38;5;124mbetas\u001b[39m\u001b[38;5;124m'\u001b[39m]\n\u001b[0;32m    159\u001b[0m     has_complex \u001b[38;5;241m=\u001b[39m \u001b[38;5;28mself\u001b[39m\u001b[38;5;241m.\u001b[39m_init_group(\n\u001b[0;32m    160\u001b[0m         group,\n\u001b[0;32m    161\u001b[0m         params_with_grad,\n\u001b[1;32m   (...)\u001b[0m\n\u001b[0;32m    165\u001b[0m         max_exp_avg_sqs,\n\u001b[0;32m    166\u001b[0m         state_steps)\n\u001b[1;32m--> 168\u001b[0m     \u001b[43madam\u001b[49m\u001b[43m(\u001b[49m\n\u001b[0;32m    169\u001b[0m \u001b[43m        \u001b[49m\u001b[43mparams_with_grad\u001b[49m\u001b[43m,\u001b[49m\n\u001b[0;32m    170\u001b[0m \u001b[43m        \u001b[49m\u001b[43mgrads\u001b[49m\u001b[43m,\u001b[49m\n\u001b[0;32m    171\u001b[0m \u001b[43m        \u001b[49m\u001b[43mexp_avgs\u001b[49m\u001b[43m,\u001b[49m\n\u001b[0;32m    172\u001b[0m \u001b[43m        \u001b[49m\u001b[43mexp_avg_sqs\u001b[49m\u001b[43m,\u001b[49m\n\u001b[0;32m    173\u001b[0m \u001b[43m        \u001b[49m\u001b[43mmax_exp_avg_sqs\u001b[49m\u001b[43m,\u001b[49m\n\u001b[0;32m    174\u001b[0m \u001b[43m        \u001b[49m\u001b[43mstate_steps\u001b[49m\u001b[43m,\u001b[49m\n\u001b[0;32m    175\u001b[0m \u001b[43m        \u001b[49m\u001b[43mamsgrad\u001b[49m\u001b[38;5;241;43m=\u001b[39;49m\u001b[43mgroup\u001b[49m\u001b[43m[\u001b[49m\u001b[38;5;124;43m'\u001b[39;49m\u001b[38;5;124;43mamsgrad\u001b[39;49m\u001b[38;5;124;43m'\u001b[39;49m\u001b[43m]\u001b[49m\u001b[43m,\u001b[49m\n\u001b[0;32m    176\u001b[0m \u001b[43m        \u001b[49m\u001b[43mhas_complex\u001b[49m\u001b[38;5;241;43m=\u001b[39;49m\u001b[43mhas_complex\u001b[49m\u001b[43m,\u001b[49m\n\u001b[0;32m    177\u001b[0m \u001b[43m        \u001b[49m\u001b[43mbeta1\u001b[49m\u001b[38;5;241;43m=\u001b[39;49m\u001b[43mbeta1\u001b[49m\u001b[43m,\u001b[49m\n\u001b[0;32m    178\u001b[0m \u001b[43m        \u001b[49m\u001b[43mbeta2\u001b[49m\u001b[38;5;241;43m=\u001b[39;49m\u001b[43mbeta2\u001b[49m\u001b[43m,\u001b[49m\n\u001b[0;32m    179\u001b[0m \u001b[43m        \u001b[49m\u001b[43mlr\u001b[49m\u001b[38;5;241;43m=\u001b[39;49m\u001b[43mgroup\u001b[49m\u001b[43m[\u001b[49m\u001b[38;5;124;43m'\u001b[39;49m\u001b[38;5;124;43mlr\u001b[39;49m\u001b[38;5;124;43m'\u001b[39;49m\u001b[43m]\u001b[49m\u001b[43m,\u001b[49m\n\u001b[0;32m    180\u001b[0m \u001b[43m        \u001b[49m\u001b[43mweight_decay\u001b[49m\u001b[38;5;241;43m=\u001b[39;49m\u001b[43mgroup\u001b[49m\u001b[43m[\u001b[49m\u001b[38;5;124;43m'\u001b[39;49m\u001b[38;5;124;43mweight_decay\u001b[39;49m\u001b[38;5;124;43m'\u001b[39;49m\u001b[43m]\u001b[49m\u001b[43m,\u001b[49m\n\u001b[0;32m    181\u001b[0m \u001b[43m        \u001b[49m\u001b[43meps\u001b[49m\u001b[38;5;241;43m=\u001b[39;49m\u001b[43mgroup\u001b[49m\u001b[43m[\u001b[49m\u001b[38;5;124;43m'\u001b[39;49m\u001b[38;5;124;43meps\u001b[39;49m\u001b[38;5;124;43m'\u001b[39;49m\u001b[43m]\u001b[49m\u001b[43m,\u001b[49m\n\u001b[0;32m    182\u001b[0m \u001b[43m        \u001b[49m\u001b[43mmaximize\u001b[49m\u001b[38;5;241;43m=\u001b[39;49m\u001b[43mgroup\u001b[49m\u001b[43m[\u001b[49m\u001b[38;5;124;43m'\u001b[39;49m\u001b[38;5;124;43mmaximize\u001b[39;49m\u001b[38;5;124;43m'\u001b[39;49m\u001b[43m]\u001b[49m\u001b[43m,\u001b[49m\n\u001b[0;32m    183\u001b[0m \u001b[43m        \u001b[49m\u001b[43mforeach\u001b[49m\u001b[38;5;241;43m=\u001b[39;49m\u001b[43mgroup\u001b[49m\u001b[43m[\u001b[49m\u001b[38;5;124;43m'\u001b[39;49m\u001b[38;5;124;43mforeach\u001b[39;49m\u001b[38;5;124;43m'\u001b[39;49m\u001b[43m]\u001b[49m\u001b[43m,\u001b[49m\n\u001b[0;32m    184\u001b[0m \u001b[43m        \u001b[49m\u001b[43mcapturable\u001b[49m\u001b[38;5;241;43m=\u001b[39;49m\u001b[43mgroup\u001b[49m\u001b[43m[\u001b[49m\u001b[38;5;124;43m'\u001b[39;49m\u001b[38;5;124;43mcapturable\u001b[39;49m\u001b[38;5;124;43m'\u001b[39;49m\u001b[43m]\u001b[49m\u001b[43m,\u001b[49m\n\u001b[0;32m    185\u001b[0m \u001b[43m        \u001b[49m\u001b[43mdifferentiable\u001b[49m\u001b[38;5;241;43m=\u001b[39;49m\u001b[43mgroup\u001b[49m\u001b[43m[\u001b[49m\u001b[38;5;124;43m'\u001b[39;49m\u001b[38;5;124;43mdifferentiable\u001b[39;49m\u001b[38;5;124;43m'\u001b[39;49m\u001b[43m]\u001b[49m\u001b[43m,\u001b[49m\n\u001b[0;32m    186\u001b[0m \u001b[43m        \u001b[49m\u001b[43mfused\u001b[49m\u001b[38;5;241;43m=\u001b[39;49m\u001b[43mgroup\u001b[49m\u001b[43m[\u001b[49m\u001b[38;5;124;43m'\u001b[39;49m\u001b[38;5;124;43mfused\u001b[39;49m\u001b[38;5;124;43m'\u001b[39;49m\u001b[43m]\u001b[49m\u001b[43m,\u001b[49m\n\u001b[0;32m    187\u001b[0m \u001b[43m        \u001b[49m\u001b[43mgrad_scale\u001b[49m\u001b[38;5;241;43m=\u001b[39;49m\u001b[38;5;28;43mgetattr\u001b[39;49m\u001b[43m(\u001b[49m\u001b[38;5;28;43mself\u001b[39;49m\u001b[43m,\u001b[49m\u001b[43m \u001b[49m\u001b[38;5;124;43m\"\u001b[39;49m\u001b[38;5;124;43mgrad_scale\u001b[39;49m\u001b[38;5;124;43m\"\u001b[39;49m\u001b[43m,\u001b[49m\u001b[43m \u001b[49m\u001b[38;5;28;43;01mNone\u001b[39;49;00m\u001b[43m)\u001b[49m\u001b[43m,\u001b[49m\n\u001b[0;32m    188\u001b[0m \u001b[43m        \u001b[49m\u001b[43mfound_inf\u001b[49m\u001b[38;5;241;43m=\u001b[39;49m\u001b[38;5;28;43mgetattr\u001b[39;49m\u001b[43m(\u001b[49m\u001b[38;5;28;43mself\u001b[39;49m\u001b[43m,\u001b[49m\u001b[43m \u001b[49m\u001b[38;5;124;43m\"\u001b[39;49m\u001b[38;5;124;43mfound_inf\u001b[39;49m\u001b[38;5;124;43m\"\u001b[39;49m\u001b[43m,\u001b[49m\u001b[43m \u001b[49m\u001b[38;5;28;43;01mNone\u001b[39;49;00m\u001b[43m)\u001b[49m\u001b[43m,\u001b[49m\n\u001b[0;32m    189\u001b[0m \u001b[43m    \u001b[49m\u001b[43m)\u001b[49m\n\u001b[0;32m    191\u001b[0m \u001b[38;5;28;01mreturn\u001b[39;00m loss\n",
      "File \u001b[1;32mc:\\Users\\User\\anaconda3\\envs\\CS608_RecommenderSystems\\lib\\site-packages\\torch\\optim\\adam.py:318\u001b[0m, in \u001b[0;36madam\u001b[1;34m(params, grads, exp_avgs, exp_avg_sqs, max_exp_avg_sqs, state_steps, foreach, capturable, differentiable, fused, grad_scale, found_inf, has_complex, amsgrad, beta1, beta2, lr, weight_decay, eps, maximize)\u001b[0m\n\u001b[0;32m    315\u001b[0m \u001b[38;5;28;01melse\u001b[39;00m:\n\u001b[0;32m    316\u001b[0m     func \u001b[38;5;241m=\u001b[39m _single_tensor_adam\n\u001b[1;32m--> 318\u001b[0m \u001b[43mfunc\u001b[49m\u001b[43m(\u001b[49m\u001b[43mparams\u001b[49m\u001b[43m,\u001b[49m\n\u001b[0;32m    319\u001b[0m \u001b[43m     \u001b[49m\u001b[43mgrads\u001b[49m\u001b[43m,\u001b[49m\n\u001b[0;32m    320\u001b[0m \u001b[43m     \u001b[49m\u001b[43mexp_avgs\u001b[49m\u001b[43m,\u001b[49m\n\u001b[0;32m    321\u001b[0m \u001b[43m     \u001b[49m\u001b[43mexp_avg_sqs\u001b[49m\u001b[43m,\u001b[49m\n\u001b[0;32m    322\u001b[0m \u001b[43m     \u001b[49m\u001b[43mmax_exp_avg_sqs\u001b[49m\u001b[43m,\u001b[49m\n\u001b[0;32m    323\u001b[0m \u001b[43m     \u001b[49m\u001b[43mstate_steps\u001b[49m\u001b[43m,\u001b[49m\n\u001b[0;32m    324\u001b[0m \u001b[43m     \u001b[49m\u001b[43mamsgrad\u001b[49m\u001b[38;5;241;43m=\u001b[39;49m\u001b[43mamsgrad\u001b[49m\u001b[43m,\u001b[49m\n\u001b[0;32m    325\u001b[0m \u001b[43m     \u001b[49m\u001b[43mhas_complex\u001b[49m\u001b[38;5;241;43m=\u001b[39;49m\u001b[43mhas_complex\u001b[49m\u001b[43m,\u001b[49m\n\u001b[0;32m    326\u001b[0m \u001b[43m     \u001b[49m\u001b[43mbeta1\u001b[49m\u001b[38;5;241;43m=\u001b[39;49m\u001b[43mbeta1\u001b[49m\u001b[43m,\u001b[49m\n\u001b[0;32m    327\u001b[0m \u001b[43m     \u001b[49m\u001b[43mbeta2\u001b[49m\u001b[38;5;241;43m=\u001b[39;49m\u001b[43mbeta2\u001b[49m\u001b[43m,\u001b[49m\n\u001b[0;32m    328\u001b[0m \u001b[43m     \u001b[49m\u001b[43mlr\u001b[49m\u001b[38;5;241;43m=\u001b[39;49m\u001b[43mlr\u001b[49m\u001b[43m,\u001b[49m\n\u001b[0;32m    329\u001b[0m \u001b[43m     \u001b[49m\u001b[43mweight_decay\u001b[49m\u001b[38;5;241;43m=\u001b[39;49m\u001b[43mweight_decay\u001b[49m\u001b[43m,\u001b[49m\n\u001b[0;32m    330\u001b[0m \u001b[43m     \u001b[49m\u001b[43meps\u001b[49m\u001b[38;5;241;43m=\u001b[39;49m\u001b[43meps\u001b[49m\u001b[43m,\u001b[49m\n\u001b[0;32m    331\u001b[0m \u001b[43m     \u001b[49m\u001b[43mmaximize\u001b[49m\u001b[38;5;241;43m=\u001b[39;49m\u001b[43mmaximize\u001b[49m\u001b[43m,\u001b[49m\n\u001b[0;32m    332\u001b[0m \u001b[43m     \u001b[49m\u001b[43mcapturable\u001b[49m\u001b[38;5;241;43m=\u001b[39;49m\u001b[43mcapturable\u001b[49m\u001b[43m,\u001b[49m\n\u001b[0;32m    333\u001b[0m \u001b[43m     \u001b[49m\u001b[43mdifferentiable\u001b[49m\u001b[38;5;241;43m=\u001b[39;49m\u001b[43mdifferentiable\u001b[49m\u001b[43m,\u001b[49m\n\u001b[0;32m    334\u001b[0m \u001b[43m     \u001b[49m\u001b[43mgrad_scale\u001b[49m\u001b[38;5;241;43m=\u001b[39;49m\u001b[43mgrad_scale\u001b[49m\u001b[43m,\u001b[49m\n\u001b[0;32m    335\u001b[0m \u001b[43m     \u001b[49m\u001b[43mfound_inf\u001b[49m\u001b[38;5;241;43m=\u001b[39;49m\u001b[43mfound_inf\u001b[49m\u001b[43m)\u001b[49m\n",
      "File \u001b[1;32mc:\\Users\\User\\anaconda3\\envs\\CS608_RecommenderSystems\\lib\\site-packages\\torch\\optim\\adam.py:441\u001b[0m, in \u001b[0;36m_single_tensor_adam\u001b[1;34m(params, grads, exp_avgs, exp_avg_sqs, max_exp_avg_sqs, state_steps, grad_scale, found_inf, amsgrad, has_complex, beta1, beta2, lr, weight_decay, eps, maximize, capturable, differentiable)\u001b[0m\n\u001b[0;32m    439\u001b[0m         denom \u001b[38;5;241m=\u001b[39m (max_exp_avg_sqs[i]\u001b[38;5;241m.\u001b[39msqrt() \u001b[38;5;241m/\u001b[39m bias_correction2_sqrt)\u001b[38;5;241m.\u001b[39madd_(eps)\n\u001b[0;32m    440\u001b[0m     \u001b[38;5;28;01melse\u001b[39;00m:\n\u001b[1;32m--> 441\u001b[0m         denom \u001b[38;5;241m=\u001b[39m (\u001b[43mexp_avg_sq\u001b[49m\u001b[38;5;241;43m.\u001b[39;49m\u001b[43msqrt\u001b[49m\u001b[43m(\u001b[49m\u001b[43m)\u001b[49m\u001b[43m \u001b[49m\u001b[38;5;241;43m/\u001b[39;49m\u001b[43m \u001b[49m\u001b[43mbias_correction2_sqrt\u001b[49m)\u001b[38;5;241m.\u001b[39madd_(eps)\n\u001b[0;32m    443\u001b[0m     param\u001b[38;5;241m.\u001b[39maddcdiv_(exp_avg, denom, value\u001b[38;5;241m=\u001b[39m\u001b[38;5;241m-\u001b[39mstep_size)\n\u001b[0;32m    445\u001b[0m \u001b[38;5;66;03m# Lastly, switch back to complex view\u001b[39;00m\n",
      "\u001b[1;31mKeyboardInterrupt\u001b[0m: "
     ]
    }
   ],
   "source": [
    "# treat the encoded array as an image to fit into VBPR\n",
    "# took too long on my computer (I believe it to be an OOM issue)\n",
    "# Damien trained it in much shorter time on his computer\n",
    "K = 20\n",
    "vbpr = VBPR(k=K, k2=K, n_epochs=50, batch_size=100, learning_rate=0.001,\n",
    "            lambda_w=1, lambda_b=0.01, lambda_e=0.0, use_gpu=True, verbose=VERBOSE, seed=SEED)\n",
    "\n",
    "item_image_modality = ImageModality(features=label_array, ids=item_ids, normalized=True)\n",
    "\n",
    "rs = RatioSplit(ratings_7_data, test_size=0.2, item_image=item_image_modality, seed=SEED, verbose=VERBOSE)\n",
    "\n",
    "cornac.Experiment(eval_method=rs, models=[vbpr], metrics=eval_metrics).run()"
   ]
  },
  {
   "cell_type": "markdown",
   "metadata": {},
   "source": [
    "# DMRL failed attempts\n",
    "we spent too long trying to make this work"
   ]
  },
  {
   "cell_type": "code",
   "execution_count": null,
   "metadata": {},
   "outputs": [],
   "source": [
    "dmrl100 = DMRL(batch_size=128, epochs=20, log_metrics=False, learning_rate=0.01, num_factors=2, \n",
    "        decay_r=0.5, decay_c=0.01, num_neg=3, embedding_dim=100, name='dmrl(emb_dim=100)')"
   ]
  },
  {
   "cell_type": "code",
   "execution_count": 124,
   "metadata": {},
   "outputs": [
    {
     "name": "stdout",
     "output_type": "stream",
     "text": [
      "Using device cpu for training\n"
     ]
    },
    {
     "ename": "RuntimeError",
     "evalue": "mat1 and mat2 shapes cannot be multiplied (512x150 and 225x2)",
     "output_type": "error",
     "traceback": [
      "\u001b[1;31m---------------------------------------------------------------------------\u001b[0m",
      "\u001b[1;31mRuntimeError\u001b[0m                              Traceback (most recent call last)",
      "Cell \u001b[1;32mIn[124], line 5\u001b[0m\n\u001b[0;32m      1\u001b[0m rs \u001b[38;5;241m=\u001b[39m RatioSplit(ratings_7_data, test_size\u001b[38;5;241m=\u001b[39m\u001b[38;5;241m0.2\u001b[39m, seed\u001b[38;5;241m=\u001b[39mSEED, verbose\u001b[38;5;241m=\u001b[39mVERBOSE)\n\u001b[0;32m      3\u001b[0m \u001b[38;5;66;03m# cornac.Experiment(eval_method=rs, models=[\u001b[39;00m\n\u001b[0;32m      4\u001b[0m \u001b[38;5;66;03m#         ease100, dmrl100], metrics=eval_metrics).run()\u001b[39;00m\n\u001b[1;32m----> 5\u001b[0m \u001b[43mcornac\u001b[49m\u001b[38;5;241;43m.\u001b[39;49m\u001b[43mExperiment\u001b[49m\u001b[43m(\u001b[49m\u001b[43meval_method\u001b[49m\u001b[38;5;241;43m=\u001b[39;49m\u001b[43mrs\u001b[49m\u001b[43m,\u001b[49m\u001b[43m \u001b[49m\u001b[43mmodels\u001b[49m\u001b[38;5;241;43m=\u001b[39;49m\u001b[43m[\u001b[49m\n\u001b[0;32m      6\u001b[0m \u001b[43m        \u001b[49m\u001b[43mdmrl150\u001b[49m\u001b[43m]\u001b[49m\u001b[43m,\u001b[49m\u001b[43m \u001b[49m\u001b[43mmetrics\u001b[49m\u001b[38;5;241;43m=\u001b[39;49m\u001b[43meval_metrics\u001b[49m\u001b[43m)\u001b[49m\u001b[38;5;241;43m.\u001b[39;49m\u001b[43mrun\u001b[49m\u001b[43m(\u001b[49m\u001b[43m)\u001b[49m\n",
      "File \u001b[1;32mc:\\Users\\User\\anaconda3\\envs\\CS608_RecommenderSystems\\lib\\site-packages\\cornac\\experiment\\experiment.py:142\u001b[0m, in \u001b[0;36mExperiment.run\u001b[1;34m(self)\u001b[0m\n\u001b[0;32m    139\u001b[0m         model\u001b[38;5;241m.\u001b[39mverbose \u001b[38;5;241m=\u001b[39m \u001b[38;5;28mself\u001b[39m\u001b[38;5;241m.\u001b[39mverbose\n\u001b[0;32m    141\u001b[0m \u001b[38;5;28;01mfor\u001b[39;00m model \u001b[38;5;129;01min\u001b[39;00m \u001b[38;5;28mself\u001b[39m\u001b[38;5;241m.\u001b[39mmodels:\n\u001b[1;32m--> 142\u001b[0m     test_result, val_result \u001b[38;5;241m=\u001b[39m \u001b[38;5;28;43mself\u001b[39;49m\u001b[38;5;241;43m.\u001b[39;49m\u001b[43meval_method\u001b[49m\u001b[38;5;241;43m.\u001b[39;49m\u001b[43mevaluate\u001b[49m\u001b[43m(\u001b[49m\n\u001b[0;32m    143\u001b[0m \u001b[43m        \u001b[49m\u001b[43mmodel\u001b[49m\u001b[38;5;241;43m=\u001b[39;49m\u001b[43mmodel\u001b[49m\u001b[43m,\u001b[49m\n\u001b[0;32m    144\u001b[0m \u001b[43m        \u001b[49m\u001b[43mmetrics\u001b[49m\u001b[38;5;241;43m=\u001b[39;49m\u001b[38;5;28;43mself\u001b[39;49m\u001b[38;5;241;43m.\u001b[39;49m\u001b[43mmetrics\u001b[49m\u001b[43m,\u001b[49m\n\u001b[0;32m    145\u001b[0m \u001b[43m        \u001b[49m\u001b[43muser_based\u001b[49m\u001b[38;5;241;43m=\u001b[39;49m\u001b[38;5;28;43mself\u001b[39;49m\u001b[38;5;241;43m.\u001b[39;49m\u001b[43muser_based\u001b[49m\u001b[43m,\u001b[49m\n\u001b[0;32m    146\u001b[0m \u001b[43m        \u001b[49m\u001b[43mshow_validation\u001b[49m\u001b[38;5;241;43m=\u001b[39;49m\u001b[38;5;28;43mself\u001b[39;49m\u001b[38;5;241;43m.\u001b[39;49m\u001b[43mshow_validation\u001b[49m\u001b[43m,\u001b[49m\n\u001b[0;32m    147\u001b[0m \u001b[43m    \u001b[49m\u001b[43m)\u001b[49m\n\u001b[0;32m    149\u001b[0m     \u001b[38;5;28mself\u001b[39m\u001b[38;5;241m.\u001b[39mresult\u001b[38;5;241m.\u001b[39mappend(test_result)\n\u001b[0;32m    150\u001b[0m     \u001b[38;5;28;01mif\u001b[39;00m \u001b[38;5;28mself\u001b[39m\u001b[38;5;241m.\u001b[39mval_result \u001b[38;5;129;01mis\u001b[39;00m \u001b[38;5;129;01mnot\u001b[39;00m \u001b[38;5;28;01mNone\u001b[39;00m:\n",
      "File \u001b[1;32mc:\\Users\\User\\anaconda3\\envs\\CS608_RecommenderSystems\\lib\\site-packages\\cornac\\eval_methods\\base_method.py:734\u001b[0m, in \u001b[0;36mBaseMethod.evaluate\u001b[1;34m(self, model, metrics, user_based, show_validation)\u001b[0m\n\u001b[0;32m    731\u001b[0m     \u001b[38;5;28mprint\u001b[39m(\u001b[38;5;124m\"\u001b[39m\u001b[38;5;130;01m\\n\u001b[39;00m\u001b[38;5;124m[\u001b[39m\u001b[38;5;132;01m{}\u001b[39;00m\u001b[38;5;124m] Training started!\u001b[39m\u001b[38;5;124m\"\u001b[39m\u001b[38;5;241m.\u001b[39mformat(model\u001b[38;5;241m.\u001b[39mname))\n\u001b[0;32m    733\u001b[0m start \u001b[38;5;241m=\u001b[39m time\u001b[38;5;241m.\u001b[39mtime()\n\u001b[1;32m--> 734\u001b[0m \u001b[43mmodel\u001b[49m\u001b[38;5;241;43m.\u001b[39;49m\u001b[43mfit\u001b[49m\u001b[43m(\u001b[49m\u001b[38;5;28;43mself\u001b[39;49m\u001b[38;5;241;43m.\u001b[39;49m\u001b[43mtrain_set\u001b[49m\u001b[43m,\u001b[49m\u001b[43m \u001b[49m\u001b[38;5;28;43mself\u001b[39;49m\u001b[38;5;241;43m.\u001b[39;49m\u001b[43mval_set\u001b[49m\u001b[43m)\u001b[49m\n\u001b[0;32m    735\u001b[0m train_time \u001b[38;5;241m=\u001b[39m time\u001b[38;5;241m.\u001b[39mtime() \u001b[38;5;241m-\u001b[39m start\n\u001b[0;32m    737\u001b[0m \u001b[38;5;66;03m##############\u001b[39;00m\n\u001b[0;32m    738\u001b[0m \u001b[38;5;66;03m# EVALUATION #\u001b[39;00m\n\u001b[0;32m    739\u001b[0m \u001b[38;5;66;03m##############\u001b[39;00m\n",
      "File \u001b[1;32mc:\\Users\\User\\anaconda3\\envs\\CS608_RecommenderSystems\\lib\\site-packages\\cornac\\models\\dmrl\\recom_dmrl.py:140\u001b[0m, in \u001b[0;36mDMRL.fit\u001b[1;34m(self, train_set, val_set)\u001b[0m\n\u001b[0;32m    137\u001b[0m Recommender\u001b[38;5;241m.\u001b[39mfit(\u001b[38;5;28mself\u001b[39m, train_set, val_set)\n\u001b[0;32m    139\u001b[0m \u001b[38;5;28;01mif\u001b[39;00m \u001b[38;5;28mself\u001b[39m\u001b[38;5;241m.\u001b[39mtrainable:\n\u001b[1;32m--> 140\u001b[0m     \u001b[38;5;28;43mself\u001b[39;49m\u001b[38;5;241;43m.\u001b[39;49m\u001b[43m_fit_dmrl\u001b[49m\u001b[43m(\u001b[49m\u001b[43mtrain_set\u001b[49m\u001b[43m,\u001b[49m\u001b[43m \u001b[49m\u001b[43mval_set\u001b[49m\u001b[43m)\u001b[49m\n\u001b[0;32m    142\u001b[0m \u001b[38;5;28;01mreturn\u001b[39;00m \u001b[38;5;28mself\u001b[39m\n",
      "File \u001b[1;32mc:\\Users\\User\\anaconda3\\envs\\CS608_RecommenderSystems\\lib\\site-packages\\cornac\\models\\dmrl\\recom_dmrl.py:339\u001b[0m, in \u001b[0;36mDMRL._fit_dmrl\u001b[1;34m(self, train_set, val_set)\u001b[0m\n\u001b[0;32m    336\u001b[0m     item_image_embeddings \u001b[38;5;241m=\u001b[39m item_image_embeddings\u001b[38;5;241m.\u001b[39mto(\u001b[38;5;28mself\u001b[39m\u001b[38;5;241m.\u001b[39mdevice)\n\u001b[0;32m    338\u001b[0m \u001b[38;5;66;03m# Forward pass\u001b[39;00m\n\u001b[1;32m--> 339\u001b[0m embedding_factor_lists, rating_scores \u001b[38;5;241m=\u001b[39m \u001b[38;5;28;43mself\u001b[39;49m\u001b[38;5;241;43m.\u001b[39;49m\u001b[43mmodel\u001b[49m\u001b[43m(\u001b[49m\n\u001b[0;32m    340\u001b[0m \u001b[43m    \u001b[49m\u001b[43mbatch\u001b[49m\u001b[43m,\u001b[49m\u001b[43m \u001b[49m\u001b[43mitem_text_embeddings\u001b[49m\u001b[43m,\u001b[49m\u001b[43m \u001b[49m\u001b[43mitem_image_embeddings\u001b[49m\n\u001b[0;32m    341\u001b[0m \u001b[43m\u001b[49m\u001b[43m)\u001b[49m\n\u001b[0;32m    342\u001b[0m \u001b[38;5;66;03m# preds = self.model(u_batch, i_batch, text)\u001b[39;00m\n\u001b[0;32m    343\u001b[0m loss \u001b[38;5;241m=\u001b[39m loss_function(embedding_factor_lists, rating_scores)\n",
      "File \u001b[1;32mc:\\Users\\User\\anaconda3\\envs\\CS608_RecommenderSystems\\lib\\site-packages\\torch\\nn\\modules\\module.py:1532\u001b[0m, in \u001b[0;36mModule._wrapped_call_impl\u001b[1;34m(self, *args, **kwargs)\u001b[0m\n\u001b[0;32m   1530\u001b[0m     \u001b[38;5;28;01mreturn\u001b[39;00m \u001b[38;5;28mself\u001b[39m\u001b[38;5;241m.\u001b[39m_compiled_call_impl(\u001b[38;5;241m*\u001b[39margs, \u001b[38;5;241m*\u001b[39m\u001b[38;5;241m*\u001b[39mkwargs)  \u001b[38;5;66;03m# type: ignore[misc]\u001b[39;00m\n\u001b[0;32m   1531\u001b[0m \u001b[38;5;28;01melse\u001b[39;00m:\n\u001b[1;32m-> 1532\u001b[0m     \u001b[38;5;28;01mreturn\u001b[39;00m \u001b[38;5;28mself\u001b[39m\u001b[38;5;241m.\u001b[39m_call_impl(\u001b[38;5;241m*\u001b[39margs, \u001b[38;5;241m*\u001b[39m\u001b[38;5;241m*\u001b[39mkwargs)\n",
      "File \u001b[1;32mc:\\Users\\User\\anaconda3\\envs\\CS608_RecommenderSystems\\lib\\site-packages\\torch\\nn\\modules\\module.py:1541\u001b[0m, in \u001b[0;36mModule._call_impl\u001b[1;34m(self, *args, **kwargs)\u001b[0m\n\u001b[0;32m   1536\u001b[0m \u001b[38;5;66;03m# If we don't have any hooks, we want to skip the rest of the logic in\u001b[39;00m\n\u001b[0;32m   1537\u001b[0m \u001b[38;5;66;03m# this function, and just call forward.\u001b[39;00m\n\u001b[0;32m   1538\u001b[0m \u001b[38;5;28;01mif\u001b[39;00m \u001b[38;5;129;01mnot\u001b[39;00m (\u001b[38;5;28mself\u001b[39m\u001b[38;5;241m.\u001b[39m_backward_hooks \u001b[38;5;129;01mor\u001b[39;00m \u001b[38;5;28mself\u001b[39m\u001b[38;5;241m.\u001b[39m_backward_pre_hooks \u001b[38;5;129;01mor\u001b[39;00m \u001b[38;5;28mself\u001b[39m\u001b[38;5;241m.\u001b[39m_forward_hooks \u001b[38;5;129;01mor\u001b[39;00m \u001b[38;5;28mself\u001b[39m\u001b[38;5;241m.\u001b[39m_forward_pre_hooks\n\u001b[0;32m   1539\u001b[0m         \u001b[38;5;129;01mor\u001b[39;00m _global_backward_pre_hooks \u001b[38;5;129;01mor\u001b[39;00m _global_backward_hooks\n\u001b[0;32m   1540\u001b[0m         \u001b[38;5;129;01mor\u001b[39;00m _global_forward_hooks \u001b[38;5;129;01mor\u001b[39;00m _global_forward_pre_hooks):\n\u001b[1;32m-> 1541\u001b[0m     \u001b[38;5;28;01mreturn\u001b[39;00m forward_call(\u001b[38;5;241m*\u001b[39margs, \u001b[38;5;241m*\u001b[39m\u001b[38;5;241m*\u001b[39mkwargs)\n\u001b[0;32m   1543\u001b[0m \u001b[38;5;28;01mtry\u001b[39;00m:\n\u001b[0;32m   1544\u001b[0m     result \u001b[38;5;241m=\u001b[39m \u001b[38;5;28;01mNone\u001b[39;00m\n",
      "File \u001b[1;32mc:\\Users\\User\\anaconda3\\envs\\CS608_RecommenderSystems\\lib\\site-packages\\cornac\\models\\dmrl\\dmrl.py:213\u001b[0m, in \u001b[0;36mDMRLModel.forward\u001b[1;34m(self, batch, text, image)\u001b[0m\n\u001b[0;32m    202\u001b[0m \u001b[38;5;28;01mfor\u001b[39;00m i \u001b[38;5;129;01min\u001b[39;00m \u001b[38;5;28mrange\u001b[39m(\u001b[38;5;28mself\u001b[39m\u001b[38;5;241m.\u001b[39mnum_factors):\n\u001b[0;32m    204\u001b[0m     concatted_features \u001b[38;5;241m=\u001b[39m torch\u001b[38;5;241m.\u001b[39mconcatenate(\n\u001b[0;32m    205\u001b[0m         [\n\u001b[0;32m    206\u001b[0m             user_embedding_factors[i],\n\u001b[1;32m   (...)\u001b[0m\n\u001b[0;32m    211\u001b[0m         axis\u001b[38;5;241m=\u001b[39m\u001b[38;5;241m2\u001b[39m,\n\u001b[0;32m    212\u001b[0m     )\n\u001b[1;32m--> 213\u001b[0m     attention \u001b[38;5;241m=\u001b[39m \u001b[38;5;28;43mself\u001b[39;49m\u001b[38;5;241;43m.\u001b[39;49m\u001b[43mattention_layer\u001b[49m\u001b[43m(\u001b[49m\n\u001b[0;32m    214\u001b[0m \u001b[43m        \u001b[49m\u001b[43mtorch\u001b[49m\u001b[38;5;241;43m.\u001b[39;49m\u001b[43mnn\u001b[49m\u001b[38;5;241;43m.\u001b[39;49m\u001b[43mfunctional\u001b[49m\u001b[38;5;241;43m.\u001b[39;49m\u001b[43mnormalize\u001b[49m\u001b[43m(\u001b[49m\u001b[43mconcatted_features\u001b[49m\u001b[43m,\u001b[49m\u001b[43m \u001b[49m\u001b[43mdim\u001b[49m\u001b[38;5;241;43m=\u001b[39;49m\u001b[38;5;241;43m-\u001b[39;49m\u001b[38;5;241;43m1\u001b[39;49m\u001b[43m)\u001b[49m\n\u001b[0;32m    215\u001b[0m \u001b[43m    \u001b[49m\u001b[43m)\u001b[49m\n\u001b[0;32m    217\u001b[0m     r_ui \u001b[38;5;241m=\u001b[39m attention[:, :, \u001b[38;5;241m0\u001b[39m] \u001b[38;5;241m*\u001b[39m torch\u001b[38;5;241m.\u001b[39mnn\u001b[38;5;241m.\u001b[39mSoftplus()(\n\u001b[0;32m    218\u001b[0m         torch\u001b[38;5;241m.\u001b[39msum(\n\u001b[0;32m    219\u001b[0m             user_embedding_factors[i] \u001b[38;5;241m*\u001b[39m item_embedding_factors[i], axis\u001b[38;5;241m=\u001b[39m\u001b[38;5;241m-\u001b[39m\u001b[38;5;241m1\u001b[39m\n\u001b[0;32m    220\u001b[0m         )\n\u001b[0;32m    221\u001b[0m     )\n\u001b[0;32m    222\u001b[0m     \u001b[38;5;66;03m# log rating\u001b[39;00m\n",
      "File \u001b[1;32mc:\\Users\\User\\anaconda3\\envs\\CS608_RecommenderSystems\\lib\\site-packages\\torch\\nn\\modules\\module.py:1532\u001b[0m, in \u001b[0;36mModule._wrapped_call_impl\u001b[1;34m(self, *args, **kwargs)\u001b[0m\n\u001b[0;32m   1530\u001b[0m     \u001b[38;5;28;01mreturn\u001b[39;00m \u001b[38;5;28mself\u001b[39m\u001b[38;5;241m.\u001b[39m_compiled_call_impl(\u001b[38;5;241m*\u001b[39margs, \u001b[38;5;241m*\u001b[39m\u001b[38;5;241m*\u001b[39mkwargs)  \u001b[38;5;66;03m# type: ignore[misc]\u001b[39;00m\n\u001b[0;32m   1531\u001b[0m \u001b[38;5;28;01melse\u001b[39;00m:\n\u001b[1;32m-> 1532\u001b[0m     \u001b[38;5;28;01mreturn\u001b[39;00m \u001b[38;5;28mself\u001b[39m\u001b[38;5;241m.\u001b[39m_call_impl(\u001b[38;5;241m*\u001b[39margs, \u001b[38;5;241m*\u001b[39m\u001b[38;5;241m*\u001b[39mkwargs)\n",
      "File \u001b[1;32mc:\\Users\\User\\anaconda3\\envs\\CS608_RecommenderSystems\\lib\\site-packages\\torch\\nn\\modules\\module.py:1541\u001b[0m, in \u001b[0;36mModule._call_impl\u001b[1;34m(self, *args, **kwargs)\u001b[0m\n\u001b[0;32m   1536\u001b[0m \u001b[38;5;66;03m# If we don't have any hooks, we want to skip the rest of the logic in\u001b[39;00m\n\u001b[0;32m   1537\u001b[0m \u001b[38;5;66;03m# this function, and just call forward.\u001b[39;00m\n\u001b[0;32m   1538\u001b[0m \u001b[38;5;28;01mif\u001b[39;00m \u001b[38;5;129;01mnot\u001b[39;00m (\u001b[38;5;28mself\u001b[39m\u001b[38;5;241m.\u001b[39m_backward_hooks \u001b[38;5;129;01mor\u001b[39;00m \u001b[38;5;28mself\u001b[39m\u001b[38;5;241m.\u001b[39m_backward_pre_hooks \u001b[38;5;129;01mor\u001b[39;00m \u001b[38;5;28mself\u001b[39m\u001b[38;5;241m.\u001b[39m_forward_hooks \u001b[38;5;129;01mor\u001b[39;00m \u001b[38;5;28mself\u001b[39m\u001b[38;5;241m.\u001b[39m_forward_pre_hooks\n\u001b[0;32m   1539\u001b[0m         \u001b[38;5;129;01mor\u001b[39;00m _global_backward_pre_hooks \u001b[38;5;129;01mor\u001b[39;00m _global_backward_hooks\n\u001b[0;32m   1540\u001b[0m         \u001b[38;5;129;01mor\u001b[39;00m _global_forward_hooks \u001b[38;5;129;01mor\u001b[39;00m _global_forward_pre_hooks):\n\u001b[1;32m-> 1541\u001b[0m     \u001b[38;5;28;01mreturn\u001b[39;00m forward_call(\u001b[38;5;241m*\u001b[39margs, \u001b[38;5;241m*\u001b[39m\u001b[38;5;241m*\u001b[39mkwargs)\n\u001b[0;32m   1543\u001b[0m \u001b[38;5;28;01mtry\u001b[39;00m:\n\u001b[0;32m   1544\u001b[0m     result \u001b[38;5;241m=\u001b[39m \u001b[38;5;28;01mNone\u001b[39;00m\n",
      "File \u001b[1;32mc:\\Users\\User\\anaconda3\\envs\\CS608_RecommenderSystems\\lib\\site-packages\\torch\\nn\\modules\\container.py:217\u001b[0m, in \u001b[0;36mSequential.forward\u001b[1;34m(self, input)\u001b[0m\n\u001b[0;32m    215\u001b[0m \u001b[38;5;28;01mdef\u001b[39;00m \u001b[38;5;21mforward\u001b[39m(\u001b[38;5;28mself\u001b[39m, \u001b[38;5;28minput\u001b[39m):\n\u001b[0;32m    216\u001b[0m     \u001b[38;5;28;01mfor\u001b[39;00m module \u001b[38;5;129;01min\u001b[39;00m \u001b[38;5;28mself\u001b[39m:\n\u001b[1;32m--> 217\u001b[0m         \u001b[38;5;28minput\u001b[39m \u001b[38;5;241m=\u001b[39m \u001b[43mmodule\u001b[49m\u001b[43m(\u001b[49m\u001b[38;5;28;43minput\u001b[39;49m\u001b[43m)\u001b[49m\n\u001b[0;32m    218\u001b[0m     \u001b[38;5;28;01mreturn\u001b[39;00m \u001b[38;5;28minput\u001b[39m\n",
      "File \u001b[1;32mc:\\Users\\User\\anaconda3\\envs\\CS608_RecommenderSystems\\lib\\site-packages\\torch\\nn\\modules\\module.py:1532\u001b[0m, in \u001b[0;36mModule._wrapped_call_impl\u001b[1;34m(self, *args, **kwargs)\u001b[0m\n\u001b[0;32m   1530\u001b[0m     \u001b[38;5;28;01mreturn\u001b[39;00m \u001b[38;5;28mself\u001b[39m\u001b[38;5;241m.\u001b[39m_compiled_call_impl(\u001b[38;5;241m*\u001b[39margs, \u001b[38;5;241m*\u001b[39m\u001b[38;5;241m*\u001b[39mkwargs)  \u001b[38;5;66;03m# type: ignore[misc]\u001b[39;00m\n\u001b[0;32m   1531\u001b[0m \u001b[38;5;28;01melse\u001b[39;00m:\n\u001b[1;32m-> 1532\u001b[0m     \u001b[38;5;28;01mreturn\u001b[39;00m \u001b[38;5;28mself\u001b[39m\u001b[38;5;241m.\u001b[39m_call_impl(\u001b[38;5;241m*\u001b[39margs, \u001b[38;5;241m*\u001b[39m\u001b[38;5;241m*\u001b[39mkwargs)\n",
      "File \u001b[1;32mc:\\Users\\User\\anaconda3\\envs\\CS608_RecommenderSystems\\lib\\site-packages\\torch\\nn\\modules\\module.py:1541\u001b[0m, in \u001b[0;36mModule._call_impl\u001b[1;34m(self, *args, **kwargs)\u001b[0m\n\u001b[0;32m   1536\u001b[0m \u001b[38;5;66;03m# If we don't have any hooks, we want to skip the rest of the logic in\u001b[39;00m\n\u001b[0;32m   1537\u001b[0m \u001b[38;5;66;03m# this function, and just call forward.\u001b[39;00m\n\u001b[0;32m   1538\u001b[0m \u001b[38;5;28;01mif\u001b[39;00m \u001b[38;5;129;01mnot\u001b[39;00m (\u001b[38;5;28mself\u001b[39m\u001b[38;5;241m.\u001b[39m_backward_hooks \u001b[38;5;129;01mor\u001b[39;00m \u001b[38;5;28mself\u001b[39m\u001b[38;5;241m.\u001b[39m_backward_pre_hooks \u001b[38;5;129;01mor\u001b[39;00m \u001b[38;5;28mself\u001b[39m\u001b[38;5;241m.\u001b[39m_forward_hooks \u001b[38;5;129;01mor\u001b[39;00m \u001b[38;5;28mself\u001b[39m\u001b[38;5;241m.\u001b[39m_forward_pre_hooks\n\u001b[0;32m   1539\u001b[0m         \u001b[38;5;129;01mor\u001b[39;00m _global_backward_pre_hooks \u001b[38;5;129;01mor\u001b[39;00m _global_backward_hooks\n\u001b[0;32m   1540\u001b[0m         \u001b[38;5;129;01mor\u001b[39;00m _global_forward_hooks \u001b[38;5;129;01mor\u001b[39;00m _global_forward_pre_hooks):\n\u001b[1;32m-> 1541\u001b[0m     \u001b[38;5;28;01mreturn\u001b[39;00m forward_call(\u001b[38;5;241m*\u001b[39margs, \u001b[38;5;241m*\u001b[39m\u001b[38;5;241m*\u001b[39mkwargs)\n\u001b[0;32m   1543\u001b[0m \u001b[38;5;28;01mtry\u001b[39;00m:\n\u001b[0;32m   1544\u001b[0m     result \u001b[38;5;241m=\u001b[39m \u001b[38;5;28;01mNone\u001b[39;00m\n",
      "File \u001b[1;32mc:\\Users\\User\\anaconda3\\envs\\CS608_RecommenderSystems\\lib\\site-packages\\torch\\nn\\modules\\linear.py:116\u001b[0m, in \u001b[0;36mLinear.forward\u001b[1;34m(self, input)\u001b[0m\n\u001b[0;32m    115\u001b[0m \u001b[38;5;28;01mdef\u001b[39;00m \u001b[38;5;21mforward\u001b[39m(\u001b[38;5;28mself\u001b[39m, \u001b[38;5;28minput\u001b[39m: Tensor) \u001b[38;5;241m-\u001b[39m\u001b[38;5;241m>\u001b[39m Tensor:\n\u001b[1;32m--> 116\u001b[0m     \u001b[38;5;28;01mreturn\u001b[39;00m \u001b[43mF\u001b[49m\u001b[38;5;241;43m.\u001b[39;49m\u001b[43mlinear\u001b[49m\u001b[43m(\u001b[49m\u001b[38;5;28;43minput\u001b[39;49m\u001b[43m,\u001b[49m\u001b[43m \u001b[49m\u001b[38;5;28;43mself\u001b[39;49m\u001b[38;5;241;43m.\u001b[39;49m\u001b[43mweight\u001b[49m\u001b[43m,\u001b[49m\u001b[43m \u001b[49m\u001b[38;5;28;43mself\u001b[39;49m\u001b[38;5;241;43m.\u001b[39;49m\u001b[43mbias\u001b[49m\u001b[43m)\u001b[49m\n",
      "\u001b[1;31mRuntimeError\u001b[0m: mat1 and mat2 shapes cannot be multiplied (512x150 and 225x2)"
     ]
    }
   ],
   "source": [
    "rs = RatioSplit(ratings_7_data, test_size=0.2, seed=SEED, verbose=VERBOSE)\n",
    "\n",
    "# cornac.Experiment(eval_method=rs, models=[\n",
    "#         ease100, dmrl100], metrics=eval_metrics).run()\n",
    "cornac.Experiment(eval_method=rs, models=[\n",
    "        dmrl100], metrics=eval_metrics).run()"
   ]
  },
  {
   "cell_type": "code",
   "execution_count": 63,
   "metadata": {},
   "outputs": [],
   "source": [
    "# try and cheat the system a bit: add dummy text within text modality\n",
    "dummy = [\"\"] * len(content)"
   ]
  },
  {
   "cell_type": "code",
   "execution_count": 64,
   "metadata": {},
   "outputs": [],
   "source": [
    "item_ids = list(content[\"anime_id_remapped\"])"
   ]
  },
  {
   "cell_type": "code",
   "execution_count": 65,
   "metadata": {},
   "outputs": [],
   "source": [
    "dummy_item_text_modality = TextModality(\n",
    "    corpus=dummy,\n",
    "    ids=item_ids,\n",
    ")"
   ]
  },
  {
   "cell_type": "code",
   "execution_count": 68,
   "metadata": {},
   "outputs": [],
   "source": [
    "dmrl100 = DMRL(batch_size=4096, epochs=1, log_metrics=False, learning_rate=0.01, num_factors=2, \n",
    "        decay_r=0.5, decay_c=0.01, num_neg=3, embedding_dim=100, name='dmrl(emb_dim=100)')"
   ]
  },
  {
   "cell_type": "code",
   "execution_count": 69,
   "metadata": {},
   "outputs": [
    {
     "name": "stdout",
     "output_type": "stream",
     "text": [
      "rating_threshold = 0.5\n",
      "exclude_unknowns = True\n",
      "---\n",
      "Training data:\n",
      "Number of users = 72927\n",
      "Number of items = 10799\n",
      "Number of ratings = 6246137\n",
      "Max rating = 10.0\n",
      "Min rating = 1.0\n",
      "Global mean = 7.7\n",
      "---\n",
      "Test data:\n",
      "Number of users = 72927\n",
      "Number of items = 10799\n",
      "Number of ratings = 1560538\n",
      "Number of unknown users = 0\n",
      "Number of unknown items = 0\n",
      "---\n",
      "Total users = 72927\n",
      "Total items = 10799\n",
      "\n",
      "[dmrl(emb_dim=100)] Training started!\n",
      "Using device cpu for training\n",
      "  batch 5 loss: 2839.747021484375\n",
      "  batch 10 loss: 2840.6560546875\n",
      "  batch 15 loss: 2841.187451171875\n",
      "  batch 20 loss: 2839.481591796875\n",
      "  batch 25 loss: 2831.934033203125\n",
      "  batch 30 loss: 2807.51455078125\n",
      "  batch 35 loss: 2752.502783203125\n",
      "  batch 40 loss: 2703.2546875\n",
      "  batch 45 loss: 2654.004736328125\n",
      "  batch 50 loss: 2588.586474609375\n",
      "  batch 55 loss: 2496.2884765625\n",
      "  batch 60 loss: 2368.9345703125\n",
      "  batch 65 loss: 2222.249658203125\n",
      "  batch 70 loss: 2100.98408203125\n",
      "  batch 75 loss: 2060.567724609375\n",
      "  batch 80 loss: 1992.23505859375\n",
      "  batch 85 loss: 1957.5828125\n",
      "  batch 90 loss: 1921.2881591796875\n",
      "  batch 95 loss: 1887.0935546875\n",
      "  batch 100 loss: 1877.5886474609374\n",
      "  batch 105 loss: 1853.348388671875\n",
      "  batch 110 loss: 1849.8582763671875\n",
      "  batch 115 loss: 1809.938916015625\n",
      "  batch 120 loss: 1795.808251953125\n",
      "  batch 125 loss: 1777.8087890625\n",
      "  batch 130 loss: 1774.398974609375\n",
      "  batch 135 loss: 1766.8541259765625\n",
      "  batch 140 loss: 1731.0638427734375\n",
      "  batch 145 loss: 1771.518017578125\n",
      "  batch 150 loss: 1740.182373046875\n",
      "  batch 155 loss: 1722.844921875\n",
      "  batch 160 loss: 1725.1372802734375\n",
      "  batch 165 loss: 1687.608740234375\n",
      "  batch 170 loss: 1713.151416015625\n",
      "  batch 175 loss: 1713.5947021484376\n",
      "  batch 180 loss: 1696.064794921875\n",
      "  batch 185 loss: 1688.0594970703125\n",
      "  batch 190 loss: 1707.929296875\n",
      "  batch 195 loss: 1662.3839599609375\n",
      "  batch 200 loss: 1689.095068359375\n",
      "  batch 205 loss: 1670.0005126953124\n",
      "  batch 210 loss: 1700.7466796875\n",
      "  batch 215 loss: 1669.927587890625\n",
      "  batch 220 loss: 1661.2760009765625\n",
      "  batch 225 loss: 1659.27724609375\n",
      "  batch 230 loss: 1644.5327880859375\n",
      "  batch 235 loss: 1645.591064453125\n",
      "  batch 240 loss: 1650.8100341796876\n",
      "  batch 245 loss: 1682.990625\n",
      "  batch 250 loss: 1635.52314453125\n",
      "  batch 255 loss: 1634.4232421875\n",
      "  batch 260 loss: 1638.0007080078126\n",
      "  batch 265 loss: 1590.7276123046875\n",
      "  batch 270 loss: 1613.5434326171876\n",
      "  batch 275 loss: 1627.9711669921876\n",
      "  batch 280 loss: 1591.4675537109374\n",
      "  batch 285 loss: 1597.482275390625\n",
      "  batch 290 loss: 1591.2216552734376\n",
      "  batch 295 loss: 1591.7228515625\n",
      "  batch 300 loss: 1601.81552734375\n",
      "  batch 305 loss: 1586.5422119140626\n",
      "  batch 310 loss: 1602.9009521484375\n",
      "  batch 315 loss: 1565.519140625\n",
      "  batch 320 loss: 1574.851513671875\n",
      "  batch 325 loss: 1552.75205078125\n",
      "  batch 330 loss: 1586.6818359375\n",
      "  batch 335 loss: 1561.91787109375\n",
      "  batch 340 loss: 1577.4233154296876\n",
      "  batch 345 loss: 1549.072705078125\n",
      "  batch 350 loss: 1559.8578369140625\n",
      "  batch 355 loss: 1565.698486328125\n",
      "  batch 360 loss: 1564.912109375\n",
      "  batch 365 loss: 1537.845166015625\n",
      "  batch 370 loss: 1547.9801025390625\n",
      "  batch 375 loss: 1546.1521240234374\n",
      "  batch 380 loss: 1546.07744140625\n",
      "  batch 385 loss: 1509.8778564453125\n",
      "  batch 390 loss: 1510.1834716796875\n",
      "  batch 395 loss: 1555.9888916015625\n",
      "  batch 400 loss: 1525.112158203125\n",
      "  batch 405 loss: 1523.6434814453125\n",
      "  batch 410 loss: 1521.6904296875\n",
      "  batch 415 loss: 1517.630078125\n",
      "  batch 420 loss: 1531.2583740234375\n",
      "  batch 425 loss: 1503.8861572265625\n",
      "  batch 430 loss: 1530.8401611328125\n",
      "  batch 435 loss: 1503.2751953125\n",
      "  batch 440 loss: 1532.879541015625\n",
      "  batch 445 loss: 1504.24443359375\n",
      "  batch 450 loss: 1495.5215087890624\n",
      "  batch 455 loss: 1510.5482421875\n",
      "  batch 460 loss: 1524.750927734375\n",
      "  batch 465 loss: 1500.46669921875\n",
      "  batch 470 loss: 1515.0939453125\n",
      "  batch 475 loss: 1479.7763671875\n",
      "  batch 480 loss: 1521.0784912109375\n",
      "  batch 485 loss: 1494.53779296875\n",
      "  batch 490 loss: 1499.699560546875\n",
      "  batch 495 loss: 1503.5160888671876\n",
      "  batch 500 loss: 1517.456982421875\n",
      "  batch 505 loss: 1520.137890625\n",
      "  batch 510 loss: 1499.7619384765626\n",
      "  batch 515 loss: 1511.1520751953126\n",
      "  batch 520 loss: 1473.6881591796875\n",
      "  batch 525 loss: 1470.8984375\n",
      "  batch 530 loss: 1479.1885986328125\n",
      "  batch 535 loss: 1483.2578125\n",
      "  batch 540 loss: 1498.4737548828125\n",
      "  batch 545 loss: 1480.1093994140624\n",
      "  batch 550 loss: 1508.2925048828124\n",
      "  batch 555 loss: 1459.9947021484375\n",
      "  batch 560 loss: 1474.954150390625\n",
      "  batch 565 loss: 1481.7255615234376\n",
      "  batch 570 loss: 1484.188720703125\n",
      "  batch 575 loss: 1466.7222412109375\n",
      "  batch 580 loss: 1470.983544921875\n",
      "  batch 585 loss: 1470.9235107421875\n",
      "  batch 590 loss: 1495.6040283203124\n",
      "  batch 595 loss: 1489.7319580078124\n",
      "  batch 600 loss: 1469.0962158203124\n",
      "  batch 605 loss: 1494.93955078125\n",
      "  batch 610 loss: 1470.912158203125\n",
      "  batch 615 loss: 1459.0365234375\n",
      "  batch 620 loss: 1456.44384765625\n",
      "  batch 625 loss: 1476.7641845703124\n",
      "  batch 630 loss: 1477.2638916015626\n",
      "  batch 635 loss: 1499.459033203125\n",
      "  batch 640 loss: 1474.58876953125\n",
      "  batch 645 loss: 1464.020947265625\n",
      "  batch 650 loss: 1472.48203125\n",
      "  batch 655 loss: 1433.1010498046876\n",
      "  batch 660 loss: 1470.507275390625\n",
      "  batch 665 loss: 1484.9977294921875\n",
      "  batch 670 loss: 1468.3109619140625\n",
      "  batch 675 loss: 1475.063037109375\n",
      "  batch 680 loss: 1457.0763671875\n",
      "  batch 685 loss: 1454.1852294921875\n",
      "  batch 690 loss: 1473.60302734375\n",
      "  batch 695 loss: 1487.1888916015625\n",
      "  batch 700 loss: 1472.1521484375\n",
      "  batch 705 loss: 1470.2039794921875\n",
      "  batch 710 loss: 1446.724365234375\n",
      "  batch 715 loss: 1463.7554443359375\n",
      "  batch 720 loss: 1464.6276611328126\n",
      "  batch 725 loss: 1435.77880859375\n",
      "  batch 730 loss: 1473.089404296875\n",
      "  batch 735 loss: 1473.334033203125\n",
      "  batch 740 loss: 1446.249365234375\n",
      "  batch 745 loss: 1461.673974609375\n",
      "  batch 750 loss: 1444.0336181640625\n",
      "  batch 755 loss: 1462.5232421875\n",
      "  batch 760 loss: 1441.519677734375\n",
      "  batch 765 loss: 1486.5590087890625\n",
      "  batch 770 loss: 1443.781396484375\n",
      "  batch 775 loss: 1460.982177734375\n",
      "  batch 780 loss: 1445.897412109375\n",
      "  batch 785 loss: 1440.7701416015625\n",
      "  batch 790 loss: 1450.09501953125\n",
      "  batch 795 loss: 1447.57939453125\n",
      "  batch 800 loss: 1460.6430419921876\n",
      "  batch 805 loss: 1427.30068359375\n",
      "  batch 810 loss: 1461.1438720703125\n",
      "  batch 815 loss: 1453.0917724609376\n",
      "  batch 820 loss: 1442.643505859375\n",
      "  batch 825 loss: 1453.1007568359375\n",
      "  batch 830 loss: 1456.0815673828124\n",
      "  batch 835 loss: 1462.092431640625\n",
      "  batch 840 loss: 1471.1228759765625\n",
      "  batch 845 loss: 1477.71025390625\n",
      "  batch 850 loss: 1460.4089111328126\n",
      "  batch 855 loss: 1420.8580322265625\n",
      "  batch 860 loss: 1453.289794921875\n",
      "  batch 865 loss: 1451.2169921875\n",
      "  batch 870 loss: 1429.740771484375\n",
      "  batch 875 loss: 1461.3883544921875\n",
      "  batch 880 loss: 1422.6254150390625\n",
      "  batch 885 loss: 1441.6626953125\n",
      "  batch 890 loss: 1435.3860595703125\n",
      "  batch 895 loss: 1419.095654296875\n",
      "  batch 900 loss: 1464.218212890625\n",
      "  batch 905 loss: 1426.688525390625\n",
      "  batch 910 loss: 1432.4569091796875\n",
      "  batch 915 loss: 1455.241162109375\n",
      "  batch 920 loss: 1455.390966796875\n",
      "  batch 925 loss: 1447.933447265625\n",
      "  batch 930 loss: 1452.3661865234376\n",
      "  batch 935 loss: 1402.3819091796875\n",
      "  batch 940 loss: 1447.1846435546875\n",
      "  batch 945 loss: 1449.2771240234374\n",
      "  batch 950 loss: 1418.664697265625\n",
      "  batch 955 loss: 1446.4618408203125\n",
      "  batch 960 loss: 1461.011865234375\n",
      "  batch 965 loss: 1442.2882568359375\n",
      "  batch 970 loss: 1444.83115234375\n",
      "  batch 975 loss: 1408.534521484375\n",
      "  batch 980 loss: 1434.4220458984375\n",
      "  batch 985 loss: 1449.8136474609375\n",
      "  batch 990 loss: 1412.3984619140624\n",
      "  batch 995 loss: 1434.5271240234374\n",
      "  batch 1000 loss: 1435.2308349609375\n",
      "  batch 1005 loss: 1421.3914306640625\n",
      "  batch 1010 loss: 1425.673095703125\n",
      "  batch 1015 loss: 1453.651025390625\n",
      "  batch 1020 loss: 1433.792041015625\n",
      "  batch 1025 loss: 1443.4885009765626\n",
      "  batch 1030 loss: 1447.89248046875\n",
      "  batch 1035 loss: 1464.8426513671875\n",
      "  batch 1040 loss: 1443.0601318359375\n",
      "  batch 1045 loss: 1444.4639892578125\n",
      "  batch 1050 loss: 1440.9522705078125\n",
      "  batch 1055 loss: 1437.052734375\n",
      "  batch 1060 loss: 1425.5528564453125\n",
      "  batch 1065 loss: 1459.7005859375\n",
      "  batch 1070 loss: 1419.9866455078125\n",
      "  batch 1075 loss: 1448.88984375\n",
      "  batch 1080 loss: 1436.782958984375\n",
      "  batch 1085 loss: 1420.057470703125\n",
      "  batch 1090 loss: 1448.495947265625\n",
      "  batch 1095 loss: 1437.0799560546875\n",
      "  batch 1100 loss: 1434.48681640625\n",
      "  batch 1105 loss: 1428.42802734375\n",
      "  batch 1110 loss: 1405.02041015625\n",
      "  batch 1115 loss: 1460.2072265625\n",
      "  batch 1120 loss: 1434.064306640625\n",
      "  batch 1125 loss: 1421.1348876953125\n",
      "  batch 1130 loss: 1431.6744140625\n",
      "  batch 1135 loss: 1423.8133544921875\n",
      "  batch 1140 loss: 1419.92353515625\n",
      "  batch 1145 loss: 1437.6566650390625\n",
      "  batch 1150 loss: 1445.6010986328124\n",
      "  batch 1155 loss: 1434.3386474609374\n",
      "  batch 1160 loss: 1459.1844482421875\n",
      "  batch 1165 loss: 1438.6649169921875\n",
      "  batch 1170 loss: 1450.7023193359375\n",
      "  batch 1175 loss: 1443.44287109375\n",
      "  batch 1180 loss: 1450.239306640625\n",
      "  batch 1185 loss: 1442.6508544921876\n",
      "  batch 1190 loss: 1430.541943359375\n",
      "  batch 1195 loss: 1442.9940185546875\n",
      "  batch 1200 loss: 1456.4327880859375\n",
      "  batch 1205 loss: 1441.4124755859375\n",
      "  batch 1210 loss: 1450.6818359375\n",
      "  batch 1215 loss: 1424.722900390625\n",
      "  batch 1220 loss: 1411.7391357421875\n",
      "  batch 1225 loss: 1430.787841796875\n",
      "  batch 1230 loss: 1426.5247802734375\n",
      "  batch 1235 loss: 1443.8303466796874\n",
      "  batch 1240 loss: 1426.999658203125\n",
      "  batch 1245 loss: 1458.539111328125\n",
      "  batch 1250 loss: 1439.5017333984374\n",
      "  batch 1255 loss: 1426.81669921875\n",
      "  batch 1260 loss: 1414.626025390625\n",
      "  batch 1265 loss: 1420.4645263671875\n",
      "  batch 1270 loss: 1451.131884765625\n",
      "  batch 1275 loss: 1420.700048828125\n",
      "  batch 1280 loss: 1449.162744140625\n",
      "  batch 1285 loss: 1444.7410888671875\n",
      "  batch 1290 loss: 1457.3294921875\n",
      "  batch 1295 loss: 1437.749560546875\n",
      "  batch 1300 loss: 1416.2359619140625\n",
      "  batch 1305 loss: 1459.410693359375\n",
      "  batch 1310 loss: 1435.66630859375\n",
      "  batch 1315 loss: 1439.643359375\n",
      "  batch 1320 loss: 1458.1394775390625\n",
      "  batch 1325 loss: 1454.00673828125\n",
      "  batch 1330 loss: 1457.8837890625\n",
      "  batch 1335 loss: 1459.2886474609375\n",
      "  batch 1340 loss: 1449.7613037109375\n",
      "  batch 1345 loss: 1423.23798828125\n",
      "  batch 1350 loss: 1450.76728515625\n",
      "  batch 1355 loss: 1442.8798828125\n",
      "  batch 1360 loss: 1468.90888671875\n",
      "  batch 1365 loss: 1446.2411376953125\n",
      "  batch 1370 loss: 1452.0068115234376\n",
      "  batch 1375 loss: 1467.8234130859375\n",
      "  batch 1380 loss: 1416.4423828125\n",
      "  batch 1385 loss: 1475.8592529296875\n",
      "  batch 1390 loss: 1470.782861328125\n",
      "  batch 1395 loss: 1454.532763671875\n",
      "  batch 1400 loss: 1462.220849609375\n",
      "  batch 1405 loss: 1437.596240234375\n",
      "  batch 1410 loss: 1445.740185546875\n",
      "  batch 1415 loss: 1430.2938720703125\n",
      "  batch 1420 loss: 1443.0382568359375\n",
      "  batch 1425 loss: 1423.5970703125\n",
      "  batch 1430 loss: 1442.7679931640625\n",
      "  batch 1435 loss: 1447.4200927734375\n",
      "  batch 1440 loss: 1444.478466796875\n",
      "  batch 1445 loss: 1431.9792724609374\n",
      "  batch 1450 loss: 1475.2547119140625\n",
      "  batch 1455 loss: 1437.7903076171874\n",
      "  batch 1460 loss: 1421.4235595703126\n",
      "  batch 1465 loss: 1447.087451171875\n",
      "  batch 1470 loss: 1471.44208984375\n",
      "  batch 1475 loss: 1449.23447265625\n",
      "  batch 1480 loss: 1451.7863037109375\n",
      "  batch 1485 loss: 1445.0103515625\n",
      "  batch 1490 loss: 1450.53818359375\n",
      "  batch 1495 loss: 1439.088232421875\n",
      "  batch 1500 loss: 1438.4802490234374\n",
      "  batch 1505 loss: 1440.8188720703124\n",
      "  batch 1510 loss: 1431.1962158203125\n",
      "  batch 1515 loss: 1459.2908203125\n",
      "  batch 1520 loss: 1440.002880859375\n",
      "  batch 1525 loss: 1412.8673095703125\n",
      "Epoch: 0 is done\n",
      "Finished training!\n",
      "\n",
      "[dmrl(emb_dim=100)] Evaluation started!\n"
     ]
    },
    {
     "name": "stderr",
     "output_type": "stream",
     "text": [
      "Rating:   0%|          | 0/1560538 [00:00<?, ?it/s]\n"
     ]
    },
    {
     "ename": "TypeError",
     "evalue": "object of type 'numpy.int32' has no len()",
     "output_type": "error",
     "traceback": [
      "\u001b[1;31m---------------------------------------------------------------------------\u001b[0m",
      "\u001b[1;31mTypeError\u001b[0m                                 Traceback (most recent call last)",
      "Cell \u001b[1;32mIn[69], line 11\u001b[0m\n\u001b[0;32m      1\u001b[0m rs \u001b[38;5;241m=\u001b[39m RatioSplit(\n\u001b[0;32m      2\u001b[0m     data\u001b[38;5;241m=\u001b[39mratings_7_data,\n\u001b[0;32m      3\u001b[0m     test_size\u001b[38;5;241m=\u001b[39m\u001b[38;5;241m0.2\u001b[39m,\n\u001b[1;32m   (...)\u001b[0m\n\u001b[0;32m      8\u001b[0m     item_text\u001b[38;5;241m=\u001b[39mdummy_item_text_modality,\n\u001b[0;32m      9\u001b[0m )\n\u001b[1;32m---> 11\u001b[0m \u001b[43mcornac\u001b[49m\u001b[38;5;241;43m.\u001b[39;49m\u001b[43mExperiment\u001b[49m\u001b[43m(\u001b[49m\u001b[43meval_method\u001b[49m\u001b[38;5;241;43m=\u001b[39;49m\u001b[43mrs\u001b[49m\u001b[43m,\u001b[49m\u001b[43m \u001b[49m\u001b[43mmodels\u001b[49m\u001b[38;5;241;43m=\u001b[39;49m\u001b[43m[\u001b[49m\n\u001b[0;32m     12\u001b[0m \u001b[43m        \u001b[49m\u001b[43mdmrl100\u001b[49m\u001b[43m]\u001b[49m\u001b[43m,\u001b[49m\u001b[43m \u001b[49m\u001b[43mmetrics\u001b[49m\u001b[38;5;241;43m=\u001b[39;49m\u001b[43meval_metrics\u001b[49m\u001b[43m)\u001b[49m\u001b[38;5;241;43m.\u001b[39;49m\u001b[43mrun\u001b[49m\u001b[43m(\u001b[49m\u001b[43m)\u001b[49m\n",
      "File \u001b[1;32mc:\\Users\\User\\anaconda3\\envs\\CS608_RecommenderSystems\\lib\\site-packages\\cornac\\experiment\\experiment.py:142\u001b[0m, in \u001b[0;36mExperiment.run\u001b[1;34m(self)\u001b[0m\n\u001b[0;32m    139\u001b[0m         model\u001b[38;5;241m.\u001b[39mverbose \u001b[38;5;241m=\u001b[39m \u001b[38;5;28mself\u001b[39m\u001b[38;5;241m.\u001b[39mverbose\n\u001b[0;32m    141\u001b[0m \u001b[38;5;28;01mfor\u001b[39;00m model \u001b[38;5;129;01min\u001b[39;00m \u001b[38;5;28mself\u001b[39m\u001b[38;5;241m.\u001b[39mmodels:\n\u001b[1;32m--> 142\u001b[0m     test_result, val_result \u001b[38;5;241m=\u001b[39m \u001b[38;5;28;43mself\u001b[39;49m\u001b[38;5;241;43m.\u001b[39;49m\u001b[43meval_method\u001b[49m\u001b[38;5;241;43m.\u001b[39;49m\u001b[43mevaluate\u001b[49m\u001b[43m(\u001b[49m\n\u001b[0;32m    143\u001b[0m \u001b[43m        \u001b[49m\u001b[43mmodel\u001b[49m\u001b[38;5;241;43m=\u001b[39;49m\u001b[43mmodel\u001b[49m\u001b[43m,\u001b[49m\n\u001b[0;32m    144\u001b[0m \u001b[43m        \u001b[49m\u001b[43mmetrics\u001b[49m\u001b[38;5;241;43m=\u001b[39;49m\u001b[38;5;28;43mself\u001b[39;49m\u001b[38;5;241;43m.\u001b[39;49m\u001b[43mmetrics\u001b[49m\u001b[43m,\u001b[49m\n\u001b[0;32m    145\u001b[0m \u001b[43m        \u001b[49m\u001b[43muser_based\u001b[49m\u001b[38;5;241;43m=\u001b[39;49m\u001b[38;5;28;43mself\u001b[39;49m\u001b[38;5;241;43m.\u001b[39;49m\u001b[43muser_based\u001b[49m\u001b[43m,\u001b[49m\n\u001b[0;32m    146\u001b[0m \u001b[43m        \u001b[49m\u001b[43mshow_validation\u001b[49m\u001b[38;5;241;43m=\u001b[39;49m\u001b[38;5;28;43mself\u001b[39;49m\u001b[38;5;241;43m.\u001b[39;49m\u001b[43mshow_validation\u001b[49m\u001b[43m,\u001b[49m\n\u001b[0;32m    147\u001b[0m \u001b[43m    \u001b[49m\u001b[43m)\u001b[49m\n\u001b[0;32m    149\u001b[0m     \u001b[38;5;28mself\u001b[39m\u001b[38;5;241m.\u001b[39mresult\u001b[38;5;241m.\u001b[39mappend(test_result)\n\u001b[0;32m    150\u001b[0m     \u001b[38;5;28;01mif\u001b[39;00m \u001b[38;5;28mself\u001b[39m\u001b[38;5;241m.\u001b[39mval_result \u001b[38;5;129;01mis\u001b[39;00m \u001b[38;5;129;01mnot\u001b[39;00m \u001b[38;5;28;01mNone\u001b[39;00m:\n",
      "File \u001b[1;32mc:\\Users\\User\\anaconda3\\envs\\CS608_RecommenderSystems\\lib\\site-packages\\cornac\\eval_methods\\base_method.py:747\u001b[0m, in \u001b[0;36mBaseMethod.evaluate\u001b[1;34m(self, model, metrics, user_based, show_validation)\u001b[0m\n\u001b[0;32m    745\u001b[0m start \u001b[38;5;241m=\u001b[39m time\u001b[38;5;241m.\u001b[39mtime()\n\u001b[0;32m    746\u001b[0m model\u001b[38;5;241m.\u001b[39mtransform(\u001b[38;5;28mself\u001b[39m\u001b[38;5;241m.\u001b[39mtest_set)\n\u001b[1;32m--> 747\u001b[0m test_result \u001b[38;5;241m=\u001b[39m \u001b[38;5;28;43mself\u001b[39;49m\u001b[38;5;241;43m.\u001b[39;49m\u001b[43meval\u001b[49m\u001b[43m(\u001b[49m\n\u001b[0;32m    748\u001b[0m \u001b[43m    \u001b[49m\u001b[43mmodel\u001b[49m\u001b[38;5;241;43m=\u001b[39;49m\u001b[43mmodel\u001b[49m\u001b[43m,\u001b[49m\n\u001b[0;32m    749\u001b[0m \u001b[43m    \u001b[49m\u001b[43mtrain_set\u001b[49m\u001b[38;5;241;43m=\u001b[39;49m\u001b[38;5;28;43mself\u001b[39;49m\u001b[38;5;241;43m.\u001b[39;49m\u001b[43mtrain_set\u001b[49m\u001b[43m,\u001b[49m\n\u001b[0;32m    750\u001b[0m \u001b[43m    \u001b[49m\u001b[43mtest_set\u001b[49m\u001b[38;5;241;43m=\u001b[39;49m\u001b[38;5;28;43mself\u001b[39;49m\u001b[38;5;241;43m.\u001b[39;49m\u001b[43mtest_set\u001b[49m\u001b[43m,\u001b[49m\n\u001b[0;32m    751\u001b[0m \u001b[43m    \u001b[49m\u001b[43mval_set\u001b[49m\u001b[38;5;241;43m=\u001b[39;49m\u001b[38;5;28;43mself\u001b[39;49m\u001b[38;5;241;43m.\u001b[39;49m\u001b[43mval_set\u001b[49m\u001b[43m,\u001b[49m\n\u001b[0;32m    752\u001b[0m \u001b[43m    \u001b[49m\u001b[43mrating_threshold\u001b[49m\u001b[38;5;241;43m=\u001b[39;49m\u001b[38;5;28;43mself\u001b[39;49m\u001b[38;5;241;43m.\u001b[39;49m\u001b[43mrating_threshold\u001b[49m\u001b[43m,\u001b[49m\n\u001b[0;32m    753\u001b[0m \u001b[43m    \u001b[49m\u001b[43mexclude_unknowns\u001b[49m\u001b[38;5;241;43m=\u001b[39;49m\u001b[38;5;28;43mself\u001b[39;49m\u001b[38;5;241;43m.\u001b[39;49m\u001b[43mexclude_unknowns\u001b[49m\u001b[43m,\u001b[49m\n\u001b[0;32m    754\u001b[0m \u001b[43m    \u001b[49m\u001b[43mrating_metrics\u001b[49m\u001b[38;5;241;43m=\u001b[39;49m\u001b[43mrating_metrics\u001b[49m\u001b[43m,\u001b[49m\n\u001b[0;32m    755\u001b[0m \u001b[43m    \u001b[49m\u001b[43mranking_metrics\u001b[49m\u001b[38;5;241;43m=\u001b[39;49m\u001b[43mranking_metrics\u001b[49m\u001b[43m,\u001b[49m\n\u001b[0;32m    756\u001b[0m \u001b[43m    \u001b[49m\u001b[43muser_based\u001b[49m\u001b[38;5;241;43m=\u001b[39;49m\u001b[43muser_based\u001b[49m\u001b[43m,\u001b[49m\n\u001b[0;32m    757\u001b[0m \u001b[43m    \u001b[49m\u001b[43mverbose\u001b[49m\u001b[38;5;241;43m=\u001b[39;49m\u001b[38;5;28;43mself\u001b[39;49m\u001b[38;5;241;43m.\u001b[39;49m\u001b[43mverbose\u001b[49m\u001b[43m,\u001b[49m\n\u001b[0;32m    758\u001b[0m \u001b[43m\u001b[49m\u001b[43m)\u001b[49m\n\u001b[0;32m    759\u001b[0m test_time \u001b[38;5;241m=\u001b[39m time\u001b[38;5;241m.\u001b[39mtime() \u001b[38;5;241m-\u001b[39m start\n\u001b[0;32m    760\u001b[0m test_result\u001b[38;5;241m.\u001b[39mmetric_avg_results[\u001b[38;5;124m\"\u001b[39m\u001b[38;5;124mTrain (s)\u001b[39m\u001b[38;5;124m\"\u001b[39m] \u001b[38;5;241m=\u001b[39m train_time\n",
      "File \u001b[1;32mc:\\Users\\User\\anaconda3\\envs\\CS608_RecommenderSystems\\lib\\site-packages\\cornac\\eval_methods\\base_method.py:671\u001b[0m, in \u001b[0;36mBaseMethod.eval\u001b[1;34m(model, train_set, test_set, val_set, rating_threshold, exclude_unknowns, user_based, rating_metrics, ranking_metrics, verbose)\u001b[0m\n\u001b[0;32m    668\u001b[0m metric_avg_results \u001b[38;5;241m=\u001b[39m OrderedDict()\n\u001b[0;32m    669\u001b[0m metric_user_results \u001b[38;5;241m=\u001b[39m OrderedDict()\n\u001b[1;32m--> 671\u001b[0m avg_results, user_results \u001b[38;5;241m=\u001b[39m \u001b[43mrating_eval\u001b[49m\u001b[43m(\u001b[49m\n\u001b[0;32m    672\u001b[0m \u001b[43m    \u001b[49m\u001b[43mmodel\u001b[49m\u001b[38;5;241;43m=\u001b[39;49m\u001b[43mmodel\u001b[49m\u001b[43m,\u001b[49m\n\u001b[0;32m    673\u001b[0m \u001b[43m    \u001b[49m\u001b[43mmetrics\u001b[49m\u001b[38;5;241;43m=\u001b[39;49m\u001b[43mrating_metrics\u001b[49m\u001b[43m,\u001b[49m\n\u001b[0;32m    674\u001b[0m \u001b[43m    \u001b[49m\u001b[43mtest_set\u001b[49m\u001b[38;5;241;43m=\u001b[39;49m\u001b[43mtest_set\u001b[49m\u001b[43m,\u001b[49m\n\u001b[0;32m    675\u001b[0m \u001b[43m    \u001b[49m\u001b[43muser_based\u001b[49m\u001b[38;5;241;43m=\u001b[39;49m\u001b[43muser_based\u001b[49m\u001b[43m,\u001b[49m\n\u001b[0;32m    676\u001b[0m \u001b[43m    \u001b[49m\u001b[43mverbose\u001b[49m\u001b[38;5;241;43m=\u001b[39;49m\u001b[43mverbose\u001b[49m\u001b[43m,\u001b[49m\n\u001b[0;32m    677\u001b[0m \u001b[43m\u001b[49m\u001b[43m)\u001b[49m\n\u001b[0;32m    678\u001b[0m \u001b[38;5;28;01mfor\u001b[39;00m i, mt \u001b[38;5;129;01min\u001b[39;00m \u001b[38;5;28menumerate\u001b[39m(rating_metrics):\n\u001b[0;32m    679\u001b[0m     metric_avg_results[mt\u001b[38;5;241m.\u001b[39mname] \u001b[38;5;241m=\u001b[39m avg_results[i]\n",
      "File \u001b[1;32mc:\\Users\\User\\anaconda3\\envs\\CS608_RecommenderSystems\\lib\\site-packages\\cornac\\eval_methods\\base_method.py:71\u001b[0m, in \u001b[0;36mrating_eval\u001b[1;34m(model, metrics, test_set, user_based, verbose)\u001b[0m\n\u001b[0;32m     68\u001b[0m user_results \u001b[38;5;241m=\u001b[39m []\n\u001b[0;32m     70\u001b[0m (u_indices, i_indices, r_values) \u001b[38;5;241m=\u001b[39m test_set\u001b[38;5;241m.\u001b[39muir_tuple\n\u001b[1;32m---> 71\u001b[0m r_preds \u001b[38;5;241m=\u001b[39m \u001b[43mnp\u001b[49m\u001b[38;5;241;43m.\u001b[39;49m\u001b[43mfromiter\u001b[49m\u001b[43m(\u001b[49m\n\u001b[0;32m     72\u001b[0m \u001b[43m    \u001b[49m\u001b[43mtqdm\u001b[49m\u001b[43m(\u001b[49m\n\u001b[0;32m     73\u001b[0m \u001b[43m        \u001b[49m\u001b[43m(\u001b[49m\n\u001b[0;32m     74\u001b[0m \u001b[43m            \u001b[49m\u001b[43mmodel\u001b[49m\u001b[38;5;241;43m.\u001b[39;49m\u001b[43mrate\u001b[49m\u001b[43m(\u001b[49m\u001b[43muser_idx\u001b[49m\u001b[43m,\u001b[49m\u001b[43m \u001b[49m\u001b[43mitem_idx\u001b[49m\u001b[43m)\u001b[49m\u001b[38;5;241;43m.\u001b[39;49m\u001b[43mitem\u001b[49m\u001b[43m(\u001b[49m\u001b[43m)\u001b[49m\n\u001b[0;32m     75\u001b[0m \u001b[43m            \u001b[49m\u001b[38;5;28;43;01mfor\u001b[39;49;00m\u001b[43m \u001b[49m\u001b[43muser_idx\u001b[49m\u001b[43m,\u001b[49m\u001b[43m \u001b[49m\u001b[43mitem_idx\u001b[49m\u001b[43m \u001b[49m\u001b[38;5;129;43;01min\u001b[39;49;00m\u001b[43m \u001b[49m\u001b[38;5;28;43mzip\u001b[39;49m\u001b[43m(\u001b[49m\u001b[43mu_indices\u001b[49m\u001b[43m,\u001b[49m\u001b[43m \u001b[49m\u001b[43mi_indices\u001b[49m\u001b[43m)\u001b[49m\n\u001b[0;32m     76\u001b[0m \u001b[43m        \u001b[49m\u001b[43m)\u001b[49m\u001b[43m,\u001b[49m\n\u001b[0;32m     77\u001b[0m \u001b[43m        \u001b[49m\u001b[43mdesc\u001b[49m\u001b[38;5;241;43m=\u001b[39;49m\u001b[38;5;124;43m\"\u001b[39;49m\u001b[38;5;124;43mRating\u001b[39;49m\u001b[38;5;124;43m\"\u001b[39;49m\u001b[43m,\u001b[49m\n\u001b[0;32m     78\u001b[0m \u001b[43m        \u001b[49m\u001b[43mdisable\u001b[49m\u001b[38;5;241;43m=\u001b[39;49m\u001b[38;5;129;43;01mnot\u001b[39;49;00m\u001b[43m \u001b[49m\u001b[43mverbose\u001b[49m\u001b[43m,\u001b[49m\n\u001b[0;32m     79\u001b[0m \u001b[43m        \u001b[49m\u001b[43mminiters\u001b[49m\u001b[38;5;241;43m=\u001b[39;49m\u001b[38;5;241;43m100\u001b[39;49m\u001b[43m,\u001b[49m\n\u001b[0;32m     80\u001b[0m \u001b[43m        \u001b[49m\u001b[43mtotal\u001b[49m\u001b[38;5;241;43m=\u001b[39;49m\u001b[38;5;28;43mlen\u001b[39;49m\u001b[43m(\u001b[49m\u001b[43mu_indices\u001b[49m\u001b[43m)\u001b[49m\u001b[43m,\u001b[49m\n\u001b[0;32m     81\u001b[0m \u001b[43m    \u001b[49m\u001b[43m)\u001b[49m\u001b[43m,\u001b[49m\n\u001b[0;32m     82\u001b[0m \u001b[43m    \u001b[49m\u001b[43mdtype\u001b[49m\u001b[38;5;241;43m=\u001b[39;49m\u001b[38;5;124;43m\"\u001b[39;49m\u001b[38;5;124;43mfloat\u001b[39;49m\u001b[38;5;124;43m\"\u001b[39;49m\u001b[43m,\u001b[49m\n\u001b[0;32m     83\u001b[0m \u001b[43m\u001b[49m\u001b[43m)\u001b[49m\n\u001b[0;32m     85\u001b[0m gt_mat \u001b[38;5;241m=\u001b[39m test_set\u001b[38;5;241m.\u001b[39mcsr_matrix\n\u001b[0;32m     86\u001b[0m pd_mat \u001b[38;5;241m=\u001b[39m csr_matrix((r_preds, (u_indices, i_indices)), shape\u001b[38;5;241m=\u001b[39mgt_mat\u001b[38;5;241m.\u001b[39mshape)\n",
      "File \u001b[1;32mc:\\Users\\User\\anaconda3\\envs\\CS608_RecommenderSystems\\lib\\site-packages\\tqdm\\std.py:1181\u001b[0m, in \u001b[0;36mtqdm.__iter__\u001b[1;34m(self)\u001b[0m\n\u001b[0;32m   1178\u001b[0m time \u001b[38;5;241m=\u001b[39m \u001b[38;5;28mself\u001b[39m\u001b[38;5;241m.\u001b[39m_time\n\u001b[0;32m   1180\u001b[0m \u001b[38;5;28;01mtry\u001b[39;00m:\n\u001b[1;32m-> 1181\u001b[0m     \u001b[38;5;28;01mfor\u001b[39;00m obj \u001b[38;5;129;01min\u001b[39;00m iterable:\n\u001b[0;32m   1182\u001b[0m         \u001b[38;5;28;01myield\u001b[39;00m obj\n\u001b[0;32m   1183\u001b[0m         \u001b[38;5;66;03m# Update and possibly print the progressbar.\u001b[39;00m\n\u001b[0;32m   1184\u001b[0m         \u001b[38;5;66;03m# Note: does not call self.update(1) for speed optimisation.\u001b[39;00m\n",
      "File \u001b[1;32mc:\\Users\\User\\anaconda3\\envs\\CS608_RecommenderSystems\\lib\\site-packages\\cornac\\eval_methods\\base_method.py:74\u001b[0m, in \u001b[0;36m<genexpr>\u001b[1;34m(.0)\u001b[0m\n\u001b[0;32m     68\u001b[0m user_results \u001b[38;5;241m=\u001b[39m []\n\u001b[0;32m     70\u001b[0m (u_indices, i_indices, r_values) \u001b[38;5;241m=\u001b[39m test_set\u001b[38;5;241m.\u001b[39muir_tuple\n\u001b[0;32m     71\u001b[0m r_preds \u001b[38;5;241m=\u001b[39m np\u001b[38;5;241m.\u001b[39mfromiter(\n\u001b[0;32m     72\u001b[0m     tqdm(\n\u001b[0;32m     73\u001b[0m         (\n\u001b[1;32m---> 74\u001b[0m             \u001b[43mmodel\u001b[49m\u001b[38;5;241;43m.\u001b[39;49m\u001b[43mrate\u001b[49m\u001b[43m(\u001b[49m\u001b[43muser_idx\u001b[49m\u001b[43m,\u001b[49m\u001b[43m \u001b[49m\u001b[43mitem_idx\u001b[49m\u001b[43m)\u001b[49m\u001b[38;5;241m.\u001b[39mitem()\n\u001b[0;32m     75\u001b[0m             \u001b[38;5;28;01mfor\u001b[39;00m user_idx, item_idx \u001b[38;5;129;01min\u001b[39;00m \u001b[38;5;28mzip\u001b[39m(u_indices, i_indices)\n\u001b[0;32m     76\u001b[0m         ),\n\u001b[0;32m     77\u001b[0m         desc\u001b[38;5;241m=\u001b[39m\u001b[38;5;124m\"\u001b[39m\u001b[38;5;124mRating\u001b[39m\u001b[38;5;124m\"\u001b[39m,\n\u001b[0;32m     78\u001b[0m         disable\u001b[38;5;241m=\u001b[39m\u001b[38;5;129;01mnot\u001b[39;00m verbose,\n\u001b[0;32m     79\u001b[0m         miniters\u001b[38;5;241m=\u001b[39m\u001b[38;5;241m100\u001b[39m,\n\u001b[0;32m     80\u001b[0m         total\u001b[38;5;241m=\u001b[39m\u001b[38;5;28mlen\u001b[39m(u_indices),\n\u001b[0;32m     81\u001b[0m     ),\n\u001b[0;32m     82\u001b[0m     dtype\u001b[38;5;241m=\u001b[39m\u001b[38;5;124m\"\u001b[39m\u001b[38;5;124mfloat\u001b[39m\u001b[38;5;124m\"\u001b[39m,\n\u001b[0;32m     83\u001b[0m )\n\u001b[0;32m     85\u001b[0m gt_mat \u001b[38;5;241m=\u001b[39m test_set\u001b[38;5;241m.\u001b[39mcsr_matrix\n\u001b[0;32m     86\u001b[0m pd_mat \u001b[38;5;241m=\u001b[39m csr_matrix((r_preds, (u_indices, i_indices)), shape\u001b[38;5;241m=\u001b[39mgt_mat\u001b[38;5;241m.\u001b[39mshape)\n",
      "File \u001b[1;32mc:\\Users\\User\\anaconda3\\envs\\CS608_RecommenderSystems\\lib\\site-packages\\cornac\\models\\recommender.py:451\u001b[0m, in \u001b[0;36mRecommender.rate\u001b[1;34m(self, user_idx, item_idx, clipping)\u001b[0m\n\u001b[0;32m    432\u001b[0m \u001b[38;5;250m\u001b[39m\u001b[38;5;124;03m\"\"\"Give a rating score between pair of user and item\u001b[39;00m\n\u001b[0;32m    433\u001b[0m \n\u001b[0;32m    434\u001b[0m \u001b[38;5;124;03mParameters\u001b[39;00m\n\u001b[1;32m   (...)\u001b[0m\n\u001b[0;32m    448\u001b[0m \u001b[38;5;124;03m    A rating score of the user for the item\u001b[39;00m\n\u001b[0;32m    449\u001b[0m \u001b[38;5;124;03m\"\"\"\u001b[39;00m\n\u001b[0;32m    450\u001b[0m \u001b[38;5;28;01mtry\u001b[39;00m:\n\u001b[1;32m--> 451\u001b[0m     rating_pred \u001b[38;5;241m=\u001b[39m \u001b[38;5;28;43mself\u001b[39;49m\u001b[38;5;241;43m.\u001b[39;49m\u001b[43mscore\u001b[49m\u001b[43m(\u001b[49m\u001b[43muser_idx\u001b[49m\u001b[43m,\u001b[49m\u001b[43m \u001b[49m\u001b[43mitem_idx\u001b[49m\u001b[43m)\u001b[49m\n\u001b[0;32m    452\u001b[0m \u001b[38;5;28;01mexcept\u001b[39;00m ScoreException:\n\u001b[0;32m    453\u001b[0m     rating_pred \u001b[38;5;241m=\u001b[39m \u001b[38;5;28mself\u001b[39m\u001b[38;5;241m.\u001b[39mdefault_score()\n",
      "File \u001b[1;32mc:\\Users\\User\\anaconda3\\envs\\CS608_RecommenderSystems\\lib\\site-packages\\cornac\\models\\dmrl\\recom_dmrl.py:474\u001b[0m, in \u001b[0;36mDMRL.score\u001b[1;34m(self, user_index, item_indices)\u001b[0m\n\u001b[0;32m    471\u001b[0m \u001b[38;5;28;01mif\u001b[39;00m item_indices \u001b[38;5;129;01mis\u001b[39;00m \u001b[38;5;28;01mNone\u001b[39;00m:\n\u001b[0;32m    472\u001b[0m     item_indices \u001b[38;5;241m=\u001b[39m torch\u001b[38;5;241m.\u001b[39mtensor(\u001b[38;5;28mlist\u001b[39m(\u001b[38;5;28mself\u001b[39m\u001b[38;5;241m.\u001b[39miid_map\u001b[38;5;241m.\u001b[39mvalues()), dtype\u001b[38;5;241m=\u001b[39mtorch\u001b[38;5;241m.\u001b[39mlong)\n\u001b[1;32m--> 474\u001b[0m user_index \u001b[38;5;241m=\u001b[39m user_index \u001b[38;5;241m*\u001b[39m torch\u001b[38;5;241m.\u001b[39mones(\u001b[38;5;28;43mlen\u001b[39;49m\u001b[43m(\u001b[49m\u001b[43mitem_indices\u001b[49m\u001b[43m)\u001b[49m, dtype\u001b[38;5;241m=\u001b[39mtorch\u001b[38;5;241m.\u001b[39mlong)\n\u001b[0;32m    476\u001b[0m \u001b[38;5;28;01mif\u001b[39;00m \u001b[38;5;28mself\u001b[39m\u001b[38;5;241m.\u001b[39mitem_text\u001b[38;5;241m.\u001b[39mfeatures \u001b[38;5;129;01mis\u001b[39;00m \u001b[38;5;28;01mNone\u001b[39;00m:\n\u001b[0;32m    477\u001b[0m     \u001b[38;5;28mself\u001b[39m\u001b[38;5;241m.\u001b[39mitem_text\u001b[38;5;241m.\u001b[39mpreencode_entire_corpus()\n",
      "\u001b[1;31mTypeError\u001b[0m: object of type 'numpy.int32' has no len()"
     ]
    }
   ],
   "source": [
    "rs = RatioSplit(\n",
    "    data=ratings_7_data,\n",
    "    test_size=0.2,\n",
    "    exclude_unknowns=True,\n",
    "    verbose=True,\n",
    "    seed=SEED,\n",
    "    rating_threshold=0.5,\n",
    "    item_text=dummy_item_text_modality,\n",
    ")\n",
    "\n",
    "cornac.Experiment(eval_method=rs, models=[\n",
    "        dmrl100], metrics=eval_metrics).run()"
   ]
  },
  {
   "cell_type": "markdown",
   "metadata": {},
   "source": [
    "We couldn't figure out why it could train but could not eval."
   ]
  },
  {
   "cell_type": "markdown",
   "metadata": {},
   "source": [
    "## These next parts was allocating training to team members but it didn't work anyway. (DMRL)"
   ]
  },
  {
   "cell_type": "markdown",
   "metadata": {},
   "source": [
    "### Text Modality (Ros)"
   ]
  },
  {
   "cell_type": "code",
   "execution_count": 27,
   "metadata": {},
   "outputs": [],
   "source": [
    "docs = list(content[\"synopsis\"])"
   ]
  },
  {
   "cell_type": "code",
   "execution_count": 28,
   "metadata": {},
   "outputs": [],
   "source": [
    "item_ids = list(content[\"anime_id_remapped\"])"
   ]
  },
  {
   "cell_type": "code",
   "execution_count": 30,
   "metadata": {},
   "outputs": [],
   "source": [
    "item_text_modality = TextModality(\n",
    "    corpus=docs,\n",
    "    ids=item_ids,\n",
    ")"
   ]
  },
  {
   "cell_type": "code",
   "execution_count": 31,
   "metadata": {},
   "outputs": [],
   "source": [
    "dmrl100 = DMRL(batch_size=4096, epochs=20, log_metrics=False, learning_rate=0.01, num_factors=2, \n",
    "        decay_r=0.5, decay_c=0.01, num_neg=3, embedding_dim=100, name='dmrl(emb_dim=100)')"
   ]
  },
  {
   "cell_type": "code",
   "execution_count": null,
   "metadata": {},
   "outputs": [],
   "source": [
    "rs = RatioSplit(\n",
    "    data=ratings_7_data,\n",
    "    test_size=0.2,\n",
    "    exclude_unknowns=True,\n",
    "    verbose=True,\n",
    "    seed=SEED,\n",
    "    rating_threshold=0.5,\n",
    "    item_text=item_text_modality,\n",
    ")\n",
    "\n",
    "cornac.Experiment(eval_method=rs, models=[\n",
    "        dmrl100], metrics=eval_metrics).run()"
   ]
  },
  {
   "cell_type": "markdown",
   "metadata": {},
   "source": [
    "### Image Modality (Damien)"
   ]
  },
  {
   "cell_type": "code",
   "execution_count": 33,
   "metadata": {},
   "outputs": [],
   "source": [
    "image_urls = list(content[\"image_url\"])"
   ]
  },
  {
   "cell_type": "code",
   "execution_count": 37,
   "metadata": {},
   "outputs": [],
   "source": [
    "# this might take a while\n",
    "images = []\n",
    "\n",
    "for url in image_urls:\n",
    "    try:\n",
    "        response = requests.get(url)\n",
    "        img = Image.open(BytesIO(response.content))\n",
    "        images.append(img)\n",
    "    except:\n",
    "        images.append('')"
   ]
  },
  {
   "cell_type": "code",
   "execution_count": 38,
   "metadata": {},
   "outputs": [
    {
     "data": {
      "text/plain": [
       "[26, 49, 2125]"
      ]
     },
     "execution_count": 38,
     "metadata": {},
     "output_type": "execute_result"
    }
   ],
   "source": [
    "# how many images cannot be pulled\n",
    "missing_idx_list = []\n",
    "for idx in range(len(images)):\n",
    "    if images[idx] == '':\n",
    "        missing_idx_list.append(idx)\n",
    "\n",
    "missing_idx_list"
   ]
  },
  {
   "cell_type": "code",
   "execution_count": 48,
   "metadata": {},
   "outputs": [
    {
     "data": {
      "text/plain": [
       "(225, 335)"
      ]
     },
     "execution_count": 48,
     "metadata": {},
     "output_type": "execute_result"
    }
   ],
   "source": [
    "images[0].size"
   ]
  },
  {
   "cell_type": "code",
   "execution_count": 49,
   "metadata": {},
   "outputs": [],
   "source": [
    "# Create black image for imputation\n",
    "width, height = 225, 320 # images are roughly that size from a random sample of images\n",
    "black_image = Image.new('RGB', (width, height), (0, 0, 0))\n",
    "\n",
    "black_image.save('black_image.jpg', 'JPEG')"
   ]
  },
  {
   "cell_type": "code",
   "execution_count": 50,
   "metadata": {},
   "outputs": [],
   "source": [
    "# Impute missing images with black image\n",
    "black_img = Image.open('black_image.jpg')\n",
    "\n",
    "for missing_idx in missing_idx_list:\n",
    "    images[missing_idx] = black_img"
   ]
  },
  {
   "cell_type": "code",
   "execution_count": 51,
   "metadata": {},
   "outputs": [],
   "source": [
    "item_ids = list(content[\"anime_id_remapped\"])"
   ]
  },
  {
   "cell_type": "code",
   "execution_count": 54,
   "metadata": {},
   "outputs": [],
   "source": [
    "item_image_modality = ImageModality(\n",
    "    images=images,\n",
    "    ids=item_ids,\n",
    ")"
   ]
  },
  {
   "cell_type": "code",
   "execution_count": 55,
   "metadata": {},
   "outputs": [],
   "source": [
    "dmrl100 = DMRL(batch_size=4096, epochs=20, log_metrics=False, learning_rate=0.01, num_factors=2, \n",
    "        decay_r=0.5, decay_c=0.01, num_neg=3, embedding_dim=100, name='dmrl(emb_dim=100)')"
   ]
  },
  {
   "cell_type": "code",
   "execution_count": 58,
   "metadata": {},
   "outputs": [
    {
     "name": "stdout",
     "output_type": "stream",
     "text": [
      "rating_threshold = 0.5\n",
      "exclude_unknowns = True\n",
      "---\n",
      "Training data:\n",
      "Number of users = 72927\n",
      "Number of items = 10799\n",
      "Number of ratings = 6246137\n",
      "Max rating = 10.0\n",
      "Min rating = 1.0\n",
      "Global mean = 7.7\n",
      "---\n",
      "Test data:\n",
      "Number of users = 72927\n",
      "Number of items = 10799\n",
      "Number of ratings = 1560538\n",
      "Number of unknown users = 0\n",
      "Number of unknown items = 0\n",
      "---\n",
      "Total users = 72927\n",
      "Total items = 10799\n",
      "\n",
      "[dmrl(emb_dim=100)] Training started!\n"
     ]
    },
    {
     "name": "stderr",
     "output_type": "stream",
     "text": [
      "c:\\Users\\User\\anaconda3\\envs\\CS608_RecommenderSystems\\lib\\site-packages\\cornac\\models\\recommender.py:306: UserWarning: Model is already fitted. Re-fitting will overwrite the previous model.\n",
      "  warnings.warn(\n"
     ]
    },
    {
     "name": "stdout",
     "output_type": "stream",
     "text": [
      "Pre-encoding the entire image library. This might take a while.\n"
     ]
    },
    {
     "ename": "RuntimeError",
     "evalue": "[enforce fail at alloc_cpu.cpp:114] data. DefaultCPUAllocator: not enough memory: you tried to allocate 6006080000 bytes.",
     "output_type": "error",
     "traceback": [
      "\u001b[1;31m---------------------------------------------------------------------------\u001b[0m",
      "\u001b[1;31mRuntimeError\u001b[0m                              Traceback (most recent call last)",
      "Cell \u001b[1;32mIn[58], line 11\u001b[0m\n\u001b[0;32m      1\u001b[0m rs \u001b[38;5;241m=\u001b[39m RatioSplit(\n\u001b[0;32m      2\u001b[0m     data\u001b[38;5;241m=\u001b[39mratings_7_data,\n\u001b[0;32m      3\u001b[0m     test_size\u001b[38;5;241m=\u001b[39m\u001b[38;5;241m0.2\u001b[39m,\n\u001b[1;32m   (...)\u001b[0m\n\u001b[0;32m      8\u001b[0m     item_image\u001b[38;5;241m=\u001b[39mitem_image_modality,\n\u001b[0;32m      9\u001b[0m )\n\u001b[1;32m---> 11\u001b[0m \u001b[43mcornac\u001b[49m\u001b[38;5;241;43m.\u001b[39;49m\u001b[43mExperiment\u001b[49m\u001b[43m(\u001b[49m\u001b[43meval_method\u001b[49m\u001b[38;5;241;43m=\u001b[39;49m\u001b[43mrs\u001b[49m\u001b[43m,\u001b[49m\u001b[43m \u001b[49m\u001b[43mmodels\u001b[49m\u001b[38;5;241;43m=\u001b[39;49m\u001b[43m[\u001b[49m\n\u001b[0;32m     12\u001b[0m \u001b[43m        \u001b[49m\u001b[43mdmrl100\u001b[49m\u001b[43m]\u001b[49m\u001b[43m,\u001b[49m\u001b[43m \u001b[49m\u001b[43mmetrics\u001b[49m\u001b[38;5;241;43m=\u001b[39;49m\u001b[43meval_metrics\u001b[49m\u001b[43m)\u001b[49m\u001b[38;5;241;43m.\u001b[39;49m\u001b[43mrun\u001b[49m\u001b[43m(\u001b[49m\u001b[43m)\u001b[49m\n",
      "File \u001b[1;32mc:\\Users\\User\\anaconda3\\envs\\CS608_RecommenderSystems\\lib\\site-packages\\cornac\\experiment\\experiment.py:142\u001b[0m, in \u001b[0;36mExperiment.run\u001b[1;34m(self)\u001b[0m\n\u001b[0;32m    139\u001b[0m         model\u001b[38;5;241m.\u001b[39mverbose \u001b[38;5;241m=\u001b[39m \u001b[38;5;28mself\u001b[39m\u001b[38;5;241m.\u001b[39mverbose\n\u001b[0;32m    141\u001b[0m \u001b[38;5;28;01mfor\u001b[39;00m model \u001b[38;5;129;01min\u001b[39;00m \u001b[38;5;28mself\u001b[39m\u001b[38;5;241m.\u001b[39mmodels:\n\u001b[1;32m--> 142\u001b[0m     test_result, val_result \u001b[38;5;241m=\u001b[39m \u001b[38;5;28;43mself\u001b[39;49m\u001b[38;5;241;43m.\u001b[39;49m\u001b[43meval_method\u001b[49m\u001b[38;5;241;43m.\u001b[39;49m\u001b[43mevaluate\u001b[49m\u001b[43m(\u001b[49m\n\u001b[0;32m    143\u001b[0m \u001b[43m        \u001b[49m\u001b[43mmodel\u001b[49m\u001b[38;5;241;43m=\u001b[39;49m\u001b[43mmodel\u001b[49m\u001b[43m,\u001b[49m\n\u001b[0;32m    144\u001b[0m \u001b[43m        \u001b[49m\u001b[43mmetrics\u001b[49m\u001b[38;5;241;43m=\u001b[39;49m\u001b[38;5;28;43mself\u001b[39;49m\u001b[38;5;241;43m.\u001b[39;49m\u001b[43mmetrics\u001b[49m\u001b[43m,\u001b[49m\n\u001b[0;32m    145\u001b[0m \u001b[43m        \u001b[49m\u001b[43muser_based\u001b[49m\u001b[38;5;241;43m=\u001b[39;49m\u001b[38;5;28;43mself\u001b[39;49m\u001b[38;5;241;43m.\u001b[39;49m\u001b[43muser_based\u001b[49m\u001b[43m,\u001b[49m\n\u001b[0;32m    146\u001b[0m \u001b[43m        \u001b[49m\u001b[43mshow_validation\u001b[49m\u001b[38;5;241;43m=\u001b[39;49m\u001b[38;5;28;43mself\u001b[39;49m\u001b[38;5;241;43m.\u001b[39;49m\u001b[43mshow_validation\u001b[49m\u001b[43m,\u001b[49m\n\u001b[0;32m    147\u001b[0m \u001b[43m    \u001b[49m\u001b[43m)\u001b[49m\n\u001b[0;32m    149\u001b[0m     \u001b[38;5;28mself\u001b[39m\u001b[38;5;241m.\u001b[39mresult\u001b[38;5;241m.\u001b[39mappend(test_result)\n\u001b[0;32m    150\u001b[0m     \u001b[38;5;28;01mif\u001b[39;00m \u001b[38;5;28mself\u001b[39m\u001b[38;5;241m.\u001b[39mval_result \u001b[38;5;129;01mis\u001b[39;00m \u001b[38;5;129;01mnot\u001b[39;00m \u001b[38;5;28;01mNone\u001b[39;00m:\n",
      "File \u001b[1;32mc:\\Users\\User\\anaconda3\\envs\\CS608_RecommenderSystems\\lib\\site-packages\\cornac\\eval_methods\\base_method.py:734\u001b[0m, in \u001b[0;36mBaseMethod.evaluate\u001b[1;34m(self, model, metrics, user_based, show_validation)\u001b[0m\n\u001b[0;32m    731\u001b[0m     \u001b[38;5;28mprint\u001b[39m(\u001b[38;5;124m\"\u001b[39m\u001b[38;5;130;01m\\n\u001b[39;00m\u001b[38;5;124m[\u001b[39m\u001b[38;5;132;01m{}\u001b[39;00m\u001b[38;5;124m] Training started!\u001b[39m\u001b[38;5;124m\"\u001b[39m\u001b[38;5;241m.\u001b[39mformat(model\u001b[38;5;241m.\u001b[39mname))\n\u001b[0;32m    733\u001b[0m start \u001b[38;5;241m=\u001b[39m time\u001b[38;5;241m.\u001b[39mtime()\n\u001b[1;32m--> 734\u001b[0m \u001b[43mmodel\u001b[49m\u001b[38;5;241;43m.\u001b[39;49m\u001b[43mfit\u001b[49m\u001b[43m(\u001b[49m\u001b[38;5;28;43mself\u001b[39;49m\u001b[38;5;241;43m.\u001b[39;49m\u001b[43mtrain_set\u001b[49m\u001b[43m,\u001b[49m\u001b[43m \u001b[49m\u001b[38;5;28;43mself\u001b[39;49m\u001b[38;5;241;43m.\u001b[39;49m\u001b[43mval_set\u001b[49m\u001b[43m)\u001b[49m\n\u001b[0;32m    735\u001b[0m train_time \u001b[38;5;241m=\u001b[39m time\u001b[38;5;241m.\u001b[39mtime() \u001b[38;5;241m-\u001b[39m start\n\u001b[0;32m    737\u001b[0m \u001b[38;5;66;03m##############\u001b[39;00m\n\u001b[0;32m    738\u001b[0m \u001b[38;5;66;03m# EVALUATION #\u001b[39;00m\n\u001b[0;32m    739\u001b[0m \u001b[38;5;66;03m##############\u001b[39;00m\n",
      "File \u001b[1;32mc:\\Users\\User\\anaconda3\\envs\\CS608_RecommenderSystems\\lib\\site-packages\\cornac\\models\\dmrl\\recom_dmrl.py:140\u001b[0m, in \u001b[0;36mDMRL.fit\u001b[1;34m(self, train_set, val_set)\u001b[0m\n\u001b[0;32m    137\u001b[0m Recommender\u001b[38;5;241m.\u001b[39mfit(\u001b[38;5;28mself\u001b[39m, train_set, val_set)\n\u001b[0;32m    139\u001b[0m \u001b[38;5;28;01mif\u001b[39;00m \u001b[38;5;28mself\u001b[39m\u001b[38;5;241m.\u001b[39mtrainable:\n\u001b[1;32m--> 140\u001b[0m     \u001b[38;5;28;43mself\u001b[39;49m\u001b[38;5;241;43m.\u001b[39;49m\u001b[43m_fit_dmrl\u001b[49m\u001b[43m(\u001b[49m\u001b[43mtrain_set\u001b[49m\u001b[43m,\u001b[49m\u001b[43m \u001b[49m\u001b[43mval_set\u001b[49m\u001b[43m)\u001b[49m\n\u001b[0;32m    142\u001b[0m \u001b[38;5;28;01mreturn\u001b[39;00m \u001b[38;5;28mself\u001b[39m\n",
      "File \u001b[1;32mc:\\Users\\User\\anaconda3\\envs\\CS608_RecommenderSystems\\lib\\site-packages\\cornac\\models\\dmrl\\recom_dmrl.py:242\u001b[0m, in \u001b[0;36mDMRL._fit_dmrl\u001b[1;34m(self, train_set, val_set)\u001b[0m\n\u001b[0;32m    239\u001b[0m \u001b[38;5;28;01mfrom\u001b[39;00m \u001b[38;5;21;01mcornac\u001b[39;00m\u001b[38;5;21;01m.\u001b[39;00m\u001b[38;5;21;01mmodels\u001b[39;00m\u001b[38;5;21;01m.\u001b[39;00m\u001b[38;5;21;01mdmrl\u001b[39;00m\u001b[38;5;21;01m.\u001b[39;00m\u001b[38;5;21;01mdmrl\u001b[39;00m \u001b[38;5;28;01mimport\u001b[39;00m DMRLLoss, DMRLModel\n\u001b[0;32m    240\u001b[0m \u001b[38;5;28;01mfrom\u001b[39;00m \u001b[38;5;21;01mcornac\u001b[39;00m\u001b[38;5;21;01m.\u001b[39;00m\u001b[38;5;21;01mmodels\u001b[39;00m\u001b[38;5;21;01m.\u001b[39;00m\u001b[38;5;21;01mdmrl\u001b[39;00m\u001b[38;5;21;01m.\u001b[39;00m\u001b[38;5;21;01mpwlearning_sampler\u001b[39;00m \u001b[38;5;28;01mimport\u001b[39;00m PWLearningSampler\n\u001b[1;32m--> 242\u001b[0m \u001b[38;5;28;43mself\u001b[39;49m\u001b[38;5;241;43m.\u001b[39;49m\u001b[43minitialize_and_build_modalities\u001b[49m\u001b[43m(\u001b[49m\u001b[43mtrain_set\u001b[49m\u001b[43m)\u001b[49m\n\u001b[0;32m    244\u001b[0m \u001b[38;5;28mself\u001b[39m\u001b[38;5;241m.\u001b[39mdevice \u001b[38;5;241m=\u001b[39m \u001b[38;5;124m\"\u001b[39m\u001b[38;5;124mcuda\u001b[39m\u001b[38;5;124m\"\u001b[39m \u001b[38;5;28;01mif\u001b[39;00m torch\u001b[38;5;241m.\u001b[39mcuda\u001b[38;5;241m.\u001b[39mis_available() \u001b[38;5;28;01melse\u001b[39;00m \u001b[38;5;124m\"\u001b[39m\u001b[38;5;124mcpu\u001b[39m\u001b[38;5;124m\"\u001b[39m\n\u001b[0;32m    245\u001b[0m \u001b[38;5;28mprint\u001b[39m(\u001b[38;5;124mf\u001b[39m\u001b[38;5;124m\"\u001b[39m\u001b[38;5;124mUsing device \u001b[39m\u001b[38;5;132;01m{\u001b[39;00m\u001b[38;5;28mself\u001b[39m\u001b[38;5;241m.\u001b[39mdevice\u001b[38;5;132;01m}\u001b[39;00m\u001b[38;5;124m for training\u001b[39m\u001b[38;5;124m\"\u001b[39m)\n",
      "File \u001b[1;32mc:\\Users\\User\\anaconda3\\envs\\CS608_RecommenderSystems\\lib\\site-packages\\cornac\\models\\dmrl\\recom_dmrl.py:539\u001b[0m, in \u001b[0;36mDMRL.initialize_and_build_modalities\u001b[1;34m(self, trainset)\u001b[0m\n\u001b[0;32m    534\u001b[0m \u001b[38;5;28;01mif\u001b[39;00m trainset\u001b[38;5;241m.\u001b[39mitem_image \u001b[38;5;129;01mis\u001b[39;00m \u001b[38;5;129;01mnot\u001b[39;00m \u001b[38;5;28;01mNone\u001b[39;00m:\n\u001b[0;32m    535\u001b[0m     \u001b[38;5;28;01mif\u001b[39;00m (\n\u001b[0;32m    536\u001b[0m         \u001b[38;5;28misinstance\u001b[39m(trainset\u001b[38;5;241m.\u001b[39mitem_image, ImageModality)\n\u001b[0;32m    537\u001b[0m         \u001b[38;5;129;01mand\u001b[39;00m trainset\u001b[38;5;241m.\u001b[39mitem_image\u001b[38;5;241m.\u001b[39mimages \u001b[38;5;129;01mis\u001b[39;00m \u001b[38;5;129;01mnot\u001b[39;00m \u001b[38;5;28;01mNone\u001b[39;00m\n\u001b[0;32m    538\u001b[0m     ):\n\u001b[1;32m--> 539\u001b[0m         \u001b[38;5;28mself\u001b[39m\u001b[38;5;241m.\u001b[39mitem_image \u001b[38;5;241m=\u001b[39m \u001b[43mTransformersVisionModality\u001b[49m\u001b[43m(\u001b[49m\n\u001b[0;32m    540\u001b[0m \u001b[43m            \u001b[49m\u001b[43mimages\u001b[49m\u001b[38;5;241;43m=\u001b[39;49m\u001b[43mtrainset\u001b[49m\u001b[38;5;241;43m.\u001b[39;49m\u001b[43mitem_image\u001b[49m\u001b[38;5;241;43m.\u001b[39;49m\u001b[43mimages\u001b[49m\u001b[43m,\u001b[49m\n\u001b[0;32m    541\u001b[0m \u001b[43m            \u001b[49m\u001b[43mids\u001b[49m\u001b[38;5;241;43m=\u001b[39;49m\u001b[43mtrainset\u001b[49m\u001b[38;5;241;43m.\u001b[39;49m\u001b[43mitem_image\u001b[49m\u001b[38;5;241;43m.\u001b[39;49m\u001b[43mids\u001b[49m\u001b[43m,\u001b[49m\n\u001b[0;32m    542\u001b[0m \u001b[43m            \u001b[49m\u001b[43mpreencode\u001b[49m\u001b[38;5;241;43m=\u001b[39;49m\u001b[38;5;28;43;01mTrue\u001b[39;49;00m\u001b[43m,\u001b[49m\n\u001b[0;32m    543\u001b[0m \u001b[43m        \u001b[49m\u001b[43m)\u001b[49m\n\u001b[0;32m    544\u001b[0m     \u001b[38;5;28;01melif\u001b[39;00m \u001b[38;5;28misinstance\u001b[39m(\n\u001b[0;32m    545\u001b[0m         trainset\u001b[38;5;241m.\u001b[39mitem_image, FeatureModality\n\u001b[0;32m    546\u001b[0m     ):  \u001b[38;5;66;03m# already have preencoded image features from outside\u001b[39;00m\n\u001b[0;32m    547\u001b[0m         \u001b[38;5;28mself\u001b[39m\u001b[38;5;241m.\u001b[39mitem_image \u001b[38;5;241m=\u001b[39m trainset\u001b[38;5;241m.\u001b[39mitem_image\n",
      "File \u001b[1;32mc:\\Users\\User\\anaconda3\\envs\\CS608_RecommenderSystems\\lib\\site-packages\\cornac\\models\\dmrl\\transformer_vision.py:65\u001b[0m, in \u001b[0;36mTransformersVisionModality.__init__\u001b[1;34m(self, images, ids, preencode, model_weights, **kwargs)\u001b[0m\n\u001b[0;32m     62\u001b[0m \u001b[38;5;28mself\u001b[39m\u001b[38;5;241m.\u001b[39mbatch_size \u001b[38;5;241m=\u001b[39m \u001b[38;5;241m50\u001b[39m\n\u001b[0;32m     64\u001b[0m \u001b[38;5;28;01mif\u001b[39;00m \u001b[38;5;28mself\u001b[39m\u001b[38;5;241m.\u001b[39mpreencode:\n\u001b[1;32m---> 65\u001b[0m     \u001b[38;5;28;43mself\u001b[39;49m\u001b[38;5;241;43m.\u001b[39;49m\u001b[43mpreencode_images\u001b[49m\u001b[43m(\u001b[49m\u001b[43m)\u001b[49m\n",
      "File \u001b[1;32mc:\\Users\\User\\anaconda3\\envs\\CS608_RecommenderSystems\\lib\\site-packages\\cornac\\models\\dmrl\\transformer_vision.py:90\u001b[0m, in \u001b[0;36mTransformersVisionModality.preencode_images\u001b[1;34m(self)\u001b[0m\n\u001b[0;32m     88\u001b[0m \u001b[38;5;28;01mif\u001b[39;00m \u001b[38;5;129;01mnot\u001b[39;00m \u001b[38;5;28mself\u001b[39m\u001b[38;5;241m.\u001b[39mpreencoded:\n\u001b[0;32m     89\u001b[0m     \u001b[38;5;28mprint\u001b[39m(\u001b[38;5;124m\"\u001b[39m\u001b[38;5;124mPre-encoding the entire image library. This might take a while.\u001b[39m\u001b[38;5;124m\"\u001b[39m)\n\u001b[1;32m---> 90\u001b[0m     \u001b[38;5;28;43mself\u001b[39;49m\u001b[38;5;241;43m.\u001b[39;49m\u001b[43m_encode_images\u001b[49m\u001b[43m(\u001b[49m\u001b[43m)\u001b[49m\n\u001b[0;32m     91\u001b[0m     \u001b[38;5;28mself\u001b[39m\u001b[38;5;241m.\u001b[39mpreencoded \u001b[38;5;241m=\u001b[39m \u001b[38;5;28;01mTrue\u001b[39;00m\n\u001b[0;32m     92\u001b[0m     os\u001b[38;5;241m.\u001b[39mmakedirs(\u001b[38;5;124m\"\u001b[39m\u001b[38;5;124mtemp\u001b[39m\u001b[38;5;124m\"\u001b[39m, exist_ok\u001b[38;5;241m=\u001b[39m\u001b[38;5;28;01mTrue\u001b[39;00m)\n",
      "File \u001b[1;32mc:\\Users\\User\\anaconda3\\envs\\CS608_RecommenderSystems\\lib\\site-packages\\cornac\\models\\dmrl\\transformer_vision.py:105\u001b[0m, in \u001b[0;36mTransformersVisionModality._encode_images\u001b[1;34m(self)\u001b[0m\n\u001b[0;32m    101\u001b[0m tensor_batch \u001b[38;5;241m=\u001b[39m \u001b[38;5;28mself\u001b[39m\u001b[38;5;241m.\u001b[39mtransform_images_to_torch_tensor(\n\u001b[0;32m    102\u001b[0m     \u001b[38;5;28mself\u001b[39m\u001b[38;5;241m.\u001b[39mimages[i \u001b[38;5;241m*\u001b[39m \u001b[38;5;28mself\u001b[39m\u001b[38;5;241m.\u001b[39mbatch_size : (i \u001b[38;5;241m+\u001b[39m \u001b[38;5;241m1\u001b[39m) \u001b[38;5;241m*\u001b[39m \u001b[38;5;28mself\u001b[39m\u001b[38;5;241m.\u001b[39mbatch_size]\n\u001b[0;32m    103\u001b[0m )\n\u001b[0;32m    104\u001b[0m \u001b[38;5;28;01mwith\u001b[39;00m torch\u001b[38;5;241m.\u001b[39mno_grad():\n\u001b[1;32m--> 105\u001b[0m     encoded_batch \u001b[38;5;241m=\u001b[39m \u001b[38;5;28;43mself\u001b[39;49m\u001b[38;5;241;43m.\u001b[39;49m\u001b[43mmodel\u001b[49m\u001b[43m(\u001b[49m\u001b[43mtensor_batch\u001b[49m\u001b[43m)\u001b[49m\n\u001b[0;32m    107\u001b[0m \u001b[38;5;28;01mif\u001b[39;00m i \u001b[38;5;241m==\u001b[39m \u001b[38;5;241m0\u001b[39m:\n\u001b[0;32m    108\u001b[0m     \u001b[38;5;28mself\u001b[39m\u001b[38;5;241m.\u001b[39mfeatures \u001b[38;5;241m=\u001b[39m encoded_batch\n",
      "File \u001b[1;32mc:\\Users\\User\\anaconda3\\envs\\CS608_RecommenderSystems\\lib\\site-packages\\torch\\nn\\modules\\module.py:1532\u001b[0m, in \u001b[0;36mModule._wrapped_call_impl\u001b[1;34m(self, *args, **kwargs)\u001b[0m\n\u001b[0;32m   1530\u001b[0m     \u001b[38;5;28;01mreturn\u001b[39;00m \u001b[38;5;28mself\u001b[39m\u001b[38;5;241m.\u001b[39m_compiled_call_impl(\u001b[38;5;241m*\u001b[39margs, \u001b[38;5;241m*\u001b[39m\u001b[38;5;241m*\u001b[39mkwargs)  \u001b[38;5;66;03m# type: ignore[misc]\u001b[39;00m\n\u001b[0;32m   1531\u001b[0m \u001b[38;5;28;01melse\u001b[39;00m:\n\u001b[1;32m-> 1532\u001b[0m     \u001b[38;5;28;01mreturn\u001b[39;00m \u001b[38;5;28mself\u001b[39m\u001b[38;5;241m.\u001b[39m_call_impl(\u001b[38;5;241m*\u001b[39margs, \u001b[38;5;241m*\u001b[39m\u001b[38;5;241m*\u001b[39mkwargs)\n",
      "File \u001b[1;32mc:\\Users\\User\\anaconda3\\envs\\CS608_RecommenderSystems\\lib\\site-packages\\torch\\nn\\modules\\module.py:1541\u001b[0m, in \u001b[0;36mModule._call_impl\u001b[1;34m(self, *args, **kwargs)\u001b[0m\n\u001b[0;32m   1536\u001b[0m \u001b[38;5;66;03m# If we don't have any hooks, we want to skip the rest of the logic in\u001b[39;00m\n\u001b[0;32m   1537\u001b[0m \u001b[38;5;66;03m# this function, and just call forward.\u001b[39;00m\n\u001b[0;32m   1538\u001b[0m \u001b[38;5;28;01mif\u001b[39;00m \u001b[38;5;129;01mnot\u001b[39;00m (\u001b[38;5;28mself\u001b[39m\u001b[38;5;241m.\u001b[39m_backward_hooks \u001b[38;5;129;01mor\u001b[39;00m \u001b[38;5;28mself\u001b[39m\u001b[38;5;241m.\u001b[39m_backward_pre_hooks \u001b[38;5;129;01mor\u001b[39;00m \u001b[38;5;28mself\u001b[39m\u001b[38;5;241m.\u001b[39m_forward_hooks \u001b[38;5;129;01mor\u001b[39;00m \u001b[38;5;28mself\u001b[39m\u001b[38;5;241m.\u001b[39m_forward_pre_hooks\n\u001b[0;32m   1539\u001b[0m         \u001b[38;5;129;01mor\u001b[39;00m _global_backward_pre_hooks \u001b[38;5;129;01mor\u001b[39;00m _global_backward_hooks\n\u001b[0;32m   1540\u001b[0m         \u001b[38;5;129;01mor\u001b[39;00m _global_forward_hooks \u001b[38;5;129;01mor\u001b[39;00m _global_forward_pre_hooks):\n\u001b[1;32m-> 1541\u001b[0m     \u001b[38;5;28;01mreturn\u001b[39;00m forward_call(\u001b[38;5;241m*\u001b[39margs, \u001b[38;5;241m*\u001b[39m\u001b[38;5;241m*\u001b[39mkwargs)\n\u001b[0;32m   1543\u001b[0m \u001b[38;5;28;01mtry\u001b[39;00m:\n\u001b[0;32m   1544\u001b[0m     result \u001b[38;5;241m=\u001b[39m \u001b[38;5;28;01mNone\u001b[39;00m\n",
      "File \u001b[1;32mc:\\Users\\User\\anaconda3\\envs\\CS608_RecommenderSystems\\lib\\site-packages\\torchvision\\models\\vision_transformer.py:298\u001b[0m, in \u001b[0;36mVisionTransformer.forward\u001b[1;34m(self, x)\u001b[0m\n\u001b[0;32m    295\u001b[0m batch_class_token \u001b[38;5;241m=\u001b[39m \u001b[38;5;28mself\u001b[39m\u001b[38;5;241m.\u001b[39mclass_token\u001b[38;5;241m.\u001b[39mexpand(n, \u001b[38;5;241m-\u001b[39m\u001b[38;5;241m1\u001b[39m, \u001b[38;5;241m-\u001b[39m\u001b[38;5;241m1\u001b[39m)\n\u001b[0;32m    296\u001b[0m x \u001b[38;5;241m=\u001b[39m torch\u001b[38;5;241m.\u001b[39mcat([batch_class_token, x], dim\u001b[38;5;241m=\u001b[39m\u001b[38;5;241m1\u001b[39m)\n\u001b[1;32m--> 298\u001b[0m x \u001b[38;5;241m=\u001b[39m \u001b[38;5;28;43mself\u001b[39;49m\u001b[38;5;241;43m.\u001b[39;49m\u001b[43mencoder\u001b[49m\u001b[43m(\u001b[49m\u001b[43mx\u001b[49m\u001b[43m)\u001b[49m\n\u001b[0;32m    300\u001b[0m \u001b[38;5;66;03m# Classifier \"token\" as used by standard language architectures\u001b[39;00m\n\u001b[0;32m    301\u001b[0m x \u001b[38;5;241m=\u001b[39m x[:, \u001b[38;5;241m0\u001b[39m]\n",
      "File \u001b[1;32mc:\\Users\\User\\anaconda3\\envs\\CS608_RecommenderSystems\\lib\\site-packages\\torch\\nn\\modules\\module.py:1532\u001b[0m, in \u001b[0;36mModule._wrapped_call_impl\u001b[1;34m(self, *args, **kwargs)\u001b[0m\n\u001b[0;32m   1530\u001b[0m     \u001b[38;5;28;01mreturn\u001b[39;00m \u001b[38;5;28mself\u001b[39m\u001b[38;5;241m.\u001b[39m_compiled_call_impl(\u001b[38;5;241m*\u001b[39margs, \u001b[38;5;241m*\u001b[39m\u001b[38;5;241m*\u001b[39mkwargs)  \u001b[38;5;66;03m# type: ignore[misc]\u001b[39;00m\n\u001b[0;32m   1531\u001b[0m \u001b[38;5;28;01melse\u001b[39;00m:\n\u001b[1;32m-> 1532\u001b[0m     \u001b[38;5;28;01mreturn\u001b[39;00m \u001b[38;5;28mself\u001b[39m\u001b[38;5;241m.\u001b[39m_call_impl(\u001b[38;5;241m*\u001b[39margs, \u001b[38;5;241m*\u001b[39m\u001b[38;5;241m*\u001b[39mkwargs)\n",
      "File \u001b[1;32mc:\\Users\\User\\anaconda3\\envs\\CS608_RecommenderSystems\\lib\\site-packages\\torch\\nn\\modules\\module.py:1541\u001b[0m, in \u001b[0;36mModule._call_impl\u001b[1;34m(self, *args, **kwargs)\u001b[0m\n\u001b[0;32m   1536\u001b[0m \u001b[38;5;66;03m# If we don't have any hooks, we want to skip the rest of the logic in\u001b[39;00m\n\u001b[0;32m   1537\u001b[0m \u001b[38;5;66;03m# this function, and just call forward.\u001b[39;00m\n\u001b[0;32m   1538\u001b[0m \u001b[38;5;28;01mif\u001b[39;00m \u001b[38;5;129;01mnot\u001b[39;00m (\u001b[38;5;28mself\u001b[39m\u001b[38;5;241m.\u001b[39m_backward_hooks \u001b[38;5;129;01mor\u001b[39;00m \u001b[38;5;28mself\u001b[39m\u001b[38;5;241m.\u001b[39m_backward_pre_hooks \u001b[38;5;129;01mor\u001b[39;00m \u001b[38;5;28mself\u001b[39m\u001b[38;5;241m.\u001b[39m_forward_hooks \u001b[38;5;129;01mor\u001b[39;00m \u001b[38;5;28mself\u001b[39m\u001b[38;5;241m.\u001b[39m_forward_pre_hooks\n\u001b[0;32m   1539\u001b[0m         \u001b[38;5;129;01mor\u001b[39;00m _global_backward_pre_hooks \u001b[38;5;129;01mor\u001b[39;00m _global_backward_hooks\n\u001b[0;32m   1540\u001b[0m         \u001b[38;5;129;01mor\u001b[39;00m _global_forward_hooks \u001b[38;5;129;01mor\u001b[39;00m _global_forward_pre_hooks):\n\u001b[1;32m-> 1541\u001b[0m     \u001b[38;5;28;01mreturn\u001b[39;00m forward_call(\u001b[38;5;241m*\u001b[39margs, \u001b[38;5;241m*\u001b[39m\u001b[38;5;241m*\u001b[39mkwargs)\n\u001b[0;32m   1543\u001b[0m \u001b[38;5;28;01mtry\u001b[39;00m:\n\u001b[0;32m   1544\u001b[0m     result \u001b[38;5;241m=\u001b[39m \u001b[38;5;28;01mNone\u001b[39;00m\n",
      "File \u001b[1;32mc:\\Users\\User\\anaconda3\\envs\\CS608_RecommenderSystems\\lib\\site-packages\\torchvision\\models\\vision_transformer.py:157\u001b[0m, in \u001b[0;36mEncoder.forward\u001b[1;34m(self, input)\u001b[0m\n\u001b[0;32m    155\u001b[0m torch\u001b[38;5;241m.\u001b[39m_assert(\u001b[38;5;28minput\u001b[39m\u001b[38;5;241m.\u001b[39mdim() \u001b[38;5;241m==\u001b[39m \u001b[38;5;241m3\u001b[39m, \u001b[38;5;124mf\u001b[39m\u001b[38;5;124m\"\u001b[39m\u001b[38;5;124mExpected (batch_size, seq_length, hidden_dim) got \u001b[39m\u001b[38;5;132;01m{\u001b[39;00m\u001b[38;5;28minput\u001b[39m\u001b[38;5;241m.\u001b[39mshape\u001b[38;5;132;01m}\u001b[39;00m\u001b[38;5;124m\"\u001b[39m)\n\u001b[0;32m    156\u001b[0m \u001b[38;5;28minput\u001b[39m \u001b[38;5;241m=\u001b[39m \u001b[38;5;28minput\u001b[39m \u001b[38;5;241m+\u001b[39m \u001b[38;5;28mself\u001b[39m\u001b[38;5;241m.\u001b[39mpos_embedding\n\u001b[1;32m--> 157\u001b[0m \u001b[38;5;28;01mreturn\u001b[39;00m \u001b[38;5;28mself\u001b[39m\u001b[38;5;241m.\u001b[39mln(\u001b[38;5;28;43mself\u001b[39;49m\u001b[38;5;241;43m.\u001b[39;49m\u001b[43mlayers\u001b[49m\u001b[43m(\u001b[49m\u001b[38;5;28;43mself\u001b[39;49m\u001b[38;5;241;43m.\u001b[39;49m\u001b[43mdropout\u001b[49m\u001b[43m(\u001b[49m\u001b[38;5;28;43minput\u001b[39;49m\u001b[43m)\u001b[49m\u001b[43m)\u001b[49m)\n",
      "File \u001b[1;32mc:\\Users\\User\\anaconda3\\envs\\CS608_RecommenderSystems\\lib\\site-packages\\torch\\nn\\modules\\module.py:1532\u001b[0m, in \u001b[0;36mModule._wrapped_call_impl\u001b[1;34m(self, *args, **kwargs)\u001b[0m\n\u001b[0;32m   1530\u001b[0m     \u001b[38;5;28;01mreturn\u001b[39;00m \u001b[38;5;28mself\u001b[39m\u001b[38;5;241m.\u001b[39m_compiled_call_impl(\u001b[38;5;241m*\u001b[39margs, \u001b[38;5;241m*\u001b[39m\u001b[38;5;241m*\u001b[39mkwargs)  \u001b[38;5;66;03m# type: ignore[misc]\u001b[39;00m\n\u001b[0;32m   1531\u001b[0m \u001b[38;5;28;01melse\u001b[39;00m:\n\u001b[1;32m-> 1532\u001b[0m     \u001b[38;5;28;01mreturn\u001b[39;00m \u001b[38;5;28mself\u001b[39m\u001b[38;5;241m.\u001b[39m_call_impl(\u001b[38;5;241m*\u001b[39margs, \u001b[38;5;241m*\u001b[39m\u001b[38;5;241m*\u001b[39mkwargs)\n",
      "File \u001b[1;32mc:\\Users\\User\\anaconda3\\envs\\CS608_RecommenderSystems\\lib\\site-packages\\torch\\nn\\modules\\module.py:1541\u001b[0m, in \u001b[0;36mModule._call_impl\u001b[1;34m(self, *args, **kwargs)\u001b[0m\n\u001b[0;32m   1536\u001b[0m \u001b[38;5;66;03m# If we don't have any hooks, we want to skip the rest of the logic in\u001b[39;00m\n\u001b[0;32m   1537\u001b[0m \u001b[38;5;66;03m# this function, and just call forward.\u001b[39;00m\n\u001b[0;32m   1538\u001b[0m \u001b[38;5;28;01mif\u001b[39;00m \u001b[38;5;129;01mnot\u001b[39;00m (\u001b[38;5;28mself\u001b[39m\u001b[38;5;241m.\u001b[39m_backward_hooks \u001b[38;5;129;01mor\u001b[39;00m \u001b[38;5;28mself\u001b[39m\u001b[38;5;241m.\u001b[39m_backward_pre_hooks \u001b[38;5;129;01mor\u001b[39;00m \u001b[38;5;28mself\u001b[39m\u001b[38;5;241m.\u001b[39m_forward_hooks \u001b[38;5;129;01mor\u001b[39;00m \u001b[38;5;28mself\u001b[39m\u001b[38;5;241m.\u001b[39m_forward_pre_hooks\n\u001b[0;32m   1539\u001b[0m         \u001b[38;5;129;01mor\u001b[39;00m _global_backward_pre_hooks \u001b[38;5;129;01mor\u001b[39;00m _global_backward_hooks\n\u001b[0;32m   1540\u001b[0m         \u001b[38;5;129;01mor\u001b[39;00m _global_forward_hooks \u001b[38;5;129;01mor\u001b[39;00m _global_forward_pre_hooks):\n\u001b[1;32m-> 1541\u001b[0m     \u001b[38;5;28;01mreturn\u001b[39;00m forward_call(\u001b[38;5;241m*\u001b[39margs, \u001b[38;5;241m*\u001b[39m\u001b[38;5;241m*\u001b[39mkwargs)\n\u001b[0;32m   1543\u001b[0m \u001b[38;5;28;01mtry\u001b[39;00m:\n\u001b[0;32m   1544\u001b[0m     result \u001b[38;5;241m=\u001b[39m \u001b[38;5;28;01mNone\u001b[39;00m\n",
      "File \u001b[1;32mc:\\Users\\User\\anaconda3\\envs\\CS608_RecommenderSystems\\lib\\site-packages\\torch\\nn\\modules\\container.py:217\u001b[0m, in \u001b[0;36mSequential.forward\u001b[1;34m(self, input)\u001b[0m\n\u001b[0;32m    215\u001b[0m \u001b[38;5;28;01mdef\u001b[39;00m \u001b[38;5;21mforward\u001b[39m(\u001b[38;5;28mself\u001b[39m, \u001b[38;5;28minput\u001b[39m):\n\u001b[0;32m    216\u001b[0m     \u001b[38;5;28;01mfor\u001b[39;00m module \u001b[38;5;129;01min\u001b[39;00m \u001b[38;5;28mself\u001b[39m:\n\u001b[1;32m--> 217\u001b[0m         \u001b[38;5;28minput\u001b[39m \u001b[38;5;241m=\u001b[39m \u001b[43mmodule\u001b[49m\u001b[43m(\u001b[49m\u001b[38;5;28;43minput\u001b[39;49m\u001b[43m)\u001b[49m\n\u001b[0;32m    218\u001b[0m     \u001b[38;5;28;01mreturn\u001b[39;00m \u001b[38;5;28minput\u001b[39m\n",
      "File \u001b[1;32mc:\\Users\\User\\anaconda3\\envs\\CS608_RecommenderSystems\\lib\\site-packages\\torch\\nn\\modules\\module.py:1532\u001b[0m, in \u001b[0;36mModule._wrapped_call_impl\u001b[1;34m(self, *args, **kwargs)\u001b[0m\n\u001b[0;32m   1530\u001b[0m     \u001b[38;5;28;01mreturn\u001b[39;00m \u001b[38;5;28mself\u001b[39m\u001b[38;5;241m.\u001b[39m_compiled_call_impl(\u001b[38;5;241m*\u001b[39margs, \u001b[38;5;241m*\u001b[39m\u001b[38;5;241m*\u001b[39mkwargs)  \u001b[38;5;66;03m# type: ignore[misc]\u001b[39;00m\n\u001b[0;32m   1531\u001b[0m \u001b[38;5;28;01melse\u001b[39;00m:\n\u001b[1;32m-> 1532\u001b[0m     \u001b[38;5;28;01mreturn\u001b[39;00m \u001b[38;5;28mself\u001b[39m\u001b[38;5;241m.\u001b[39m_call_impl(\u001b[38;5;241m*\u001b[39margs, \u001b[38;5;241m*\u001b[39m\u001b[38;5;241m*\u001b[39mkwargs)\n",
      "File \u001b[1;32mc:\\Users\\User\\anaconda3\\envs\\CS608_RecommenderSystems\\lib\\site-packages\\torch\\nn\\modules\\module.py:1541\u001b[0m, in \u001b[0;36mModule._call_impl\u001b[1;34m(self, *args, **kwargs)\u001b[0m\n\u001b[0;32m   1536\u001b[0m \u001b[38;5;66;03m# If we don't have any hooks, we want to skip the rest of the logic in\u001b[39;00m\n\u001b[0;32m   1537\u001b[0m \u001b[38;5;66;03m# this function, and just call forward.\u001b[39;00m\n\u001b[0;32m   1538\u001b[0m \u001b[38;5;28;01mif\u001b[39;00m \u001b[38;5;129;01mnot\u001b[39;00m (\u001b[38;5;28mself\u001b[39m\u001b[38;5;241m.\u001b[39m_backward_hooks \u001b[38;5;129;01mor\u001b[39;00m \u001b[38;5;28mself\u001b[39m\u001b[38;5;241m.\u001b[39m_backward_pre_hooks \u001b[38;5;129;01mor\u001b[39;00m \u001b[38;5;28mself\u001b[39m\u001b[38;5;241m.\u001b[39m_forward_hooks \u001b[38;5;129;01mor\u001b[39;00m \u001b[38;5;28mself\u001b[39m\u001b[38;5;241m.\u001b[39m_forward_pre_hooks\n\u001b[0;32m   1539\u001b[0m         \u001b[38;5;129;01mor\u001b[39;00m _global_backward_pre_hooks \u001b[38;5;129;01mor\u001b[39;00m _global_backward_hooks\n\u001b[0;32m   1540\u001b[0m         \u001b[38;5;129;01mor\u001b[39;00m _global_forward_hooks \u001b[38;5;129;01mor\u001b[39;00m _global_forward_pre_hooks):\n\u001b[1;32m-> 1541\u001b[0m     \u001b[38;5;28;01mreturn\u001b[39;00m forward_call(\u001b[38;5;241m*\u001b[39margs, \u001b[38;5;241m*\u001b[39m\u001b[38;5;241m*\u001b[39mkwargs)\n\u001b[0;32m   1543\u001b[0m \u001b[38;5;28;01mtry\u001b[39;00m:\n\u001b[0;32m   1544\u001b[0m     result \u001b[38;5;241m=\u001b[39m \u001b[38;5;28;01mNone\u001b[39;00m\n",
      "File \u001b[1;32mc:\\Users\\User\\anaconda3\\envs\\CS608_RecommenderSystems\\lib\\site-packages\\torchvision\\models\\vision_transformer.py:113\u001b[0m, in \u001b[0;36mEncoderBlock.forward\u001b[1;34m(self, input)\u001b[0m\n\u001b[0;32m    111\u001b[0m torch\u001b[38;5;241m.\u001b[39m_assert(\u001b[38;5;28minput\u001b[39m\u001b[38;5;241m.\u001b[39mdim() \u001b[38;5;241m==\u001b[39m \u001b[38;5;241m3\u001b[39m, \u001b[38;5;124mf\u001b[39m\u001b[38;5;124m\"\u001b[39m\u001b[38;5;124mExpected (batch_size, seq_length, hidden_dim) got \u001b[39m\u001b[38;5;132;01m{\u001b[39;00m\u001b[38;5;28minput\u001b[39m\u001b[38;5;241m.\u001b[39mshape\u001b[38;5;132;01m}\u001b[39;00m\u001b[38;5;124m\"\u001b[39m)\n\u001b[0;32m    112\u001b[0m x \u001b[38;5;241m=\u001b[39m \u001b[38;5;28mself\u001b[39m\u001b[38;5;241m.\u001b[39mln_1(\u001b[38;5;28minput\u001b[39m)\n\u001b[1;32m--> 113\u001b[0m x, _ \u001b[38;5;241m=\u001b[39m \u001b[38;5;28;43mself\u001b[39;49m\u001b[38;5;241;43m.\u001b[39;49m\u001b[43mself_attention\u001b[49m\u001b[43m(\u001b[49m\u001b[43mx\u001b[49m\u001b[43m,\u001b[49m\u001b[43m \u001b[49m\u001b[43mx\u001b[49m\u001b[43m,\u001b[49m\u001b[43m \u001b[49m\u001b[43mx\u001b[49m\u001b[43m,\u001b[49m\u001b[43m \u001b[49m\u001b[43mneed_weights\u001b[49m\u001b[38;5;241;43m=\u001b[39;49m\u001b[38;5;28;43;01mFalse\u001b[39;49;00m\u001b[43m)\u001b[49m\n\u001b[0;32m    114\u001b[0m x \u001b[38;5;241m=\u001b[39m \u001b[38;5;28mself\u001b[39m\u001b[38;5;241m.\u001b[39mdropout(x)\n\u001b[0;32m    115\u001b[0m x \u001b[38;5;241m=\u001b[39m x \u001b[38;5;241m+\u001b[39m \u001b[38;5;28minput\u001b[39m\n",
      "File \u001b[1;32mc:\\Users\\User\\anaconda3\\envs\\CS608_RecommenderSystems\\lib\\site-packages\\torch\\nn\\modules\\module.py:1532\u001b[0m, in \u001b[0;36mModule._wrapped_call_impl\u001b[1;34m(self, *args, **kwargs)\u001b[0m\n\u001b[0;32m   1530\u001b[0m     \u001b[38;5;28;01mreturn\u001b[39;00m \u001b[38;5;28mself\u001b[39m\u001b[38;5;241m.\u001b[39m_compiled_call_impl(\u001b[38;5;241m*\u001b[39margs, \u001b[38;5;241m*\u001b[39m\u001b[38;5;241m*\u001b[39mkwargs)  \u001b[38;5;66;03m# type: ignore[misc]\u001b[39;00m\n\u001b[0;32m   1531\u001b[0m \u001b[38;5;28;01melse\u001b[39;00m:\n\u001b[1;32m-> 1532\u001b[0m     \u001b[38;5;28;01mreturn\u001b[39;00m \u001b[38;5;28mself\u001b[39m\u001b[38;5;241m.\u001b[39m_call_impl(\u001b[38;5;241m*\u001b[39margs, \u001b[38;5;241m*\u001b[39m\u001b[38;5;241m*\u001b[39mkwargs)\n",
      "File \u001b[1;32mc:\\Users\\User\\anaconda3\\envs\\CS608_RecommenderSystems\\lib\\site-packages\\torch\\nn\\modules\\module.py:1541\u001b[0m, in \u001b[0;36mModule._call_impl\u001b[1;34m(self, *args, **kwargs)\u001b[0m\n\u001b[0;32m   1536\u001b[0m \u001b[38;5;66;03m# If we don't have any hooks, we want to skip the rest of the logic in\u001b[39;00m\n\u001b[0;32m   1537\u001b[0m \u001b[38;5;66;03m# this function, and just call forward.\u001b[39;00m\n\u001b[0;32m   1538\u001b[0m \u001b[38;5;28;01mif\u001b[39;00m \u001b[38;5;129;01mnot\u001b[39;00m (\u001b[38;5;28mself\u001b[39m\u001b[38;5;241m.\u001b[39m_backward_hooks \u001b[38;5;129;01mor\u001b[39;00m \u001b[38;5;28mself\u001b[39m\u001b[38;5;241m.\u001b[39m_backward_pre_hooks \u001b[38;5;129;01mor\u001b[39;00m \u001b[38;5;28mself\u001b[39m\u001b[38;5;241m.\u001b[39m_forward_hooks \u001b[38;5;129;01mor\u001b[39;00m \u001b[38;5;28mself\u001b[39m\u001b[38;5;241m.\u001b[39m_forward_pre_hooks\n\u001b[0;32m   1539\u001b[0m         \u001b[38;5;129;01mor\u001b[39;00m _global_backward_pre_hooks \u001b[38;5;129;01mor\u001b[39;00m _global_backward_hooks\n\u001b[0;32m   1540\u001b[0m         \u001b[38;5;129;01mor\u001b[39;00m _global_forward_hooks \u001b[38;5;129;01mor\u001b[39;00m _global_forward_pre_hooks):\n\u001b[1;32m-> 1541\u001b[0m     \u001b[38;5;28;01mreturn\u001b[39;00m forward_call(\u001b[38;5;241m*\u001b[39margs, \u001b[38;5;241m*\u001b[39m\u001b[38;5;241m*\u001b[39mkwargs)\n\u001b[0;32m   1543\u001b[0m \u001b[38;5;28;01mtry\u001b[39;00m:\n\u001b[0;32m   1544\u001b[0m     result \u001b[38;5;241m=\u001b[39m \u001b[38;5;28;01mNone\u001b[39;00m\n",
      "File \u001b[1;32mc:\\Users\\User\\anaconda3\\envs\\CS608_RecommenderSystems\\lib\\site-packages\\torch\\nn\\modules\\activation.py:1221\u001b[0m, in \u001b[0;36mMultiheadAttention.forward\u001b[1;34m(self, query, key, value, key_padding_mask, need_weights, attn_mask, average_attn_weights, is_causal)\u001b[0m\n\u001b[0;32m   1218\u001b[0m         merged_mask, mask_type \u001b[38;5;241m=\u001b[39m \u001b[38;5;28mself\u001b[39m\u001b[38;5;241m.\u001b[39mmerge_masks(attn_mask, key_padding_mask, query)\n\u001b[0;32m   1220\u001b[0m         \u001b[38;5;28;01mif\u001b[39;00m \u001b[38;5;28mself\u001b[39m\u001b[38;5;241m.\u001b[39min_proj_bias \u001b[38;5;129;01mis\u001b[39;00m \u001b[38;5;129;01mnot\u001b[39;00m \u001b[38;5;28;01mNone\u001b[39;00m \u001b[38;5;129;01mand\u001b[39;00m \u001b[38;5;28mself\u001b[39m\u001b[38;5;241m.\u001b[39min_proj_weight \u001b[38;5;129;01mis\u001b[39;00m \u001b[38;5;129;01mnot\u001b[39;00m \u001b[38;5;28;01mNone\u001b[39;00m:\n\u001b[1;32m-> 1221\u001b[0m             \u001b[38;5;28;01mreturn\u001b[39;00m \u001b[43mtorch\u001b[49m\u001b[38;5;241;43m.\u001b[39;49m\u001b[43m_native_multi_head_attention\u001b[49m\u001b[43m(\u001b[49m\n\u001b[0;32m   1222\u001b[0m \u001b[43m                \u001b[49m\u001b[43mquery\u001b[49m\u001b[43m,\u001b[49m\n\u001b[0;32m   1223\u001b[0m \u001b[43m                \u001b[49m\u001b[43mkey\u001b[49m\u001b[43m,\u001b[49m\n\u001b[0;32m   1224\u001b[0m \u001b[43m                \u001b[49m\u001b[43mvalue\u001b[49m\u001b[43m,\u001b[49m\n\u001b[0;32m   1225\u001b[0m \u001b[43m                \u001b[49m\u001b[38;5;28;43mself\u001b[39;49m\u001b[38;5;241;43m.\u001b[39;49m\u001b[43membed_dim\u001b[49m\u001b[43m,\u001b[49m\n\u001b[0;32m   1226\u001b[0m \u001b[43m                \u001b[49m\u001b[38;5;28;43mself\u001b[39;49m\u001b[38;5;241;43m.\u001b[39;49m\u001b[43mnum_heads\u001b[49m\u001b[43m,\u001b[49m\n\u001b[0;32m   1227\u001b[0m \u001b[43m                \u001b[49m\u001b[38;5;28;43mself\u001b[39;49m\u001b[38;5;241;43m.\u001b[39;49m\u001b[43min_proj_weight\u001b[49m\u001b[43m,\u001b[49m\n\u001b[0;32m   1228\u001b[0m \u001b[43m                \u001b[49m\u001b[38;5;28;43mself\u001b[39;49m\u001b[38;5;241;43m.\u001b[39;49m\u001b[43min_proj_bias\u001b[49m\u001b[43m,\u001b[49m\n\u001b[0;32m   1229\u001b[0m \u001b[43m                \u001b[49m\u001b[38;5;28;43mself\u001b[39;49m\u001b[38;5;241;43m.\u001b[39;49m\u001b[43mout_proj\u001b[49m\u001b[38;5;241;43m.\u001b[39;49m\u001b[43mweight\u001b[49m\u001b[43m,\u001b[49m\n\u001b[0;32m   1230\u001b[0m \u001b[43m                \u001b[49m\u001b[38;5;28;43mself\u001b[39;49m\u001b[38;5;241;43m.\u001b[39;49m\u001b[43mout_proj\u001b[49m\u001b[38;5;241;43m.\u001b[39;49m\u001b[43mbias\u001b[49m\u001b[43m,\u001b[49m\n\u001b[0;32m   1231\u001b[0m \u001b[43m                \u001b[49m\u001b[43mmerged_mask\u001b[49m\u001b[43m,\u001b[49m\n\u001b[0;32m   1232\u001b[0m \u001b[43m                \u001b[49m\u001b[43mneed_weights\u001b[49m\u001b[43m,\u001b[49m\n\u001b[0;32m   1233\u001b[0m \u001b[43m                \u001b[49m\u001b[43maverage_attn_weights\u001b[49m\u001b[43m,\u001b[49m\n\u001b[0;32m   1234\u001b[0m \u001b[43m                \u001b[49m\u001b[43mmask_type\u001b[49m\u001b[43m)\u001b[49m\n\u001b[0;32m   1236\u001b[0m any_nested \u001b[38;5;241m=\u001b[39m query\u001b[38;5;241m.\u001b[39mis_nested \u001b[38;5;129;01mor\u001b[39;00m key\u001b[38;5;241m.\u001b[39mis_nested \u001b[38;5;129;01mor\u001b[39;00m value\u001b[38;5;241m.\u001b[39mis_nested\n\u001b[0;32m   1237\u001b[0m \u001b[38;5;28;01massert\u001b[39;00m \u001b[38;5;129;01mnot\u001b[39;00m any_nested, (\u001b[38;5;124m\"\u001b[39m\u001b[38;5;124mMultiheadAttention does not support NestedTensor outside of its fast path. \u001b[39m\u001b[38;5;124m\"\u001b[39m \u001b[38;5;241m+\u001b[39m\n\u001b[0;32m   1238\u001b[0m                         \u001b[38;5;124mf\u001b[39m\u001b[38;5;124m\"\u001b[39m\u001b[38;5;124mThe fast path was not hit because \u001b[39m\u001b[38;5;132;01m{\u001b[39;00mwhy_not_fast_path\u001b[38;5;132;01m}\u001b[39;00m\u001b[38;5;124m\"\u001b[39m)\n",
      "\u001b[1;31mRuntimeError\u001b[0m: [enforce fail at alloc_cpu.cpp:114] data. DefaultCPUAllocator: not enough memory: you tried to allocate 6006080000 bytes."
     ]
    }
   ],
   "source": [
    "rs = RatioSplit(\n",
    "    data=ratings_7_data,\n",
    "    test_size=0.2,\n",
    "    exclude_unknowns=True,\n",
    "    verbose=True,\n",
    "    seed=SEED,\n",
    "    rating_threshold=0.5,\n",
    "    item_image=item_image_modality,\n",
    ")\n",
    "\n",
    "cornac.Experiment(eval_method=rs, models=[\n",
    "        dmrl100], metrics=eval_metrics).run()"
   ]
  },
  {
   "cell_type": "markdown",
   "metadata": {},
   "source": [
    "### Both Modalities (Leroy)"
   ]
  },
  {
   "cell_type": "code",
   "execution_count": null,
   "metadata": {},
   "outputs": [],
   "source": [
    "dmrl100 = DMRL(batch_size=4096, epochs=20, log_metrics=False, learning_rate=0.01, num_factors=2, \n",
    "        decay_r=0.5, decay_c=0.01, num_neg=3, embedding_dim=100, name='dmrl(emb_dim=100)')"
   ]
  },
  {
   "cell_type": "code",
   "execution_count": null,
   "metadata": {},
   "outputs": [],
   "source": [
    "rs = RatioSplit(\n",
    "    data=ratings_7_data,\n",
    "    test_size=0.2,\n",
    "    exclude_unknowns=True,\n",
    "    verbose=True,\n",
    "    seed=SEED,\n",
    "    rating_threshold=0.5,\n",
    "    item_text=item_text_modality,\n",
    "    item_image=item_image_modality,\n",
    ")\n",
    "\n",
    "cornac.Experiment(eval_method=rs, models=[\n",
    "        dmrl100], metrics=eval_metrics).run()"
   ]
  },
  {
   "cell_type": "markdown",
   "metadata": {},
   "source": [
    "# Ensemble\n",
    "We understand that our WMF model performed way better than our other models. We lost a lot of time trying to get dmrl to work that we couldn't perform hyperparameter tuning for most of them since they were also time consuming to tune. We made the decision to just not tune them and execute our plan to ensemble the models to at least show our intentions."
   ]
  },
  {
   "cell_type": "code",
   "execution_count": 120,
   "metadata": {},
   "outputs": [],
   "source": [
    "# Models trained by everyone\n",
    "rs_wmf = WMF.load(\"../data/06_models/RandomSearch_WMF\")\n",
    "vbpr_ohe = VBPR.load(\"../data/06_models/VBPR_OHE\")\n",
    "vbpr_fullimg = VBPR.load(\"../data/06_models/VBPR_FULLIMG\")\n",
    "vbpr_pca = VBPR.load(\"../data/06_models/VBPR_PCA\")\n",
    "vbpr_tsvd = VBPR.load(\"../data/06_models/VBPR_TSVD\")\n",
    "ctr = CTR.load(\"../data/06_models/CTR\")"
   ]
  },
  {
   "cell_type": "code",
   "execution_count": 154,
   "metadata": {},
   "outputs": [],
   "source": [
    "# simple inference function\n",
    "def inference(\n",
    "    models: list[cornac.models], \n",
    "    user: int, \n",
    "    ratings_df: pd.Dataframe, \n",
    "    top_k: Optional[int] = 30, \n",
    "    num_rec: Optional[int] = 10\n",
    ") -> list[int]:\n",
    "    \"\"\"Generates an ensemble inference based on the list of models input.\n",
    "    Performs simple weighted voting, allocating more points to high ranked items per model.\n",
    "    Final ranking based on sum of all points allocated for each item. \n",
    "    Items the user has interacted with before are removed from the final list.\n",
    "\n",
    "    Args:\n",
    "        models (list[cornac.models]): List of cornac models to be used in the ensemble.\n",
    "        user (int): The user id of the user to recommend items to.\n",
    "        ratings_df (pd.DataFrame): The ratings dataframe used during training.\n",
    "        top_k (Optional[int]): The number of items for each model to initially recommend. Defaults to 30.\n",
    "        num_rec (Optional[int]): The number of recommendations to output in the final recommendation.\n",
    "\n",
    "    Returns:\n",
    "        list[int]: A list of recommended items for the user based on the ensemble model.\n",
    "    \n",
    "    \"\"\"\n",
    "    recommendations = {}\n",
    "    for model in models:\n",
    "        points = top_k\n",
    "        try:\n",
    "            recommendation = model.recommend(user_id=user, k=top_k)\n",
    "            print(recommendation)\n",
    "        except:\n",
    "            # CTR used a different format than the rest (users and items in string)\n",
    "            recommendation = model.recommend(user_id=str(user), k=top_k)\n",
    "            recommendation = [int(id) for id in recommendation]\n",
    "            print(recommendation)\n",
    "        for item in recommendation:\n",
    "            if item not in recommendations:\n",
    "                recommendations[item] = points\n",
    "                points -= 1\n",
    "            else:\n",
    "                recommendations[item] += points\n",
    "                points -= 1\n",
    "\n",
    "    sorted_rec = sorted(recommendations, key=recommendations.get, reverse=True)\n",
    "\n",
    "    # filter out anime that the user already watched\n",
    "    user_watched = ratings_df[ratings_df[\"user_id\"]==user][\"anime_id_remapped\"].values\n",
    "\n",
    "    for anime in user_watched:\n",
    "        if anime in sorted_rec:\n",
    "            sorted_rec.remove(anime)\n",
    "\n",
    "    if len(sorted_rec) < num_rec:\n",
    "        top = sorted_rec\n",
    "    else:\n",
    "        top = sorted_rec[:num_rec]\n",
    "\n",
    "    return top\n"
   ]
  },
  {
   "cell_type": "code",
   "execution_count": 163,
   "metadata": {},
   "outputs": [],
   "source": [
    "# models = [rs_wmf, vbpr_ohe, vbpr_fullimg, vbpr_pca, vbpr_tsvd, ctr]\n",
    "models = [rs_wmf, vbpr_ohe, vbpr_fullimg, ctr]"
   ]
  },
  {
   "cell_type": "code",
   "execution_count": 155,
   "metadata": {},
   "outputs": [
    {
     "name": "stdout",
     "output_type": "stream",
     "text": [
      "[5509, 6530, 7211, 5585, 3855, 202, 6331, 2715, 4687, 6569, 3544, 7783, 11, 9184, 4375, 7231, 4872, 5329, 5192, 7960, 6333, 6022, 3456, 8785, 9217, 5383, 5416, 58, 3031, 9078]\n",
      "[7394, 8084, 1390, 4705, 5192, 6256, 2715, 5103, 4774, 3936, 1088, 3544, 6024, 5383, 6526, 7247, 5509, 6562, 1919, 3547, 6022, 6530, 1672, 6304, 6569, 3033, 8571, 202, 3222, 58]\n",
      "[1390, 6569, 5192, 8476, 7394, 6530, 7268, 8084, 3140, 3520, 3547, 8571, 2715, 1817, 5939, 1979, 5648, 1088, 2641, 100, 202, 3953, 4375, 1428, 6256, 7231, 7211, 8550, 5509, 6333]\n",
      "[7783, 1534, 6569, 7211, 6076, 4043, 3456, 6860, 2641, 9078, 8142, 6334, 7788, 3544, 5708, 5585, 6530, 9549, 6253, 7960, 7231, 6678, 1428, 4684, 2715, 1390, 7083, 7738, 7646, 7313]\n"
     ]
    },
    {
     "data": {
      "text/plain": [
       "[6569, 6530, 2715, 5192, 1390, 7211, 3544, 7394, 8084, 7783]"
      ]
     },
     "execution_count": 155,
     "metadata": {},
     "output_type": "execute_result"
    }
   ],
   "source": [
    "inference(models, 1, filtered_ratings)"
   ]
  },
  {
   "cell_type": "markdown",
   "metadata": {},
   "source": [
    "### What did user 1 rate highly?"
   ]
  },
  {
   "cell_type": "code",
   "execution_count": 161,
   "metadata": {},
   "outputs": [
    {
     "data": {
      "text/html": [
       "<div>\n",
       "<style scoped>\n",
       "    .dataframe tbody tr th:only-of-type {\n",
       "        vertical-align: middle;\n",
       "    }\n",
       "\n",
       "    .dataframe tbody tr th {\n",
       "        vertical-align: top;\n",
       "    }\n",
       "\n",
       "    .dataframe thead th {\n",
       "        text-align: right;\n",
       "    }\n",
       "</style>\n",
       "<table border=\"1\" class=\"dataframe\">\n",
       "  <thead>\n",
       "    <tr style=\"text-align: right;\">\n",
       "      <th></th>\n",
       "      <th>user_id</th>\n",
       "      <th>anime_id_remapped</th>\n",
       "      <th>rating</th>\n",
       "    </tr>\n",
       "  </thead>\n",
       "  <tbody>\n",
       "    <tr>\n",
       "      <th>0</th>\n",
       "      <td>1</td>\n",
       "      <td>5329</td>\n",
       "      <td>7</td>\n",
       "    </tr>\n",
       "    <tr>\n",
       "      <th>1</th>\n",
       "      <td>1</td>\n",
       "      <td>6921</td>\n",
       "      <td>7</td>\n",
       "    </tr>\n",
       "    <tr>\n",
       "      <th>2</th>\n",
       "      <td>1</td>\n",
       "      <td>6016</td>\n",
       "      <td>7</td>\n",
       "    </tr>\n",
       "    <tr>\n",
       "      <th>3</th>\n",
       "      <td>1</td>\n",
       "      <td>6910</td>\n",
       "      <td>7</td>\n",
       "    </tr>\n",
       "    <tr>\n",
       "      <th>4</th>\n",
       "      <td>1</td>\n",
       "      <td>6019</td>\n",
       "      <td>7</td>\n",
       "    </tr>\n",
       "    <tr>\n",
       "      <th>...</th>\n",
       "      <td>...</td>\n",
       "      <td>...</td>\n",
       "      <td>...</td>\n",
       "    </tr>\n",
       "    <tr>\n",
       "      <th>148</th>\n",
       "      <td>1</td>\n",
       "      <td>8628</td>\n",
       "      <td>7</td>\n",
       "    </tr>\n",
       "    <tr>\n",
       "      <th>149</th>\n",
       "      <td>1</td>\n",
       "      <td>8571</td>\n",
       "      <td>7</td>\n",
       "    </tr>\n",
       "    <tr>\n",
       "      <th>150</th>\n",
       "      <td>1</td>\n",
       "      <td>4614</td>\n",
       "      <td>7</td>\n",
       "    </tr>\n",
       "    <tr>\n",
       "      <th>151</th>\n",
       "      <td>1</td>\n",
       "      <td>8632</td>\n",
       "      <td>7</td>\n",
       "    </tr>\n",
       "    <tr>\n",
       "      <th>152</th>\n",
       "      <td>1</td>\n",
       "      <td>10205</td>\n",
       "      <td>7</td>\n",
       "    </tr>\n",
       "  </tbody>\n",
       "</table>\n",
       "<p>153 rows × 3 columns</p>\n",
       "</div>"
      ],
      "text/plain": [
       "     user_id  anime_id_remapped  rating\n",
       "0          1               5329       7\n",
       "1          1               6921       7\n",
       "2          1               6016       7\n",
       "3          1               6910       7\n",
       "4          1               6019       7\n",
       "..       ...                ...     ...\n",
       "148        1               8628       7\n",
       "149        1               8571       7\n",
       "150        1               4614       7\n",
       "151        1               8632       7\n",
       "152        1              10205       7\n",
       "\n",
       "[153 rows x 3 columns]"
      ]
     },
     "execution_count": 161,
     "metadata": {},
     "output_type": "execute_result"
    }
   ],
   "source": [
    "user_1_ratings = ratings_7[ratings_7[\"user_id\"]==1]\n",
    "user_1_ratings"
   ]
  },
  {
   "cell_type": "code",
   "execution_count": 162,
   "metadata": {},
   "outputs": [
    {
     "data": {
      "text/html": [
       "<div>\n",
       "<style scoped>\n",
       "    .dataframe tbody tr th:only-of-type {\n",
       "        vertical-align: middle;\n",
       "    }\n",
       "\n",
       "    .dataframe tbody tr th {\n",
       "        vertical-align: top;\n",
       "    }\n",
       "\n",
       "    .dataframe thead th {\n",
       "        text-align: right;\n",
       "    }\n",
       "</style>\n",
       "<table border=\"1\" class=\"dataframe\">\n",
       "  <thead>\n",
       "    <tr style=\"text-align: right;\">\n",
       "      <th></th>\n",
       "      <th>user_id</th>\n",
       "      <th>anime_id_remapped</th>\n",
       "      <th>rating</th>\n",
       "    </tr>\n",
       "  </thead>\n",
       "  <tbody>\n",
       "    <tr>\n",
       "      <th>57</th>\n",
       "      <td>1</td>\n",
       "      <td>6569</td>\n",
       "      <td>10</td>\n",
       "    </tr>\n",
       "    <tr>\n",
       "      <th>64</th>\n",
       "      <td>1</td>\n",
       "      <td>6530</td>\n",
       "      <td>10</td>\n",
       "    </tr>\n",
       "    <tr>\n",
       "      <th>102</th>\n",
       "      <td>1</td>\n",
       "      <td>7211</td>\n",
       "      <td>10</td>\n",
       "    </tr>\n",
       "    <tr>\n",
       "      <th>124</th>\n",
       "      <td>1</td>\n",
       "      <td>5192</td>\n",
       "      <td>10</td>\n",
       "    </tr>\n",
       "  </tbody>\n",
       "</table>\n",
       "</div>"
      ],
      "text/plain": [
       "     user_id  anime_id_remapped  rating\n",
       "57         1               6569      10\n",
       "64         1               6530      10\n",
       "102        1               7211      10\n",
       "124        1               5192      10"
      ]
     },
     "execution_count": 162,
     "metadata": {},
     "output_type": "execute_result"
    }
   ],
   "source": [
    "user_1_ratings[user_1_ratings[\"rating\"]>7]"
   ]
  },
  {
   "cell_type": "code",
   "execution_count": 145,
   "metadata": {},
   "outputs": [
    {
     "data": {
      "text/plain": [
       "array([ 5329,  6921,  6016,  6910,  6019,  1535,  7783,  6021,  6907,\n",
       "        6022,  6015,  8812,  1668,  3912,  3892,  6074,   413,  6770,\n",
       "        9696,    14,  3855,  7788,  4043,  6956,  8785,  4531, 10106,\n",
       "        5798,  8675,  5826, 10007,  4485,   456,  5851,  4465,  8715,\n",
       "        5870,  5939,  4375,  6984,  4288,  6969,  6466,  9769,  1400,\n",
       "        4247,  8936,  5768,  1817,  1840,  9387,  2550,  7960,  6342,\n",
       "        9117,  8009,   331,  6569,  7977,  6570,  6560,  9175,  9184,\n",
       "        2715,  6530,  9217,  7990,  9198,  9185,  6449,  6380,   330,\n",
       "        6334,  6575,  3709,  6731,  8150,  6240,  8996,  1958,  3547,\n",
       "        6253,  3544,  9606,  6678,  9549,  6304,  7893,  9044,  7919,\n",
       "        6331,  9522,  3456,  8084,  6333,  3786,    11,  9770,  4726,\n",
       "        7231, 10413,    58,  7211,  5616,  7209,  5628,  4718,  7235,\n",
       "        4706,  8550,  4687,  7675,   847,  8264,  7170,  4670,  8263,\n",
       "        8534,   216,  8476,  5585,   202,  7447,  5338,  5192,  5147,\n",
       "        7394,  5107,  5383,  5593, 10580,  8314,  7313,   763,  5051,\n",
       "        5509,  4888,  7569,  4872,  5416,  7146,  3031,  7131,  4595,\n",
       "        7126,  7119,  5708,  5680,  8628,  8571,  4614,  8632, 10205],\n",
       "      dtype=int64)"
      ]
     },
     "execution_count": 145,
     "metadata": {},
     "output_type": "execute_result"
    }
   ],
   "source": [
    "# What has user 1 watched before?\n",
    "user_1_watched = filtered_ratings[filtered_ratings[\"user_id\"]==1][\"anime_id_remapped\"].values\n",
    "user_1_watched"
   ]
  },
  {
   "cell_type": "code",
   "execution_count": 152,
   "metadata": {},
   "outputs": [],
   "source": [
    "def remapped_to_id(recommendations: list[int], content_df: pd.DataFrame) -> list[int]:\n",
    "    \"\"\"Remaps the list of remapped item ids from recommendation back into the MAL ids.\n",
    "\n",
    "    Args:\n",
    "        recommendations (list[int]): list of recommendations. \n",
    "            Each int in the list represents the remapped id to be converted back to MAL ids.\n",
    "        content_df (pd.DataFrame): DataFrame representing the content of the items.\n",
    "\n",
    "    Returns:\n",
    "        list[int]: Converted recommendations where each int in the list is the MAL id of the item to recommend.\n",
    "    \"\"\"\n",
    "    mal_recommendations = []\n",
    "    for remapped_id in recommendations:\n",
    "        row = content_df[content_df[\"anime_id_remapped\"] == remapped_id]\n",
    "        mal_id = row[\"anime_id\"].values[0]\n",
    "        mal_recommendations.append(mal_id)\n",
    "\n",
    "    return mal_recommendations"
   ]
  },
  {
   "cell_type": "code",
   "execution_count": 164,
   "metadata": {},
   "outputs": [
    {
     "name": "stdout",
     "output_type": "stream",
     "text": [
      "[5509, 6530, 7211, 5585, 3855, 202, 6331, 2715, 4687, 6569, 3544, 7783, 11, 9184, 4375, 7231, 4872, 5329, 5192, 7960, 6333, 6022, 3456, 8785, 9217, 5383, 5416, 58, 3031, 9078]\n",
      "[7394, 8084, 1390, 4705, 5192, 6256, 2715, 5103, 4774, 3936, 1088, 3544, 6024, 5383, 6526, 7247, 5509, 6562, 1919, 3547, 6022, 6530, 1672, 6304, 6569, 3033, 8571, 202, 3222, 58]\n",
      "[1390, 6569, 5192, 8476, 7394, 6530, 7268, 8084, 3140, 3520, 3547, 8571, 2715, 1817, 5939, 1979, 5648, 1088, 2641, 100, 202, 3953, 4375, 1428, 6256, 7231, 7211, 8550, 5509, 6333]\n",
      "[7783, 1534, 6569, 7211, 6076, 4043, 3456, 6860, 2641, 9078, 8142, 6334, 7788, 3544, 5708, 5585, 6530, 9549, 6253, 7960, 7231, 6678, 1428, 4684, 2715, 1390, 7083, 7738, 7646, 7313]\n"
     ]
    },
    {
     "data": {
      "text/plain": [
       "[11757, 11617, 2993, 8074, 1535, 15451, 4214, 16498, 19815, 18247]"
      ]
     },
     "execution_count": 164,
     "metadata": {},
     "output_type": "execute_result"
    }
   ],
   "source": [
    "# map recommendation output back to MAL_ids\n",
    "recommendation_for_user_1 = inference(models, 1, filtered_ratings)\n",
    "mal_id_recommendations = remapped_to_id(recommendation_for_user_1, content)\n",
    "mal_id_recommendations"
   ]
  },
  {
   "cell_type": "code",
   "execution_count": null,
   "metadata": {},
   "outputs": [],
   "source": []
  }
 ],
 "metadata": {
  "kernelspec": {
   "display_name": "CS608_RecommenderSystems",
   "language": "python",
   "name": "python3"
  },
  "language_info": {
   "codemirror_mode": {
    "name": "ipython",
    "version": 3
   },
   "file_extension": ".py",
   "mimetype": "text/x-python",
   "name": "python",
   "nbconvert_exporter": "python",
   "pygments_lexer": "ipython3",
   "version": "3.9.19"
  }
 },
 "nbformat": 4,
 "nbformat_minor": 2
}
